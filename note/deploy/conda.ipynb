{
 "cells": [
  {
   "cell_type": "markdown",
   "metadata": {},
   "source": [
    "# Conda Environments"
   ]
  },
  {
   "cell_type": "markdown",
   "metadata": {
    "heading_collapsed": "false"
   },
   "source": [
    "## Imports"
   ]
  },
  {
   "cell_type": "code",
   "execution_count": 1,
   "metadata": {
    "heading_collapsed": "false"
   },
   "outputs": [],
   "source": [
    "import os\n",
    "from os.path import dirname\n",
    "\n",
    "import getpass"
   ]
  },
  {
   "cell_type": "markdown",
   "metadata": {
    "heading_collapsed": "false"
   },
   "source": [
    "## Initialization\n",
    "\n",
    "Some important variables to be used afterwards."
   ]
  },
  {
   "cell_type": "code",
   "execution_count": 2,
   "metadata": {
    "heading_collapsed": "false"
   },
   "outputs": [],
   "source": [
    "name = \"mercs\"\n",
    "\n",
    "root_dir = dirname(dirname(os.getcwd()))\n",
    "\n",
    "fn_conda_dep = 'dependencies-deploy.yaml'\n",
    "fn_conda_dev = 'dependencies-develop.yaml'"
   ]
  },
  {
   "cell_type": "markdown",
   "metadata": {},
   "source": [
    "# Introduction\n",
    "\n",
    "This cookiecutter is set up for optimal use with conda, for local dependency managment. The takeaway is this; for local dependency managment, we rely on conda and nothing else.\n",
    "\n",
    "Note that this has nothing to do with remote dependency managment. This is what you need to take care of when preparing a release of your code which goes via PyPi or alternatives. We treat that as an independent problem. Mixing remote and local dependency managment tends to add complexity instead of removing it."
   ]
  },
  {
   "cell_type": "markdown",
   "metadata": {},
   "source": [
    "# Workflow\n",
    "\n",
    "We distinguish between `deployment` and `development` environments. Of course, in research this is not always that useful or clear. We follow this rule of thumb:\n",
    "\n",
    "```\n",
    "Everything that should end up in pip, goes in deployment\n",
    "```\n",
    "\n",
    "Which still justifies keeping the two separated."
   ]
  },
  {
   "cell_type": "markdown",
   "metadata": {
    "heading_collapsed": "false"
   },
   "source": [
    "## Deployment Environment\n",
    "\n",
    "This environment is whatever an end user may need in order to use your package.\n"
   ]
  },
  {
   "cell_type": "code",
   "execution_count": 3,
   "metadata": {
    "heading_collapsed": "false"
   },
   "outputs": [
    {
     "name": "stdout",
     "output_type": "stream",
     "text": [
      "# conda environments:\n",
      "#\n",
      "base                  *  /home/zissou/miniconda3\n",
      "tunify                   /home/zissou/miniconda3/envs/tunify\n",
      "\n"
     ]
    }
   ],
   "source": [
    "%%bash -s \"$name\" \"$root_dir\" \"$fn_conda_dep\"\n",
    "\n",
    "source ~/.bashrc\n",
    "\n",
    "conda env list"
   ]
  },
  {
   "cell_type": "code",
   "execution_count": 4,
   "metadata": {
    "heading_collapsed": "false"
   },
   "outputs": [
    {
     "name": "stdout",
     "output_type": "stream",
     "text": [
      "Collecting package metadata (repodata.json): ...working... done\n",
      "Solving environment: ...working... done\n",
      "Preparing transaction: ...working... done\n",
      "Verifying transaction: ...working... done\n",
      "Executing transaction: ...working... done\n",
      "Installing pip dependencies: ...working... Ran pip subprocess with arguments:\n",
      "['/home/zissou/miniconda3/envs/mercs/bin/python', '-m', 'pip', 'install', '-U', '-r', '/home/zissou/repos/mercs/condaenv.jgrton7k.requirements.txt']\n",
      "Pip subprocess output:\n",
      "Collecting dask\n",
      "  Using cached dask-2021.1.0-py3-none-any.whl (889 kB)\n",
      "Collecting networkx\n",
      "  Using cached networkx-2.5-py3-none-any.whl (1.6 MB)\n",
      "Requirement already satisfied: decorator>=4.3.0 in /home/zissou/miniconda3/envs/mercs/lib/python3.9/site-packages (from networkx->-r /home/zissou/repos/mercs/condaenv.jgrton7k.requirements.txt (line 4)) (4.4.2)\n",
      "Collecting numpy\n",
      "  Using cached numpy-1.19.5-cp39-cp39-manylinux2010_x86_64.whl (14.9 MB)\n",
      "Collecting pandas\n",
      "  Using cached pandas-1.2.0-cp39-cp39-manylinux1_x86_64.whl (9.7 MB)\n",
      "Collecting python-dateutil>=2.7.3\n",
      "  Using cached python_dateutil-2.8.1-py2.py3-none-any.whl (227 kB)\n",
      "Collecting pytz>=2017.3\n",
      "  Using cached pytz-2020.5-py2.py3-none-any.whl (510 kB)\n",
      "Collecting six>=1.5\n",
      "  Using cached six-1.15.0-py2.py3-none-any.whl (10 kB)\n",
      "Collecting pydot\n",
      "  Using cached pydot-1.4.1-py2.py3-none-any.whl (19 kB)\n",
      "Collecting pyparsing>=2.1.4\n",
      "  Using cached pyparsing-2.4.7-py2.py3-none-any.whl (67 kB)\n",
      "Collecting scikit-learn\n",
      "  Using cached scikit_learn-0.24.1-cp39-cp39-manylinux2010_x86_64.whl (23.8 MB)\n",
      "Collecting scipy\n",
      "  Using cached scipy-1.6.0-cp39-cp39-manylinux1_x86_64.whl (27.3 MB)\n",
      "Collecting joblib>=0.11\n",
      "  Using cached joblib-1.0.0-py3-none-any.whl (302 kB)\n",
      "Collecting threadpoolctl>=2.0.0\n",
      "  Using cached threadpoolctl-2.1.0-py3-none-any.whl (12 kB)\n",
      "Collecting toolz\n",
      "  Using cached toolz-0.11.1-py3-none-any.whl (55 kB)\n",
      "Collecting tornado\n",
      "  Using cached tornado-6.1-cp39-cp39-manylinux2010_x86_64.whl (427 kB)\n",
      "Collecting pyyaml\n",
      "  Using cached PyYAML-5.3.1-cp39-cp39-linux_x86_64.whl\n",
      "Installing collected packages: six, numpy, threadpoolctl, scipy, pyyaml, pytz, python-dateutil, pyparsing, joblib, tornado, toolz, scikit-learn, pydot, pandas, networkx, dask\n",
      "Successfully installed dask-2021.1.0 joblib-1.0.0 networkx-2.5 numpy-1.19.5 pandas-1.2.0 pydot-1.4.1 pyparsing-2.4.7 python-dateutil-2.8.1 pytz-2020.5 pyyaml-5.3.1 scikit-learn-0.24.1 scipy-1.6.0 six-1.15.0 threadpoolctl-2.1.0 toolz-0.11.1 tornado-6.1\n",
      "\n",
      "done\n",
      "#\n",
      "# To activate this environment, use\n",
      "#\n",
      "#     $ conda activate mercs\n",
      "#\n",
      "# To deactivate an active environment, use\n",
      "#\n",
      "#     $ conda deactivate\n",
      "\n"
     ]
    }
   ],
   "source": [
    "%%bash -s \"$name\" \"$root_dir\" \"$fn_conda_dep\"\n",
    "\n",
    "source ~/.bashrc\n",
    "\n",
    "cd $2\n",
    "\n",
    "conda env create -f $3 -n $1"
   ]
  },
  {
   "cell_type": "markdown",
   "metadata": {
    "heading_collapsed": "false"
   },
   "source": [
    "## Development environment\n"
   ]
  },
  {
   "cell_type": "code",
   "execution_count": 5,
   "metadata": {
    "heading_collapsed": "false"
   },
   "outputs": [
    {
     "name": "stdout",
     "output_type": "stream",
     "text": [
      "Warning: you have pip-installed dependencies in your environment file, but you do not list pip itself as one of your conda dependencies.  Conda may not use the correct pip to install your packages, and they may end up in the wrong place.  Please add an explicit pip dependency.  I'm adding one for you, but still nagging you.\n",
      "Collecting package metadata (repodata.json): ...working... done\n",
      "Solving environment: ...working... done\n",
      "\n",
      "Downloading and Extracting Packages\n",
      "_openmp_mutex-4.5    | 22 KB     | ########## | 100% \n",
      "python_abi-3.9       | 4 KB      | ########## | 100% \n",
      "libgcc-ng-9.3.0      | 7.8 MB    | ########## | 100% \n",
      "pyparsing-2.4.7      | 59 KB     | ########## | 100% \n",
      "nbformat-5.1.2       | 68 KB     | ########## | 100% \n",
      "jinja2-2.11.2        | 93 KB     | ########## | 100% \n",
      "idna-2.10            | 52 KB     | ########## | 100% \n",
      "numpy-base-1.19.2    | 4.2 MB    | ########## | 100% \n",
      "numpy-1.19.2         | 22 KB     | ########## | 100% \n",
      "libgomp-9.3.0        | 376 KB    | ########## | 100% \n",
      "blas-1.0             | 6 KB      | ########## | 100% \n",
      "libstdcxx-ng-9.3.0   | 4.0 MB    | ########## | 100% \n",
      "astroid-2.4.2        | 285 KB    | ########## | 100% \n",
      "isort-5.6.4          | 78 KB     | ########## | 100% \n",
      "scikit-learn-0.23.2  | 5.2 MB    | ########## | 100% \n",
      "mkl-2020.2           | 138.3 MB  | ########## | 100% \n",
      "mkl-service-2.3.0    | 54 KB     | ########## | 100% \n",
      "scipy-1.5.2          | 14.7 MB   | ########## | 100% \n",
      "threadpoolctl-2.1.0  | 17 KB     | ########## | 100% \n",
      "_libgcc_mutex-0.1    | 3 KB      | ########## | 100% \n",
      "py-xgboost-1.3.0     | 124 KB    | ########## | 100% \n",
      "mccabe-0.6.1         | 16 KB     | ########## | 100% \n",
      "_py-xgboost-mutex-2. | 9 KB      | ########## | 100% \n",
      "mkl_random-1.0.2     | 346 KB    | ########## | 100% \n",
      "iniconfig-1.1.1      | 8 KB      | ########## | 100% \n",
      "wrapt-1.11.2         | 50 KB     | ########## | 100% \n",
      "lazy-object-proxy-1. | 31 KB     | ########## | 100% \n",
      "libxgboost-1.3.0     | 3.3 MB    | ########## | 100% \n",
      "intel-openmp-2020.2  | 786 KB    | ########## | 100% \n",
      "libgfortran-ng-7.3.0 | 1006 KB   | ########## | 100% \n",
      "pylint-2.6.0         | 441 KB    | ########## | 100% \n",
      "xgboost-1.3.0        | 11 KB     | ########## | 100% \n",
      "mkl_fft-1.0.6        | 172 KB    | ########## | 100% \n",
      "mkdocs-material-6.2. | 1.9 MB    | ########## | 100% \n",
      "Preparing transaction: ...working... done\n",
      "Verifying transaction: ...working... done\n",
      "Executing transaction: ...working... done\n",
      "Installing pip dependencies: ...working... Ran pip subprocess with arguments:\n",
      "['/home/zissou/miniconda3/envs/mercs/bin/python', '-m', 'pip', 'install', '-U', '-r', '/home/zissou/repos/mercs/condaenv.uji2fpu_.requirements.txt']\n",
      "Pip subprocess output:\n",
      "Requirement already satisfied: pymdown-extensions in /home/zissou/miniconda3/envs/mercs/lib/python3.9/site-packages (from -r /home/zissou/repos/mercs/condaenv.uji2fpu_.requirements.txt (line 2)) (8.1)\n",
      "Collecting mkdocs-minify-plugin>=0.2\n",
      "  Downloading mkdocs-minify-plugin-0.4.0.tar.gz (3.1 kB)\n",
      "Requirement already satisfied: mkdocs>=1.0.4 in /home/zissou/miniconda3/envs/mercs/lib/python3.9/site-packages (from mkdocs-minify-plugin>=0.2->-r /home/zissou/repos/mercs/condaenv.uji2fpu_.requirements.txt (line 1)) (1.1.2)\n",
      "Collecting htmlmin>=0.1.4\n",
      "  Using cached htmlmin-0.1.12-py3-none-any.whl\n",
      "Collecting jsmin>=2.2.2\n",
      "  Using cached jsmin-2.2.2-py3-none-any.whl\n",
      "Requirement already satisfied: tornado>=5.0 in /home/zissou/miniconda3/envs/mercs/lib/python3.9/site-packages (from mkdocs>=1.0.4->mkdocs-minify-plugin>=0.2->-r /home/zissou/repos/mercs/condaenv.uji2fpu_.requirements.txt (line 1)) (6.1)\n",
      "Requirement already satisfied: click>=3.3 in /home/zissou/miniconda3/envs/mercs/lib/python3.9/site-packages (from mkdocs>=1.0.4->mkdocs-minify-plugin>=0.2->-r /home/zissou/repos/mercs/condaenv.uji2fpu_.requirements.txt (line 1)) (7.1.2)\n",
      "Requirement already satisfied: livereload>=2.5.1 in /home/zissou/miniconda3/envs/mercs/lib/python3.9/site-packages (from mkdocs>=1.0.4->mkdocs-minify-plugin>=0.2->-r /home/zissou/repos/mercs/condaenv.uji2fpu_.requirements.txt (line 1)) (2.6.3)\n",
      "Requirement already satisfied: Jinja2>=2.10.1 in /home/zissou/miniconda3/envs/mercs/lib/python3.9/site-packages (from mkdocs>=1.0.4->mkdocs-minify-plugin>=0.2->-r /home/zissou/repos/mercs/condaenv.uji2fpu_.requirements.txt (line 1)) (2.11.2)\n",
      "Requirement already satisfied: PyYAML>=3.10 in /home/zissou/miniconda3/envs/mercs/lib/python3.9/site-packages (from mkdocs>=1.0.4->mkdocs-minify-plugin>=0.2->-r /home/zissou/repos/mercs/condaenv.uji2fpu_.requirements.txt (line 1)) (5.3.1)\n",
      "Requirement already satisfied: lunr[languages]==0.5.8 in /home/zissou/miniconda3/envs/mercs/lib/python3.9/site-packages (from mkdocs>=1.0.4->mkdocs-minify-plugin>=0.2->-r /home/zissou/repos/mercs/condaenv.uji2fpu_.requirements.txt (line 1)) (0.5.8)\n",
      "Requirement already satisfied: Markdown>=3.2.1 in /home/zissou/miniconda3/envs/mercs/lib/python3.9/site-packages (from mkdocs>=1.0.4->mkdocs-minify-plugin>=0.2->-r /home/zissou/repos/mercs/condaenv.uji2fpu_.requirements.txt (line 1)) (3.3.3)\n",
      "Requirement already satisfied: six>=1.11.0 in /home/zissou/miniconda3/envs/mercs/lib/python3.9/site-packages (from lunr[languages]==0.5.8->mkdocs>=1.0.4->mkdocs-minify-plugin>=0.2->-r /home/zissou/repos/mercs/condaenv.uji2fpu_.requirements.txt (line 1)) (1.15.0)\n",
      "Requirement already satisfied: future>=0.16.0 in /home/zissou/miniconda3/envs/mercs/lib/python3.9/site-packages (from lunr[languages]==0.5.8->mkdocs>=1.0.4->mkdocs-minify-plugin>=0.2->-r /home/zissou/repos/mercs/condaenv.uji2fpu_.requirements.txt (line 1)) (0.18.2)\n",
      "Requirement already satisfied: nltk>=3.2.5 in /home/zissou/miniconda3/envs/mercs/lib/python3.9/site-packages (from lunr[languages]==0.5.8->mkdocs>=1.0.4->mkdocs-minify-plugin>=0.2->-r /home/zissou/repos/mercs/condaenv.uji2fpu_.requirements.txt (line 1)) (3.5)\n",
      "Requirement already satisfied: MarkupSafe>=0.23 in /home/zissou/miniconda3/envs/mercs/lib/python3.9/site-packages (from Jinja2>=2.10.1->mkdocs>=1.0.4->mkdocs-minify-plugin>=0.2->-r /home/zissou/repos/mercs/condaenv.uji2fpu_.requirements.txt (line 1)) (1.1.1)\n",
      "Requirement already satisfied: joblib in /home/zissou/miniconda3/envs/mercs/lib/python3.9/site-packages (from nltk>=3.2.5->lunr[languages]==0.5.8->mkdocs>=1.0.4->mkdocs-minify-plugin>=0.2->-r /home/zissou/repos/mercs/condaenv.uji2fpu_.requirements.txt (line 1)) (1.0.0)\n",
      "Requirement already satisfied: tqdm in /home/zissou/miniconda3/envs/mercs/lib/python3.9/site-packages (from nltk>=3.2.5->lunr[languages]==0.5.8->mkdocs>=1.0.4->mkdocs-minify-plugin>=0.2->-r /home/zissou/repos/mercs/condaenv.uji2fpu_.requirements.txt (line 1)) (4.55.1)\n",
      "Requirement already satisfied: regex in /home/zissou/miniconda3/envs/mercs/lib/python3.9/site-packages (from nltk>=3.2.5->lunr[languages]==0.5.8->mkdocs>=1.0.4->mkdocs-minify-plugin>=0.2->-r /home/zissou/repos/mercs/condaenv.uji2fpu_.requirements.txt (line 1)) (2020.11.13)\n",
      "Collecting matplotlib\n",
      "  Downloading matplotlib-3.3.3-cp39-cp39-manylinux1_x86_64.whl (11.6 MB)\n",
      "Requirement already satisfied: pyparsing!=2.0.4,!=2.1.2,!=2.1.6,>=2.0.3 in /home/zissou/miniconda3/envs/mercs/lib/python3.9/site-packages (from matplotlib->-r /home/zissou/repos/mercs/condaenv.uji2fpu_.requirements.txt (line 4)) (2.4.7)\n",
      "Requirement already satisfied: numpy>=1.15 in /home/zissou/miniconda3/envs/mercs/lib/python3.9/site-packages (from matplotlib->-r /home/zissou/repos/mercs/condaenv.uji2fpu_.requirements.txt (line 4)) (1.19.5)\n",
      "Requirement already satisfied: python-dateutil>=2.1 in /home/zissou/miniconda3/envs/mercs/lib/python3.9/site-packages (from matplotlib->-r /home/zissou/repos/mercs/condaenv.uji2fpu_.requirements.txt (line 4)) (2.8.1)\n",
      "Collecting cycler>=0.10\n",
      "  Downloading cycler-0.10.0-py2.py3-none-any.whl (6.5 kB)\n",
      "Collecting kiwisolver>=1.0.1\n",
      "  Downloading kiwisolver-1.3.1-cp39-cp39-manylinux1_x86_64.whl (1.2 MB)\n",
      "Collecting pillow>=6.2.0\n",
      "  Downloading Pillow-8.1.0-cp39-cp39-manylinux1_x86_64.whl (2.2 MB)\n",
      "Collecting semantic_version\n",
      "  Using cached semantic_version-2.8.5-py2.py3-none-any.whl (15 kB)\n",
      "Building wheels for collected packages: mkdocs-minify-plugin\n",
      "  Building wheel for mkdocs-minify-plugin (setup.py): started\n",
      "  Building wheel for mkdocs-minify-plugin (setup.py): finished with status 'done'\n",
      "  Created wheel for mkdocs-minify-plugin: filename=mkdocs_minify_plugin-0.4.0-py3-none-any.whl size=3089 sha256=2fc40dd7708faa6ee65c520da76b650c6df0b4bb7b25b6f1e8e00b03a0bb7ef1\n",
      "  Stored in directory: /home/zissou/.cache/pip/wheels/0d/75/0f/640a63a55450da4f3e553987a859b2848ef7360d8af731cb52\n",
      "Successfully built mkdocs-minify-plugin\n",
      "Installing collected packages: pillow, kiwisolver, jsmin, htmlmin, cycler, semantic-version, mkdocs-minify-plugin, matplotlib\n",
      "Successfully installed cycler-0.10.0 htmlmin-0.1.12 jsmin-2.2.2 kiwisolver-1.3.1 matplotlib-3.3.3 mkdocs-minify-plugin-0.4.0 pillow-8.1.0 semantic-version-2.8.5\n",
      "\n",
      "done\n",
      "#\n",
      "# To activate this environment, use\n",
      "#\n",
      "#     $ conda activate mercs\n",
      "#\n",
      "# To deactivate an active environment, use\n",
      "#\n",
      "#     $ conda deactivate\n",
      "\n"
     ]
    }
   ],
   "source": [
    "%%bash -s \"$name\" \"$root_dir\" \"$fn_conda_dev\"\n",
    "\n",
    "source ~/.bashrc\n",
    "\n",
    "cd $2\n",
    "\n",
    "conda activate $1\n",
    "\n",
    "conda env update -n $1 -f $3"
   ]
  },
  {
   "cell_type": "markdown",
   "metadata": {
    "heading_collapsed": "false"
   },
   "source": [
    "## Jupyter kernel\n",
    "\n",
    "Expose the environment to your jupyter."
   ]
  },
  {
   "cell_type": "code",
   "execution_count": 6,
   "metadata": {
    "heading_collapsed": "false"
   },
   "outputs": [
    {
     "name": "stdout",
     "output_type": "stream",
     "text": [
      "Installed kernelspec mercs in /home/zissou/.local/share/jupyter/kernels/mercs\n"
     ]
    }
   ],
   "source": [
    "%%bash -s \"$name\" \"$root_dir\" \"$fn_conda_dep\"\n",
    "\n",
    "source ~/.bashrc\n",
    "\n",
    "cd $2\n",
    "\n",
    "conda activate $1\n",
    "python -m ipykernel install --user --name $1 --display-name \"$1\""
   ]
  }
 ],
 "metadata": {
  "kernelspec": {
   "display_name": "Python 3",
   "language": "python",
   "name": "python3"
  },
  "language_info": {
   "codemirror_mode": {
    "name": "ipython",
    "version": 3
   },
   "file_extension": ".py",
   "mimetype": "text/x-python",
   "name": "python",
   "nbconvert_exporter": "python",
   "pygments_lexer": "ipython3",
   "version": "3.8.5"
  },
  "toc-autonumbering": true
 },
 "nbformat": 4,
 "nbformat_minor": 4
}
