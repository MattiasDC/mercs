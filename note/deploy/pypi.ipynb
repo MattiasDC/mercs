{
 "cells": [
  {
   "cell_type": "markdown",
   "metadata": {
    "Collapsed": "false"
   },
   "source": [
    "N.b.: This notebook and other deployment workflows should end up in the cookiecutter to make one-click, documented workflows to automate important tasks for all future projects."
   ]
  },
  {
   "cell_type": "markdown",
   "metadata": {
    "Collapsed": "false"
   },
   "source": [
    "# Publish to PIP\n",
    "\n",
    "Exectuable guide of how to publish your project on PyPi."
   ]
  },
  {
   "cell_type": "markdown",
   "metadata": {
    "Collapsed": "false"
   },
   "source": [
    "## Imports"
   ]
  },
  {
   "cell_type": "code",
   "execution_count": null,
   "metadata": {
    "Collapsed": "false"
   },
   "outputs": [],
   "source": [
    "import os\n",
    "from os.path import dirname\n",
    "\n",
    "import getpass\n",
    "import configparser\n",
    "import semantic_version\n",
    "\n",
    "root_dir = dirname(dirname(os.getcwd()))\n",
    "fn_setup_cfg = os.path.join(root_dir, 'setup.cfg')"
   ]
  },
  {
   "cell_type": "markdown",
   "metadata": {
    "Collapsed": "false"
   },
   "source": [
    "## Functions"
   ]
  },
  {
   "cell_type": "code",
   "execution_count": null,
   "metadata": {
    "Collapsed": "false"
   },
   "outputs": [],
   "source": [
    "def get_config(fn_setup_cfg):\n",
    "    config = configparser.ConfigParser()\n",
    "    config.read(fn_setup_cfg)\n",
    "    return config\n",
    "\n",
    "def update_version(fn_setup_cfg, major=False, minor=False, patch=True, verbose=True):\n",
    "    assert sum([major, minor, patch]) == 1, \"Only one version number can be changed.\"\n",
    "    \n",
    "    # Load config\n",
    "    config = get_config(fn_setup_cfg)\n",
    "    \n",
    "    # Get version\n",
    "    v = semantic_version.Version(config['metadata'].get('version', '0.0.0'))\n",
    "    \n",
    "    # Update version\n",
    "    if patch:\n",
    "        config['metadata']['version'] = str(v.next_patch())\n",
    "    elif minor:\n",
    "        config['metadata']['version'] = str(v.next_minor())\n",
    "    elif major:\n",
    "        config['metadata']['version'] = str(v.next_major())\n",
    "        \n",
    "    if verbose:\n",
    "        msg = \"\"\"\n",
    "        Version updated to: {}\n",
    "        \"\"\".format(config['metadata']['version'])\n",
    "        print(msg)\n",
    "        \n",
    "    # Save config\n",
    "    with open(fn_setup_cfg, 'w') as f:\n",
    "        config.write(f)\n",
    "    return str(config['metadata']['version'])"
   ]
  },
  {
   "cell_type": "markdown",
   "metadata": {
    "Collapsed": "false"
   },
   "source": [
    "PyPi\n",
    "----\n",
    "\n",
    "Make your project publicly available on the Python Package Index, [PyPi](https://pypi.org/). To achieve this, we need **remote dependency managment**, since you want your software to run without forcing the users to recreate your conda environments. All dependencies have to be managed, automatically, during installation. To make this work, we need to do some extra work.\n",
    "\n",
    "We follow the steps as outlined in the most basic (and official) [PyPi tutorial](https://packaging.python.org/tutorials/packaging-projects/)."
   ]
  },
  {
   "cell_type": "markdown",
   "metadata": {
    "Collapsed": "false"
   },
   "source": [
    "### Generate distribution archives\n",
    "\n",
    "Generate distribution packages for the package. These are archives that are uploaded to the Package Index and can be installed by pip."
   ]
  },
  {
   "cell_type": "code",
   "execution_count": null,
   "metadata": {
    "Collapsed": "false"
   },
   "outputs": [],
   "source": [
    "print(\"Root directory is {}\".format(root_dir))"
   ]
  },
  {
   "cell_type": "markdown",
   "metadata": {
    "Collapsed": "false"
   },
   "source": [
    "We also update the version. PIP does not accept another identical file, since it keeps a complete history. Thus, we always must at least update the patch in order to push our thing to PIP. We do so automatically by adapting the versioning number in the `setup.cfg` file."
   ]
  },
  {
   "cell_type": "code",
   "execution_count": 4,
   "metadata": {
    "Collapsed": "false"
   },
   "outputs": [
    {
     "name": "stdout",
     "output_type": "stream",
     "text": [
      "\n",
      "        Version updated to: 0.0.31\n",
      "        \n"
     ]
    }
   ],
   "source": [
    "version = update_version(fn_setup_cfg, patch=True)"
   ]
  },
  {
   "cell_type": "code",
   "execution_count": 5,
   "metadata": {
    "Collapsed": "false"
   },
   "outputs": [
    {
     "name": "stdout",
     "output_type": "stream",
     "text": [
      "running sdist\n",
      "running egg_info\n",
      "writing src/mercs.egg-info/PKG-INFO\n",
      "writing dependency_links to src/mercs.egg-info/dependency_links.txt\n",
      "writing requirements to src/mercs.egg-info/requires.txt\n",
      "writing top-level names to src/mercs.egg-info/top_level.txt\n",
      "reading manifest file 'src/mercs.egg-info/SOURCES.txt'\n",
      "writing manifest file 'src/mercs.egg-info/SOURCES.txt'\n",
      "running check\n",
      "Searching for docutils>=0.13.1\n",
      "Best match: docutils 0.16b0.dev0\n",
      "Processing docutils-0.16b0.dev0-py3.7.egg\n",
      "\n",
      "Using /cw/dtaijupiter/NoCsBack/dtai/elia/mercs/.eggs/docutils-0.16b0.dev0-py3.7.egg\n",
      "creating mercs-0.0.31\n",
      "creating mercs-0.0.31/src\n",
      "creating mercs-0.0.31/src/mercs\n",
      "creating mercs-0.0.31/src/mercs.egg-info\n",
      "creating mercs-0.0.31/src/mercs/algo\n",
      "creating mercs-0.0.31/src/mercs/composition\n",
      "creating mercs-0.0.31/src/mercs/core\n",
      "creating mercs-0.0.31/src/mercs/graph\n",
      "creating mercs-0.0.31/src/mercs/tests\n",
      "creating mercs-0.0.31/src/mercs/utils\n",
      "creating mercs-0.0.31/src/mercs/visuals\n",
      "copying files to mercs-0.0.31...\n",
      "copying README.md -> mercs-0.0.31\n",
      "copying setup.cfg -> mercs-0.0.31\n",
      "copying setup.py -> mercs-0.0.31\n",
      "copying src/mercs/__init__.py -> mercs-0.0.31/src/mercs\n",
      "copying src/mercs/skeleton.py -> mercs-0.0.31/src/mercs\n",
      "copying src/mercs.egg-info/PKG-INFO -> mercs-0.0.31/src/mercs.egg-info\n",
      "copying src/mercs.egg-info/SOURCES.txt -> mercs-0.0.31/src/mercs.egg-info\n",
      "copying src/mercs.egg-info/dependency_links.txt -> mercs-0.0.31/src/mercs.egg-info\n",
      "copying src/mercs.egg-info/not-zip-safe -> mercs-0.0.31/src/mercs.egg-info\n",
      "copying src/mercs.egg-info/requires.txt -> mercs-0.0.31/src/mercs.egg-info\n",
      "copying src/mercs.egg-info/top_level.txt -> mercs-0.0.31/src/mercs.egg-info\n",
      "copying src/mercs/algo/__init__.py -> mercs-0.0.31/src/mercs/algo\n",
      "copying src/mercs/algo/evaluation.py -> mercs-0.0.31/src/mercs/algo\n",
      "copying src/mercs/algo/imputation.py -> mercs-0.0.31/src/mercs/algo\n",
      "copying src/mercs/algo/induction.py -> mercs-0.0.31/src/mercs/algo\n",
      "copying src/mercs/algo/inference.py -> mercs-0.0.31/src/mercs/algo\n",
      "copying src/mercs/algo/inference_v3.py -> mercs-0.0.31/src/mercs/algo\n",
      "copying src/mercs/algo/new_inference.py -> mercs-0.0.31/src/mercs/algo\n",
      "copying src/mercs/algo/new_prediction.py -> mercs-0.0.31/src/mercs/algo\n",
      "copying src/mercs/algo/prediction.py -> mercs-0.0.31/src/mercs/algo\n",
      "copying src/mercs/algo/selection.py -> mercs-0.0.31/src/mercs/algo\n",
      "copying src/mercs/algo/vector_prediction.py -> mercs-0.0.31/src/mercs/algo\n",
      "copying src/mercs/composition/CanonicalModel.py -> mercs-0.0.31/src/mercs/composition\n",
      "copying src/mercs/composition/CompositeModel.py -> mercs-0.0.31/src/mercs/composition\n",
      "copying src/mercs/composition/NewCompositeModel.py -> mercs-0.0.31/src/mercs/composition\n",
      "copying src/mercs/composition/__init__.py -> mercs-0.0.31/src/mercs/composition\n",
      "copying src/mercs/composition/compose.py -> mercs-0.0.31/src/mercs/composition\n",
      "copying src/mercs/core/Mercs.py -> mercs-0.0.31/src/mercs/core\n",
      "copying src/mercs/core/__init__.py -> mercs-0.0.31/src/mercs/core\n",
      "copying src/mercs/graph/__init__.py -> mercs-0.0.31/src/mercs/graph\n",
      "copying src/mercs/graph/graphviz.py -> mercs-0.0.31/src/mercs/graph\n",
      "copying src/mercs/graph/network.py -> mercs-0.0.31/src/mercs/graph\n",
      "copying src/mercs/graph/q_diagram.py -> mercs-0.0.31/src/mercs/graph\n",
      "copying src/mercs/tests/__init__.py -> mercs-0.0.31/src/mercs/tests\n",
      "copying src/mercs/tests/setup.py -> mercs-0.0.31/src/mercs/tests\n",
      "copying src/mercs/utils/__init__.py -> mercs-0.0.31/src/mercs/utils\n",
      "copying src/mercs/utils/data_handling.py -> mercs-0.0.31/src/mercs/utils\n",
      "copying src/mercs/utils/debug.py -> mercs-0.0.31/src/mercs/utils\n",
      "copying src/mercs/utils/decoration.py -> mercs-0.0.31/src/mercs/utils\n",
      "copying src/mercs/utils/encoding.py -> mercs-0.0.31/src/mercs/utils\n",
      "copying src/mercs/utils/inference_tools.py -> mercs-0.0.31/src/mercs/utils\n",
      "copying src/mercs/visuals/__init__.py -> mercs-0.0.31/src/mercs/visuals\n",
      "copying src/mercs/visuals/diagrams.py -> mercs-0.0.31/src/mercs/visuals\n",
      "Writing mercs-0.0.31/setup.cfg\n",
      "Creating tar archive\n",
      "removing 'mercs-0.0.31' (and everything under it)\n",
      "running bdist_wheel\n",
      "running build\n",
      "running build_py\n",
      "installing to build/bdist.linux-x86_64/wheel\n",
      "running install\n",
      "running install_lib\n",
      "creating build/bdist.linux-x86_64/wheel\n",
      "creating build/bdist.linux-x86_64/wheel/mercs\n",
      "creating build/bdist.linux-x86_64/wheel/mercs/visuals\n",
      "copying build/lib/mercs/visuals/diagrams.py -> build/bdist.linux-x86_64/wheel/mercs/visuals\n",
      "copying build/lib/mercs/visuals/__init__.py -> build/bdist.linux-x86_64/wheel/mercs/visuals\n",
      "creating build/bdist.linux-x86_64/wheel/mercs/graph\n",
      "copying build/lib/mercs/graph/network.py -> build/bdist.linux-x86_64/wheel/mercs/graph\n",
      "copying build/lib/mercs/graph/graphviz.py -> build/bdist.linux-x86_64/wheel/mercs/graph\n",
      "copying build/lib/mercs/graph/__init__.py -> build/bdist.linux-x86_64/wheel/mercs/graph\n",
      "copying build/lib/mercs/graph/q_diagram.py -> build/bdist.linux-x86_64/wheel/mercs/graph\n",
      "copying build/lib/mercs/graph/gt.py -> build/bdist.linux-x86_64/wheel/mercs/graph\n",
      "creating build/bdist.linux-x86_64/wheel/mercs/utils\n",
      "copying build/lib/mercs/utils/debug.py -> build/bdist.linux-x86_64/wheel/mercs/utils\n",
      "copying build/lib/mercs/utils/__init__.py -> build/bdist.linux-x86_64/wheel/mercs/utils\n",
      "copying build/lib/mercs/utils/inference_tools.py -> build/bdist.linux-x86_64/wheel/mercs/utils\n",
      "copying build/lib/mercs/utils/decoration.py -> build/bdist.linux-x86_64/wheel/mercs/utils\n",
      "copying build/lib/mercs/utils/encoding.py -> build/bdist.linux-x86_64/wheel/mercs/utils\n",
      "copying build/lib/mercs/utils/data_handling.py -> build/bdist.linux-x86_64/wheel/mercs/utils\n",
      "creating build/bdist.linux-x86_64/wheel/mercs/algo\n",
      "copying build/lib/mercs/algo/evaluation.py -> build/bdist.linux-x86_64/wheel/mercs/algo\n",
      "copying build/lib/mercs/algo/__init__.py -> build/bdist.linux-x86_64/wheel/mercs/algo\n",
      "copying build/lib/mercs/algo/selection.py -> build/bdist.linux-x86_64/wheel/mercs/algo\n",
      "copying build/lib/mercs/algo/induction.py -> build/bdist.linux-x86_64/wheel/mercs/algo\n",
      "copying build/lib/mercs/algo/new_inference.py -> build/bdist.linux-x86_64/wheel/mercs/algo\n",
      "copying build/lib/mercs/algo/turbo_inference.py -> build/bdist.linux-x86_64/wheel/mercs/algo\n",
      "copying build/lib/mercs/algo/vector_prediction.py -> build/bdist.linux-x86_64/wheel/mercs/algo\n",
      "copying build/lib/mercs/algo/imputation.py -> build/bdist.linux-x86_64/wheel/mercs/algo\n",
      "copying build/lib/mercs/algo/inference_v3.py -> build/bdist.linux-x86_64/wheel/mercs/algo\n",
      "copying build/lib/mercs/algo/prediction.py -> build/bdist.linux-x86_64/wheel/mercs/algo\n",
      "copying build/lib/mercs/algo/inference.py -> build/bdist.linux-x86_64/wheel/mercs/algo\n",
      "copying build/lib/mercs/algo/new_prediction.py -> build/bdist.linux-x86_64/wheel/mercs/algo\n",
      "creating build/bdist.linux-x86_64/wheel/mercs/core\n",
      "copying build/lib/mercs/core/Mercs.py -> build/bdist.linux-x86_64/wheel/mercs/core\n",
      "copying build/lib/mercs/core/__init__.py -> build/bdist.linux-x86_64/wheel/mercs/core\n",
      "copying build/lib/mercs/__init__.py -> build/bdist.linux-x86_64/wheel/mercs\n",
      "creating build/bdist.linux-x86_64/wheel/mercs/tests\n",
      "copying build/lib/mercs/tests/setup.py -> build/bdist.linux-x86_64/wheel/mercs/tests\n",
      "copying build/lib/mercs/tests/__init__.py -> build/bdist.linux-x86_64/wheel/mercs/tests\n",
      "creating build/bdist.linux-x86_64/wheel/mercs/composition\n",
      "copying build/lib/mercs/composition/CompositeModel.py -> build/bdist.linux-x86_64/wheel/mercs/composition\n",
      "copying build/lib/mercs/composition/CanonicalModel.py -> build/bdist.linux-x86_64/wheel/mercs/composition\n",
      "copying build/lib/mercs/composition/NewCompositeModel.py -> build/bdist.linux-x86_64/wheel/mercs/composition\n",
      "copying build/lib/mercs/composition/__init__.py -> build/bdist.linux-x86_64/wheel/mercs/composition\n",
      "copying build/lib/mercs/composition/compose.py -> build/bdist.linux-x86_64/wheel/mercs/composition\n",
      "copying build/lib/mercs/skeleton.py -> build/bdist.linux-x86_64/wheel/mercs\n",
      "running install_egg_info\n",
      "Copying src/mercs.egg-info to build/bdist.linux-x86_64/wheel/mercs-0.0.31-py3.7.egg-info\n",
      "running install_scripts\n",
      "adding license file \"LICENSE.txt\" (matched pattern \"LICEN[CS]E*\")\n",
      "adding license file \"AUTHORS.rst\" (matched pattern \"AUTHORS*\")\n",
      "creating build/bdist.linux-x86_64/wheel/mercs-0.0.31.dist-info/WHEEL\n",
      "creating 'dist/mercs-0.0.31-py3-none-any.whl' and adding 'build/bdist.linux-x86_64/wheel' to it\n",
      "adding 'mercs/__init__.py'\n",
      "adding 'mercs/skeleton.py'\n",
      "adding 'mercs/algo/__init__.py'\n",
      "adding 'mercs/algo/evaluation.py'\n",
      "adding 'mercs/algo/imputation.py'\n",
      "adding 'mercs/algo/induction.py'\n",
      "adding 'mercs/algo/inference.py'\n",
      "adding 'mercs/algo/inference_v3.py'\n",
      "adding 'mercs/algo/new_inference.py'\n",
      "adding 'mercs/algo/new_prediction.py'\n",
      "adding 'mercs/algo/prediction.py'\n",
      "adding 'mercs/algo/selection.py'\n",
      "adding 'mercs/algo/turbo_inference.py'\n",
      "adding 'mercs/algo/vector_prediction.py'\n",
      "adding 'mercs/composition/CanonicalModel.py'\n",
      "adding 'mercs/composition/CompositeModel.py'\n",
      "adding 'mercs/composition/NewCompositeModel.py'\n",
      "adding 'mercs/composition/__init__.py'\n",
      "adding 'mercs/composition/compose.py'\n",
      "adding 'mercs/core/Mercs.py'\n",
      "adding 'mercs/core/__init__.py'\n",
      "adding 'mercs/graph/__init__.py'\n",
      "adding 'mercs/graph/graphviz.py'\n",
      "adding 'mercs/graph/gt.py'\n",
      "adding 'mercs/graph/network.py'\n",
      "adding 'mercs/graph/q_diagram.py'\n",
      "adding 'mercs/tests/__init__.py'\n",
      "adding 'mercs/tests/setup.py'\n",
      "adding 'mercs/utils/__init__.py'\n",
      "adding 'mercs/utils/data_handling.py'\n",
      "adding 'mercs/utils/debug.py'\n",
      "adding 'mercs/utils/decoration.py'\n",
      "adding 'mercs/utils/encoding.py'\n",
      "adding 'mercs/utils/inference_tools.py'\n",
      "adding 'mercs/visuals/__init__.py'\n",
      "adding 'mercs/visuals/diagrams.py'\n",
      "adding 'mercs-0.0.31.dist-info/AUTHORS.rst'\n",
      "adding 'mercs-0.0.31.dist-info/LICENSE.txt'\n",
      "adding 'mercs-0.0.31.dist-info/METADATA'\n",
      "adding 'mercs-0.0.31.dist-info/WHEEL'\n",
      "adding 'mercs-0.0.31.dist-info/top_level.txt'\n",
      "adding 'mercs-0.0.31.dist-info/RECORD'\n",
      "removing build/bdist.linux-x86_64/wheel\n"
     ]
    }
   ],
   "source": [
    "%%bash -s \"$root_dir\"\n",
    "\n",
    "cd $1\n",
    "\n",
    "python setup.py sdist bdist_wheel"
   ]
  },
  {
   "cell_type": "markdown",
   "metadata": {
    "Collapsed": "false"
   },
   "source": [
    "### Upload to test-PyPi\n",
    "\n",
    "After this, your package can be uploaded to the python package index. To see if it works on PyPi test server, the following"
   ]
  },
  {
   "cell_type": "code",
   "execution_count": 6,
   "metadata": {
    "Collapsed": "false"
   },
   "outputs": [
    {
     "name": "stdin",
     "output_type": "stream",
     "text": [
      " ······\n",
      " ··········\n"
     ]
    }
   ],
   "source": [
    "username = getpass.getpass()\n",
    "pwd = getpass.getpass()"
   ]
  },
  {
   "cell_type": "code",
   "execution_count": 7,
   "metadata": {
    "Collapsed": "false"
   },
   "outputs": [
    {
     "name": "stderr",
     "output_type": "stream",
     "text": [
      "\n",
      "cd $1\n",
      "\n",
      "python -m twine upload --repository-url https://test.pypi.org/legacy/ dist/*$4* -u $2 -p $3\n",
      "Traceback (most recent call last):\n",
      "  File \"/home/elia/miniconda3/lib/python3.7/runpy.py\", line 193, in _run_module_as_main\n",
      "    \"__main__\", mod_spec)\n",
      "  File \"/home/elia/miniconda3/lib/python3.7/runpy.py\", line 85, in _run_code\n",
      "    exec(code, run_globals)\n",
      "  File \"/home/elia/.local/lib/python3.7/site-packages/twine/__main__.py\", line 34, in <module>\n",
      "    sys.exit(main())\n",
      "  File \"/home/elia/.local/lib/python3.7/site-packages/twine/__main__.py\", line 28, in main\n",
      "    return dispatch(sys.argv[1:])\n",
      "  File \"/home/elia/.local/lib/python3.7/site-packages/twine/cli.py\", line 75, in dispatch\n",
      "    main = registered_commands[args.command].load()\n",
      "  File \"/home/elia/miniconda3/lib/python3.7/site-packages/pkg_resources/__init__.py\", line 2442, in load\n",
      "    self.require(*args, **kwargs)\n",
      "  File \"/home/elia/miniconda3/lib/python3.7/site-packages/pkg_resources/__init__.py\", line 2465, in require\n",
      "    items = working_set.resolve(reqs, env, installer, extras=self.extras)\n",
      "  File \"/home/elia/miniconda3/lib/python3.7/site-packages/pkg_resources/__init__.py\", line 786, in resolve\n",
      "    raise DistributionNotFound(req, requirers)\n",
      "pkg_resources.DistributionNotFound: The 'docutils>=0.13.1' distribution was not found and is required by readme-renderer\n"
     ]
    },
    {
     "ename": "CalledProcessError",
     "evalue": "Command 'b'\\ncd $1\\n\\npython -m twine upload --repository-url https://test.pypi.org/legacy/ dist/*$4* -u $2 -p $3\\n'' returned non-zero exit status 1.",
     "output_type": "error",
     "traceback": [
      "\u001b[0;31m---------------------------------------------------------------------------\u001b[0m",
      "\u001b[0;31mCalledProcessError\u001b[0m                        Traceback (most recent call last)",
      "\u001b[0;32m<ipython-input-7-d3e456a9dd36>\u001b[0m in \u001b[0;36m<module>\u001b[0;34m\u001b[0m\n\u001b[0;32m----> 1\u001b[0;31m \u001b[0mget_ipython\u001b[0m\u001b[0;34m(\u001b[0m\u001b[0;34m)\u001b[0m\u001b[0;34m.\u001b[0m\u001b[0mrun_cell_magic\u001b[0m\u001b[0;34m(\u001b[0m\u001b[0;34m'bash'\u001b[0m\u001b[0;34m,\u001b[0m \u001b[0;34m'--verbose -s \"$root_dir\" \"$username\" \"$pwd\" \"$version\"'\u001b[0m\u001b[0;34m,\u001b[0m \u001b[0;34m'\\ncd $1\\n\\npython -m twine upload --repository-url https://test.pypi.org/legacy/ dist/*$4* -u $2 -p $3\\n'\u001b[0m\u001b[0;34m)\u001b[0m\u001b[0;34m\u001b[0m\u001b[0;34m\u001b[0m\u001b[0m\n\u001b[0m",
      "\u001b[0;32m/cw/dtaijupiter/NoCsBack/dtai/elia/miniconda/envs/mercs/lib/python3.7/site-packages/IPython/core/interactiveshell.py\u001b[0m in \u001b[0;36mrun_cell_magic\u001b[0;34m(self, magic_name, line, cell)\u001b[0m\n\u001b[1;32m   2350\u001b[0m             \u001b[0;32mwith\u001b[0m \u001b[0mself\u001b[0m\u001b[0;34m.\u001b[0m\u001b[0mbuiltin_trap\u001b[0m\u001b[0;34m:\u001b[0m\u001b[0;34m\u001b[0m\u001b[0;34m\u001b[0m\u001b[0m\n\u001b[1;32m   2351\u001b[0m                 \u001b[0margs\u001b[0m \u001b[0;34m=\u001b[0m \u001b[0;34m(\u001b[0m\u001b[0mmagic_arg_s\u001b[0m\u001b[0;34m,\u001b[0m \u001b[0mcell\u001b[0m\u001b[0;34m)\u001b[0m\u001b[0;34m\u001b[0m\u001b[0;34m\u001b[0m\u001b[0m\n\u001b[0;32m-> 2352\u001b[0;31m                 \u001b[0mresult\u001b[0m \u001b[0;34m=\u001b[0m \u001b[0mfn\u001b[0m\u001b[0;34m(\u001b[0m\u001b[0;34m*\u001b[0m\u001b[0margs\u001b[0m\u001b[0;34m,\u001b[0m \u001b[0;34m**\u001b[0m\u001b[0mkwargs\u001b[0m\u001b[0;34m)\u001b[0m\u001b[0;34m\u001b[0m\u001b[0;34m\u001b[0m\u001b[0m\n\u001b[0m\u001b[1;32m   2353\u001b[0m             \u001b[0;32mreturn\u001b[0m \u001b[0mresult\u001b[0m\u001b[0;34m\u001b[0m\u001b[0;34m\u001b[0m\u001b[0m\n\u001b[1;32m   2354\u001b[0m \u001b[0;34m\u001b[0m\u001b[0m\n",
      "\u001b[0;32m/cw/dtaijupiter/NoCsBack/dtai/elia/miniconda/envs/mercs/lib/python3.7/site-packages/IPython/core/magics/script.py\u001b[0m in \u001b[0;36mnamed_script_magic\u001b[0;34m(line, cell)\u001b[0m\n\u001b[1;32m    140\u001b[0m             \u001b[0;32melse\u001b[0m\u001b[0;34m:\u001b[0m\u001b[0;34m\u001b[0m\u001b[0;34m\u001b[0m\u001b[0m\n\u001b[1;32m    141\u001b[0m                 \u001b[0mline\u001b[0m \u001b[0;34m=\u001b[0m \u001b[0mscript\u001b[0m\u001b[0;34m\u001b[0m\u001b[0;34m\u001b[0m\u001b[0m\n\u001b[0;32m--> 142\u001b[0;31m             \u001b[0;32mreturn\u001b[0m \u001b[0mself\u001b[0m\u001b[0;34m.\u001b[0m\u001b[0mshebang\u001b[0m\u001b[0;34m(\u001b[0m\u001b[0mline\u001b[0m\u001b[0;34m,\u001b[0m \u001b[0mcell\u001b[0m\u001b[0;34m)\u001b[0m\u001b[0;34m\u001b[0m\u001b[0;34m\u001b[0m\u001b[0m\n\u001b[0m\u001b[1;32m    143\u001b[0m \u001b[0;34m\u001b[0m\u001b[0m\n\u001b[1;32m    144\u001b[0m         \u001b[0;31m# write a basic docstring:\u001b[0m\u001b[0;34m\u001b[0m\u001b[0;34m\u001b[0m\u001b[0;34m\u001b[0m\u001b[0m\n",
      "\u001b[0;32m</cw/dtaijupiter/NoCsBack/dtai/elia/miniconda/envs/mercs/lib/python3.7/site-packages/decorator.py:decorator-gen-110>\u001b[0m in \u001b[0;36mshebang\u001b[0;34m(self, line, cell)\u001b[0m\n",
      "\u001b[0;32m/cw/dtaijupiter/NoCsBack/dtai/elia/miniconda/envs/mercs/lib/python3.7/site-packages/IPython/core/magic.py\u001b[0m in \u001b[0;36m<lambda>\u001b[0;34m(f, *a, **k)\u001b[0m\n\u001b[1;32m    185\u001b[0m     \u001b[0;31m# but it's overkill for just that one bit of state.\u001b[0m\u001b[0;34m\u001b[0m\u001b[0;34m\u001b[0m\u001b[0;34m\u001b[0m\u001b[0m\n\u001b[1;32m    186\u001b[0m     \u001b[0;32mdef\u001b[0m \u001b[0mmagic_deco\u001b[0m\u001b[0;34m(\u001b[0m\u001b[0marg\u001b[0m\u001b[0;34m)\u001b[0m\u001b[0;34m:\u001b[0m\u001b[0;34m\u001b[0m\u001b[0;34m\u001b[0m\u001b[0m\n\u001b[0;32m--> 187\u001b[0;31m         \u001b[0mcall\u001b[0m \u001b[0;34m=\u001b[0m \u001b[0;32mlambda\u001b[0m \u001b[0mf\u001b[0m\u001b[0;34m,\u001b[0m \u001b[0;34m*\u001b[0m\u001b[0ma\u001b[0m\u001b[0;34m,\u001b[0m \u001b[0;34m**\u001b[0m\u001b[0mk\u001b[0m\u001b[0;34m:\u001b[0m \u001b[0mf\u001b[0m\u001b[0;34m(\u001b[0m\u001b[0;34m*\u001b[0m\u001b[0ma\u001b[0m\u001b[0;34m,\u001b[0m \u001b[0;34m**\u001b[0m\u001b[0mk\u001b[0m\u001b[0;34m)\u001b[0m\u001b[0;34m\u001b[0m\u001b[0;34m\u001b[0m\u001b[0m\n\u001b[0m\u001b[1;32m    188\u001b[0m \u001b[0;34m\u001b[0m\u001b[0m\n\u001b[1;32m    189\u001b[0m         \u001b[0;32mif\u001b[0m \u001b[0mcallable\u001b[0m\u001b[0;34m(\u001b[0m\u001b[0marg\u001b[0m\u001b[0;34m)\u001b[0m\u001b[0;34m:\u001b[0m\u001b[0;34m\u001b[0m\u001b[0;34m\u001b[0m\u001b[0m\n",
      "\u001b[0;32m/cw/dtaijupiter/NoCsBack/dtai/elia/miniconda/envs/mercs/lib/python3.7/site-packages/IPython/core/magics/script.py\u001b[0m in \u001b[0;36mshebang\u001b[0;34m(self, line, cell)\u001b[0m\n\u001b[1;32m    243\u001b[0m             \u001b[0msys\u001b[0m\u001b[0;34m.\u001b[0m\u001b[0mstderr\u001b[0m\u001b[0;34m.\u001b[0m\u001b[0mflush\u001b[0m\u001b[0;34m(\u001b[0m\u001b[0;34m)\u001b[0m\u001b[0;34m\u001b[0m\u001b[0;34m\u001b[0m\u001b[0m\n\u001b[1;32m    244\u001b[0m         \u001b[0;32mif\u001b[0m \u001b[0margs\u001b[0m\u001b[0;34m.\u001b[0m\u001b[0mraise_error\u001b[0m \u001b[0;32mand\u001b[0m \u001b[0mp\u001b[0m\u001b[0;34m.\u001b[0m\u001b[0mreturncode\u001b[0m\u001b[0;34m!=\u001b[0m\u001b[0;36m0\u001b[0m\u001b[0;34m:\u001b[0m\u001b[0;34m\u001b[0m\u001b[0;34m\u001b[0m\u001b[0m\n\u001b[0;32m--> 245\u001b[0;31m             \u001b[0;32mraise\u001b[0m \u001b[0mCalledProcessError\u001b[0m\u001b[0;34m(\u001b[0m\u001b[0mp\u001b[0m\u001b[0;34m.\u001b[0m\u001b[0mreturncode\u001b[0m\u001b[0;34m,\u001b[0m \u001b[0mcell\u001b[0m\u001b[0;34m,\u001b[0m \u001b[0moutput\u001b[0m\u001b[0;34m=\u001b[0m\u001b[0mout\u001b[0m\u001b[0;34m,\u001b[0m \u001b[0mstderr\u001b[0m\u001b[0;34m=\u001b[0m\u001b[0merr\u001b[0m\u001b[0;34m)\u001b[0m\u001b[0;34m\u001b[0m\u001b[0;34m\u001b[0m\u001b[0m\n\u001b[0m\u001b[1;32m    246\u001b[0m \u001b[0;34m\u001b[0m\u001b[0m\n\u001b[1;32m    247\u001b[0m     \u001b[0;32mdef\u001b[0m \u001b[0m_run_script\u001b[0m\u001b[0;34m(\u001b[0m\u001b[0mself\u001b[0m\u001b[0;34m,\u001b[0m \u001b[0mp\u001b[0m\u001b[0;34m,\u001b[0m \u001b[0mcell\u001b[0m\u001b[0;34m,\u001b[0m \u001b[0mto_close\u001b[0m\u001b[0;34m)\u001b[0m\u001b[0;34m:\u001b[0m\u001b[0;34m\u001b[0m\u001b[0;34m\u001b[0m\u001b[0m\n",
      "\u001b[0;31mCalledProcessError\u001b[0m: Command 'b'\\ncd $1\\n\\npython -m twine upload --repository-url https://test.pypi.org/legacy/ dist/*$4* -u $2 -p $3\\n'' returned non-zero exit status 1."
     ]
    }
   ],
   "source": [
    "%%bash --verbose -s \"$root_dir\" \"$username\" \"$pwd\" \"$version\"\n",
    "\n",
    "cd $1\n",
    "\n",
    "python -m twine upload --repository-url https://test.pypi.org/legacy/ dist/*$4* -u $2 -p $3"
   ]
  },
  {
   "cell_type": "markdown",
   "metadata": {
    "Collapsed": "false"
   },
   "source": [
    "# Upload to Real PyPi\n",
    "\n",
    "Test PyPi really does not work very well.."
   ]
  },
  {
   "cell_type": "raw",
   "metadata": {
    "Collapsed": "false"
   },
   "source": [
    "%%bash --verbose -s \"$root_dir\" \"$username\" \"$pwd\" \"$version\"\n",
    "\n",
    "cd $1\n",
    "\n",
    "python -m twine upload dist/*$4* -u $2 -p $3"
   ]
  }
 ],
 "metadata": {
  "kernelspec": {
   "display_name": "mercs",
   "language": "python",
   "name": "mercs"
  },
  "language_info": {
   "codemirror_mode": {
    "name": "ipython",
    "version": 3
   },
   "file_extension": ".py",
   "mimetype": "text/x-python",
   "name": "python",
   "nbconvert_exporter": "python",
   "pygments_lexer": "ipython3",
   "version": "3.7.5"
  }
 },
 "nbformat": 4,
 "nbformat_minor": 4
}
