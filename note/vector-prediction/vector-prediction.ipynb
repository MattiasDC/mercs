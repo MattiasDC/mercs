{
 "cells": [
  {
   "cell_type": "markdown",
   "metadata": {},
   "source": [
    "# Vector Prediction\n",
    "\n",
    "Vectorized Prediction algorithms for MERCS. We need that speed."
   ]
  },
  {
   "cell_type": "markdown",
   "metadata": {},
   "source": [
    "# Imports"
   ]
  },
  {
   "cell_type": "code",
   "execution_count": 1,
   "metadata": {},
   "outputs": [],
   "source": [
    "from functools import partial\n",
    "import numpy as np\n",
    "import numba\n",
    "\n",
    "from mercs.utils import DESC_ENCODING, TARG_ENCODING, MISS_ENCODING, code_to_query, get_att_2d"
   ]
  },
  {
   "cell_type": "markdown",
   "metadata": {},
   "source": [
    "# Functions"
   ]
  },
  {
   "cell_type": "markdown",
   "metadata": {},
   "source": [
    "## Helpers"
   ]
  },
  {
   "cell_type": "code",
   "execution_count": 2,
   "metadata": {},
   "outputs": [],
   "source": [
    "# Strategies\n",
    "def mi(m_codes, m_fimps, m_score, q_code, m_avl=None, random_state=997):\n",
    "\n",
    "    # Init\n",
    "    a_src, a_tgt, _ = code_to_query(q_code)\n",
    "\n",
    "    # Criterion\n",
    "    c_all = criterion(m_score, a_filter=a_tgt, m_filter=m_avl, aggregation=None)\n",
    "\n",
    "    # Pick\n",
    "    m_sel = pick(c_all, thresholds=None)\n",
    "\n",
    "    return m_sel\n",
    "\n",
    "\n",
    "def mrai(\n",
    "    m_codes,\n",
    "    m_fimps,\n",
    "    m_score,\n",
    "    q_code=None,\n",
    "    a_src=None,\n",
    "    a_tgt=None,\n",
    "    m_avl=None,\n",
    "    init_threshold=1.0,\n",
    "    stepsize=0.1,\n",
    "    any_target=False,\n",
    "    stochastic=False,\n",
    "    thresholds=None,\n",
    "    random_state=997,\n",
    "):\n",
    "    # Init\n",
    "    if m_avl is None:\n",
    "        m_avl = np.arange(m_codes.shape[0], dtype=np.int16)\n",
    "\n",
    "    if thresholds is None:\n",
    "        thresholds = _init_thresholds(init_threshold, stepsize)\n",
    "\n",
    "    if a_src is None or a_tgt is None:\n",
    "        a_src, a_tgt, _ = code_to_query(q_code, return_sets=True)\n",
    "\n",
    "    # Criterion\n",
    "    c_src = criterion(m_fimps, a_filter=a_src, m_filter=m_avl, aggregation=True)\n",
    "    c_tgt = criterion(m_score, a_filter=a_tgt, m_filter=m_avl, aggregation=None)\n",
    "    c_all = c_src.reshape(-1, 1) * c_tgt + c_tgt\n",
    "\n",
    "    # Pick\n",
    "    m_sel = pick(\n",
    "        c_all,\n",
    "        thresholds=thresholds,\n",
    "        any_target=any_target,\n",
    "        stochastic=stochastic,\n",
    "        random_state=random_state,\n",
    "    )\n",
    "\n",
    "    return m_sel\n",
    "\n",
    "\n",
    "def it(\n",
    "    m_codes,\n",
    "    m_fimps,\n",
    "    m_score,\n",
    "    q_code,\n",
    "    m_avl=None,\n",
    "    max_steps=4,\n",
    "    init_threshold=1.0,\n",
    "    stepsize=0.1,\n",
    "    random_state=997,\n",
    "):\n",
    "    m_sel = []\n",
    "    thresholds = _init_thresholds(init_threshold, stepsize)\n",
    "    any_target = True\n",
    "    stochastic = False\n",
    "\n",
    "    q_desc, q_targ, q_miss = code_to_query(q_code)\n",
    "    a_src = q_desc\n",
    "    a_tgt = np.hstack([q_targ, q_miss])\n",
    "\n",
    "    if m_avl is None:\n",
    "        m_avl = np.arange(m_codes.shape[0], dtype=np.int16)\n",
    "\n",
    "    for step in range(max_steps):\n",
    "\n",
    "        # Check if this is our last chance\n",
    "        last = step + 1 == max_steps\n",
    "        if last:\n",
    "            any_target = False  # Finish the job\n",
    "            a_tgt = np.setdiff1d(\n",
    "                q_targ, a_src\n",
    "            )  # Focus exclusively on non-predicted q_targ attributes.\n",
    "\n",
    "        step_m_sel = mrai(\n",
    "            m_codes,\n",
    "            m_fimps,\n",
    "            m_score,\n",
    "            a_src=a_src,\n",
    "            a_tgt=a_tgt,\n",
    "            m_avl=m_avl,\n",
    "            stochastic=stochastic,\n",
    "            any_target=any_target,\n",
    "            thresholds=thresholds,\n",
    "            random_state=random_state,\n",
    "        )\n",
    "\n",
    "        a_prd = get_att_2d(m_codes[step_m_sel, :], kind=\"targ\")\n",
    "        \n",
    "        a_src = np.union1d(a_src, a_prd)\n",
    "        a_tgt = np.setdiff1d(a_tgt, a_prd)\n",
    "\n",
    "        m_avl = np.setdiff1d(m_avl, step_m_sel)\n",
    "        m_sel.append(step_m_sel)\n",
    "\n",
    "        if _stopping_criterion_it(q_targ, a_src):\n",
    "            break\n",
    "\n",
    "        if len(step_m_sel) == 0:\n",
    "            raise ValueError(\n",
    "                \"No progress was made. This indicates an impossible query.\"\n",
    "            )\n",
    "\n",
    "    return m_sel\n",
    "\n",
    "\n",
    "# MRAI-IT-RW Criterion\n",
    "def criterion(m_matrix, m_filter, a_filter, aggregation=None):\n",
    "    \"\"\"\n",
    "    Typical usecase \n",
    "    \n",
    "    m_matrix = m_fimps\n",
    "    \n",
    "    m_filter = available models\n",
    "    a_filter = available attributes.\n",
    "    \n",
    "    \"\"\"\n",
    "    nb_rows = m_matrix.shape[0]\n",
    "    nb_cols = len(a_filter)\n",
    "    \n",
    "    c_matrix = np.zeros((nb_rows, nb_cols), dtype=np.float32)\n",
    "\n",
    "    m_idx = a_filter + m_filter.reshape(-1, 1) * m_matrix.shape[1]\n",
    "    c_matrix[m_filter, :] = m_matrix.take(m_idx.flat).reshape(nb_rows, nb_cols)\n",
    "\n",
    "    if aggregation is None:\n",
    "        return c_matrix\n",
    "    else:\n",
    "        return np.sum(c_matrix, axis=1).reshape(-1, 1).astype(np.float32)\n",
    "\n",
    "\n",
    "# Picks\n",
    "def pick(\n",
    "    criteria, thresholds=None, any_target=False, stochastic=False, random_state=997\n",
    "):\n",
    "\n",
    "    if thresholds is None:\n",
    "        return np.where(criteria >= 0)[0]\n",
    "    else:\n",
    "        m_sel = []\n",
    "\n",
    "        picking_function = _stochastic_pick if stochastic else _greedy_pick\n",
    "\n",
    "        if any_target:\n",
    "            criteria = np.max(criteria, axis=1).reshape(-1, 1)\n",
    "\n",
    "        for c_idx in range(criteria.shape[1]):\n",
    "            m_sel.extend(\n",
    "                picking_function(\n",
    "                    criteria[:, c_idx], thresholds=thresholds, random_state=random_state\n",
    "                )\n",
    "            )\n",
    "\n",
    "        return np.unique(m_sel)\n",
    "\n",
    "\n",
    "def _greedy_pick(c_all, thresholds=None, **kwargs):\n",
    "    for thr in thresholds:\n",
    "        m_sel = np.where(c_all > thr)[0]\n",
    "        if _stopping_criterion_greedy_pick(m_sel):\n",
    "            break\n",
    "    return m_sel\n",
    "\n",
    "\n",
    "def _stochastic_pick(c_all, random_state=997, **kwargs):\n",
    "    np.random.seed(random_state)\n",
    "    norm = np.linalg.norm(c_all, 1)\n",
    "\n",
    "    if norm > 0:\n",
    "        distribution = c_all / np.sum(c_all)\n",
    "    else:\n",
    "        distribution = np.full(len(c_all), 1 / len(c_all))\n",
    "\n",
    "    draw = np.random.multinomial(1, distribution, size=1)\n",
    "    return np.where(draw == 1)[1]\n",
    "\n",
    "\n",
    "# Stopping Criteria\n",
    "def _stopping_criterion_it(q_targ, a_src):\n",
    "    return np.setdiff1d(q_targ, a_src).shape[0] == 0\n",
    "\n",
    "\n",
    "def _stopping_criterion_greedy_pick(m_sel):\n",
    "    return len(m_sel) > 0\n"
   ]
  },
  {
   "cell_type": "code",
   "execution_count": 3,
   "metadata": {},
   "outputs": [],
   "source": [
    "# Helpers\n",
    "def _init_thresholds(init_threshold, stepsize):\n",
    "    return np.arange(init_threshold, -stepsize, -stepsize, dtype=np.float32)"
   ]
  },
  {
   "cell_type": "raw",
   "metadata": {},
   "source": [
    "# Helpers\n",
    "def _init_thresholds(init_threshold, stepsize):\n",
    "\n",
    "    thresholds = (\n",
    "        np.round(np.arange(init_threshold, -stepsize, -stepsize), decimals=4) * 10 ** 4\n",
    "    )\n",
    "    return thresholds.astype(np.int16, copy=False)"
   ]
  },
  {
   "cell_type": "markdown",
   "metadata": {},
   "source": [
    "# Sandbox\n",
    "\n"
   ]
  },
  {
   "cell_type": "markdown",
   "metadata": {},
   "source": [
    "## Setup"
   ]
  },
  {
   "cell_type": "code",
   "execution_count": 4,
   "metadata": {},
   "outputs": [],
   "source": [
    "def init_m_fimps_or_m_scores(m_codes, kind='m_fimps'):\n",
    "    \n",
    "    if kind in {'m_fimps'}:\n",
    "        value = DESC_ENCODING\n",
    "    elif kind in {'m_score'}:\n",
    "        value = TARG_ENCODING\n",
    "    \n",
    "    m_init = np.zeros(m_codes.shape)\n",
    "    m_init[np.where(m_codes == value)] = np.random.rand(len(m_init[np.where(m_codes == value)]))\n",
    "\n",
    "    normalize(m_init, norm='l1', copy=False)\n",
    "    \n",
    "    #m_init = m_init*100\n",
    "    return m_init.astype(np.float32)"
   ]
  },
  {
   "cell_type": "code",
   "execution_count": 5,
   "metadata": {},
   "outputs": [
    {
     "name": "stdout",
     "output_type": "stream",
     "text": [
      "\n",
      "m_codes:\n",
      "[[ 1  1  1 ...  0 -1  0]\n",
      " [-1 -1  0 ... -1  1  0]\n",
      " [ 0  1  0 ...  1  0 -1]\n",
      " ...\n",
      " [ 0  1  1 ...  1  0  1]\n",
      " [-1  0  0 ...  0  0  0]\n",
      " [ 1  0 -1 ...  1  0  0]]\n",
      "m_fimps:\n",
      "[[0.         0.         0.         ... 0.00151566 0.         0.00050955]\n",
      " [0.         0.         0.00284598 ... 0.         0.         0.000933  ]\n",
      " [0.00039445 0.         0.00154299 ... 0.         0.0022003  0.        ]\n",
      " ...\n",
      " [0.00123323 0.         0.         ... 0.         0.00274897 0.        ]\n",
      " [0.         0.00273181 0.00080517 ... 0.00253666 0.00232512 0.00039437]\n",
      " [0.         0.00022585 0.         ... 0.         0.00032463 0.00029425]]\n",
      "m_score:\n",
      "[[3.5412965e-04 1.5658023e-03 1.9886063e-03 ... 0.0000000e+00\n",
      "  0.0000000e+00 0.0000000e+00]\n",
      " [0.0000000e+00 0.0000000e+00 0.0000000e+00 ... 0.0000000e+00\n",
      "  3.1607199e-04 0.0000000e+00]\n",
      " [0.0000000e+00 8.2027511e-04 0.0000000e+00 ... 2.4865987e-03\n",
      "  0.0000000e+00 0.0000000e+00]\n",
      " ...\n",
      " [0.0000000e+00 1.0674543e-03 1.3851456e-03 ... 9.9036051e-04\n",
      "  0.0000000e+00 6.8148423e-04]\n",
      " [0.0000000e+00 0.0000000e+00 0.0000000e+00 ... 0.0000000e+00\n",
      "  0.0000000e+00 0.0000000e+00]\n",
      " [1.8356317e-05 0.0000000e+00 0.0000000e+00 ... 2.3485629e-03\n",
      "  0.0000000e+00 0.0000000e+00]]\n",
      "q_code:\n",
      "[-1  1  1 ...  0 -1  1]\n",
      "\n"
     ]
    }
   ],
   "source": [
    "from sklearn.preprocessing import normalize\n",
    "\n",
    "nb_attributes = 2*10**3\n",
    "nb_iterations = 2\n",
    "\n",
    "m_codes = np.random.randint(-1,2, size=(nb_iterations*nb_attributes, nb_attributes), dtype=np.int8)\n",
    "q_code = np.random.randint(-1,2, nb_attributes, dtype=np.int8)\n",
    "\n",
    "\n",
    "m_fimps = init_m_fimps_or_m_scores(m_codes, kind='m_fimps')\n",
    "m_score = init_m_fimps_or_m_scores(m_codes, kind='m_score')\n",
    "\n",
    "#m_fimps, m_score\n",
    "\n",
    "msg = \"\"\"\n",
    "m_codes:\n",
    "{}\n",
    "m_fimps:\n",
    "{}\n",
    "m_score:\n",
    "{}\n",
    "q_code:\n",
    "{}\n",
    "\"\"\".format(m_codes, m_fimps, m_score, q_code)\n",
    "print(msg)"
   ]
  },
  {
   "cell_type": "markdown",
   "metadata": {},
   "source": [
    "## Tests"
   ]
  },
  {
   "cell_type": "raw",
   "metadata": {},
   "source": [
    "%%timeit\n",
    "it(m_codes, m_fimps, m_score, q_code, m_avl=None)"
   ]
  },
  {
   "cell_type": "code",
   "execution_count": 6,
   "metadata": {},
   "outputs": [
    {
     "data": {
      "text/plain": [
       "6.33"
      ]
     },
     "execution_count": 6,
     "metadata": {},
     "output_type": "execute_result"
    }
   ],
   "source": [
    "6.33"
   ]
  },
  {
   "cell_type": "code",
   "execution_count": 7,
   "metadata": {},
   "outputs": [
    {
     "name": "stdout",
     "output_type": "stream",
     "text": [
      "174 ms ± 1.73 ms per loop (mean ± std. dev. of 7 runs, 10 loops each)\n"
     ]
    }
   ],
   "source": [
    "%%timeit\n",
    "it(m_codes, m_fimps, m_score, q_code, m_avl=None)"
   ]
  },
  {
   "cell_type": "code",
   "execution_count": 8,
   "metadata": {},
   "outputs": [
    {
     "name": "stdout",
     "output_type": "stream",
     "text": [
      "172 ms ± 284 µs per loop (mean ± std. dev. of 7 runs, 10 loops each)\n"
     ]
    }
   ],
   "source": [
    "%%timeit\n",
    "it(m_codes, m_fimps, m_score, q_code, m_avl=None)"
   ]
  },
  {
   "cell_type": "code",
   "execution_count": 10,
   "metadata": {},
   "outputs": [
    {
     "ename": "NameError",
     "evalue": "name 'a1_rows' is not defined",
     "output_type": "error",
     "traceback": [
      "\u001b[0;31m---------------------------------------------------------------------------\u001b[0m",
      "\u001b[0;31mNameError\u001b[0m                                 Traceback (most recent call last)",
      "\u001b[0;32m<ipython-input-10-b466ccc1edd0>\u001b[0m in \u001b[0;36m<module>\u001b[0;34m\u001b[0m\n\u001b[0;32m----> 1\u001b[0;31m \u001b[0mnp\u001b[0m\u001b[0;34m.\u001b[0m\u001b[0msetdiff1d\u001b[0m\u001b[0;34m(\u001b[0m\u001b[0ma1_rows\u001b[0m\u001b[0;34m,\u001b[0m \u001b[0ma2_rows\u001b[0m\u001b[0;34m)\u001b[0m\u001b[0;34m.\u001b[0m\u001b[0mview\u001b[0m\u001b[0;34m(\u001b[0m\u001b[0ma1\u001b[0m\u001b[0;34m.\u001b[0m\u001b[0mdtype\u001b[0m\u001b[0;34m)\u001b[0m\u001b[0;34m.\u001b[0m\u001b[0mreshape\u001b[0m\u001b[0;34m(\u001b[0m\u001b[0;34m-\u001b[0m\u001b[0;36m1\u001b[0m\u001b[0;34m,\u001b[0m \u001b[0ma1\u001b[0m\u001b[0;34m.\u001b[0m\u001b[0mshape\u001b[0m\u001b[0;34m[\u001b[0m\u001b[0;36m1\u001b[0m\u001b[0;34m]\u001b[0m\u001b[0;34m)\u001b[0m\u001b[0;34m\u001b[0m\u001b[0;34m\u001b[0m\u001b[0m\n\u001b[0m\u001b[1;32m      2\u001b[0m \u001b[0marray\u001b[0m\u001b[0;34m(\u001b[0m\u001b[0;34m[\u001b[0m\u001b[0;34m[\u001b[0m\u001b[0;36m1\u001b[0m\u001b[0;34m,\u001b[0m \u001b[0;36m2\u001b[0m\u001b[0;34m,\u001b[0m \u001b[0;36m3\u001b[0m\u001b[0;34m]\u001b[0m\u001b[0;34m]\u001b[0m\u001b[0;34m)\u001b[0m\u001b[0;34m\u001b[0m\u001b[0;34m\u001b[0m\u001b[0m\n",
      "\u001b[0;31mNameError\u001b[0m: name 'a1_rows' is not defined"
     ]
    }
   ],
   "source": [
    "\n",
    "\n"
   ]
  },
  {
   "cell_type": "code",
   "execution_count": 12,
   "metadata": {},
   "outputs": [],
   "source": [
    "a1 = np.array([[1,2,3],[4,5,6],[7,8,9]])\n",
    "a2 = np.array([[4,5,6],[7,8,9],[1,1,1]])\n",
    "a1_rows = a1.view([('', a1.dtype)] * a1.shape[1])\n",
    "a2_rows = a2.view([('', a2.dtype)] * a2.shape[1])"
   ]
  },
  {
   "cell_type": "code",
   "execution_count": 13,
   "metadata": {},
   "outputs": [
    {
     "name": "stdout",
     "output_type": "stream",
     "text": [
      "47.8 µs ± 1.96 µs per loop (mean ± std. dev. of 7 runs, 10000 loops each)\n"
     ]
    }
   ],
   "source": [
    "%%timeit\n",
    "np.setdiff1d(a1_rows, a2_rows).view(a1.dtype).reshape(-1, a1.shape[1])\n"
   ]
  },
  {
   "cell_type": "code",
   "execution_count": 14,
   "metadata": {},
   "outputs": [
    {
     "name": "stdout",
     "output_type": "stream",
     "text": [
      "30.9 µs ± 223 ns per loop (mean ± std. dev. of 7 runs, 10000 loops each)\n"
     ]
    }
   ],
   "source": [
    "%%timeit\n",
    "np.setdiff1d(a1, a2)"
   ]
  }
 ],
 "metadata": {
  "kernelspec": {
   "display_name": "mercs",
   "language": "python",
   "name": "mercs"
  },
  "language_info": {
   "codemirror_mode": {
    "name": "ipython",
    "version": 3
   },
   "file_extension": ".py",
   "mimetype": "text/x-python",
   "name": "python",
   "nbconvert_exporter": "python",
   "pygments_lexer": "ipython3",
   "version": "3.7.4"
  },
  "toc-autonumbering": true
 },
 "nbformat": 4,
 "nbformat_minor": 4
}
