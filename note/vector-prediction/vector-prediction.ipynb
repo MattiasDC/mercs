{
 "cells": [
  {
   "cell_type": "markdown",
   "metadata": {},
   "source": [
    "# Vector Prediction\n",
    "\n",
    "Vectorized Prediction algorithms for MERCS. We need that speed."
   ]
  },
  {
   "cell_type": "markdown",
   "metadata": {},
   "source": [
    "# Imports"
   ]
  },
  {
   "cell_type": "code",
   "execution_count": 1,
   "metadata": {},
   "outputs": [],
   "source": [
    "from functools import partial\n",
    "import numpy as np\n",
    "import numba\n",
    "\n",
    "from mercs.utils import DESC_ENCODING, TARG_ENCODING, MISS_ENCODING, code_to_query, get_att_2d"
   ]
  },
  {
   "cell_type": "markdown",
   "metadata": {},
   "source": [
    "# Functions"
   ]
  },
  {
   "cell_type": "markdown",
   "metadata": {},
   "source": [
    "## Helpers"
   ]
  },
  {
   "cell_type": "code",
   "execution_count": 68,
   "metadata": {},
   "outputs": [],
   "source": [
    "def criterion(\n",
    "    m_matrix,\n",
    "    m_filter,\n",
    "    a_filter,\n",
    "    aggregation=None,\n",
    "):\n",
    "    \"\"\"\n",
    "    Typical usecase \n",
    "    \n",
    "    m_matrix = m_fimps\n",
    "    \n",
    "    m_filter = available models\n",
    "    a_filter = available attributes.\n",
    "    \n",
    "    \"\"\"\n",
    "    nb_rows = m_matrix.shape[0]\n",
    "    nb_cols = len(a_filter)\n",
    "    \n",
    "    c_matrix = np.zeros((nb_rows,nb_cols), dtype=np.int16)\n",
    "    \n",
    "    m_idx = a_filter + m_filter.reshape(-1,1) * m_matrix.shape[1] \n",
    "    c_matrix[m_filter, :] = m_matrix.take(m_idx.flat).reshape(nb_rows, nb_cols)\n",
    "    \n",
    "    #c_matrix[m_filter, :] = m_matrix[np.ix_(m_filter,a_filter)]\n",
    "    #c_matrix[m_filter, :] = m_matrix[m_filter, :][:, a_filter]\n",
    "\n",
    "    if aggregation is None: \n",
    "        return c_matrix\n",
    "    else:\n",
    "        return np.sum(c_matrix, axis=1).reshape(-1,1).astype(np.int16)"
   ]
  },
  {
   "cell_type": "code",
   "execution_count": 3,
   "metadata": {},
   "outputs": [],
   "source": [
    "def _init_thresholds(init_threshold, stepsize):\n",
    "    \"\"\"Initialize thresholds array based on its two defining parameters.\n",
    "\n",
    "    Parameters\n",
    "    ----------\n",
    "    init_threshold: \n",
    "    stepsize: \n",
    "\n",
    "    Returns\n",
    "    -------\n",
    "\n",
    "    \"\"\"\n",
    "    thresholds = np.round(np.arange(init_threshold, -stepsize, -stepsize), decimals=4)*10**4\n",
    "    return thresholds.astype(np.int16, copy=False)"
   ]
  },
  {
   "cell_type": "code",
   "execution_count": 4,
   "metadata": {},
   "outputs": [],
   "source": [
    "\n",
    "def pick(criteria, thresholds=None, any_target=False, stochastic=False, random_state=997):\n",
    "    \n",
    "    if thresholds is None:\n",
    "        return np.where(criteria >= 0)[0].astype(np.int32)\n",
    "    else:\n",
    "        m_sel = []\n",
    "\n",
    "        picking_function = _stochastic_pick if stochastic else _greedy_pick\n",
    "\n",
    "        if any_target:\n",
    "            criteria = np.max(criteria, axis=1).reshape(-1,1)\n",
    "\n",
    "        for c_idx in range(criteria.shape[1]):\n",
    "            m_sel.extend(picking_function(criteria[:, c_idx], thresholds=thresholds, random_state=random_state))\n",
    "\n",
    "        return np.unique(m_sel).astype(np.int32)\n",
    "\n",
    "def _greedy_pick(c_all, thresholds=None, **kwargs):\n",
    "    for thr in thresholds:\n",
    "        m_sel = np.where(c_all > thr)[0].astype(np.int32)\n",
    "        if _stopping_criterion_greedy_pick(m_sel):\n",
    "            break\n",
    "    return m_sel\n",
    "\n",
    "def _stochastic_pick(c_all, random_state=997, **kwargs):\n",
    "    np.random.seed(random_state)\n",
    "    norm = np.linalg.norm(c_all, 1)\n",
    "    \n",
    "    if norm > 0:\n",
    "        distribution = c_all/np.sum(c_all)\n",
    "    else:\n",
    "        distribution = np.full(len(c_all), 1/len(c_all))\n",
    "        \n",
    "    draw = np.random.multinomial(1, distribution, size=1)\n",
    "    return np.where(draw==1)[1].astype(np.int32)"
   ]
  },
  {
   "cell_type": "code",
   "execution_count": null,
   "metadata": {},
   "outputs": [],
   "source": []
  },
  {
   "cell_type": "code",
   "execution_count": 5,
   "metadata": {},
   "outputs": [],
   "source": [
    "def _stopping_criterion_it(q_targ, a_src):\n",
    "    return np.setdiff1d(q_targ, a_src).shape[0] == 0\n",
    "\n",
    "def _stopping_criterion_greedy_pick(m_sel):\n",
    "    return len(m_sel) > 0"
   ]
  },
  {
   "cell_type": "code",
   "execution_count": 6,
   "metadata": {},
   "outputs": [
    {
     "data": {
      "text/plain": [
       "True"
      ]
     },
     "execution_count": 6,
     "metadata": {},
     "output_type": "execute_result"
    }
   ],
   "source": [
    "np.all(np.in1d([1], [1,2,3]))"
   ]
  },
  {
   "cell_type": "markdown",
   "metadata": {},
   "source": [
    "## Algos"
   ]
  },
  {
   "cell_type": "code",
   "execution_count": 7,
   "metadata": {},
   "outputs": [],
   "source": [
    "def mi(m_codes, m_fimps, m_score, q_code, m_avl=None, random_state=997):\n",
    "\n",
    "    # Init\n",
    "    a_src, a_tgt, _ = code_to_query(q_code)\n",
    "\n",
    "    # Criterion\n",
    "    c_all = criterion(m_score, a_filter=a_tgt, m_filter=m_avl, aggregation=None)\n",
    "\n",
    "    # Pick\n",
    "    m_sel = pick(c_all)\n",
    "\n",
    "    return m_sel\n",
    "\n",
    "\n",
    "def mrai(\n",
    "    m_codes,\n",
    "    m_fimps,\n",
    "    m_score,\n",
    "    q_code=None,\n",
    "    a_src=None,\n",
    "    a_tgt=None,\n",
    "    m_avl=None,\n",
    "    init_threshold=1.0,\n",
    "    stepsize=0.1,\n",
    "    any_target=False,\n",
    "    stochastic=False,\n",
    "    thresholds=None,\n",
    "    random_state=997,\n",
    "):\n",
    "    # Init\n",
    "    if m_avl is None:\n",
    "        m_avl = np.arange(m_codes.shape[0], dtype=np.int16)\n",
    "    \n",
    "    if thresholds is None:\n",
    "        thresholds = _init_thresholds(init_threshold, stepsize)\n",
    "\n",
    "    if a_src is None or a_tgt is None:\n",
    "        a_src, a_tgt, _ = code_to_query(q_code)\n",
    "\n",
    "    # Criterion\n",
    "    c_src = criterion(m_fimps, a_filter=a_src, m_filter=m_avl, aggregation=True)\n",
    "    c_tgt = criterion(m_score, a_filter=a_tgt, m_filter=m_avl, aggregation=None)\n",
    "    c_all = c_src.reshape(-1, 1) * c_tgt + c_tgt\n",
    "\n",
    "    # Pick\n",
    "    m_sel = pick(c_all, thresholds, any_target=any_target, stochastic=stochastic, random_state=random_state)\n",
    "\n",
    "    return m_sel\n",
    "\n",
    "\n",
    "def it(\n",
    "    m_codes,\n",
    "    m_fimps,\n",
    "    m_score,\n",
    "    q_code,\n",
    "    m_avl=None,\n",
    "    max_steps=4,\n",
    "    init_threshold=1.0,\n",
    "    stepsize=0.1,\n",
    "    random_state=997,\n",
    "):\n",
    "    m_sel = []\n",
    "    thresholds = _init_thresholds(init_threshold, stepsize)\n",
    "    any_target = True\n",
    "    stochastic = False\n",
    "\n",
    "    q_desc, q_targ, q_miss = code_to_query(q_code)\n",
    "    a_src = q_desc\n",
    "    a_tgt = np.hstack([q_targ, q_miss])\n",
    "    \n",
    "    if m_avl is None:\n",
    "        m_avl = np.arange(m_codes.shape[0], dtype=np.int16)\n",
    "\n",
    "    for step in range(max_steps):\n",
    "        \n",
    "        # Check if this is our last chance\n",
    "        last = step + 1 == max_steps  \n",
    "        if last:\n",
    "            any_target = False  # Finish the job\n",
    "            a_tgt = np.setdiff1d(\n",
    "                q_targ, a_src\n",
    "            )  # Focus exclusively on non-predicted q_targ attributes.\n",
    "\n",
    "        step_m_sel = mrai(\n",
    "            m_codes,\n",
    "            m_fimps,\n",
    "            m_score,\n",
    "            a_src=a_src,\n",
    "            a_tgt=a_tgt,\n",
    "            m_avl=m_avl,\n",
    "            stochastic=stochastic,\n",
    "            any_target=any_target,\n",
    "            thresholds=thresholds,\n",
    "            random_state=random_state,\n",
    "        )\n",
    "\n",
    "        a_prd = get_att_2d(m_codes[step_m_sel, :], kind=\"targ\")\n",
    "        \n",
    "        a_src = np.union1d(a_src, a_prd)\n",
    "        a_tgt = np.setdiff1d(a_tgt, a_prd)\n",
    "        \n",
    "        m_avl = np.setdiff1d(m_avl, step_m_sel)\n",
    "        m_sel.append(step_m_sel)\n",
    "        \n",
    "        if _stopping_criterion_it(q_targ, a_src):\n",
    "            break\n",
    "            \n",
    "        if len(step_m_sel) == 0:\n",
    "            raise ValueError(\"No progress was made. This indicates an impossible query.\")\n",
    "\n",
    "    return m_sel"
   ]
  },
  {
   "cell_type": "markdown",
   "metadata": {},
   "source": [
    "# Sandbox\n",
    "\n"
   ]
  },
  {
   "cell_type": "markdown",
   "metadata": {},
   "source": [
    "## Setup"
   ]
  },
  {
   "cell_type": "code",
   "execution_count": 8,
   "metadata": {},
   "outputs": [],
   "source": [
    "def init_m_fimps_or_m_scores(m_codes, kind='m_fimps'):\n",
    "    \n",
    "    if kind in {'m_fimps'}:\n",
    "        value = DESC_ENCODING\n",
    "    elif kind in {'m_score'}:\n",
    "        value = TARG_ENCODING\n",
    "    \n",
    "    m_init = np.zeros(m_codes.shape)\n",
    "    m_init[np.where(m_codes == value)] = np.random.rand(len(m_init[np.where(m_codes == value)]))\n",
    "\n",
    "    normalize(m_init, norm='l1', copy=False)\n",
    "    m_init = m_init*100\n",
    "        \n",
    "    m_init = m_init.astype(np.int8)\n",
    "\n",
    "    return m_init"
   ]
  },
  {
   "cell_type": "code",
   "execution_count": 9,
   "metadata": {},
   "outputs": [
    {
     "data": {
      "text/plain": [
       "2.25"
      ]
     },
     "execution_count": 9,
     "metadata": {},
     "output_type": "execute_result"
    }
   ],
   "source": [
    "1.5*1.5"
   ]
  },
  {
   "cell_type": "code",
   "execution_count": 70,
   "metadata": {},
   "outputs": [
    {
     "name": "stdout",
     "output_type": "stream",
     "text": [
      "\n",
      "m_codes:\n",
      "[[ 1  1  0 ...  0  0 -1]\n",
      " [ 1 -1 -1 ...  1  1  0]\n",
      " [ 1  1  1 ...  1  0 -1]\n",
      " ...\n",
      " [ 1  1 -1 ...  0 -1  0]\n",
      " [ 1 -1  0 ... -1  1 -1]\n",
      " [ 1  0  1 ...  0 -1  1]]\n",
      "m_fimps:\n",
      "[[ 0  0  4 ...  3  0  0]\n",
      " [ 0  0  0 ...  0  0 16]\n",
      " [ 0  0  0 ...  0  8  0]\n",
      " ...\n",
      " [ 0  0  0 ...  1  0 16]\n",
      " [ 0  0 21 ...  0  0  0]\n",
      " [ 0  5  0 ...  4  0  0]]\n",
      "m_score:\n",
      "[[ 7  4  0 ...  0  0  0]\n",
      " [11  0  0 ... 14  8  0]\n",
      " [ 9  6  4 ...  6  0  0]\n",
      " ...\n",
      " [18 14  0 ...  0  0  0]\n",
      " [ 5  0  0 ...  0 10  0]\n",
      " [ 6  0 11 ...  0  0 10]]\n",
      "q_code:\n",
      "[-1  0  0  0  1  1 -1  1  1  1  0  1  1  1 -1  1 -1  0  1  0 -1  1 -1  1\n",
      "  1  0 -1  0 -1  0]\n",
      "\n"
     ]
    }
   ],
   "source": [
    "from sklearn.preprocessing import normalize\n",
    "\n",
    "nb_attributes = 3*10**1\n",
    "nb_iterations = 10**6\n",
    "\n",
    "m_codes = np.random.randint(-1,2, size=(nb_iterations*nb_attributes, nb_attributes), dtype=np.int8)\n",
    "\n",
    "m_fimps = init_m_fimps_or_m_scores(m_codes, kind='m_fimps')\n",
    "m_score = init_m_fimps_or_m_scores(m_codes, kind='m_score')\n",
    "\n",
    "\n",
    "#m_score = np.ones(m_codes.shape,  dtype=np.int8)*-1\n",
    "#m_score[np.where(m_codes == 1)] = np.random.rand(len(m_score[np.where(m_codes == 1)]))\n",
    "#m_score[np.where(m_codes == 1)] = 1\n",
    "\n",
    "q_code = np.random.randint(-1,2, nb_attributes, dtype=np.int8)\n",
    "\n",
    "#m_fimps, m_score\n",
    "\n",
    "msg = \"\"\"\n",
    "m_codes:\n",
    "{}\n",
    "m_fimps:\n",
    "{}\n",
    "m_score:\n",
    "{}\n",
    "q_code:\n",
    "{}\n",
    "\"\"\".format(m_codes, m_fimps, m_score, q_code)\n",
    "print(msg)"
   ]
  },
  {
   "cell_type": "markdown",
   "metadata": {},
   "source": [
    "## Tests"
   ]
  },
  {
   "cell_type": "raw",
   "metadata": {},
   "source": [
    "%%timeit\n",
    "it(m_codes, m_fimps, m_score, q_code, m_avl=None)"
   ]
  },
  {
   "cell_type": "code",
   "execution_count": null,
   "metadata": {},
   "outputs": [],
   "source": []
  },
  {
   "cell_type": "code",
   "execution_count": 71,
   "metadata": {},
   "outputs": [
    {
     "name": "stdout",
     "output_type": "stream",
     "text": [
      "6.33 s ± 62.8 ms per loop (mean ± std. dev. of 7 runs, 1 loop each)\n"
     ]
    }
   ],
   "source": [
    "%%timeit\n",
    "it(m_codes, m_fimps, m_score, q_code, m_avl=None)"
   ]
  },
  {
   "cell_type": "code",
   "execution_count": null,
   "metadata": {},
   "outputs": [],
   "source": []
  },
  {
   "cell_type": "code",
   "execution_count": 54,
   "metadata": {},
   "outputs": [
    {
     "name": "stdout",
     "output_type": "stream",
     "text": [
      " "
     ]
    },
    {
     "data": {
      "text/plain": [
       "         348 function calls (329 primitive calls) in 0.644 seconds\n",
       "\n",
       "   Ordered by: internal time\n",
       "\n",
       "   ncalls  tottime  percall  cumtime  percall filename:lineno(function)\n",
       "        2    0.285    0.143    0.439    0.219 <ipython-input-52-74e74c824253>:1(criterion)\n",
       "        2    0.140    0.070    0.140    0.070 {method 'reduce' of 'numpy.ufunc' objects}\n",
       "        2    0.081    0.041    0.081    0.041 {method 'take' of 'numpy.ndarray' objects}\n",
       "        9    0.074    0.008    0.074    0.008 {method 'sort' of 'numpy.ndarray' objects}\n",
       "        1    0.052    0.052    0.564    0.564 <ipython-input-7-1a979d9d731f>:15(mrai)\n",
       "        9    0.002    0.000    0.077    0.009 arraysetops.py:297(_unique1d)\n",
       "        1    0.002    0.002    0.004    0.004 <ipython-input-4-b8efb26723de>:18(_greedy_pick)\n",
       "        2    0.002    0.001    0.002    0.001 {built-in method numpy.arange}\n",
       "       14    0.001    0.000    0.001    0.000 {method 'astype' of 'numpy.ndarray' objects}\n",
       "    40/21    0.001    0.000    0.219    0.010 {built-in method numpy.core._multiarray_umath.implement_array_function}\n",
       "        1    0.001    0.001    0.644    0.644 <ipython-input-7-1a979d9d731f>:51(it)\n",
       "        9    0.000    0.000    0.000    0.000 {method 'flatten' of 'numpy.ndarray' objects}\n",
       "        3    0.000    0.000    0.000    0.000 arraysetops.py:483(in1d)\n",
       "        1    0.000    0.000    0.644    0.644 {built-in method builtins.exec}\n",
       "        3    0.000    0.000    0.077    0.026 arraysetops.py:744(setdiff1d)\n",
       "        2    0.000    0.000    0.000    0.000 {built-in method numpy.zeros}\n",
       "        1    0.000    0.000    0.000    0.000 {method 'round' of 'numpy.ndarray' objects}\n",
       "        2    0.000    0.000    0.140    0.070 fromnumeric.py:73(_wrapreduction)\n",
       "       12    0.000    0.000    0.000    0.000 {built-in method numpy.empty}\n",
       "        1    0.000    0.000    0.000    0.000 <ipython-input-3-03ddbbd94e88>:1(_init_thresholds)\n",
       "        3    0.000    0.000    0.000    0.000 encoding.py:48(get_att)\n",
       "        9    0.000    0.000    0.077    0.009 arraysetops.py:151(unique)\n",
       "        1    0.000    0.000    0.073    0.073 <ipython-input-4-b8efb26723de>:1(pick)\n",
       "        7    0.000    0.000    0.000    0.000 {method 'reshape' of 'numpy.ndarray' objects}\n",
       "       26    0.000    0.000    0.000    0.000 {built-in method numpy.array}\n",
       "       11    0.000    0.000    0.001    0.000 <__array_function__ internals>:2(where)\n",
       "        1    0.000    0.000    0.000    0.000 encoding.py:52(get_att_2d)\n",
       "        1    0.000    0.000    0.000    0.000 shape_base.py:24(atleast_1d)\n",
       "        9    0.000    0.000    0.077    0.009 <__array_function__ internals>:2(unique)\n",
       "        2    0.000    0.000    0.000    0.000 {method 'argsort' of 'numpy.ndarray' objects}\n",
       "        1    0.000    0.000    0.000    0.000 shape_base.py:285(hstack)\n",
       "        6    0.000    0.000    0.000    0.000 <__array_function__ internals>:2(concatenate)\n",
       "        1    0.000    0.000    0.000    0.000 {method 'extend' of 'list' objects}\n",
       "        9    0.000    0.000    0.000    0.000 arraysetops.py:138(_unpack_tuple)\n",
       "        3    0.000    0.000    0.000    0.000 <__array_function__ internals>:2(in1d)\n",
       "        1    0.000    0.000    0.000    0.000 fromnumeric.py:55(_wrapfunc)\n",
       "        1    0.000    0.000    0.070    0.070 fromnumeric.py:2045(sum)\n",
       "        1    0.000    0.000    0.000    0.000 <__array_function__ internals>:2(round_)\n",
       "       20    0.000    0.000    0.000    0.000 _asarray.py:88(asanyarray)\n",
       "       11    0.000    0.000    0.000    0.000 multiarray.py:312(where)\n",
       "        1    0.000    0.000    0.644    0.644 <string>:1(<module>)\n",
       "        7    0.000    0.000    0.000    0.000 <ipython-input-5-6623f9745c0b>:4(_stopping_criterion_greedy_pick)\n",
       "        6    0.000    0.000    0.000    0.000 {method 'ravel' of 'numpy.ndarray' objects}\n",
       "        1    0.000    0.000    0.000    0.000 shape_base.py:208(_arrays_for_stack_dispatcher)\n",
       "        1    0.000    0.000    0.069    0.069 fromnumeric.py:2504(amax)\n",
       "        1    0.000    0.000    0.069    0.069 <__array_function__ internals>:2(amax)\n",
       "       28    0.000    0.000    0.000    0.000 {built-in method builtins.len}\n",
       "        1    0.000    0.000    0.000    0.000 encoding.py:34(code_to_query)\n",
       "        3    0.000    0.000    0.077    0.026 <__array_function__ internals>:2(setdiff1d)\n",
       "        1    0.000    0.000    0.070    0.070 <__array_function__ internals>:2(sum)\n",
       "        2    0.000    0.000    0.000    0.000 {built-in method builtins.isinstance}\n",
       "        1    0.000    0.000    0.000    0.000 <ipython-input-5-6623f9745c0b>:1(_stopping_criterion_it)\n",
       "        9    0.000    0.000    0.000    0.000 arraysetops.py:146(_unique_dispatcher)\n",
       "        1    0.000    0.000    0.000    0.000 <__array_function__ internals>:2(atleast_1d)\n",
       "        1    0.000    0.000    0.000    0.000 <__array_function__ internals>:2(hstack)\n",
       "        2    0.000    0.000    0.000    0.000 fromnumeric.py:74(<dictcomp>)\n",
       "        1    0.000    0.000    0.000    0.000 fromnumeric.py:3079(around)\n",
       "        1    0.000    0.000    0.000    0.000 fromnumeric.py:3512(round_)\n",
       "        1    0.000    0.000    0.000    0.000 <__array_function__ internals>:2(copyto)\n",
       "        1    0.000    0.000    0.000    0.000 numeric.py:166(ones)\n",
       "        6    0.000    0.000    0.000    0.000 _asarray.py:16(asarray)\n",
       "        1    0.000    0.000    0.000    0.000 {built-in method builtins.hasattr}\n",
       "        1    0.000    0.000    0.000    0.000 arraysetops.py:703(union1d)\n",
       "        3    0.000    0.000    0.000    0.000 arraysetops.py:740(_setdiff1d_dispatcher)\n",
       "        1    0.000    0.000    0.000    0.000 <__array_function__ internals>:2(union1d)\n",
       "        1    0.000    0.000    0.000    0.000 shape_base.py:219(_vhstack_dispatcher)\n",
       "        1    0.000    0.000    0.000    0.000 fromnumeric.py:2040(_sum_dispatcher)\n",
       "        2    0.000    0.000    0.000    0.000 fromnumeric.py:3075(_around_dispatcher)\n",
       "        1    0.000    0.000    0.000    0.000 <__array_function__ internals>:2(around)\n",
       "        1    0.000    0.000    0.000    0.000 {method 'disable' of '_lsprof.Profiler' objects}\n",
       "        1    0.000    0.000    0.000    0.000 {built-in method builtins.getattr}\n",
       "        2    0.000    0.000    0.000    0.000 {method 'items' of 'dict' objects}\n",
       "        3    0.000    0.000    0.000    0.000 {method 'append' of 'list' objects}\n",
       "        3    0.000    0.000    0.000    0.000 arraysetops.py:479(_in1d_dispatcher)\n",
       "        1    0.000    0.000    0.000    0.000 arraysetops.py:699(_union1d_dispatcher)\n",
       "        1    0.000    0.000    0.000    0.000 shape_base.py:20(_atleast_1d_dispatcher)\n",
       "        1    0.000    0.000    0.000    0.000 fromnumeric.py:2499(_amax_dispatcher)\n",
       "        6    0.000    0.000    0.000    0.000 multiarray.py:145(concatenate)\n",
       "        1    0.000    0.000    0.000    0.000 multiarray.py:1043(copyto)"
      ]
     },
     "metadata": {},
     "output_type": "display_data"
    }
   ],
   "source": [
    "%prun it(m_codes, m_fimps, m_score, q_code, m_avl=None)"
   ]
  }
 ],
 "metadata": {
  "kernelspec": {
   "display_name": "mercs",
   "language": "python",
   "name": "mercs"
  },
  "language_info": {
   "codemirror_mode": {
    "name": "ipython",
    "version": 3
   },
   "file_extension": ".py",
   "mimetype": "text/x-python",
   "name": "python",
   "nbconvert_exporter": "python",
   "pygments_lexer": "ipython3",
   "version": "3.7.4"
  },
  "toc-autonumbering": true
 },
 "nbformat": 4,
 "nbformat_minor": 4
}
