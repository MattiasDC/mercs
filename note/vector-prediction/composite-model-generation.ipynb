{
 "cells": [
  {
   "cell_type": "code",
   "execution_count": 1,
   "metadata": {},
   "outputs": [],
   "source": [
    "import networkx as nx\n",
    "import numpy as np"
   ]
  },
  {
   "cell_type": "code",
   "execution_count": 2,
   "metadata": {},
   "outputs": [],
   "source": [
    "import mercs"
   ]
  },
  {
   "cell_type": "code",
   "execution_count": 3,
   "metadata": {},
   "outputs": [],
   "source": [
    "from mercs.utils import code_to_query"
   ]
  },
  {
   "cell_type": "markdown",
   "metadata": {},
   "source": [
    "# Preliminaries\n",
    "\n",
    "Getting a very basic mercs model on my hands to test with."
   ]
  },
  {
   "cell_type": "code",
   "execution_count": 4,
   "metadata": {},
   "outputs": [
    {
     "data": {
      "text/plain": [
       "array([[ 0,  0, -1, -1,  1],\n",
       "       [ 1, -1,  0,  0,  1],\n",
       "       [-1, -1,  1, -1,  0],\n",
       "       [-1, -1,  0,  1,  0]])"
      ]
     },
     "execution_count": 4,
     "metadata": {},
     "output_type": "execute_result"
    }
   ],
   "source": [
    "m_codes = [\n",
    "    [ 0, 0,-1,-1 ,1],\n",
    "    [1,-1, 0, 0, 1],\n",
    "    [-1,-1, 1,-1, 0],\n",
    "    [-1,-1, 0, 1, 0]  \n",
    "]\n",
    "\n",
    "m_codes = np.array(m_codes)\n",
    "m_codes"
   ]
  },
  {
   "cell_type": "code",
   "execution_count": 5,
   "metadata": {},
   "outputs": [],
   "source": [
    "class model():\n",
    "    def __init__(self, m_code):\n",
    "        self.desc_ids = set(np.where(m_code==0)[0])\n",
    "        self.targ_ids = set(np.where(m_code==1)[0])\n",
    "        return"
   ]
  },
  {
   "cell_type": "code",
   "execution_count": 6,
   "metadata": {},
   "outputs": [
    {
     "data": {
      "text/plain": [
       "{0, 1}"
      ]
     },
     "execution_count": 6,
     "metadata": {},
     "output_type": "execute_result"
    }
   ],
   "source": [
    "m_list = [model(m_code) for m_code in m_codes]\n",
    "m_list[0].desc_ids"
   ]
  },
  {
   "cell_type": "code",
   "execution_count": 18,
   "metadata": {},
   "outputs": [],
   "source": [
    "from functools import reduce"
   ]
  },
  {
   "cell_type": "markdown",
   "metadata": {},
   "source": [
    "# Algorithm"
   ]
  },
  {
   "cell_type": "markdown",
   "metadata": {},
   "source": [
    "## Single-Layer Model"
   ]
  },
  {
   "cell_type": "code",
   "execution_count": 55,
   "metadata": {},
   "outputs": [],
   "source": [
    "def _prune(g):\n",
    "    ancestors = [nx.ancestors(g, source=n) for n in g.targ_ids]\n",
    "    retain_nodes = reduce(set.union, ancestors, g.targ_ids)\n",
    "\n",
    "    nodes_to_remove = [n for n in g.nodes if n not in retain_nodes]\n",
    "\n",
    "    for n in nodes_to_remove:\n",
    "        g.remove_node(n)\n",
    "    return\n",
    "\n",
    "def build_diagram(m_list, m_sel, q_code, g=None, prune=False):\n",
    "    if g is None:\n",
    "        g = nx.DiGraph()\n",
    "    \n",
    "    f_tgt = set([])\n",
    "    a_src, a_tgt, _ = code_to_query(q_code, return_sets=True)\n",
    "    \n",
    "    g.desc_ids = a_src\n",
    "    g.targ_ids = a_tgt\n",
    "    \n",
    "    for m_layer in m_sel:\n",
    "        models = [(m_idx, m_list[m_idx]) for m_idx in m_layer]\n",
    "        \n",
    "        a_src, f_tgt, g = build_diagram_SL(models, a_src, f_tgt, g=g)\n",
    "    \n",
    "    if prune:\n",
    "        _prune(g)\n",
    "    return g\n",
    "\n",
    "def build_diagram_SL(models, a_src, f_tgt, g=None):\n",
    "    \n",
    "    if g is None:\n",
    "        g = nx.DiGraph()\n",
    "    \n",
    "    valid_src = lambda a: a in a_src\n",
    "    valid_tgt = lambda a: a not in f_tgt\n",
    "    \n",
    "    e_src = set([])\n",
    "    e_tgt = set([])\n",
    "        \n",
    "    for m_idx, m in models:\n",
    "        for a in m.desc_ids:\n",
    "            if valid_src(a):\n",
    "                e_src.add((a, \"M-{}\".format(m_idx)))\n",
    "                f_tgt.add(a)\n",
    "            else:\n",
    "                e_src.add((\"I-{}\".format(a), \"M-{}\".format(m_idx)))\n",
    "\n",
    "    for m_idx, m in models:\n",
    "        for a in m.targ_ids:\n",
    "            if valid_tgt(a):\n",
    "                e_tgt.add((\"M-{}\".format(m_idx), a))\n",
    "                a_src.add(a)\n",
    "\n",
    "    g.add_edges_from(e_src)\n",
    "    g.add_edges_from(e_tgt)\n",
    "    return a_src, f_tgt, g"
   ]
  },
  {
   "cell_type": "code",
   "execution_count": 58,
   "metadata": {},
   "outputs": [
    {
     "name": "stdout",
     "output_type": "stream",
     "text": [
      "{0, 4}\n",
      "{0, 4}\n",
      "[{2, 3, 'M-1'}, {1, 2, 3, 'M-1', 'M-0', 'I-0'}]\n",
      "[]\n"
     ]
    },
    {
     "data": {
      "text/plain": [
       "NodeView((3, 'M-1', 'I-0', 'M-0', 1, 2, 0, 4))"
      ]
     },
     "execution_count": 58,
     "metadata": {},
     "output_type": "execute_result"
    }
   ],
   "source": [
    "m_sel = [np.array([0,1])]\n",
    "q_code = np.array([1, 0, 0, 0, 1])\n",
    "\n",
    "\n",
    "g =  build_diagram(m_list, m_sel, q_code, g=None, prune=True)\n",
    "g.nodes()"
   ]
  },
  {
   "cell_type": "code",
   "execution_count": 60,
   "metadata": {},
   "outputs": [
    {
     "data": {
      "text/plain": [
       "[2, 1, 'I-0', 'M-0', 3, 'M-1', 4, 0]"
      ]
     },
     "execution_count": 60,
     "metadata": {},
     "output_type": "execute_result"
    }
   ],
   "source": [
    "list(nx.topological_sort(g))"
   ]
  },
  {
   "cell_type": "markdown",
   "metadata": {},
   "source": [
    "Change inputs in dask is still absolutely crucial. But this network way of viewing ML as a whole could be a very, very cool idea. Especially if you want the problem to be treated recursively. Please persist in your efforts. In the end, the idea would be to do ML on an unprecendented scale, decentralized yet coordinated."
   ]
  },
  {
   "cell_type": "markdown",
   "metadata": {},
   "source": [
    "# Inference"
   ]
  },
  {
   "cell_type": "code",
   "execution_count": null,
   "metadata": {},
   "outputs": [],
   "source": []
  }
 ],
 "metadata": {
  "kernelspec": {
   "display_name": "mercs",
   "language": "python",
   "name": "mercs"
  },
  "language_info": {
   "codemirror_mode": {
    "name": "ipython",
    "version": 3
   },
   "file_extension": ".py",
   "mimetype": "text/x-python",
   "name": "python",
   "nbconvert_exporter": "python",
   "pygments_lexer": "ipython3",
   "version": "3.7.4"
  }
 },
 "nbformat": 4,
 "nbformat_minor": 4
}
