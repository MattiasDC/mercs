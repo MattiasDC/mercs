{
 "cells": [
  {
   "cell_type": "markdown",
   "metadata": {},
   "source": [
    "# Inference Algorithm"
   ]
  },
  {
   "cell_type": "code",
   "execution_count": null,
   "metadata": {},
   "outputs": [],
   "source": []
  },
  {
   "cell_type": "code",
   "execution_count": 9,
   "metadata": {},
   "outputs": [],
   "source": [
    "import numpy as np\n",
    "import networkx as nx\n",
    "from dask import delayed\n",
    "\n",
    "from mercs.composition import o"
   ]
  },
  {
   "cell_type": "markdown",
   "metadata": {},
   "source": [
    "# Setup"
   ]
  },
  {
   "cell_type": "code",
   "execution_count": 23,
   "metadata": {},
   "outputs": [],
   "source": [
    "check = lambda k,n: k=='D'"
   ]
  },
  {
   "cell_type": "code",
   "execution_count": 28,
   "metadata": {},
   "outputs": [],
   "source": [
    "dataset='iris'\n",
    "kind='train'\n",
    "separator='-'\n",
    "extension='csv'"
   ]
  },
  {
   "cell_type": "code",
   "execution_count": 32,
   "metadata": {},
   "outputs": [
    {
     "data": {
      "text/plain": [
       "'iris-train.csv'"
      ]
     },
     "execution_count": 32,
     "metadata": {},
     "output_type": "execute_result"
    }
   ],
   "source": [
    "filename = separator.join([dataset, kind])+\".{}\".format(extension)\n",
    "filename"
   ]
  },
  {
   "cell_type": "code",
   "execution_count": 20,
   "metadata": {},
   "outputs": [],
   "source": [
    "a = np.ndarray([1,2,3])"
   ]
  },
  {
   "cell_type": "code",
   "execution_count": 22,
   "metadata": {},
   "outputs": [
    {
     "data": {
      "text/plain": [
       "['T',\n",
       " '__abs__',\n",
       " '__add__',\n",
       " '__and__',\n",
       " '__array__',\n",
       " '__array_finalize__',\n",
       " '__array_function__',\n",
       " '__array_interface__',\n",
       " '__array_prepare__',\n",
       " '__array_priority__',\n",
       " '__array_struct__',\n",
       " '__array_ufunc__',\n",
       " '__array_wrap__',\n",
       " '__bool__',\n",
       " '__class__',\n",
       " '__complex__',\n",
       " '__contains__',\n",
       " '__copy__',\n",
       " '__deepcopy__',\n",
       " '__delattr__',\n",
       " '__delitem__',\n",
       " '__dir__',\n",
       " '__divmod__',\n",
       " '__doc__',\n",
       " '__eq__',\n",
       " '__float__',\n",
       " '__floordiv__',\n",
       " '__format__',\n",
       " '__ge__',\n",
       " '__getattribute__',\n",
       " '__getitem__',\n",
       " '__gt__',\n",
       " '__hash__',\n",
       " '__iadd__',\n",
       " '__iand__',\n",
       " '__ifloordiv__',\n",
       " '__ilshift__',\n",
       " '__imatmul__',\n",
       " '__imod__',\n",
       " '__imul__',\n",
       " '__index__',\n",
       " '__init__',\n",
       " '__init_subclass__',\n",
       " '__int__',\n",
       " '__invert__',\n",
       " '__ior__',\n",
       " '__ipow__',\n",
       " '__irshift__',\n",
       " '__isub__',\n",
       " '__iter__',\n",
       " '__itruediv__',\n",
       " '__ixor__',\n",
       " '__le__',\n",
       " '__len__',\n",
       " '__lshift__',\n",
       " '__lt__',\n",
       " '__matmul__',\n",
       " '__mod__',\n",
       " '__mul__',\n",
       " '__ne__',\n",
       " '__neg__',\n",
       " '__new__',\n",
       " '__or__',\n",
       " '__pos__',\n",
       " '__pow__',\n",
       " '__radd__',\n",
       " '__rand__',\n",
       " '__rdivmod__',\n",
       " '__reduce__',\n",
       " '__reduce_ex__',\n",
       " '__repr__',\n",
       " '__rfloordiv__',\n",
       " '__rlshift__',\n",
       " '__rmatmul__',\n",
       " '__rmod__',\n",
       " '__rmul__',\n",
       " '__ror__',\n",
       " '__rpow__',\n",
       " '__rrshift__',\n",
       " '__rshift__',\n",
       " '__rsub__',\n",
       " '__rtruediv__',\n",
       " '__rxor__',\n",
       " '__setattr__',\n",
       " '__setitem__',\n",
       " '__setstate__',\n",
       " '__sizeof__',\n",
       " '__str__',\n",
       " '__sub__',\n",
       " '__subclasshook__',\n",
       " '__truediv__',\n",
       " '__xor__',\n",
       " 'all',\n",
       " 'any',\n",
       " 'argmax',\n",
       " 'argmin',\n",
       " 'argpartition',\n",
       " 'argsort',\n",
       " 'astype',\n",
       " 'base',\n",
       " 'byteswap',\n",
       " 'choose',\n",
       " 'clip',\n",
       " 'compress',\n",
       " 'conj',\n",
       " 'conjugate',\n",
       " 'copy',\n",
       " 'ctypes',\n",
       " 'cumprod',\n",
       " 'cumsum',\n",
       " 'data',\n",
       " 'diagonal',\n",
       " 'dot',\n",
       " 'dtype',\n",
       " 'dump',\n",
       " 'dumps',\n",
       " 'fill',\n",
       " 'flags',\n",
       " 'flat',\n",
       " 'flatten',\n",
       " 'getfield',\n",
       " 'imag',\n",
       " 'item',\n",
       " 'itemset',\n",
       " 'itemsize',\n",
       " 'max',\n",
       " 'mean',\n",
       " 'min',\n",
       " 'nbytes',\n",
       " 'ndim',\n",
       " 'newbyteorder',\n",
       " 'nonzero',\n",
       " 'partition',\n",
       " 'prod',\n",
       " 'ptp',\n",
       " 'put',\n",
       " 'ravel',\n",
       " 'real',\n",
       " 'repeat',\n",
       " 'reshape',\n",
       " 'resize',\n",
       " 'round',\n",
       " 'searchsorted',\n",
       " 'setfield',\n",
       " 'setflags',\n",
       " 'shape',\n",
       " 'size',\n",
       " 'sort',\n",
       " 'squeeze',\n",
       " 'std',\n",
       " 'strides',\n",
       " 'sum',\n",
       " 'swapaxes',\n",
       " 'take',\n",
       " 'tobytes',\n",
       " 'tofile',\n",
       " 'tolist',\n",
       " 'tostring',\n",
       " 'trace',\n",
       " 'transpose',\n",
       " 'var',\n",
       " 'view']"
      ]
     },
     "execution_count": 22,
     "metadata": {},
     "output_type": "execute_result"
    }
   ],
   "source": [
    "dir(a)"
   ]
  },
  {
   "cell_type": "code",
   "execution_count": null,
   "metadata": {},
   "outputs": [],
   "source": []
  },
  {
   "cell_type": "code",
   "execution_count": null,
   "metadata": {},
   "outputs": [],
   "source": []
  },
  {
   "cell_type": "markdown",
   "metadata": {},
   "source": [
    "# Function"
   ]
  },
  {
   "cell_type": "code",
   "execution_count": 99,
   "metadata": {},
   "outputs": [],
   "source": [
    "def inference_algorithm(g, data):\n",
    "\n",
    "    data_node = lambda x: isinstance(x, int)\n",
    "    model_node = lambda x: x.startswith(\"M\")\n",
    "    imputation_node = lambda x: x.startswith(\"I\")\n",
    "\n",
    "    nodes = list(nx.topological_sort(g))\n",
    "\n",
    "    g_desc_ids = list(g.desc_ids)\n",
    "\n",
    "    for n in nodes:\n",
    "        if data_node(n):\n",
    "            if g.in_degree(n) == 0:\n",
    "                dask_input_data_node(g, n, g_desc_ids, data)\n",
    "            elif g.in_degree(n) == 1:\n",
    "                dask_single_data_node(g, n, m_list)\n",
    "            elif g.in_degree(n) > 1:\n",
    "                if n[1] in nominal_ids:\n",
    "                    dask_nominal_data_node(g, n, m_list)\n",
    "                else:\n",
    "                    dask_numeric_data_node(g, n, m_list)\n",
    "        elif model_node(n):\n",
    "            f[n] = dask_model_node(g, n)\n",
    "        elif imputation_node(n):\n",
    "            f[n] = dask_imputation_node(g, n)\n",
    "        else:\n",
    "            raise ValueError(\"Did not recognize node kind of {}\".format(node_name))\n",
    "\n",
    "    return\n",
    "\n",
    "\n",
    "def dask_input_data_node(g, node, g_desc_ids, data):\n",
    "    g.node[node][\"dask\"] = delayed(_select_numeric(g_desc_ids.index(idx)))(data)\n",
    "    return\n",
    "\n",
    "\n",
    "def dask_model_node(g, node, m_list):\n",
    "    # Collect input data\n",
    "    parent_functions = _get_parents_of_model_node(g, node)\n",
    "    collector = delayed(np.stack)(parent_functions, axis=1)\n",
    "\n",
    "    # Convert function\n",
    "    g.node[node][\"dask\"] = delayed(m_list[node[1]].predict)(collector)\n",
    "\n",
    "    if hasattr(m_list[node[1]], \"predict_proba\"):\n",
    "        g.node[node][\"dask_proba\"] = delayed(node[\"predict_proba\"])(collector)\n",
    "\n",
    "    return\n",
    "\n",
    "\n",
    "def dask_imputation_node(g, node, i_list, nb_rows):\n",
    "\n",
    "    f1 = _dummy_array\n",
    "    f2 = i_list[node[1]].transform\n",
    "    f = o(f2, f1)\n",
    "\n",
    "    g.node[node][\"dask\"] = delayed(f)(nb_rows)\n",
    "    return\n",
    "\n",
    "\n",
    "def dask_single_data_node(g, node, m_list):\n",
    "    # Single output to recover from model, I do not have to merge or anything.\n",
    "    idx, parent_functions = _get_parents_of_numeric_data_node(g, m_list, node)[0]\n",
    "    g.node[node][\"dask\"] = delayed(_select_numeric(idx))(parent_functions)\n",
    "    return\n",
    "\n",
    "\n",
    "def dask_nominal_data_node(g, node, m_list):\n",
    "    idx_cls_fnc = _get_parents_of_nominal_data_node(g, m_list, node)\n",
    "    classes = np.unique(np.hstack([c for _, c, _ in idx_cls_fnc]))\n",
    "\n",
    "    # Reduce\n",
    "    parent_functions = []\n",
    "    for idx, c, fnc in idx_cls_fnc:\n",
    "        f1 = delayed(_select_nominal(idx))(fnc)\n",
    "        if len(c) < len(classes):\n",
    "            f2 = delayed(_pad_proba(c, classes))(f1)\n",
    "            parent_functions.append(f2)\n",
    "        else:\n",
    "            parent_functions.append(f1)\n",
    "\n",
    "    f3 = delayed(partial(np.sum, axis=0))(parent_functions)\n",
    "\n",
    "    # Vote\n",
    "    def vote(X):\n",
    "        return classes.take(np.argmax(X, axis=1), axis=0)\n",
    "\n",
    "    g.node[node][\"dask\"] = delayed(vote)(f3)\n",
    "    return\n",
    "\n",
    "\n",
    "def dask_numeric_data_node(g, node, m_list):\n",
    "    idx_fnc = _get_parents_of_numeric_data_node(g, m_list, node)\n",
    "\n",
    "    parent_functions = [delayed(_select_numeric(idx))(fnc) for idx, fnc in idx_fnc]\n",
    "    g.node[node][\"dask\"] = delayed(partial(np.mean, axis=0))(parent_functions)\n",
    "    return"
   ]
  },
  {
   "cell_type": "code",
   "execution_count": 8,
   "metadata": {},
   "outputs": [],
   "source": [
    "def _get_parents_of_model_node(g, node):\n",
    "    parent_functions = {a: g.nodes[(m, a)][\"dask\"] for m, a in g.predecessors(node)}\n",
    "    parent_functions = [v for k, v in sorted(parent_functions.items())]\n",
    "    return parent_functions\n",
    "\n",
    "\n",
    "def _get_parents_of_numeric_data_node(g, m_list, node):\n",
    "\n",
    "    rel_idx = lambda p_idx, n_idx: list(m_list[p_idx].targ_ids).index(n_idx)\n",
    "\n",
    "    parents = [(m, p_idx) for m, p_idx in g.predecessors(node)]\n",
    "\n",
    "    idx_fnc = [\n",
    "        (rel_idx(p_idx, node[1]), g.node[(m, p_idx)][\"dask\"]) for m, p_idx in parents\n",
    "    ]\n",
    "\n",
    "    return idx_fnc\n",
    "\n",
    "\n",
    "def _get_parents_of_nominal_data_node(g, m_list, node):\n",
    "    rel_idx = lambda p_idx, n_idx: list(m_list[p_idx].targ_ids).index(n_idx)\n",
    "    classes = lambda p_idx, r_idx: m_list[p_idx].classes_[r_idx]\n",
    "\n",
    "    parents = [(m, p_idx) for m, p_idx in g.predecessors(node)]\n",
    "\n",
    "    idx_fnc = [\n",
    "        (rel_idx(p_idx, node[1]), p_idx, g.node[(m, p_idx)][\"dask\"])\n",
    "        for m, p_idx in parents\n",
    "    ]\n",
    "    idx_cls_fnc = [(r_idx, classes(p_idx, r_idx), f) for r_idx, p_idx, f in idx_cls_fnc]\n",
    "\n",
    "    return idx_cls_fnc\n",
    "\n",
    "\n",
    "def _dummy_array(nb_rows):\n",
    "    a = np.empty((nb_rows, 1))\n",
    "    a.fill(np.nan)\n",
    "    return a"
   ]
  },
  {
   "cell_type": "code",
   "execution_count": 3,
   "metadata": {},
   "outputs": [
    {
     "data": {
      "text/plain": [
       "5"
      ]
     },
     "execution_count": 3,
     "metadata": {},
     "output_type": "execute_result"
    }
   ],
   "source": [
    "a = lambda x,y: x+y\n",
    "a(3,2)"
   ]
  },
  {
   "cell_type": "code",
   "execution_count": 51,
   "metadata": {},
   "outputs": [
    {
     "name": "stdout",
     "output_type": "stream",
     "text": [
      "1.1 ms ± 1.84 µs per loop (mean ± std. dev. of 7 runs, 1000 loops each)\n"
     ]
    }
   ],
   "source": [
    "%%timeit\n",
    "n_rows =10**6\n",
    "a = np.empty((n_rows,1))\n",
    "a[:]=np.nan\n",
    "#a = a.reshape(-1,1)"
   ]
  },
  {
   "cell_type": "code",
   "execution_count": null,
   "metadata": {},
   "outputs": [],
   "source": []
  },
  {
   "cell_type": "code",
   "execution_count": null,
   "metadata": {},
   "outputs": [],
   "source": []
  },
  {
   "cell_type": "code",
   "execution_count": null,
   "metadata": {},
   "outputs": [],
   "source": []
  },
  {
   "cell_type": "code",
   "execution_count": null,
   "metadata": {},
   "outputs": [],
   "source": []
  },
  {
   "cell_type": "code",
   "execution_count": 46,
   "metadata": {},
   "outputs": [
    {
     "name": "stdout",
     "output_type": "stream",
     "text": [
      "1.11 ms ± 2.01 µs per loop (mean ± std. dev. of 7 runs, 1000 loops each)\n"
     ]
    }
   ],
   "source": [
    "%%timeit\n",
    "n_rows =10**6\n",
    "a=np.full((n_rows, 1), np.nan)"
   ]
  },
  {
   "cell_type": "code",
   "execution_count": null,
   "metadata": {},
   "outputs": [],
   "source": []
  },
  {
   "cell_type": "code",
   "execution_count": 45,
   "metadata": {},
   "outputs": [
    {
     "data": {
      "text/plain": [
       "array([[nan],\n",
       "       [nan],\n",
       "       [nan],\n",
       "       ...,\n",
       "       [nan],\n",
       "       [nan],\n",
       "       [nan]])"
      ]
     },
     "execution_count": 45,
     "metadata": {},
     "output_type": "execute_result"
    }
   ],
   "source": []
  },
  {
   "cell_type": "code",
   "execution_count": null,
   "metadata": {},
   "outputs": [],
   "source": []
  },
  {
   "cell_type": "code",
   "execution_count": null,
   "metadata": {},
   "outputs": [],
   "source": []
  },
  {
   "cell_type": "code",
   "execution_count": 19,
   "metadata": {},
   "outputs": [],
   "source": [
    "# Helpers\n",
    "def _select_numeric(idx):\n",
    "    def select(X):\n",
    "        if a.ndim > 1:\n",
    "            return X[:, idx]\n",
    "        else:\n",
    "            return X\n",
    "\n",
    "    return select"
   ]
  },
  {
   "cell_type": "code",
   "execution_count": 25,
   "metadata": {},
   "outputs": [],
   "source": [
    "d = {300: 'd', 0: 'a', 1:'c'}"
   ]
  },
  {
   "cell_type": "code",
   "execution_count": 36,
   "metadata": {},
   "outputs": [
    {
     "data": {
      "text/plain": [
       "[(0, 'a'), (1, 'c'), (300, 'd')]"
      ]
     },
     "execution_count": 36,
     "metadata": {},
     "output_type": "execute_result"
    }
   ],
   "source": [
    "sorted(d.items())"
   ]
  },
  {
   "cell_type": "code",
   "execution_count": 31,
   "metadata": {},
   "outputs": [
    {
     "ename": "SyntaxError",
     "evalue": "invalid syntax (<ipython-input-31-c88aced58bb6>, line 1)",
     "output_type": "error",
     "traceback": [
      "\u001b[0;36m  File \u001b[0;32m\"<ipython-input-31-c88aced58bb6>\"\u001b[0;36m, line \u001b[0;32m1\u001b[0m\n\u001b[0;31m    **d\u001b[0m\n\u001b[0m     ^\u001b[0m\n\u001b[0;31mSyntaxError\u001b[0m\u001b[0;31m:\u001b[0m invalid syntax\n"
     ]
    }
   ],
   "source": []
  },
  {
   "cell_type": "code",
   "execution_count": 16,
   "metadata": {},
   "outputs": [],
   "source": []
  },
  {
   "cell_type": "code",
   "execution_count": null,
   "metadata": {},
   "outputs": [],
   "source": []
  },
  {
   "cell_type": "code",
   "execution_count": null,
   "metadata": {},
   "outputs": [],
   "source": []
  },
  {
   "cell_type": "code",
   "execution_count": null,
   "metadata": {},
   "outputs": [],
   "source": [
    "actions = dict()"
   ]
  },
  {
   "cell_type": "code",
   "execution_count": null,
   "metadata": {},
   "outputs": [],
   "source": []
  },
  {
   "cell_type": "code",
   "execution_count": 8,
   "metadata": {},
   "outputs": [],
   "source": [
    "NODE_KINDS = dict(\n",
    "I=\"imputation\",\n",
    "M=\"model\",)"
   ]
  },
  {
   "cell_type": "code",
   "execution_count": null,
   "metadata": {},
   "outputs": [],
   "source": []
  },
  {
   "cell_type": "markdown",
   "metadata": {},
   "source": [
    "# Test"
   ]
  },
  {
   "cell_type": "code",
   "execution_count": null,
   "metadata": {},
   "outputs": [],
   "source": []
  }
 ],
 "metadata": {
  "kernelspec": {
   "display_name": "mercs",
   "language": "python",
   "name": "mercs"
  },
  "language_info": {
   "codemirror_mode": {
    "name": "ipython",
    "version": 3
   },
   "file_extension": ".py",
   "mimetype": "text/x-python",
   "name": "python",
   "nbconvert_exporter": "python",
   "pygments_lexer": "ipython3",
   "version": "3.7.4"
  }
 },
 "nbformat": 4,
 "nbformat_minor": 4
}
