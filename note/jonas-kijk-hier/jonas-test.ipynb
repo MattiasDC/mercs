{
 "cells": [
  {
   "cell_type": "markdown",
   "metadata": {
    "Collapsed": "false"
   },
   "source": [
    "# Basic MERCS"
   ]
  },
  {
   "cell_type": "markdown",
   "metadata": {
    "Collapsed": "false"
   },
   "source": [
    "## Imports etc"
   ]
  },
  {
   "cell_type": "code",
   "execution_count": 1,
   "metadata": {
    "Collapsed": "false"
   },
   "outputs": [],
   "source": [
    "import mercs\n",
    "import numpy as np\n",
    "from mercs.tests import load_iris, default_dataset\n",
    "from mercs.core import Mercs"
   ]
  },
  {
   "cell_type": "markdown",
   "metadata": {
    "Collapsed": "false"
   },
   "source": [
    "## Testdrive\n",
    "\n",
    "Here a small MERCS testdrive for what I suppose you'll need. First, let us generate a basic dataset. Some utility-functions are integrated in MERCS so that goes like this"
   ]
  },
  {
   "cell_type": "code",
   "execution_count": 2,
   "metadata": {
    "Collapsed": "false"
   },
   "outputs": [
    {
     "data": {
      "text/plain": [
       "array([[-1.32215078, -0.79095656,  0.51626038, -0.48405183,  1.        ],\n",
       "       [-1.81333888,  0.62979917,  0.97189032,  1.93749521,  1.        ],\n",
       "       [-0.86602753, -0.7458731 ,  0.34843253, -1.04698596,  1.        ],\n",
       "       [-0.4310274 , -0.19616028, -2.8226608 , -1.44558936,  0.        ],\n",
       "       [-2.51221012, -3.31467898,  4.22965537,  0.14797735,  0.        ],\n",
       "       [-0.03665064,  0.07566481,  2.15518439,  1.21783179,  0.        ],\n",
       "       [-1.12285279, -1.20080724,  0.60774537, -0.17858784,  0.        ],\n",
       "       [-1.12416734, -1.02493785, -1.05914756, -1.90971485,  0.        ],\n",
       "       [-1.2152382 , -2.86791935,  1.10903289, -3.02430913,  1.        ],\n",
       "       [-0.3775988 , -0.7107917 , -0.73213335, -2.3530741 ,  0.        ],\n",
       "       [ 0.12210504,  0.44135258,  2.26863961, -0.08306471,  0.        ],\n",
       "       [ 0.5373043 , -0.2780344 ,  2.43787375,  2.68441233,  0.        ],\n",
       "       [ 1.47020219, -0.46290396, -2.32769304,  1.26565925,  1.        ],\n",
       "       [ 1.14584153, -0.09836175, -2.06298865,  2.47742251,  1.        ],\n",
       "       [-0.49319527,  2.34222823,  1.08518984,  1.8631808 ,  1.        ],\n",
       "       [-1.35083251,  0.08519989,  0.55188636, -0.17132777,  0.        ],\n",
       "       [-1.31578006, -2.4124212 ,  1.07133708, -2.31703991,  1.        ],\n",
       "       [-0.32742585, -0.20186463,  1.07377589, -0.28283357,  1.        ],\n",
       "       [-0.08899953,  0.37123321, -1.35779252,  1.26150277,  1.        ],\n",
       "       [-1.77134206, -1.96791996,  0.59301804, -0.77357532,  0.        ]])"
      ]
     },
     "execution_count": 2,
     "metadata": {},
     "output_type": "execute_result"
    }
   ],
   "source": [
    "train, test = default_dataset(n_features=4 * 10 ** 0)\n",
    "train[:20]"
   ]
  },
  {
   "cell_type": "markdown",
   "metadata": {
    "Collapsed": "false"
   },
   "source": [
    "Now let's train a MERCS model. To know what options you have, come talk to me or dig in the code. For induction, `nb_targets` and `nb_iterations` matter most. Number of targets speaks for itself, number of iterations manages the amount of trees _for each target_. With `n_jobs` you can do multi-core learning (with joblib, really basic, but works fine on single machine), that makes stuff faster. `fraction_missing` sets the amount of attributes that is missing for a tree. However, this parameter only has an effect if you use the `random` selection algorithm. The alternative is the `base` algorithm, which selects targets, and uses all the rest as input."
   ]
  },
  {
   "cell_type": "code",
   "execution_count": 3,
   "metadata": {
    "Collapsed": "false"
   },
   "outputs": [],
   "source": [
    "clf = Mercs(\n",
    "    max_depth=4,\n",
    "    selection_algorithm=\"random\",\n",
    "    fraction_missing=0.6,\n",
    "    nb_targets=2,\n",
    "    nb_iterations=2,\n",
    "    n_jobs=8,\n",
    "    verbose=1,\n",
    "    inference_algorithm=\"dask\",\n",
    "    max_steps=8,\n",
    "    prediction_algorithm=\"it\",\n",
    ")"
   ]
  },
  {
   "cell_type": "markdown",
   "metadata": {
    "Collapsed": "false"
   },
   "source": [
    "You have to specify the nominal attributes yourself. This determines whether a regressor or a classifier is learned for that target. MERCS takes care of grouping targets such that no mixed sets are created."
   ]
  },
  {
   "cell_type": "code",
   "execution_count": 4,
   "metadata": {
    "Collapsed": "false"
   },
   "outputs": [
    {
     "data": {
      "text/plain": [
       "{4}"
      ]
     },
     "execution_count": 4,
     "metadata": {},
     "output_type": "execute_result"
    }
   ],
   "source": [
    "nominal_ids = {train.shape[1]-1}\n",
    "nominal_ids"
   ]
  },
  {
   "cell_type": "code",
   "execution_count": 5,
   "metadata": {
    "Collapsed": "false"
   },
   "outputs": [
    {
     "name": "stderr",
     "output_type": "stream",
     "text": [
      "/cw/dtaijupiter/NoCsBack/dtai/elia/mercs/src/mercs/algo/induction.py:185: UserWarning: Training is being parallellized using Joblib. Number of jobs = 8\n",
      "  warnings.warn(msg)\n",
      "[Parallel(n_jobs=8)]: Using backend LokyBackend with 8 concurrent workers.\n",
      "[Parallel(n_jobs=8)]: Done   6 out of   6 | elapsed:    2.2s finished\n",
      "/cw/dtaijupiter/NoCsBack/dtai/elia/miniconda/envs/rwrf/lib/python3.7/site-packages/sklearn/metrics/classification.py:1437: UndefinedMetricWarning: F-score is ill-defined and being set to 0.0 in labels with no predicted samples.\n",
      "  'precision', 'predicted', average, warn_for)\n"
     ]
    }
   ],
   "source": [
    "clf.fit(train, nominal_attributes=nominal_ids)"
   ]
  },
  {
   "cell_type": "markdown",
   "metadata": {
    "Collapsed": "false"
   },
   "source": [
    "So, now we have learned trees with two targets, but only a single target was nominal. If MERCS worked well, it should have learned single-target classifiers (for attribute 4) and multi-target regressors for all other target sets."
   ]
  },
  {
   "cell_type": "code",
   "execution_count": 6,
   "metadata": {
    "Collapsed": "false"
   },
   "outputs": [
    {
     "data": {
      "text/plain": [
       "[<mercs.composition.CanonicalModel.CanonicalModel at 0x7f3c1697f9d0>,\n",
       " <mercs.composition.CanonicalModel.CanonicalModel at 0x7f3c1697f710>,\n",
       " <mercs.composition.CanonicalModel.CanonicalModel at 0x7f3c1697f290>,\n",
       " <mercs.composition.CanonicalModel.CanonicalModel at 0x7f3c169ed810>,\n",
       " <mercs.composition.CanonicalModel.CanonicalModel at 0x7f3c22066b10>,\n",
       " <mercs.composition.CanonicalModel.CanonicalModel at 0x7f3c169fb310>]"
      ]
     },
     "execution_count": 6,
     "metadata": {},
     "output_type": "execute_result"
    }
   ],
   "source": [
    "clf.m_list"
   ]
  },
  {
   "cell_type": "markdown",
   "metadata": {
    "Collapsed": "false"
   },
   "source": [
    "So, that looks good already. Let's examine up close."
   ]
  },
  {
   "cell_type": "code",
   "execution_count": 7,
   "metadata": {
    "Collapsed": "false"
   },
   "outputs": [
    {
     "data": {
      "text/plain": [
       "array([[-1,  0,  0, -1,  1],\n",
       "       [-1, -1,  0,  0,  1],\n",
       "       [ 1,  0,  1,  0, -1],\n",
       "       [-1,  1, -1,  1,  0],\n",
       "       [ 1,  0,  1,  0,  0],\n",
       "       [-1,  1,  0,  1, -1]])"
      ]
     },
     "execution_count": 7,
     "metadata": {},
     "output_type": "execute_result"
    }
   ],
   "source": [
    "clf.m_codes"
   ]
  },
  {
   "cell_type": "markdown",
   "metadata": {
    "Collapsed": "false"
   },
   "source": [
    "That's the matrix that summarizes everything. This can be dense to parse, and there's alternatives to gain insights, for instance;"
   ]
  },
  {
   "cell_type": "code",
   "execution_count": 8,
   "metadata": {
    "Collapsed": "false"
   },
   "outputs": [
    {
     "name": "stdout",
     "output_type": "stream",
     "text": [
      "\n",
      "    Tree with id:          0\n",
      "    has source attributes: [1, 2]\n",
      "    has target attributes: [4],\n",
      "    and predicts nominal attributes\n",
      "    \n",
      "\n",
      "    Tree with id:          1\n",
      "    has source attributes: [2, 3]\n",
      "    has target attributes: [4],\n",
      "    and predicts nominal attributes\n",
      "    \n",
      "\n",
      "    Tree with id:          2\n",
      "    has source attributes: [1, 3]\n",
      "    has target attributes: [0, 2],\n",
      "    and predicts numeric attributes\n",
      "    \n",
      "\n",
      "    Tree with id:          3\n",
      "    has source attributes: [4]\n",
      "    has target attributes: [1, 3],\n",
      "    and predicts numeric attributes\n",
      "    \n",
      "\n",
      "    Tree with id:          4\n",
      "    has source attributes: [1, 3, 4]\n",
      "    has target attributes: [0, 2],\n",
      "    and predicts numeric attributes\n",
      "    \n",
      "\n",
      "    Tree with id:          5\n",
      "    has source attributes: [2]\n",
      "    has target attributes: [1, 3],\n",
      "    and predicts numeric attributes\n",
      "    \n"
     ]
    }
   ],
   "source": [
    "for m_idx, m in enumerate(clf.m_list):\n",
    "    msg = \"\"\"\n",
    "    Tree with id:          {}\n",
    "    has source attributes: {}\n",
    "    has target attributes: {},\n",
    "    and predicts {} attributes\n",
    "    \"\"\".format(m_idx, m.desc_ids, m.targ_ids, m.out_kind)\n",
    "    print(msg)"
   ]
  },
  {
   "cell_type": "code",
   "execution_count": null,
   "metadata": {
    "Collapsed": "false"
   },
   "outputs": [],
   "source": []
  },
  {
   "cell_type": "markdown",
   "metadata": {
    "Collapsed": "false"
   },
   "source": [
    "And that concludes my quick tour of MERCS learns this stuff. Let me know if it does not behave as it should."
   ]
  },
  {
   "cell_type": "markdown",
   "metadata": {
    "Collapsed": "false"
   },
   "source": [
    "# Prediction\n",
    "\n",
    "First, we generate a query."
   ]
  },
  {
   "cell_type": "code",
   "execution_count": 9,
   "metadata": {
    "Collapsed": "false"
   },
   "outputs": [
    {
     "data": {
      "text/plain": [
       "array([0., 0., 0., 1., 1., 1., 1., 0., 1., 0.])"
      ]
     },
     "execution_count": 9,
     "metadata": {},
     "output_type": "execute_result"
    }
   ],
   "source": [
    "# Single target\n",
    "q_code=np.zeros(clf.m_codes[0].shape[0], dtype=int)\n",
    "q_code[-1:] = 1\n",
    "q_code\n",
    "\n",
    "y_pred = clf.predict(test, q_code=q_code)\n",
    "y_pred[:10]"
   ]
  },
  {
   "cell_type": "code",
   "execution_count": 10,
   "metadata": {
    "Collapsed": "false"
   },
   "outputs": [
    {
     "data": {
      "text/plain": [
       "array([[ 0.06746825,  0.        ],\n",
       "       [-0.57445471,  1.        ],\n",
       "       [ 1.58481446,  0.        ],\n",
       "       [-0.57445471,  1.        ],\n",
       "       [-0.20623665,  0.        ],\n",
       "       [-0.20623665,  0.        ],\n",
       "       [-0.57445471,  1.        ],\n",
       "       [ 1.58481446,  0.        ],\n",
       "       [ 0.06746825,  1.        ],\n",
       "       [-0.20623665,  0.        ]])"
      ]
     },
     "execution_count": 10,
     "metadata": {},
     "output_type": "execute_result"
    }
   ],
   "source": [
    "# Multi-target\n",
    "q_code=np.zeros(clf.m_codes[0].shape[0], dtype=int)\n",
    "q_code[-2:] = 1\n",
    "q_code\n",
    "\n",
    "y_pred = clf.predict(test, q_code=q_code)\n",
    "y_pred[:10]"
   ]
  },
  {
   "cell_type": "code",
   "execution_count": 11,
   "metadata": {
    "Collapsed": "false"
   },
   "outputs": [
    {
     "name": "stdout",
     "output_type": "stream",
     "text": [
      "[-1  0  0  0  1]\n"
     ]
    },
    {
     "data": {
      "text/plain": [
       "array([0., 0., 0., 0., 1., 1., 1., 1., 0., 0.])"
      ]
     },
     "execution_count": 11,
     "metadata": {},
     "output_type": "execute_result"
    }
   ],
   "source": [
    "# Missing attributes\n",
    "q_code=np.zeros(clf.m_codes[0].shape[0], dtype=int)\n",
    "q_code[-1:] = 1\n",
    "q_code[:1] = -1\n",
    "print(q_code)\n",
    "\n",
    "y_pred = clf.predict(test, q_code=q_code)\n",
    "y_pred[:10]"
   ]
  },
  {
   "cell_type": "code",
   "execution_count": 12,
   "metadata": {
    "Collapsed": "false"
   },
   "outputs": [
    {
     "data": {
      "image/svg+xml": [
       "<svg height=\"332pt\" viewBox=\"0.00 0.00 180.14 332.00\" width=\"180pt\" xmlns=\"http://www.w3.org/2000/svg\" xmlns:xlink=\"http://www.w3.org/1999/xlink\">\n",
       "<g class=\"graph\" id=\"graph0\" transform=\"scale(1 1) rotate(0) translate(4 328)\">\n",
       "<title>G</title>\n",
       "<polygon fill=\"white\" points=\"-4,4 -4,-328 176.144,-328 176.144,4 -4,4\" stroke=\"none\"/>\n",
       "<!-- (&#39;D&#39;, 1) -->\n",
       "<g class=\"node\" id=\"node1\"><title>('D', 1)</title>\n",
       "<ellipse cx=\"39.0467\" cy=\"-18\" fill=\"none\" rx=\"35.194\" ry=\"18\" stroke=\"black\"/>\n",
       "<text font-family=\"Times,serif\" font-size=\"14.00\" text-anchor=\"middle\" x=\"39.0467\" y=\"-14.3\">('D', 1)</text>\n",
       "</g>\n",
       "<!-- (&#39;M&#39;, 2) -->\n",
       "<g class=\"node\" id=\"node2\"><title>('M', 2)</title>\n",
       "<ellipse cx=\"83.0467\" cy=\"-90\" fill=\"none\" rx=\"37.0935\" ry=\"18\" stroke=\"black\"/>\n",
       "<text font-family=\"Times,serif\" font-size=\"14.00\" text-anchor=\"middle\" x=\"83.0467\" y=\"-86.3\">('M', 2)</text>\n",
       "</g>\n",
       "<!-- (&#39;D&#39;, 1)&#45;&gt;(&#39;M&#39;, 2) -->\n",
       "<g class=\"edge\" id=\"edge1\"><title>('D', 1)-&gt;('M', 2)</title>\n",
       "<path d=\"M49.2518,-35.2354C54.5616,-43.6828 61.1729,-54.2007 67.1362,-63.6878\" fill=\"none\" stroke=\"black\"/>\n",
       "<polygon fill=\"black\" points=\"64.3064,-65.7628 72.5914,-72.3666 70.2329,-62.0376 64.3064,-65.7628\" stroke=\"black\"/>\n",
       "</g>\n",
       "<!-- (&#39;M&#39;, 0) -->\n",
       "<g class=\"node\" id=\"node5\"><title>('M', 0)</title>\n",
       "<ellipse cx=\"37.0467\" cy=\"-234\" fill=\"none\" rx=\"37.0935\" ry=\"18\" stroke=\"black\"/>\n",
       "<text font-family=\"Times,serif\" font-size=\"14.00\" text-anchor=\"middle\" x=\"37.0467\" y=\"-230.3\">('M', 0)</text>\n",
       "</g>\n",
       "<!-- (&#39;D&#39;, 1)&#45;&gt;(&#39;M&#39;, 0) -->\n",
       "<g class=\"edge\" id=\"edge2\"><title>('D', 1)-&gt;('M', 0)</title>\n",
       "<path d=\"M38.2342,-36.1811C37.7847,-46.5515 37.2724,-60.0318 37.0467,-72 36.165,-118.748 36.4355,-173.145 36.729,-205.235\" fill=\"none\" stroke=\"black\"/>\n",
       "<polygon fill=\"black\" points=\"33.2328,-205.641 36.8319,-215.606 40.2324,-205.572 33.2328,-205.641\" stroke=\"black\"/>\n",
       "</g>\n",
       "<!-- (&#39;D&#39;, 2) -->\n",
       "<g class=\"node\" id=\"node4\"><title>('D', 2)</title>\n",
       "<ellipse cx=\"83.0467\" cy=\"-162\" fill=\"none\" rx=\"35.194\" ry=\"18\" stroke=\"black\"/>\n",
       "<text font-family=\"Times,serif\" font-size=\"14.00\" text-anchor=\"middle\" x=\"83.0467\" y=\"-158.3\">('D', 2)</text>\n",
       "</g>\n",
       "<!-- (&#39;M&#39;, 2)&#45;&gt;(&#39;D&#39;, 2) -->\n",
       "<g class=\"edge\" id=\"edge3\"><title>('M', 2)-&gt;('D', 2)</title>\n",
       "<path d=\"M83.0467,-108.303C83.0467,-116.017 83.0467,-125.288 83.0467,-133.888\" fill=\"none\" stroke=\"black\"/>\n",
       "<polygon fill=\"black\" points=\"79.5468,-133.896 83.0467,-143.896 86.5468,-133.896 79.5468,-133.896\" stroke=\"black\"/>\n",
       "</g>\n",
       "<!-- (&#39;D&#39;, 3) -->\n",
       "<g class=\"node\" id=\"node3\"><title>('D', 3)</title>\n",
       "<ellipse cx=\"137.047\" cy=\"-18\" fill=\"none\" rx=\"35.194\" ry=\"18\" stroke=\"black\"/>\n",
       "<text font-family=\"Times,serif\" font-size=\"14.00\" text-anchor=\"middle\" x=\"137.047\" y=\"-14.3\">('D', 3)</text>\n",
       "</g>\n",
       "<!-- (&#39;D&#39;, 3)&#45;&gt;(&#39;M&#39;, 2) -->\n",
       "<g class=\"edge\" id=\"edge4\"><title>('D', 3)-&gt;('M', 2)</title>\n",
       "<path d=\"M124.793,-34.8841C117.986,-43.708 109.375,-54.8702 101.745,-64.762\" fill=\"none\" stroke=\"black\"/>\n",
       "<polygon fill=\"black\" points=\"98.9632,-62.6373 95.6264,-72.693 104.506,-66.913 98.9632,-62.6373\" stroke=\"black\"/>\n",
       "</g>\n",
       "<!-- (&#39;M&#39;, 1) -->\n",
       "<g class=\"node\" id=\"node6\"><title>('M', 1)</title>\n",
       "<ellipse cx=\"129.047\" cy=\"-234\" fill=\"none\" rx=\"37.0935\" ry=\"18\" stroke=\"black\"/>\n",
       "<text font-family=\"Times,serif\" font-size=\"14.00\" text-anchor=\"middle\" x=\"129.047\" y=\"-230.3\">('M', 1)</text>\n",
       "</g>\n",
       "<!-- (&#39;D&#39;, 3)&#45;&gt;(&#39;M&#39;, 1) -->\n",
       "<g class=\"edge\" id=\"edge5\"><title>('D', 3)-&gt;('M', 1)</title>\n",
       "<path d=\"M136.406,-36.1508C135.022,-73.1683 131.745,-160.819 130.07,-205.614\" fill=\"none\" stroke=\"black\"/>\n",
       "<polygon fill=\"black\" points=\"126.567,-205.644 129.691,-215.768 133.562,-205.905 126.567,-205.644\" stroke=\"black\"/>\n",
       "</g>\n",
       "<!-- (&#39;D&#39;, 2)&#45;&gt;(&#39;M&#39;, 0) -->\n",
       "<g class=\"edge\" id=\"edge6\"><title>('D', 2)-&gt;('M', 0)</title>\n",
       "<path d=\"M72.3778,-179.235C66.7694,-187.77 59.7722,-198.418 53.4878,-207.981\" fill=\"none\" stroke=\"black\"/>\n",
       "<polygon fill=\"black\" points=\"50.5441,-206.087 47.9772,-216.367 56.394,-209.932 50.5441,-206.087\" stroke=\"black\"/>\n",
       "</g>\n",
       "<!-- (&#39;D&#39;, 2)&#45;&gt;(&#39;M&#39;, 1) -->\n",
       "<g class=\"edge\" id=\"edge7\"><title>('D', 2)-&gt;('M', 1)</title>\n",
       "<path d=\"M93.7157,-179.235C99.3241,-187.77 106.321,-198.418 112.606,-207.981\" fill=\"none\" stroke=\"black\"/>\n",
       "<polygon fill=\"black\" points=\"109.699,-209.932 118.116,-216.367 115.549,-206.087 109.699,-209.932\" stroke=\"black\"/>\n",
       "</g>\n",
       "<!-- (&#39;D&#39;, 4) -->\n",
       "<g class=\"node\" id=\"node7\"><title>('D', 4)</title>\n",
       "<ellipse cx=\"83.0467\" cy=\"-306\" fill=\"none\" rx=\"35.194\" ry=\"18\" stroke=\"black\"/>\n",
       "<text font-family=\"Times,serif\" font-size=\"14.00\" text-anchor=\"middle\" x=\"83.0467\" y=\"-302.3\">('D', 4)</text>\n",
       "</g>\n",
       "<!-- (&#39;M&#39;, 0)&#45;&gt;(&#39;D&#39;, 4) -->\n",
       "<g class=\"edge\" id=\"edge8\"><title>('M', 0)-&gt;('D', 4)</title>\n",
       "<path d=\"M47.9481,-251.589C53.5049,-260.045 60.379,-270.506 66.5667,-279.922\" fill=\"none\" stroke=\"black\"/>\n",
       "<polygon fill=\"black\" points=\"63.8068,-282.095 72.2236,-288.53 69.6568,-278.251 63.8068,-282.095\" stroke=\"black\"/>\n",
       "</g>\n",
       "<!-- (&#39;M&#39;, 1)&#45;&gt;(&#39;D&#39;, 4) -->\n",
       "<g class=\"edge\" id=\"edge9\"><title>('M', 1)-&gt;('D', 4)</title>\n",
       "<path d=\"M118.145,-251.589C112.588,-260.045 105.714,-270.506 99.5267,-279.922\" fill=\"none\" stroke=\"black\"/>\n",
       "<polygon fill=\"black\" points=\"96.4367,-278.251 93.8698,-288.53 102.287,-282.095 96.4367,-278.251\" stroke=\"black\"/>\n",
       "</g>\n",
       "</g>\n",
       "</svg>"
      ],
      "text/plain": [
       "<IPython.core.display.SVG object>"
      ]
     },
     "metadata": {},
     "output_type": "display_data"
    }
   ],
   "source": [
    "clf.show_q_diagram()"
   ]
  },
  {
   "cell_type": "code",
   "execution_count": null,
   "metadata": {
    "Collapsed": "false"
   },
   "outputs": [],
   "source": []
  }
 ],
 "metadata": {
  "kernelspec": {
   "display_name": "j-rwrf",
   "language": "python",
   "name": "j-rwrf"
  },
  "language_info": {
   "codemirror_mode": {
    "name": "ipython",
    "version": 3
   },
   "file_extension": ".py",
   "mimetype": "text/x-python",
   "name": "python",
   "nbconvert_exporter": "python",
   "pygments_lexer": "ipython3",
   "version": "3.7.5"
  }
 },
 "nbformat": 4,
 "nbformat_minor": 4
}
