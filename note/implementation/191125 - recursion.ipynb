{
 "cells": [
  {
   "cell_type": "markdown",
   "metadata": {
    "Collapsed": "false"
   },
   "source": [
    "# Recursion\n",
    "\n"
   ]
  },
  {
   "cell_type": "markdown",
   "metadata": {
    "Collapsed": "false"
   },
   "source": [
    "## Imports"
   ]
  },
  {
   "cell_type": "code",
   "execution_count": 1,
   "metadata": {
    "Collapsed": "false"
   },
   "outputs": [
    {
     "name": "stdout",
     "output_type": "stream",
     "text": [
      "\n",
      "Random seed for this experiment is:   42\n",
      "\n",
      "This is my typical random seed for all my experiments.\n",
      "\n"
     ]
    }
   ],
   "source": [
    "import pprint\n",
    "import numpy as np\n",
    "\n",
    "from mercs import Mercs\n",
    "\n",
    "#from modulo.core import Modulo\n",
    "#from modulo.graph import model_to_graph\n",
    "#from modulo.visuals import show_diagram\n",
    "\n",
    "from mercs.tests.setup import RANDOM_STATE, default_dataset\n",
    "\n",
    "pp = pprint.PrettyPrinter(indent=4)\n",
    "\n",
    "msg = \"\"\"\n",
    "Random seed for this experiment is:   {}\n",
    "\n",
    "This is my typical random seed for all my experiments.\n",
    "\"\"\".format(RANDOM_STATE)\n",
    "\n",
    "print(msg)"
   ]
  },
  {
   "cell_type": "markdown",
   "metadata": {
    "Collapsed": "false"
   },
   "source": [
    "# Setup\n",
    "\n",
    "Create an interesting enough composite model"
   ]
  },
  {
   "cell_type": "code",
   "execution_count": 37,
   "metadata": {
    "Collapsed": "false"
   },
   "outputs": [],
   "source": [
    "train, test = default_dataset()\n",
    "q_code = np.array([0, 0, -1, -1, -1, -1, 0, 1])\n",
    "\n",
    "m_basic = Mercs(\n",
    "    random_state=RANDOM_STATE,\n",
    "    prediction_algorithm=\"mi\",\n",
    "    selection_algorithm=\"random\",\n",
    "    nb_iterations=3,\n",
    "    fraction_missing=0.5,\n",
    "    max_depth=2,\n",
    "    regression_max_depth=2,\n",
    ")\n",
    "\n",
    "m_basic.fit(train, nominal_attributes={7})\n",
    "#m_basic.m_codes"
   ]
  },
  {
   "cell_type": "code",
   "execution_count": 38,
   "metadata": {
    "Collapsed": "false"
   },
   "outputs": [
    {
     "data": {
      "text/plain": [
       "24"
      ]
     },
     "execution_count": 38,
     "metadata": {},
     "output_type": "execute_result"
    }
   ],
   "source": [
    "len(m_basic.m_codes)"
   ]
  },
  {
   "cell_type": "code",
   "execution_count": 39,
   "metadata": {
    "Collapsed": "false"
   },
   "outputs": [],
   "source": [
    "y_pred_01 = m_basic.predict(test, q_code=q_code)"
   ]
  },
  {
   "cell_type": "markdown",
   "metadata": {
    "Collapsed": "false"
   },
   "source": [
    "So, this model has now done a prediction for the provided query. But we can easily examine what it did, by showing the diagram of the composition."
   ]
  },
  {
   "cell_type": "code",
   "execution_count": 40,
   "metadata": {
    "Collapsed": "false"
   },
   "outputs": [
    {
     "data": {
      "image/svg+xml": [
       "<svg height=\"188pt\" viewBox=\"0.00 0.00 581.69 188.00\" width=\"582pt\" xmlns=\"http://www.w3.org/2000/svg\" xmlns:xlink=\"http://www.w3.org/1999/xlink\">\n",
       "<g class=\"graph\" id=\"graph0\" transform=\"scale(1 1) rotate(0) translate(4 184)\">\n",
       "<title>G</title>\n",
       "<polygon fill=\"#ffffff\" points=\"-4,4 -4,-184 577.6943,-184 577.6943,4 -4,4\" stroke=\"transparent\"/>\n",
       "<!-- (&#39;I&#39;, 2) -->\n",
       "<g class=\"node\" id=\"node1\">\n",
       "<title>('I', 2)</title>\n",
       "<ellipse cx=\"195.8472\" cy=\"-18\" fill=\"none\" rx=\"31.6951\" ry=\"18\" stroke=\"#000000\"/>\n",
       "<text fill=\"#000000\" font-family=\"Times,serif\" font-size=\"14.00\" text-anchor=\"middle\" x=\"195.8472\" y=\"-14.3\">('I', 2)</text>\n",
       "</g>\n",
       "<!-- (&#39;M&#39;, 21) -->\n",
       "<g class=\"node\" id=\"node2\">\n",
       "<title>('M', 21)</title>\n",
       "<ellipse cx=\"146.8472\" cy=\"-90\" fill=\"none\" rx=\"41.6928\" ry=\"18\" stroke=\"#000000\"/>\n",
       "<text fill=\"#000000\" font-family=\"Times,serif\" font-size=\"14.00\" text-anchor=\"middle\" x=\"146.8472\" y=\"-86.3\">('M', 21)</text>\n",
       "</g>\n",
       "<!-- (&#39;I&#39;, 2)&#45;&gt;(&#39;M&#39;, 21) -->\n",
       "<g class=\"edge\" id=\"edge1\">\n",
       "<title>('I', 2)-&gt;('M', 21)</title>\n",
       "<path d=\"M184.2349,-35.063C178.3412,-43.723 171.0567,-54.4269 164.4877,-64.0793\" fill=\"none\" stroke=\"#000000\"/>\n",
       "<polygon fill=\"#000000\" points=\"161.4493,-62.323 158.7165,-72.5593 167.2363,-66.2614 161.4493,-62.323\" stroke=\"#000000\"/>\n",
       "</g>\n",
       "<!-- (&#39;M&#39;, 22) -->\n",
       "<g class=\"node\" id=\"node6\">\n",
       "<title>('M', 22)</title>\n",
       "<ellipse cx=\"280.8472\" cy=\"-90\" fill=\"none\" rx=\"41.6928\" ry=\"18\" stroke=\"#000000\"/>\n",
       "<text fill=\"#000000\" font-family=\"Times,serif\" font-size=\"14.00\" text-anchor=\"middle\" x=\"280.8472\" y=\"-86.3\">('M', 22)</text>\n",
       "</g>\n",
       "<!-- (&#39;I&#39;, 2)&#45;&gt;(&#39;M&#39;, 22) -->\n",
       "<g class=\"edge\" id=\"edge2\">\n",
       "<title>('I', 2)-&gt;('M', 22)</title>\n",
       "<path d=\"M213.8735,-33.2693C225.4962,-43.1144 240.8232,-56.0973 253.8815,-67.1585\" fill=\"none\" stroke=\"#000000\"/>\n",
       "<polygon fill=\"#000000\" points=\"251.7728,-69.9592 261.6655,-73.752 256.2973,-64.6179 251.7728,-69.9592\" stroke=\"#000000\"/>\n",
       "</g>\n",
       "<!-- (&#39;M&#39;, 23) -->\n",
       "<g class=\"node\" id=\"node9\">\n",
       "<title>('M', 23)</title>\n",
       "<ellipse cx=\"418.8472\" cy=\"-90\" fill=\"none\" rx=\"41.6928\" ry=\"18\" stroke=\"#000000\"/>\n",
       "<text fill=\"#000000\" font-family=\"Times,serif\" font-size=\"14.00\" text-anchor=\"middle\" x=\"418.8472\" y=\"-86.3\">('M', 23)</text>\n",
       "</g>\n",
       "<!-- (&#39;I&#39;, 2)&#45;&gt;(&#39;M&#39;, 23) -->\n",
       "<g class=\"edge\" id=\"edge3\">\n",
       "<title>('I', 2)-&gt;('M', 23)</title>\n",
       "<path d=\"M220.7965,-29.5463C226.0488,-31.8092 231.5914,-34.0752 236.8472,-36 282.3922,-52.6799 335.7176,-68.0277 372.8272,-78.0627\" fill=\"none\" stroke=\"#000000\"/>\n",
       "<polygon fill=\"#000000\" points=\"372.2787,-81.5393 382.844,-80.749 374.0919,-74.7782 372.2787,-81.5393\" stroke=\"#000000\"/>\n",
       "</g>\n",
       "<!-- (&#39;D&#39;, 7) -->\n",
       "<g class=\"node\" id=\"node11\">\n",
       "<title>('D', 7)</title>\n",
       "<ellipse cx=\"280.8472\" cy=\"-162\" fill=\"none\" rx=\"35.194\" ry=\"18\" stroke=\"#000000\"/>\n",
       "<text fill=\"#000000\" font-family=\"Times,serif\" font-size=\"14.00\" text-anchor=\"middle\" x=\"280.8472\" y=\"-158.3\">('D', 7)</text>\n",
       "</g>\n",
       "<!-- (&#39;M&#39;, 21)&#45;&gt;(&#39;D&#39;, 7) -->\n",
       "<g class=\"edge\" id=\"edge4\">\n",
       "<title>('M', 21)-&gt;('D', 7)</title>\n",
       "<path d=\"M173.0018,-104.0532C194.2893,-115.4913 224.4725,-131.7091 247.496,-144.0799\" fill=\"none\" stroke=\"#000000\"/>\n",
       "<polygon fill=\"#000000\" points=\"246.097,-147.3015 256.5626,-148.9516 249.4103,-141.1352 246.097,-147.3015\" stroke=\"#000000\"/>\n",
       "</g>\n",
       "<!-- (&#39;I&#39;, 3) -->\n",
       "<g class=\"node\" id=\"node3\">\n",
       "<title>('I', 3)</title>\n",
       "<ellipse cx=\"113.8472\" cy=\"-18\" fill=\"none\" rx=\"31.6951\" ry=\"18\" stroke=\"#000000\"/>\n",
       "<text fill=\"#000000\" font-family=\"Times,serif\" font-size=\"14.00\" text-anchor=\"middle\" x=\"113.8472\" y=\"-14.3\">('I', 3)</text>\n",
       "</g>\n",
       "<!-- (&#39;I&#39;, 3)&#45;&gt;(&#39;M&#39;, 21) -->\n",
       "<g class=\"edge\" id=\"edge5\">\n",
       "<title>('I', 3)-&gt;('M', 21)</title>\n",
       "<path d=\"M121.8356,-35.4292C125.6297,-43.7073 130.2507,-53.7896 134.4835,-63.0248\" fill=\"none\" stroke=\"#000000\"/>\n",
       "<polygon fill=\"#000000\" points=\"131.3548,-64.5988 138.7031,-72.2311 137.7182,-61.6822 131.3548,-64.5988\" stroke=\"#000000\"/>\n",
       "</g>\n",
       "<!-- (&#39;I&#39;, 3)&#45;&gt;(&#39;M&#39;, 22) -->\n",
       "<g class=\"edge\" id=\"edge6\">\n",
       "<title>('I', 3)-&gt;('M', 22)</title>\n",
       "<path d=\"M138.984,-29.0773C144.2227,-31.3742 149.7123,-33.7726 154.8472,-36 183.8559,-48.5837 216.6929,-62.6509 241.5706,-73.2722\" fill=\"none\" stroke=\"#000000\"/>\n",
       "<polygon fill=\"#000000\" points=\"240.4581,-76.6028 251.0294,-77.3083 243.2054,-70.1644 240.4581,-76.6028\" stroke=\"#000000\"/>\n",
       "</g>\n",
       "<!-- (&#39;I&#39;, 4) -->\n",
       "<g class=\"node\" id=\"node4\">\n",
       "<title>('I', 4)</title>\n",
       "<ellipse cx=\"31.8472\" cy=\"-18\" fill=\"none\" rx=\"31.6951\" ry=\"18\" stroke=\"#000000\"/>\n",
       "<text fill=\"#000000\" font-family=\"Times,serif\" font-size=\"14.00\" text-anchor=\"middle\" x=\"31.8472\" y=\"-14.3\">('I', 4)</text>\n",
       "</g>\n",
       "<!-- (&#39;I&#39;, 4)&#45;&gt;(&#39;M&#39;, 21) -->\n",
       "<g class=\"edge\" id=\"edge7\">\n",
       "<title>('I', 4)-&gt;('M', 21)</title>\n",
       "<path d=\"M53.2083,-31.3739C70.3321,-42.0949 94.6471,-57.3182 114.2081,-69.5651\" fill=\"none\" stroke=\"#000000\"/>\n",
       "<polygon fill=\"#000000\" points=\"112.485,-72.6156 122.8182,-74.9558 116.1997,-66.6826 112.485,-72.6156\" stroke=\"#000000\"/>\n",
       "</g>\n",
       "<!-- (&#39;D&#39;, 0) -->\n",
       "<g class=\"node\" id=\"node5\">\n",
       "<title>('D', 0)</title>\n",
       "<ellipse cx=\"280.8472\" cy=\"-18\" fill=\"none\" rx=\"35.194\" ry=\"18\" stroke=\"#000000\"/>\n",
       "<text fill=\"#000000\" font-family=\"Times,serif\" font-size=\"14.00\" text-anchor=\"middle\" x=\"280.8472\" y=\"-14.3\">('D', 0)</text>\n",
       "</g>\n",
       "<!-- (&#39;D&#39;, 0)&#45;&gt;(&#39;M&#39;, 22) -->\n",
       "<g class=\"edge\" id=\"edge8\">\n",
       "<title>('D', 0)-&gt;('M', 22)</title>\n",
       "<path d=\"M280.8472,-36.1686C280.8472,-43.869 280.8472,-53.0257 280.8472,-61.5834\" fill=\"none\" stroke=\"#000000\"/>\n",
       "<polygon fill=\"#000000\" points=\"277.3473,-61.5867 280.8472,-71.5867 284.3473,-61.5868 277.3473,-61.5867\" stroke=\"#000000\"/>\n",
       "</g>\n",
       "<!-- (&#39;M&#39;, 22)&#45;&gt;(&#39;D&#39;, 7) -->\n",
       "<g class=\"edge\" id=\"edge9\">\n",
       "<title>('M', 22)-&gt;('D', 7)</title>\n",
       "<path d=\"M280.8472,-108.1686C280.8472,-115.869 280.8472,-125.0257 280.8472,-133.5834\" fill=\"none\" stroke=\"#000000\"/>\n",
       "<polygon fill=\"#000000\" points=\"277.3473,-133.5867 280.8472,-143.5867 284.3473,-133.5868 277.3473,-133.5867\" stroke=\"#000000\"/>\n",
       "</g>\n",
       "<!-- (&#39;D&#39;, 1) -->\n",
       "<g class=\"node\" id=\"node7\">\n",
       "<title>('D', 1)</title>\n",
       "<ellipse cx=\"368.8472\" cy=\"-18\" fill=\"none\" rx=\"35.194\" ry=\"18\" stroke=\"#000000\"/>\n",
       "<text fill=\"#000000\" font-family=\"Times,serif\" font-size=\"14.00\" text-anchor=\"middle\" x=\"368.8472\" y=\"-14.3\">('D', 1)</text>\n",
       "</g>\n",
       "<!-- (&#39;D&#39;, 1)&#45;&gt;(&#39;M&#39;, 22) -->\n",
       "<g class=\"edge\" id=\"edge10\">\n",
       "<title>('D', 1)-&gt;('M', 22)</title>\n",
       "<path d=\"M350.1846,-33.2693C338.0682,-43.1828 322.0632,-56.2778 308.4833,-67.3886\" fill=\"none\" stroke=\"#000000\"/>\n",
       "<polygon fill=\"#000000\" points=\"305.921,-64.9628 300.3977,-74.0041 310.3537,-70.3806 305.921,-64.9628\" stroke=\"#000000\"/>\n",
       "</g>\n",
       "<!-- (&#39;D&#39;, 6) -->\n",
       "<g class=\"node\" id=\"node8\">\n",
       "<title>('D', 6)</title>\n",
       "<ellipse cx=\"456.8472\" cy=\"-18\" fill=\"none\" rx=\"35.194\" ry=\"18\" stroke=\"#000000\"/>\n",
       "<text fill=\"#000000\" font-family=\"Times,serif\" font-size=\"14.00\" text-anchor=\"middle\" x=\"456.8472\" y=\"-14.3\">('D', 6)</text>\n",
       "</g>\n",
       "<!-- (&#39;D&#39;, 6)&#45;&gt;(&#39;M&#39;, 22) -->\n",
       "<g class=\"edge\" id=\"edge11\">\n",
       "<title>('D', 6)-&gt;('M', 22)</title>\n",
       "<path d=\"M429.3472,-29.25C400.1333,-41.2011 353.678,-60.2056 320.5078,-73.7752\" fill=\"none\" stroke=\"#000000\"/>\n",
       "<polygon fill=\"#000000\" points=\"319.0329,-70.597 311.1027,-77.6228 321.6834,-77.0758 319.0329,-70.597\" stroke=\"#000000\"/>\n",
       "</g>\n",
       "<!-- (&#39;D&#39;, 6)&#45;&gt;(&#39;M&#39;, 23) -->\n",
       "<g class=\"edge\" id=\"edge12\">\n",
       "<title>('D', 6)-&gt;('M', 23)</title>\n",
       "<path d=\"M447.6484,-35.4292C443.2334,-43.7945 437.8461,-54.002 432.9303,-63.3161\" fill=\"none\" stroke=\"#000000\"/>\n",
       "<polygon fill=\"#000000\" points=\"429.7975,-61.7536 428.2252,-72.2311 435.9882,-65.0209 429.7975,-61.7536\" stroke=\"#000000\"/>\n",
       "</g>\n",
       "<!-- (&#39;M&#39;, 23)&#45;&gt;(&#39;D&#39;, 7) -->\n",
       "<g class=\"edge\" id=\"edge13\">\n",
       "<title>('M', 23)-&gt;('D', 7)</title>\n",
       "<path d=\"M392.2394,-103.8823C370.1132,-115.4264 338.4918,-131.9246 314.5892,-144.3955\" fill=\"none\" stroke=\"#000000\"/>\n",
       "<polygon fill=\"#000000\" points=\"312.7657,-141.3991 305.5188,-149.1278 316.0037,-147.6052 312.7657,-141.3991\" stroke=\"#000000\"/>\n",
       "</g>\n",
       "<!-- (&#39;I&#39;, 5) -->\n",
       "<g class=\"node\" id=\"node10\">\n",
       "<title>('I', 5)</title>\n",
       "<ellipse cx=\"541.8472\" cy=\"-18\" fill=\"none\" rx=\"31.6951\" ry=\"18\" stroke=\"#000000\"/>\n",
       "<text fill=\"#000000\" font-family=\"Times,serif\" font-size=\"14.00\" text-anchor=\"middle\" x=\"541.8472\" y=\"-14.3\">('I', 5)</text>\n",
       "</g>\n",
       "<!-- (&#39;I&#39;, 5)&#45;&gt;(&#39;M&#39;, 23) -->\n",
       "<g class=\"edge\" id=\"edge14\">\n",
       "<title>('I', 5)-&gt;('M', 23)</title>\n",
       "<path d=\"M519.5728,-31.0387C500.9156,-41.9599 473.9922,-57.72 452.6739,-70.199\" fill=\"none\" stroke=\"#000000\"/>\n",
       "<polygon fill=\"#000000\" points=\"450.7831,-67.2502 443.9211,-75.3226 454.3194,-73.2913 450.7831,-67.2502\" stroke=\"#000000\"/>\n",
       "</g>\n",
       "</g>\n",
       "</svg>"
      ],
      "text/plain": [
       "<IPython.core.display.SVG object>"
      ]
     },
     "metadata": {},
     "output_type": "display_data"
    }
   ],
   "source": [
    "m_basic.show_q_diagram()"
   ]
  },
  {
   "cell_type": "markdown",
   "metadata": {
    "Collapsed": "false"
   },
   "source": [
    "The composition is again an ML model, which we can extract as `q_compose` (n.b., the `q` refers to `query`). And we can examine its attributes. These attributes are obviously derived from the original query."
   ]
  },
  {
   "cell_type": "code",
   "execution_count": 41,
   "metadata": {
    "Collapsed": "false"
   },
   "outputs": [
    {
     "data": {
      "text/plain": [
       "({0, 1, 6}, {7})"
      ]
     },
     "execution_count": 41,
     "metadata": {},
     "output_type": "execute_result"
    }
   ],
   "source": [
    "q_compose = m_basic.q_diagram\n",
    "q_compose.desc_ids, q_compose.targ_ids"
   ]
  },
  {
   "cell_type": "markdown",
   "metadata": {
    "Collapsed": "false"
   },
   "source": [
    "From this diagram, which encodes the computation (and most importantly, the _data flow_), we derive an implicit _query model_ which from the outside, behaves exactly as a regular ML-model. Mathematically, it behaves as a function, essentially."
   ]
  },
  {
   "cell_type": "code",
   "execution_count": 42,
   "metadata": {
    "Collapsed": "false"
   },
   "outputs": [],
   "source": [
    "q_model = m_basic.q_model"
   ]
  },
  {
   "cell_type": "code",
   "execution_count": 43,
   "metadata": {
    "Collapsed": "false"
   },
   "outputs": [
    {
     "data": {
      "text/plain": [
       "([array([0., 1.])],\n",
       " [0.3333333333333333, 0.3333333333333333, 0.3333333333333333])"
      ]
     },
     "execution_count": 43,
     "metadata": {},
     "output_type": "execute_result"
    }
   ],
   "source": [
    "q_model.classes_, q_model.feature_importances_"
   ]
  },
  {
   "cell_type": "code",
   "execution_count": 44,
   "metadata": {
    "Collapsed": "false"
   },
   "outputs": [
    {
     "data": {
      "text/plain": [
       "array([0., 0., 0., 0., 0., 0., 0., 1., 0., 0.])"
      ]
     },
     "execution_count": 44,
     "metadata": {},
     "output_type": "execute_result"
    }
   ],
   "source": [
    "y_pred = q_model.predict(test[:, list(q_model.desc_ids)])\n",
    "y_pred[:10]"
   ]
  },
  {
   "cell_type": "code",
   "execution_count": 45,
   "metadata": {
    "Collapsed": "false"
   },
   "outputs": [
    {
     "data": {
      "text/plain": [
       "array([[1.73766071, 1.26233929],\n",
       "       [1.92093814, 1.07906186],\n",
       "       [1.92093814, 1.07906186],\n",
       "       [1.73766071, 1.26233929],\n",
       "       [1.92093814, 1.07906186],\n",
       "       [1.92093814, 1.07906186],\n",
       "       [1.92093814, 1.07906186],\n",
       "       [1.32776292, 1.67223708],\n",
       "       [1.92093814, 1.07906186],\n",
       "       [1.92093814, 1.07906186]])"
      ]
     },
     "execution_count": 45,
     "metadata": {},
     "output_type": "execute_result"
    }
   ],
   "source": [
    "y_proba = q_model.predict_proba(test[:, list(q_model.desc_ids)])\n",
    "y_proba[0][:10]"
   ]
  },
  {
   "cell_type": "markdown",
   "metadata": {
    "Collapsed": "false"
   },
   "source": [
    "# MRAI"
   ]
  },
  {
   "cell_type": "code",
   "execution_count": 46,
   "metadata": {
    "Collapsed": "false"
   },
   "outputs": [],
   "source": [
    "q_code = np.array([0, 0, -1, -1, -1, -1, 0, 1])\n",
    "\n",
    "m_mrai = Mercs(\n",
    "    random_state=RANDOM_STATE,\n",
    "    prediction_algorithm=\"mrai\",\n",
    "    clf_criterion=\"entropy\",\n",
    "    rgr_criterion=\"mae\",\n",
    "    selection_algorithm=\"random\",\n",
    "    nb_iterations=1,\n",
    "    fraction_missing=0.5,\n",
    "    max_depth=15,\n",
    "    regression_max_depth=25,\n",
    ")\n",
    "\n",
    "m_mrai.fit(train, nominal_attributes={7})"
   ]
  },
  {
   "cell_type": "markdown",
   "metadata": {
    "Collapsed": "false"
   },
   "source": [
    "Now, we'll epxlicitly add our previous composition to this new mercs model. **Note that this new mercs model is 100% oblivious** about the true nature of this new component, it just treats it as if it was any other model/graph that it possseses."
   ]
  },
  {
   "cell_type": "code",
   "execution_count": 47,
   "metadata": {
    "Collapsed": "false"
   },
   "outputs": [],
   "source": [
    "m_mrai._add_model(q_model)"
   ]
  },
  {
   "cell_type": "code",
   "execution_count": 48,
   "metadata": {
    "Collapsed": "false"
   },
   "outputs": [],
   "source": [
    "y_pred_02 = m_mrai.predict(test, q_code=q_code)"
   ]
  },
  {
   "cell_type": "code",
   "execution_count": 49,
   "metadata": {
    "Collapsed": "false"
   },
   "outputs": [
    {
     "data": {
      "image/svg+xml": [
       "<svg height=\"209pt\" viewBox=\"0.00 0.00 254.19 209.00\" width=\"254pt\" xmlns=\"http://www.w3.org/2000/svg\" xmlns:xlink=\"http://www.w3.org/1999/xlink\">\n",
       "<g class=\"graph\" id=\"graph0\" transform=\"scale(1 1) rotate(0) translate(4 205)\">\n",
       "<title>G</title>\n",
       "<polygon fill=\"#ffffff\" points=\"-4,4 -4,-205 250.1938,-205 250.1938,4 -4,4\" stroke=\"transparent\"/>\n",
       "<!-- (&#39;D&#39;, 0) -->\n",
       "<g class=\"node\" id=\"node1\">\n",
       "<title>('D', 0)</title>\n",
       "<ellipse cx=\"35.0969\" cy=\"-18\" fill=\"none\" rx=\"35.194\" ry=\"18\" stroke=\"#000000\"/>\n",
       "<text fill=\"#000000\" font-family=\"Times,serif\" font-size=\"14.00\" text-anchor=\"middle\" x=\"35.0969\" y=\"-14.3\">('D', 0)</text>\n",
       "</g>\n",
       "<!-- (&#39;M&#39;, 8) -->\n",
       "<g class=\"node\" id=\"node2\">\n",
       "<title>('M', 8)</title>\n",
       "<polygon fill=\"none\" points=\"151.5969,-129 94.5969,-129 94.5969,-72 151.5969,-72 151.5969,-129\" stroke=\"#000000\"/>\n",
       "<text fill=\"#000000\" font-family=\"Times,serif\" font-size=\"14.00\" text-anchor=\"middle\" x=\"123.0969\" y=\"-96.8\">('M', 8)</text>\n",
       "</g>\n",
       "<!-- (&#39;D&#39;, 0)&#45;&gt;(&#39;M&#39;, 8) -->\n",
       "<g class=\"edge\" id=\"edge1\">\n",
       "<title>('D', 0)-&gt;('M', 8)</title>\n",
       "<path d=\"M52.0642,-33.9068C61.9907,-43.213 74.9143,-55.3288 87.0123,-66.6707\" fill=\"none\" stroke=\"#000000\"/>\n",
       "<polygon fill=\"#000000\" points=\"84.715,-69.3145 94.4042,-73.6006 89.5026,-64.2077 84.715,-69.3145\" stroke=\"#000000\"/>\n",
       "</g>\n",
       "<!-- (&#39;D&#39;, 7) -->\n",
       "<g class=\"node\" id=\"node5\">\n",
       "<title>('D', 7)</title>\n",
       "<ellipse cx=\"123.0969\" cy=\"-183\" fill=\"none\" rx=\"35.194\" ry=\"18\" stroke=\"#000000\"/>\n",
       "<text fill=\"#000000\" font-family=\"Times,serif\" font-size=\"14.00\" text-anchor=\"middle\" x=\"123.0969\" y=\"-179.3\">('D', 7)</text>\n",
       "</g>\n",
       "<!-- (&#39;M&#39;, 8)&#45;&gt;(&#39;D&#39;, 7) -->\n",
       "<g class=\"edge\" id=\"edge2\">\n",
       "<title>('M', 8)-&gt;('D', 7)</title>\n",
       "<path d=\"M123.0969,-129.3545C123.0969,-137.4962 123.0969,-146.3482 123.0969,-154.4707\" fill=\"none\" stroke=\"#000000\"/>\n",
       "<polygon fill=\"#000000\" points=\"119.597,-154.6073 123.0969,-164.6073 126.597,-154.6073 119.597,-154.6073\" stroke=\"#000000\"/>\n",
       "</g>\n",
       "<!-- (&#39;D&#39;, 1) -->\n",
       "<g class=\"node\" id=\"node3\">\n",
       "<title>('D', 1)</title>\n",
       "<ellipse cx=\"123.0969\" cy=\"-18\" fill=\"none\" rx=\"35.194\" ry=\"18\" stroke=\"#000000\"/>\n",
       "<text fill=\"#000000\" font-family=\"Times,serif\" font-size=\"14.00\" text-anchor=\"middle\" x=\"123.0969\" y=\"-14.3\">('D', 1)</text>\n",
       "</g>\n",
       "<!-- (&#39;D&#39;, 1)&#45;&gt;(&#39;M&#39;, 8) -->\n",
       "<g class=\"edge\" id=\"edge3\">\n",
       "<title>('D', 1)-&gt;('M', 8)</title>\n",
       "<path d=\"M123.0969,-36.3094C123.0969,-43.8158 123.0969,-52.8082 123.0969,-61.6528\" fill=\"none\" stroke=\"#000000\"/>\n",
       "<polygon fill=\"#000000\" points=\"119.597,-61.8698 123.0969,-71.8698 126.597,-61.8698 119.597,-61.8698\" stroke=\"#000000\"/>\n",
       "</g>\n",
       "<!-- (&#39;D&#39;, 6) -->\n",
       "<g class=\"node\" id=\"node4\">\n",
       "<title>('D', 6)</title>\n",
       "<ellipse cx=\"211.0969\" cy=\"-18\" fill=\"none\" rx=\"35.194\" ry=\"18\" stroke=\"#000000\"/>\n",
       "<text fill=\"#000000\" font-family=\"Times,serif\" font-size=\"14.00\" text-anchor=\"middle\" x=\"211.0969\" y=\"-14.3\">('D', 6)</text>\n",
       "</g>\n",
       "<!-- (&#39;D&#39;, 6)&#45;&gt;(&#39;M&#39;, 8) -->\n",
       "<g class=\"edge\" id=\"edge4\">\n",
       "<title>('D', 6)-&gt;('M', 8)</title>\n",
       "<path d=\"M194.1296,-33.9068C184.2031,-43.213 171.2795,-55.3288 159.1815,-66.6707\" fill=\"none\" stroke=\"#000000\"/>\n",
       "<polygon fill=\"#000000\" points=\"156.6912,-64.2077 151.7896,-73.6006 161.4788,-69.3145 156.6912,-64.2077\" stroke=\"#000000\"/>\n",
       "</g>\n",
       "</g>\n",
       "</svg>"
      ],
      "text/plain": [
       "<IPython.core.display.SVG object>"
      ]
     },
     "metadata": {},
     "output_type": "display_data"
    }
   ],
   "source": [
    "m_mrai.show_q_diagram()"
   ]
  },
  {
   "cell_type": "markdown",
   "metadata": {
    "Collapsed": "false"
   },
   "source": [
    "# IT\n",
    "\n",
    "Let us verify that `M-8` is really 100% a model on par with the other building blocks and see if it can get picked as a component when making fresh compositions."
   ]
  },
  {
   "cell_type": "code",
   "execution_count": 50,
   "metadata": {
    "Collapsed": "false"
   },
   "outputs": [],
   "source": [
    "q_code = np.array([0, 0, -1, -1, -1, -1, 0, 1])\n",
    "\n",
    "q_code = np.array([0, 1, 0, 0, 0, 0, 0, 0])\n",
    "\n",
    "q_code = np.array([1,0,0,-1,-1,-1,0,1])\n",
    "\n",
    "m_it = Mercs(random_state=RANDOM_STATE,\n",
    "             prediction_algorithm='it',\n",
    "             clf_criterion='entropy',\n",
    "             rgr_criterion='mae',\n",
    "             selection_algorithm='random',\n",
    "             nb_iterations=3,\n",
    "             fraction_missing=0.5,\n",
    "             max_depth=15,\n",
    "             regression_max_depth=25)\n",
    "\n",
    "m_it.fit(train, nominal_attributes={7})\n",
    "\n",
    "m_it._add_model(q_model)"
   ]
  },
  {
   "cell_type": "code",
   "execution_count": 51,
   "metadata": {
    "Collapsed": "false"
   },
   "outputs": [
    {
     "name": "stdout",
     "output_type": "stream",
     "text": [
      "\n",
      "The ID of the composite model is: 24\n",
      "\n"
     ]
    }
   ],
   "source": [
    "msg = \"\"\"\n",
    "The ID of the composite model is: {}\n",
    "\"\"\".format(len(m_it.m_list)-1)\n",
    "print(msg)"
   ]
  },
  {
   "cell_type": "code",
   "execution_count": 52,
   "metadata": {
    "Collapsed": "false"
   },
   "outputs": [
    {
     "data": {
      "image/svg+xml": [
       "<svg height=\"360pt\" viewBox=\"0.00 0.00 455.69 360.00\" width=\"456pt\" xmlns=\"http://www.w3.org/2000/svg\" xmlns:xlink=\"http://www.w3.org/1999/xlink\">\n",
       "<g class=\"graph\" id=\"graph0\" transform=\"scale(1 1) rotate(0) translate(4 356)\">\n",
       "<title>G</title>\n",
       "<polygon fill=\"#ffffff\" points=\"-4,4 -4,-356 451.6943,-356 451.6943,4 -4,4\" stroke=\"transparent\"/>\n",
       "<!-- (&#39;I&#39;, 0) -->\n",
       "<g class=\"node\" id=\"node1\">\n",
       "<title>('I', 0)</title>\n",
       "<ellipse cx=\"31.8472\" cy=\"-18\" fill=\"none\" rx=\"31.6951\" ry=\"18\" stroke=\"#000000\"/>\n",
       "<text fill=\"#000000\" font-family=\"Times,serif\" font-size=\"14.00\" text-anchor=\"middle\" x=\"31.8472\" y=\"-14.3\">('I', 0)</text>\n",
       "</g>\n",
       "<!-- (&#39;M&#39;, 24) -->\n",
       "<g class=\"node\" id=\"node2\">\n",
       "<title>('M', 24)</title>\n",
       "<polygon fill=\"none\" points=\"132.8472,-136 68.8472,-136 68.8472,-72 132.8472,-72 132.8472,-136\" stroke=\"#000000\"/>\n",
       "<text fill=\"#000000\" font-family=\"Times,serif\" font-size=\"14.00\" text-anchor=\"middle\" x=\"100.8472\" y=\"-100.3\">('M', 24)</text>\n",
       "</g>\n",
       "<!-- (&#39;I&#39;, 0)&#45;&gt;(&#39;M&#39;, 24) -->\n",
       "<g class=\"edge\" id=\"edge1\">\n",
       "<title>('I', 0)-&gt;('M', 24)</title>\n",
       "<path d=\"M45.1511,-34.5817C51.8917,-42.983 60.3949,-53.5812 68.7137,-63.9495\" fill=\"none\" stroke=\"#000000\"/>\n",
       "<polygon fill=\"#000000\" points=\"66.0189,-66.1838 75.0069,-71.7933 71.4788,-61.8031 66.0189,-66.1838\" stroke=\"#000000\"/>\n",
       "</g>\n",
       "<!-- (&#39;D&#39;, 7) -->\n",
       "<g class=\"node\" id=\"node5\">\n",
       "<title>('D', 7)</title>\n",
       "<ellipse cx=\"84.8472\" cy=\"-190\" fill=\"none\" rx=\"35.194\" ry=\"18\" stroke=\"#000000\"/>\n",
       "<text fill=\"#000000\" font-family=\"Times,serif\" font-size=\"14.00\" text-anchor=\"middle\" x=\"84.8472\" y=\"-186.3\">('D', 7)</text>\n",
       "</g>\n",
       "<!-- (&#39;M&#39;, 24)&#45;&gt;(&#39;D&#39;, 7) -->\n",
       "<g class=\"edge\" id=\"edge2\">\n",
       "<title>('M', 24)-&gt;('D', 7)</title>\n",
       "<path d=\"M94.8894,-136.0232C93.3151,-144.485 91.6277,-153.5545 90.0941,-161.7977\" fill=\"none\" stroke=\"#000000\"/>\n",
       "<polygon fill=\"#000000\" points=\"86.642,-161.2177 88.2538,-171.6892 93.5239,-162.4982 86.642,-161.2177\" stroke=\"#000000\"/>\n",
       "</g>\n",
       "<!-- (&#39;D&#39;, 1) -->\n",
       "<g class=\"node\" id=\"node3\">\n",
       "<title>('D', 1)</title>\n",
       "<ellipse cx=\"235.8472\" cy=\"-18\" fill=\"none\" rx=\"35.194\" ry=\"18\" stroke=\"#000000\"/>\n",
       "<text fill=\"#000000\" font-family=\"Times,serif\" font-size=\"14.00\" text-anchor=\"middle\" x=\"235.8472\" y=\"-14.3\">('D', 1)</text>\n",
       "</g>\n",
       "<!-- (&#39;D&#39;, 1)&#45;&gt;(&#39;M&#39;, 24) -->\n",
       "<g class=\"edge\" id=\"edge3\">\n",
       "<title>('D', 1)-&gt;('M', 24)</title>\n",
       "<path d=\"M213.5547,-32.2012C194.0118,-44.6507 165.1122,-63.0608 141.4702,-78.1216\" fill=\"none\" stroke=\"#000000\"/>\n",
       "<polygon fill=\"#000000\" points=\"139.5785,-75.1768 133.0249,-83.5016 143.3395,-81.0807 139.5785,-75.1768\" stroke=\"#000000\"/>\n",
       "</g>\n",
       "<!-- (&#39;M&#39;, 1) -->\n",
       "<g class=\"node\" id=\"node9\">\n",
       "<title>('M', 1)</title>\n",
       "<ellipse cx=\"241.8472\" cy=\"-262\" fill=\"none\" rx=\"37.0935\" ry=\"18\" stroke=\"#000000\"/>\n",
       "<text fill=\"#000000\" font-family=\"Times,serif\" font-size=\"14.00\" text-anchor=\"middle\" x=\"241.8472\" y=\"-258.3\">('M', 1)</text>\n",
       "</g>\n",
       "<!-- (&#39;D&#39;, 1)&#45;&gt;(&#39;M&#39;, 1) -->\n",
       "<g class=\"edge\" id=\"edge4\">\n",
       "<title>('D', 1)-&gt;('M', 1)</title>\n",
       "<path d=\"M236.2981,-36.3397C237.3366,-78.5705 239.9028,-182.9284 241.1476,-233.5508\" fill=\"none\" stroke=\"#000000\"/>\n",
       "<polygon fill=\"#000000\" points=\"237.6543,-233.8695 241.3992,-243.7804 244.6522,-233.6973 237.6543,-233.8695\" stroke=\"#000000\"/>\n",
       "</g>\n",
       "<!-- (&#39;M&#39;, 19) -->\n",
       "<g class=\"node\" id=\"node11\">\n",
       "<title>('M', 19)</title>\n",
       "<ellipse cx=\"349.8472\" cy=\"-262\" fill=\"none\" rx=\"41.6928\" ry=\"18\" stroke=\"#000000\"/>\n",
       "<text fill=\"#000000\" font-family=\"Times,serif\" font-size=\"14.00\" text-anchor=\"middle\" x=\"349.8472\" y=\"-258.3\">('M', 19)</text>\n",
       "</g>\n",
       "<!-- (&#39;D&#39;, 1)&#45;&gt;(&#39;M&#39;, 19) -->\n",
       "<g class=\"edge\" id=\"edge5\">\n",
       "<title>('D', 1)-&gt;('M', 19)</title>\n",
       "<path d=\"M250.3773,-34.6366C272.9521,-61.4953 316.0146,-116.9813 336.8472,-172 344.3359,-191.7777 347.5469,-215.5003 348.9065,-233.6239\" fill=\"none\" stroke=\"#000000\"/>\n",
       "<polygon fill=\"#000000\" points=\"345.4268,-234.0664 349.5236,-243.8371 352.4141,-233.6442 345.4268,-234.0664\" stroke=\"#000000\"/>\n",
       "</g>\n",
       "<!-- (&#39;D&#39;, 6) -->\n",
       "<g class=\"node\" id=\"node4\">\n",
       "<title>('D', 6)</title>\n",
       "<ellipse cx=\"116.8472\" cy=\"-18\" fill=\"none\" rx=\"35.194\" ry=\"18\" stroke=\"#000000\"/>\n",
       "<text fill=\"#000000\" font-family=\"Times,serif\" font-size=\"14.00\" text-anchor=\"middle\" x=\"116.8472\" y=\"-14.3\">('D', 6)</text>\n",
       "</g>\n",
       "<!-- (&#39;D&#39;, 6)&#45;&gt;(&#39;M&#39;, 24) -->\n",
       "<g class=\"edge\" id=\"edge6\">\n",
       "<title>('D', 6)-&gt;('M', 24)</title>\n",
       "<path d=\"M113.454,-36.2384C112.0544,-43.7614 110.3694,-52.8182 108.6934,-61.8267\" fill=\"none\" stroke=\"#000000\"/>\n",
       "<polygon fill=\"#000000\" points=\"105.2088,-61.4212 106.8206,-71.8927 112.0907,-62.7016 105.2088,-61.4212\" stroke=\"#000000\"/>\n",
       "</g>\n",
       "<!-- (&#39;M&#39;, 10) -->\n",
       "<g class=\"node\" id=\"node10\">\n",
       "<title>('M', 10)</title>\n",
       "<ellipse cx=\"144.8472\" cy=\"-262\" fill=\"none\" rx=\"41.6928\" ry=\"18\" stroke=\"#000000\"/>\n",
       "<text fill=\"#000000\" font-family=\"Times,serif\" font-size=\"14.00\" text-anchor=\"middle\" x=\"144.8472\" y=\"-258.3\">('M', 10)</text>\n",
       "</g>\n",
       "<!-- (&#39;D&#39;, 7)&#45;&gt;(&#39;M&#39;, 10) -->\n",
       "<g class=\"edge\" id=\"edge7\">\n",
       "<title>('D', 7)-&gt;('M', 10)</title>\n",
       "<path d=\"M98.7632,-206.6992C106.3024,-215.7463 115.7658,-227.1023 124.1523,-237.1662\" fill=\"none\" stroke=\"#000000\"/>\n",
       "<polygon fill=\"#000000\" points=\"121.4993,-239.4498 130.59,-244.8914 126.8769,-234.9685 121.4993,-239.4498\" stroke=\"#000000\"/>\n",
       "</g>\n",
       "<!-- (&#39;D&#39;, 2) -->\n",
       "<g class=\"node\" id=\"node6\">\n",
       "<title>('D', 2)</title>\n",
       "<ellipse cx=\"172.8472\" cy=\"-190\" fill=\"none\" rx=\"35.194\" ry=\"18\" stroke=\"#000000\"/>\n",
       "<text fill=\"#000000\" font-family=\"Times,serif\" font-size=\"14.00\" text-anchor=\"middle\" x=\"172.8472\" y=\"-186.3\">('D', 2)</text>\n",
       "</g>\n",
       "<!-- (&#39;D&#39;, 2)&#45;&gt;(&#39;M&#39;, 1) -->\n",
       "<g class=\"edge\" id=\"edge8\">\n",
       "<title>('D', 2)-&gt;('M', 1)</title>\n",
       "<path d=\"M188.5043,-206.3379C197.4631,-215.6862 208.8672,-227.5861 218.8294,-237.9815\" fill=\"none\" stroke=\"#000000\"/>\n",
       "<polygon fill=\"#000000\" points=\"216.3271,-240.4289 225.7731,-245.2271 221.381,-235.5855 216.3271,-240.4289\" stroke=\"#000000\"/>\n",
       "</g>\n",
       "<!-- (&#39;D&#39;, 2)&#45;&gt;(&#39;M&#39;, 10) -->\n",
       "<g class=\"edge\" id=\"edge9\">\n",
       "<title>('D', 2)-&gt;('M', 10)</title>\n",
       "<path d=\"M165.9258,-207.7978C162.7623,-215.9325 158.9444,-225.7499 155.432,-234.7819\" fill=\"none\" stroke=\"#000000\"/>\n",
       "<polygon fill=\"#000000\" points=\"152.1484,-233.5688 151.7859,-244.1575 158.6725,-236.106 152.1484,-233.5688\" stroke=\"#000000\"/>\n",
       "</g>\n",
       "<!-- (&#39;I&#39;, 3) -->\n",
       "<g class=\"node\" id=\"node7\">\n",
       "<title>('I', 3)</title>\n",
       "<ellipse cx=\"415.8472\" cy=\"-190\" fill=\"none\" rx=\"31.6951\" ry=\"18\" stroke=\"#000000\"/>\n",
       "<text fill=\"#000000\" font-family=\"Times,serif\" font-size=\"14.00\" text-anchor=\"middle\" x=\"415.8472\" y=\"-186.3\">('I', 3)</text>\n",
       "</g>\n",
       "<!-- (&#39;I&#39;, 3)&#45;&gt;(&#39;M&#39;, 19) -->\n",
       "<g class=\"edge\" id=\"edge10\">\n",
       "<title>('I', 3)-&gt;('M', 19)</title>\n",
       "<path d=\"M400.8708,-206.3379C392.3847,-215.5954 381.6049,-227.3553 372.1421,-237.6783\" fill=\"none\" stroke=\"#000000\"/>\n",
       "<polygon fill=\"#000000\" points=\"369.3996,-235.4905 365.2223,-245.2271 374.5597,-240.2206 369.3996,-235.4905\" stroke=\"#000000\"/>\n",
       "</g>\n",
       "<!-- (&#39;I&#39;, 5) -->\n",
       "<g class=\"node\" id=\"node8\">\n",
       "<title>('I', 5)</title>\n",
       "<ellipse cx=\"295.8472\" cy=\"-190\" fill=\"none\" rx=\"31.6951\" ry=\"18\" stroke=\"#000000\"/>\n",
       "<text fill=\"#000000\" font-family=\"Times,serif\" font-size=\"14.00\" text-anchor=\"middle\" x=\"295.8472\" y=\"-186.3\">('I', 5)</text>\n",
       "</g>\n",
       "<!-- (&#39;I&#39;, 5)&#45;&gt;(&#39;M&#39;, 1) -->\n",
       "<g class=\"edge\" id=\"edge11\">\n",
       "<title>('I', 5)-&gt;('M', 1)</title>\n",
       "<path d=\"M283.3228,-206.6992C276.6046,-215.6567 268.1889,-226.8777 260.697,-236.8669\" fill=\"none\" stroke=\"#000000\"/>\n",
       "<polygon fill=\"#000000\" points=\"257.8787,-234.7913 254.6787,-244.8914 263.4787,-238.9914 257.8787,-234.7913\" stroke=\"#000000\"/>\n",
       "</g>\n",
       "<!-- (&#39;I&#39;, 5)&#45;&gt;(&#39;M&#39;, 19) -->\n",
       "<g class=\"edge\" id=\"edge12\">\n",
       "<title>('I', 5)-&gt;('M', 19)</title>\n",
       "<path d=\"M308.3716,-206.6992C314.9261,-215.4386 323.0966,-226.3326 330.4485,-236.1351\" fill=\"none\" stroke=\"#000000\"/>\n",
       "<polygon fill=\"#000000\" points=\"327.8372,-238.4868 336.6373,-244.3868 333.4373,-234.2868 327.8372,-238.4868\" stroke=\"#000000\"/>\n",
       "</g>\n",
       "<!-- (&#39;D&#39;, 0) -->\n",
       "<g class=\"node\" id=\"node12\">\n",
       "<title>('D', 0)</title>\n",
       "<ellipse cx=\"241.8472\" cy=\"-334\" fill=\"none\" rx=\"35.194\" ry=\"18\" stroke=\"#000000\"/>\n",
       "<text fill=\"#000000\" font-family=\"Times,serif\" font-size=\"14.00\" text-anchor=\"middle\" x=\"241.8472\" y=\"-330.3\">('D', 0)</text>\n",
       "</g>\n",
       "<!-- (&#39;M&#39;, 1)&#45;&gt;(&#39;D&#39;, 0) -->\n",
       "<g class=\"edge\" id=\"edge13\">\n",
       "<title>('M', 1)-&gt;('D', 0)</title>\n",
       "<path d=\"M241.8472,-280.1686C241.8472,-287.869 241.8472,-297.0257 241.8472,-305.5834\" fill=\"none\" stroke=\"#000000\"/>\n",
       "<polygon fill=\"#000000\" points=\"238.3473,-305.5867 241.8472,-315.5867 245.3473,-305.5868 238.3473,-305.5867\" stroke=\"#000000\"/>\n",
       "</g>\n",
       "<!-- (&#39;M&#39;, 10)&#45;&gt;(&#39;D&#39;, 0) -->\n",
       "<g class=\"edge\" id=\"edge14\">\n",
       "<title>('M', 10)-&gt;('D', 0)</title>\n",
       "<path d=\"M165.8947,-277.6229C179.9047,-288.0221 198.4718,-301.8038 213.7412,-313.1378\" fill=\"none\" stroke=\"#000000\"/>\n",
       "<polygon fill=\"#000000\" points=\"211.7193,-315.9959 221.8351,-319.1457 215.8915,-310.375 211.7193,-315.9959\" stroke=\"#000000\"/>\n",
       "</g>\n",
       "<!-- (&#39;M&#39;, 19)&#45;&gt;(&#39;D&#39;, 0) -->\n",
       "<g class=\"edge\" id=\"edge15\">\n",
       "<title>('M', 19)-&gt;('D', 0)</title>\n",
       "<path d=\"M326.9432,-277.2693C310.9139,-287.9555 289.3394,-302.3385 271.925,-313.9481\" fill=\"none\" stroke=\"#000000\"/>\n",
       "<polygon fill=\"#000000\" points=\"269.6281,-311.2729 263.249,-319.7321 273.511,-317.0972 269.6281,-311.2729\" stroke=\"#000000\"/>\n",
       "</g>\n",
       "</g>\n",
       "</svg>"
      ],
      "text/plain": [
       "<IPython.core.display.SVG object>"
      ]
     },
     "metadata": {},
     "output_type": "display_data"
    }
   ],
   "source": [
    "y_pred_03 = m_it.predict(test, q_code=q_code)\n",
    "\n",
    "m_it.show_q_diagram()"
   ]
  },
  {
   "cell_type": "code",
   "execution_count": null,
   "metadata": {
    "Collapsed": "false"
   },
   "outputs": [],
   "source": []
  },
  {
   "cell_type": "code",
   "execution_count": null,
   "metadata": {
    "Collapsed": "false"
   },
   "outputs": [],
   "source": []
  },
  {
   "cell_type": "code",
   "execution_count": 18,
   "metadata": {
    "Collapsed": "false"
   },
   "outputs": [
    {
     "name": "stderr",
     "output_type": "stream",
     "text": [
      "ERROR:root:No traceback has been produced, nothing to debug.\n"
     ]
    }
   ],
   "source": [
    "%debug"
   ]
  },
  {
   "cell_type": "code",
   "execution_count": null,
   "metadata": {
    "Collapsed": "false"
   },
   "outputs": [],
   "source": []
  },
  {
   "cell_type": "code",
   "execution_count": null,
   "metadata": {
    "Collapsed": "false"
   },
   "outputs": [],
   "source": []
  },
  {
   "cell_type": "code",
   "execution_count": null,
   "metadata": {
    "Collapsed": "false"
   },
   "outputs": [],
   "source": []
  },
  {
   "cell_type": "code",
   "execution_count": null,
   "metadata": {
    "Collapsed": "false"
   },
   "outputs": [],
   "source": []
  }
 ],
 "metadata": {
  "kernelspec": {
   "display_name": "j-rwrf",
   "language": "python",
   "name": "j-rwrf"
  },
  "language_info": {
   "codemirror_mode": {
    "name": "ipython",
    "version": 3
   },
   "file_extension": ".py",
   "mimetype": "text/x-python",
   "name": "python",
   "nbconvert_exporter": "python",
   "pygments_lexer": "ipython3",
   "version": "3.7.5"
  },
  "toc-autonumbering": true
 },
 "nbformat": 4,
 "nbformat_minor": 4
}
