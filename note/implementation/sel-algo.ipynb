{
 "cells": [
  {
   "cell_type": "markdown",
   "metadata": {
    "Collapsed": "false"
   },
   "source": [
    "# Selection Algorithm"
   ]
  },
  {
   "cell_type": "code",
   "execution_count": 1,
   "metadata": {
    "Collapsed": "false"
   },
   "outputs": [],
   "source": [
    "import numpy as np\n",
    "\n",
    "from mercs.algo.selection import _set_missing, _ensure_desc_atts, _set_nb_targets\n",
    "\n",
    "TARG_ENCODING = 1"
   ]
  },
  {
   "cell_type": "code",
   "execution_count": 30,
   "metadata": {
    "Collapsed": "false"
   },
   "outputs": [],
   "source": [
    "def _nb_models_and_deficit(nb_targets, potential_targets):\n",
    "    \n",
    "    nb_potential_targets = potential_targets.shape[0]\n",
    "    \n",
    "    nb_models_with_regular_nb_targets =  nb_potential_targets // nb_targets\n",
    "    nb_leftover_targets = nb_potential_targets % nb_targets\n",
    "    \n",
    "    if nb_leftover_targets:\n",
    "        nb_models = nb_models_with_regular_nb_targets + 1\n",
    "        deficit = nb_targets - nb_leftover_targets\n",
    "    else:\n",
    "        nb_models = nb_models_with_regular_nb_targets\n",
    "        deficit = 0\n",
    "    \n",
    "    return nb_models, deficit\n",
    "\n",
    "def _init(nb_models, nb_attributes):\n",
    "    return np.zeros((nb_models, nb_attributes), dtype=int) \n",
    "\n",
    "def _target_sets(potential_targets, nb_targets, nb_models, deficit):\n",
    "    np.random.shuffle(potential_targets)\n",
    "    choices = np.r_[potential_targets, potential_targets[:deficit]]\n",
    "    \n",
    "    return np.random.choice(choices, replace=False, size=(nb_models, nb_targets))\n",
    "\n",
    "def _set_targets(m_codes, target_sets):\n",
    "    \n",
    "    row_idx = np.arange(m_codes.shape[0]).reshape(-1,1)\n",
    "    col_idx = target_sets\n",
    "    \n",
    "    m_codes[row_idx, col_idx] = TARG_ENCODING\n",
    "    return m_codes\n",
    "\n",
    "\n",
    "def _single_iteration_random_selection(nb_attributes, nb_targets, fraction_missing, potential_targets):\n",
    "    nb_models, deficit = _nb_models_and_deficit(nb_targets, potential_targets)\n",
    "\n",
    "    # Init\n",
    "    m_codes = _init(nb_models, nb_attributes)\n",
    "\n",
    "    target_sets = _target_sets(potential_targets, nb_targets, nb_models, deficit)\n",
    "\n",
    "    m_codes = _set_targets(m_codes, target_sets)\n",
    "    m_codes = _set_missing(m_codes, fraction_missing)\n",
    "    m_codes.astype(int)\n",
    "    return m_codes"
   ]
  },
  {
   "cell_type": "code",
   "execution_count": 31,
   "metadata": {
    "Collapsed": "false"
   },
   "outputs": [],
   "source": [
    "def base_selection_algorithm(metadata, nb_targets=1, nb_iterations=1, random_state=997):\n",
    "    m_codes = random_selection_algorithm(metadata, nb_targets=nb_targets, nb_iterations=nb_iterations, fraction_missing=0., random_state=random_state)\n",
    "    return m_codes"
   ]
  },
  {
   "cell_type": "code",
   "execution_count": 76,
   "metadata": {
    "Collapsed": "false"
   },
   "outputs": [],
   "source": [
    "def random_selection_algorithm(metadata, nb_targets=1, nb_iterations=1, fraction_missing=0.2, random_state=997):\n",
    "    \n",
    "    # Init\n",
    "    np.random.seed(random_state)\n",
    "    nb_attributes = metadata[\"n_attributes\"]\n",
    "    nb_targets = _set_nb_targets(nb_targets, nb_attributes)\n",
    "\n",
    "    codes = []\n",
    "    for attribute_kind in {'nominal_attributes', 'numeric_attributes'}:\n",
    "        potential_targets = np.array(list(metadata[attribute_kind]))\n",
    "        for iterations in range(nb_iterations):\n",
    "            m_codes = _single_iteration_random_selection(nb_attributes, nb_targets, fraction_missing, potential_targets)\n",
    "            codes.append(m_codes)\n",
    "\n",
    "    m_codes = np.vstack(codes)\n",
    "    \n",
    "    m_codes = ensure_desc_atts(m_codes)\n",
    "    return m_codes"
   ]
  },
  {
   "cell_type": "code",
   "execution_count": 34,
   "metadata": {
    "Collapsed": "false"
   },
   "outputs": [
    {
     "data": {
      "text/plain": [
       "{'n_attributes': 10,\n",
       " 'nominal_attributes': {0},\n",
       " 'numeric_attributes': {7, 8, 9}}"
      ]
     },
     "execution_count": 34,
     "metadata": {},
     "output_type": "execute_result"
    }
   ],
   "source": [
    "metadata"
   ]
  },
  {
   "cell_type": "code",
   "execution_count": 35,
   "metadata": {
    "Collapsed": "false"
   },
   "outputs": [],
   "source": [
    "metadata={'n_attributes': 10,\n",
    "          'nominal_attributes': {0,1,2,3,4,5,6},\n",
    "          'numeric_attributes': {7, 8, 9}}"
   ]
  },
  {
   "cell_type": "code",
   "execution_count": 75,
   "metadata": {
    "Collapsed": "false"
   },
   "outputs": [
    {
     "data": {
      "text/plain": [
       "array([[0., 0., 0., 0., 0., 0., 0., 1., 0., 1.],\n",
       "       [0., 0., 0., 0., 0., 0., 0., 0., 1., 1.],\n",
       "       [0., 0., 0., 1., 0., 1., 0., 0., 0., 0.],\n",
       "       [0., 0., 1., 0., 0., 0., 1., 0., 0., 0.],\n",
       "       [0., 0., 1., 0., 1., 0., 0., 0., 0., 0.],\n",
       "       [1., 1., 0., 0., 0., 0., 0., 0., 0., 0.]])"
      ]
     },
     "execution_count": 75,
     "metadata": {},
     "output_type": "execute_result"
    }
   ],
   "source": [
    "m_codes = base_selection_algorithm(metadata, nb_targets=2, nb_iterations=1, random_state=3)\n",
    "m_codes"
   ]
  },
  {
   "cell_type": "code",
   "execution_count": 48,
   "metadata": {
    "Collapsed": "false"
   },
   "outputs": [
    {
     "data": {
      "text/plain": [
       "array([7, 8, 9, 0, 2, 5, 1, 4, 6, 0, 3, 4])"
      ]
     },
     "execution_count": 48,
     "metadata": {},
     "output_type": "execute_result"
    }
   ],
   "source": [
    "np.where(m_codes==1)[1]"
   ]
  },
  {
   "cell_type": "code",
   "execution_count": null,
   "metadata": {
    "Collapsed": "false"
   },
   "outputs": [],
   "source": []
  },
  {
   "cell_type": "code",
   "execution_count": null,
   "metadata": {
    "Collapsed": "false"
   },
   "outputs": [],
   "source": []
  },
  {
   "cell_type": "code",
   "execution_count": 16,
   "metadata": {
    "Collapsed": "false"
   },
   "outputs": [],
   "source": []
  }
 ],
 "metadata": {
  "kernelspec": {
   "display_name": "mercs",
   "language": "python",
   "name": "mercs"
  },
  "language_info": {
   "codemirror_mode": {
    "name": "ipython",
    "version": 3
   },
   "file_extension": ".py",
   "mimetype": "text/x-python",
   "name": "python",
   "nbconvert_exporter": "python",
   "pygments_lexer": "ipython3",
   "version": "3.7.5"
  }
 },
 "nbformat": 4,
 "nbformat_minor": 4
}
