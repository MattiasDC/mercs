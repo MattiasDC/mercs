{
 "cells": [
  {
   "cell_type": "markdown",
   "metadata": {},
   "source": [
    "# Random Walks \n",
    "\n",
    "Once again, a notebook dedicated to the ultimate Random Walks implementation."
   ]
  },
  {
   "cell_type": "markdown",
   "metadata": {},
   "source": [
    "# Preliminaries"
   ]
  },
  {
   "cell_type": "code",
   "execution_count": 1,
   "metadata": {},
   "outputs": [],
   "source": [
    "import numpy as np\n",
    "import networkx as nx"
   ]
  },
  {
   "cell_type": "code",
   "execution_count": 2,
   "metadata": {},
   "outputs": [],
   "source": [
    "from mercs import Mercs\n",
    "from mercs.tests.setup import default_dataset\n",
    "from mercs.composition import CompositeModel\n",
    "from mercs.graph import model_to_graph\n",
    "from mercs.graph import compose_all, add_merge_nodes\n",
    "from mercs.algo.inference import dask_inference_algorithm"
   ]
  },
  {
   "cell_type": "markdown",
   "metadata": {},
   "source": [
    "# Train"
   ]
  },
  {
   "cell_type": "code",
   "execution_count": 3,
   "metadata": {},
   "outputs": [],
   "source": [
    "m_small = Mercs(\n",
    "    random_state=100,\n",
    "    prediction_algorithm=\"it\",\n",
    "    clf_criterion=\"entropy\",\n",
    "    rgr_criterion=\"mae\",\n",
    "    selection_algorithm=\"random\",\n",
    "    nb_iterations=5,\n",
    "    fraction_missing=0.5,\n",
    "    max_depth=4,\n",
    "    regression_max_depth=4,\n",
    ")\n",
    "\n",
    "X_train, X_test = default_dataset()\n",
    "\n",
    "m_small.fit(X_train, nominal_attributes={7})"
   ]
  },
  {
   "cell_type": "markdown",
   "metadata": {},
   "source": [
    "## IT"
   ]
  },
  {
   "cell_type": "code",
   "execution_count": 8,
   "metadata": {},
   "outputs": [
    {
     "name": "stdout",
     "output_type": "stream",
     "text": [
      "d-04\n",
      "d-01\n",
      "d-02\n",
      "d-00\n",
      "f-36\n",
      "d-06\n",
      "f-10\n",
      "f-20\n",
      "d-03\n",
      "f-02\n",
      "p-07\n",
      "v-07\n",
      "d-07\n"
     ]
    },
    {
     "data": {
      "image/svg+xml": [
       "<svg height=\"627pt\" viewBox=\"0.00 0.00 274.30 627.18\" width=\"274pt\" xmlns=\"http://www.w3.org/2000/svg\" xmlns:xlink=\"http://www.w3.org/1999/xlink\">\n",
       "<g class=\"graph\" id=\"graph0\" transform=\"scale(1 1) rotate(0) translate(4 623.181)\">\n",
       "<title>G</title>\n",
       "<polygon fill=\"white\" points=\"-4,4 -4,-623.181 270.295,-623.181 270.295,4 -4,4\" stroke=\"none\"/>\n",
       "<!-- d&#45;00 -->\n",
       "<g class=\"node\" id=\"node1\"><title>d-00</title>\n",
       "<ellipse cx=\"168.648\" cy=\"-26.6476\" fill=\"none\" rx=\"26.7961\" ry=\"26.7961\" stroke=\"black\"/>\n",
       "<text font-family=\"Times,serif\" font-size=\"14.00\" text-anchor=\"middle\" x=\"168.648\" y=\"-22.9476\">d-00</text>\n",
       "</g>\n",
       "<!-- f&#45;20 -->\n",
       "<g class=\"node\" id=\"node4\"><title>f-20</title>\n",
       "<polygon fill=\"none\" points=\"265.648,-161.295 193.648,-161.295 193.648,-89.2953 265.648,-89.2953 265.648,-161.295\" stroke=\"black\"/>\n",
       "<text font-family=\"Times,serif\" font-size=\"14.00\" text-anchor=\"middle\" x=\"229.648\" y=\"-121.595\">f-20</text>\n",
       "</g>\n",
       "<!-- d&#45;00&#45;&gt;f&#45;20 -->\n",
       "<g class=\"edge\" id=\"edge1\"><title>d-00-&gt;f-20</title>\n",
       "<path d=\"M182.489,-49.5785C188.314,-58.8071 195.308,-69.8882 202.104,-80.6561\" fill=\"none\" stroke=\"black\"/>\n",
       "<polygon fill=\"black\" points=\"199.189,-82.5949 207.486,-89.1833 205.109,-78.8587 199.189,-82.5949\" stroke=\"black\"/>\n",
       "</g>\n",
       "<!-- f&#45;36 -->\n",
       "<g class=\"node\" id=\"node8\"><title>f-36</title>\n",
       "<polygon fill=\"none\" points=\"137.648,-161.295 65.6476,-161.295 65.6476,-89.2953 137.648,-89.2953 137.648,-161.295\" stroke=\"black\"/>\n",
       "<text font-family=\"Times,serif\" font-size=\"14.00\" text-anchor=\"middle\" x=\"101.648\" y=\"-121.595\">f-36</text>\n",
       "</g>\n",
       "<!-- d&#45;00&#45;&gt;f&#45;36 -->\n",
       "<g class=\"edge\" id=\"edge2\"><title>d-00-&gt;f-36</title>\n",
       "<path d=\"M153.778,-49.0969C147.265,-58.4918 139.375,-69.8738 131.725,-80.9088\" fill=\"none\" stroke=\"black\"/>\n",
       "<polygon fill=\"black\" points=\"128.77,-79.0286 125.949,-89.241 134.522,-83.0167 128.77,-79.0286\" stroke=\"black\"/>\n",
       "</g>\n",
       "<!-- f&#45;10 -->\n",
       "<g class=\"node\" id=\"node13\"><title>f-10</title>\n",
       "<polygon fill=\"none\" points=\"87.6476,-358.591 15.6476,-358.591 15.6476,-286.591 87.6476,-286.591 87.6476,-358.591\" stroke=\"black\"/>\n",
       "<text font-family=\"Times,serif\" font-size=\"14.00\" text-anchor=\"middle\" x=\"51.6476\" y=\"-318.891\">f-10</text>\n",
       "</g>\n",
       "<!-- d&#45;00&#45;&gt;f&#45;10 -->\n",
       "<g class=\"edge\" id=\"edge3\"><title>d-00-&gt;f-10</title>\n",
       "<path d=\"M171.212,-53.3467C172.717,-82.5307 170.73,-130.128 146.648,-161.295 122.56,-192.469 88.9325,-165.518 65.6476,-197.295 49.234,-219.695 45.7253,-250.732 46.3243,-276.188\" fill=\"none\" stroke=\"black\"/>\n",
       "<polygon fill=\"black\" points=\"42.8357,-276.522 46.7828,-286.354 49.8286,-276.206 42.8357,-276.522\" stroke=\"black\"/>\n",
       "</g>\n",
       "<!-- d&#45;02 -->\n",
       "<g class=\"node\" id=\"node2\"><title>d-02</title>\n",
       "<ellipse cx=\"239.648\" cy=\"-26.6476\" fill=\"none\" rx=\"26.7961\" ry=\"26.7961\" stroke=\"black\"/>\n",
       "<text font-family=\"Times,serif\" font-size=\"14.00\" text-anchor=\"middle\" x=\"239.648\" y=\"-22.9476\">d-02</text>\n",
       "</g>\n",
       "<!-- d&#45;02&#45;&gt;f&#45;20 -->\n",
       "<g class=\"edge\" id=\"edge4\"><title>d-02-&gt;f-20</title>\n",
       "<path d=\"M236.994,-53.2937C236.179,-61.1718 235.256,-70.0898 234.347,-78.8791\" fill=\"none\" stroke=\"black\"/>\n",
       "<polygon fill=\"black\" points=\"230.84,-78.7607 233.293,-89.0679 237.803,-79.4812 230.84,-78.7607\" stroke=\"black\"/>\n",
       "</g>\n",
       "<!-- d&#45;03 -->\n",
       "<g class=\"node\" id=\"node3\"><title>d-03</title>\n",
       "<ellipse cx=\"220.648\" cy=\"-223.943\" fill=\"none\" rx=\"26.7961\" ry=\"26.7961\" stroke=\"black\"/>\n",
       "<text font-family=\"Times,serif\" font-size=\"14.00\" text-anchor=\"middle\" x=\"220.648\" y=\"-220.243\">d-03</text>\n",
       "</g>\n",
       "<!-- f&#45;02 -->\n",
       "<g class=\"node\" id=\"node10\"><title>f-02</title>\n",
       "<polygon fill=\"none\" points=\"187.648,-358.591 115.648,-358.591 115.648,-286.591 187.648,-286.591 187.648,-358.591\" stroke=\"black\"/>\n",
       "<text font-family=\"Times,serif\" font-size=\"14.00\" text-anchor=\"middle\" x=\"151.648\" y=\"-318.891\">f-02</text>\n",
       "</g>\n",
       "<!-- d&#45;03&#45;&gt;f&#45;02 -->\n",
       "<g class=\"edge\" id=\"edge5\"><title>d-03-&gt;f-02</title>\n",
       "<path d=\"M205.334,-246.392C198.627,-255.787 190.501,-267.169 182.623,-278.204\" fill=\"none\" stroke=\"black\"/>\n",
       "<polygon fill=\"black\" points=\"179.636,-276.364 176.674,-286.536 185.333,-280.431 179.636,-276.364\" stroke=\"black\"/>\n",
       "</g>\n",
       "<!-- f&#45;20&#45;&gt;d&#45;03 -->\n",
       "<g class=\"edge\" id=\"edge6\"><title>f-20-&gt;d-03</title>\n",
       "<path d=\"M226.373,-161.461C225.587,-169.902 224.747,-178.924 223.959,-187.383\" fill=\"none\" stroke=\"black\"/>\n",
       "<polygon fill=\"black\" points=\"220.474,-187.065 223.031,-197.346 227.443,-187.714 220.474,-187.065\" stroke=\"black\"/>\n",
       "</g>\n",
       "<!-- d&#45;01 -->\n",
       "<g class=\"node\" id=\"node5\"><title>d-01</title>\n",
       "<ellipse cx=\"97.6476\" cy=\"-26.6476\" fill=\"none\" rx=\"26.7961\" ry=\"26.7961\" stroke=\"black\"/>\n",
       "<text font-family=\"Times,serif\" font-size=\"14.00\" text-anchor=\"middle\" x=\"97.6476\" y=\"-22.9476\">d-01</text>\n",
       "</g>\n",
       "<!-- d&#45;01&#45;&gt;f&#45;36 -->\n",
       "<g class=\"edge\" id=\"edge7\"><title>d-01-&gt;f-36</title>\n",
       "<path d=\"M98.7091,-53.2937C99.0351,-61.1718 99.4042,-70.0898 99.768,-78.8791\" fill=\"none\" stroke=\"black\"/>\n",
       "<polygon fill=\"black\" points=\"96.279,-79.2212 100.19,-89.0679 103.273,-78.9316 96.279,-79.2212\" stroke=\"black\"/>\n",
       "</g>\n",
       "<!-- d&#45;04 -->\n",
       "<g class=\"node\" id=\"node6\"><title>d-04</title>\n",
       "<ellipse cx=\"26.6476\" cy=\"-26.6476\" fill=\"none\" rx=\"26.7961\" ry=\"26.7961\" stroke=\"black\"/>\n",
       "<text font-family=\"Times,serif\" font-size=\"14.00\" text-anchor=\"middle\" x=\"26.6476\" y=\"-22.9476\">d-04</text>\n",
       "</g>\n",
       "<!-- d&#45;04&#45;&gt;f&#45;36 -->\n",
       "<g class=\"edge\" id=\"edge8\"><title>d-04-&gt;f-36</title>\n",
       "<path d=\"M42.5532,-48.1441C49.9578,-57.6859 59.0664,-69.4235 67.8951,-80.8005\" fill=\"none\" stroke=\"black\"/>\n",
       "<polygon fill=\"black\" points=\"65.3501,-83.2299 74.2459,-88.9844 70.8803,-78.9384 65.3501,-83.2299\" stroke=\"black\"/>\n",
       "</g>\n",
       "<!-- d&#45;04&#45;&gt;f&#45;02 -->\n",
       "<g class=\"edge\" id=\"edge9\"><title>d-04-&gt;f-02</title>\n",
       "<path d=\"M25.8708,-53.4771C26.3447,-82.7822 31.3951,-130.492 56.6476,-161.295 81.6236,-191.762 114.363,-165.518 137.648,-197.295 154.061,-219.695 157.57,-250.732 156.971,-276.188\" fill=\"none\" stroke=\"black\"/>\n",
       "<polygon fill=\"black\" points=\"153.467,-276.206 156.512,-286.354 160.46,-276.522 153.467,-276.206\" stroke=\"black\"/>\n",
       "</g>\n",
       "<!-- d&#45;04&#45;&gt;f&#45;10 -->\n",
       "<g class=\"edge\" id=\"edge10\"><title>d-04-&gt;f-10</title>\n",
       "<path d=\"M24.8012,-53.322C22.3632,-95.0787 19.7556,-180.129 32.6476,-250.591 34.1992,-259.071 36.2552,-268.02 38.4413,-276.6\" fill=\"none\" stroke=\"black\"/>\n",
       "<polygon fill=\"black\" points=\"35.1062,-277.679 41.0449,-286.453 41.8739,-275.891 35.1062,-277.679\" stroke=\"black\"/>\n",
       "</g>\n",
       "<!-- d&#45;06 -->\n",
       "<g class=\"node\" id=\"node7\"><title>d-06</title>\n",
       "<ellipse cx=\"101.648\" cy=\"-223.943\" fill=\"none\" rx=\"26.7961\" ry=\"26.7961\" stroke=\"black\"/>\n",
       "<text font-family=\"Times,serif\" font-size=\"14.00\" text-anchor=\"middle\" x=\"101.648\" y=\"-220.243\">d-06</text>\n",
       "</g>\n",
       "<!-- d&#45;06&#45;&gt;f&#45;02 -->\n",
       "<g class=\"edge\" id=\"edge11\"><title>d-06-&gt;f-02</title>\n",
       "<path d=\"M113.497,-247.847C118.098,-256.741 123.53,-267.24 128.83,-277.485\" fill=\"none\" stroke=\"black\"/>\n",
       "<polygon fill=\"black\" points=\"125.726,-279.102 133.43,-286.376 131.943,-275.886 125.726,-279.102\" stroke=\"black\"/>\n",
       "</g>\n",
       "<!-- d&#45;06&#45;&gt;f&#45;10 -->\n",
       "<g class=\"edge\" id=\"edge12\"><title>d-06-&gt;f-10</title>\n",
       "<path d=\"M89.7983,-247.847C85.1972,-256.741 79.7653,-267.24 74.4652,-277.485\" fill=\"none\" stroke=\"black\"/>\n",
       "<polygon fill=\"black\" points=\"71.352,-275.886 69.8657,-286.376 77.5693,-279.102 71.352,-275.886\" stroke=\"black\"/>\n",
       "</g>\n",
       "<!-- f&#45;36&#45;&gt;d&#45;06 -->\n",
       "<g class=\"edge\" id=\"edge13\"><title>f-36-&gt;d-06</title>\n",
       "<path d=\"M101.648,-161.461C101.648,-169.734 101.648,-178.564 101.648,-186.876\" fill=\"none\" stroke=\"black\"/>\n",
       "<polygon fill=\"black\" points=\"98.1477,-187.046 101.648,-197.046 105.148,-187.046 98.1477,-187.046\" stroke=\"black\"/>\n",
       "</g>\n",
       "<!-- d&#45;07 -->\n",
       "<g class=\"node\" id=\"node9\"><title>d-07</title>\n",
       "<ellipse cx=\"101.648\" cy=\"-592.533\" fill=\"none\" rx=\"26.7961\" ry=\"26.7961\" stroke=\"black\"/>\n",
       "<text font-family=\"Times,serif\" font-size=\"14.00\" text-anchor=\"middle\" x=\"101.648\" y=\"-588.833\">d-07</text>\n",
       "</g>\n",
       "<!-- p&#45;07 -->\n",
       "<g class=\"node\" id=\"node11\"><title>p-07</title>\n",
       "<ellipse cx=\"101.648\" cy=\"-421.238\" fill=\"none\" rx=\"26.7961\" ry=\"26.7961\" stroke=\"black\"/>\n",
       "<text font-family=\"Times,serif\" font-size=\"14.00\" text-anchor=\"middle\" x=\"101.648\" y=\"-417.538\">p-07</text>\n",
       "</g>\n",
       "<!-- f&#45;02&#45;&gt;p&#45;07 -->\n",
       "<g class=\"edge\" id=\"edge14\"><title>f-02-&gt;p-07</title>\n",
       "<path d=\"M133.455,-358.756C128.471,-368.39 123.096,-378.779 118.209,-388.227\" fill=\"none\" stroke=\"black\"/>\n",
       "<polygon fill=\"black\" points=\"115.003,-386.807 113.516,-397.297 121.22,-390.023 115.003,-386.807\" stroke=\"black\"/>\n",
       "</g>\n",
       "<!-- v&#45;07 -->\n",
       "<g class=\"node\" id=\"node12\"><title>v-07</title>\n",
       "<polygon fill=\"none\" points=\"101.648,-529.886 48.5563,-495.386 154.739,-495.386 101.648,-529.886\" stroke=\"black\"/>\n",
       "<text font-family=\"Times,serif\" font-size=\"14.00\" text-anchor=\"middle\" x=\"101.648\" y=\"-503.186\">v-07</text>\n",
       "</g>\n",
       "<!-- p&#45;07&#45;&gt;v&#45;07 -->\n",
       "<g class=\"edge\" id=\"edge15\"><title>p-07-&gt;v-07</title>\n",
       "<path d=\"M101.648,-448.246C101.648,-460.044 101.648,-473.811 101.648,-484.931\" fill=\"none\" stroke=\"black\"/>\n",
       "<polygon fill=\"black\" points=\"98.1477,-484.999 101.648,-494.999 105.148,-484.999 98.1477,-484.999\" stroke=\"black\"/>\n",
       "</g>\n",
       "<!-- v&#45;07&#45;&gt;d&#45;07 -->\n",
       "<g class=\"edge\" id=\"edge16\"><title>v-07-&gt;d-07</title>\n",
       "<path d=\"M101.648,-530.302C101.648,-538.077 101.648,-547.003 101.648,-555.591\" fill=\"none\" stroke=\"black\"/>\n",
       "<polygon fill=\"black\" points=\"98.1477,-555.798 101.648,-565.798 105.148,-555.798 98.1477,-555.798\" stroke=\"black\"/>\n",
       "</g>\n",
       "<!-- f&#45;10&#45;&gt;p&#45;07 -->\n",
       "<g class=\"edge\" id=\"edge17\"><title>f-10-&gt;p-07</title>\n",
       "<path d=\"M69.8402,-358.756C74.8244,-368.39 80.1993,-378.779 85.0867,-388.227\" fill=\"none\" stroke=\"black\"/>\n",
       "<polygon fill=\"black\" points=\"82.0754,-390.023 89.779,-397.297 88.2927,-386.807 82.0754,-390.023\" stroke=\"black\"/>\n",
       "</g>\n",
       "</g>\n",
       "</svg>"
      ],
      "text/plain": [
       "<IPython.core.display.SVG object>"
      ]
     },
     "metadata": {},
     "output_type": "display_data"
    }
   ],
   "source": [
    "q_code = np.array([0, 0, 0, -1, 0, -1, -1, 1])\n",
    "\n",
    "y_pred = m_small.predict(X_test, q_code=q_code, prediction_algorithm=\"it-new\")\n",
    "m_small.show_q_diagram()"
   ]
  },
  {
   "cell_type": "markdown",
   "metadata": {},
   "source": [
    "## RW"
   ]
  },
  {
   "cell_type": "code",
   "execution_count": 9,
   "metadata": {},
   "outputs": [
    {
     "name": "stdout",
     "output_type": "stream",
     "text": [
      "['d-01', 'd-02', 'd-04', 'd-07', 'd-06', 'f-09']\n",
      "{1, 2, 4, 7} {6}\n",
      "['d-00', 'd-04', 'd-06', 'd-07', 'f-10', 'p-07', 'v-07']\n",
      "{0, 4, 6} {7}\n",
      "d-00\n",
      "I(d-07)\n",
      "d-04\n",
      "d-02\n",
      "d-01\n",
      "f-09\n",
      "d-06\n",
      "f-10\n",
      "p-07\n",
      "v-07\n",
      "d-07\n"
     ]
    },
    {
     "data": {
      "image/png": "[encoded data removed]",
      "text/plain": [
       "<IPython.core.display.Image object>"
      ]
     },
     "metadata": {
      "image/png": {
       "width": 200
      }
     },
     "output_type": "display_data"
    }
   ],
   "source": [
    "y_pred = m_small.predict(X_test, q_code=q_code, prediction_algorithm=\"rw-new\", max_steps=2)\n",
    "m_small.show_q_diagram(kind='png', width=200)"
   ]
  },
  {
   "cell_type": "markdown",
   "metadata": {},
   "source": [
    "# Recursion"
   ]
  },
  {
   "cell_type": "code",
   "execution_count": 10,
   "metadata": {},
   "outputs": [
    {
     "ename": "KeyError",
     "evalue": "'p-07'",
     "output_type": "error",
     "traceback": [
      "\u001b[0;31m---------------------------------------------------------------------------\u001b[0m",
      "\u001b[0;31mKeyError\u001b[0m                                  Traceback (most recent call last)",
      "\u001b[0;32m<ipython-input-10-d15d43c6038c>\u001b[0m in \u001b[0;36m<module>\u001b[0;34m\u001b[0m\n\u001b[0;32m----> 1\u001b[0;31m \u001b[0mcm\u001b[0m \u001b[0;34m=\u001b[0m \u001b[0mCompositeModel\u001b[0m\u001b[0;34m(\u001b[0m\u001b[0mm_small\u001b[0m\u001b[0;34m.\u001b[0m\u001b[0mq_diagram\u001b[0m\u001b[0;34m,\u001b[0m \u001b[0mm_small\u001b[0m\u001b[0;34m.\u001b[0m\u001b[0mq_methods\u001b[0m\u001b[0;34m)\u001b[0m\u001b[0;34m\u001b[0m\u001b[0;34m\u001b[0m\u001b[0m\n\u001b[0m\u001b[1;32m      2\u001b[0m \u001b[0mtypes\u001b[0m \u001b[0;34m=\u001b[0m \u001b[0mm_small\u001b[0m\u001b[0;34m.\u001b[0m\u001b[0m_get_types\u001b[0m\u001b[0;34m(\u001b[0m\u001b[0mm_small\u001b[0m\u001b[0;34m.\u001b[0m\u001b[0mmetadata\u001b[0m\u001b[0;34m)\u001b[0m\u001b[0;34m\u001b[0m\u001b[0;34m\u001b[0m\u001b[0m\n\u001b[1;32m      3\u001b[0m \u001b[0;34m\u001b[0m\u001b[0m\n\u001b[1;32m      4\u001b[0m \u001b[0mg1\u001b[0m \u001b[0;34m=\u001b[0m \u001b[0mmodel_to_graph\u001b[0m\u001b[0;34m(\u001b[0m\u001b[0mcm\u001b[0m\u001b[0;34m,\u001b[0m \u001b[0mtypes\u001b[0m\u001b[0;34m,\u001b[0m \u001b[0midx\u001b[0m\u001b[0;34m=\u001b[0m\u001b[0;36m99\u001b[0m\u001b[0;34m)\u001b[0m\u001b[0;34m\u001b[0m\u001b[0;34m\u001b[0m\u001b[0m\n\u001b[1;32m      5\u001b[0m \u001b[0mg2\u001b[0m \u001b[0;34m=\u001b[0m \u001b[0mmodel_to_graph\u001b[0m\u001b[0;34m(\u001b[0m\u001b[0mcm\u001b[0m\u001b[0;34m,\u001b[0m \u001b[0mtypes\u001b[0m\u001b[0;34m,\u001b[0m \u001b[0midx\u001b[0m\u001b[0;34m=\u001b[0m\u001b[0;36m100\u001b[0m\u001b[0;34m)\u001b[0m\u001b[0;34m\u001b[0m\u001b[0;34m\u001b[0m\u001b[0m\n",
      "\u001b[0;32m/cw/dtailocal/repos/mercs/src/mercs/composition/CompositeModel.py\u001b[0m in \u001b[0;36m__init__\u001b[0;34m(self, diagram, methods, desc_ids, targ_ids)\u001b[0m\n\u001b[1;32m     44\u001b[0m             )\n\u001b[1;32m     45\u001b[0m \u001b[0;34m\u001b[0m\u001b[0m\n\u001b[0;32m---> 46\u001b[0;31m             \u001b[0mself\u001b[0m\u001b[0;34m.\u001b[0m\u001b[0mpredict_proba\u001b[0m \u001b[0;34m=\u001b[0m \u001b[0m_get_predict_proba\u001b[0m\u001b[0;34m(\u001b[0m\u001b[0mmethods\u001b[0m\u001b[0;34m,\u001b[0m \u001b[0mself\u001b[0m\u001b[0;34m.\u001b[0m\u001b[0mnominal_targ_ids\u001b[0m\u001b[0;34m)\u001b[0m\u001b[0;34m\u001b[0m\u001b[0;34m\u001b[0m\u001b[0m\n\u001b[0m\u001b[1;32m     47\u001b[0m             \u001b[0mself\u001b[0m\u001b[0;34m.\u001b[0m\u001b[0mclasses_\u001b[0m \u001b[0;34m=\u001b[0m \u001b[0m_get_classes\u001b[0m\u001b[0;34m(\u001b[0m\u001b[0mdiagram\u001b[0m\u001b[0;34m,\u001b[0m \u001b[0mself\u001b[0m\u001b[0;34m.\u001b[0m\u001b[0mnominal_targ_ids\u001b[0m\u001b[0;34m)\u001b[0m\u001b[0;34m\u001b[0m\u001b[0;34m\u001b[0m\u001b[0m\n\u001b[1;32m     48\u001b[0m \u001b[0;34m\u001b[0m\u001b[0m\n",
      "\u001b[0;32m/cw/dtailocal/repos/mercs/src/mercs/composition/CompositeModel.py\u001b[0m in \u001b[0;36m_get_predict_proba\u001b[0;34m(methods, nominal_targ_ids)\u001b[0m\n\u001b[1;32m    101\u001b[0m \u001b[0;34m\u001b[0m\u001b[0m\n\u001b[1;32m    102\u001b[0m     \u001b[0mnominal_targ_ids\u001b[0m\u001b[0;34m.\u001b[0m\u001b[0msort\u001b[0m\u001b[0;34m(\u001b[0m\u001b[0;34m)\u001b[0m\u001b[0;34m\u001b[0m\u001b[0;34m\u001b[0m\u001b[0m\n\u001b[0;32m--> 103\u001b[0;31m     \u001b[0mtgt_methods\u001b[0m \u001b[0;34m=\u001b[0m \u001b[0;34m[\u001b[0m\u001b[0mmethods\u001b[0m\u001b[0;34m[\u001b[0m\u001b[0mnode_label\u001b[0m\u001b[0;34m(\u001b[0m\u001b[0mt\u001b[0m\u001b[0;34m,\u001b[0m \u001b[0mkind\u001b[0m\u001b[0;34m=\u001b[0m\u001b[0;34m\"prob\"\u001b[0m\u001b[0;34m)\u001b[0m\u001b[0;34m]\u001b[0m \u001b[0;32mfor\u001b[0m \u001b[0mt\u001b[0m \u001b[0;32min\u001b[0m \u001b[0mnominal_targ_ids\u001b[0m\u001b[0;34m]\u001b[0m\u001b[0;34m\u001b[0m\u001b[0;34m\u001b[0m\u001b[0m\n\u001b[0m\u001b[1;32m    104\u001b[0m \u001b[0;34m\u001b[0m\u001b[0m\n\u001b[1;32m    105\u001b[0m     \u001b[0;32mif\u001b[0m \u001b[0mlen\u001b[0m\u001b[0;34m(\u001b[0m\u001b[0mtgt_methods\u001b[0m\u001b[0;34m)\u001b[0m \u001b[0;34m==\u001b[0m \u001b[0;36m1\u001b[0m\u001b[0;34m:\u001b[0m\u001b[0;34m\u001b[0m\u001b[0;34m\u001b[0m\u001b[0m\n",
      "\u001b[0;32m/cw/dtailocal/repos/mercs/src/mercs/composition/CompositeModel.py\u001b[0m in \u001b[0;36m<listcomp>\u001b[0;34m(.0)\u001b[0m\n\u001b[1;32m    101\u001b[0m \u001b[0;34m\u001b[0m\u001b[0m\n\u001b[1;32m    102\u001b[0m     \u001b[0mnominal_targ_ids\u001b[0m\u001b[0;34m.\u001b[0m\u001b[0msort\u001b[0m\u001b[0;34m(\u001b[0m\u001b[0;34m)\u001b[0m\u001b[0;34m\u001b[0m\u001b[0;34m\u001b[0m\u001b[0m\n\u001b[0;32m--> 103\u001b[0;31m     \u001b[0mtgt_methods\u001b[0m \u001b[0;34m=\u001b[0m \u001b[0;34m[\u001b[0m\u001b[0mmethods\u001b[0m\u001b[0;34m[\u001b[0m\u001b[0mnode_label\u001b[0m\u001b[0;34m(\u001b[0m\u001b[0mt\u001b[0m\u001b[0;34m,\u001b[0m \u001b[0mkind\u001b[0m\u001b[0;34m=\u001b[0m\u001b[0;34m\"prob\"\u001b[0m\u001b[0;34m)\u001b[0m\u001b[0;34m]\u001b[0m \u001b[0;32mfor\u001b[0m \u001b[0mt\u001b[0m \u001b[0;32min\u001b[0m \u001b[0mnominal_targ_ids\u001b[0m\u001b[0;34m]\u001b[0m\u001b[0;34m\u001b[0m\u001b[0;34m\u001b[0m\u001b[0m\n\u001b[0m\u001b[1;32m    104\u001b[0m \u001b[0;34m\u001b[0m\u001b[0m\n\u001b[1;32m    105\u001b[0m     \u001b[0;32mif\u001b[0m \u001b[0mlen\u001b[0m\u001b[0;34m(\u001b[0m\u001b[0mtgt_methods\u001b[0m\u001b[0;34m)\u001b[0m \u001b[0;34m==\u001b[0m \u001b[0;36m1\u001b[0m\u001b[0;34m:\u001b[0m\u001b[0;34m\u001b[0m\u001b[0;34m\u001b[0m\u001b[0m\n",
      "\u001b[0;31mKeyError\u001b[0m: 'p-07'"
     ]
    }
   ],
   "source": [
    "cm = CompositeModel(m_small.q_diagram, m_small.q_methods)\n",
    "types = m_small._get_types(m_small.metadata)\n",
    "\n",
    "g1 = model_to_graph(cm, types, idx=99)\n",
    "g2 = model_to_graph(cm, types, idx=100)"
   ]
  },
  {
   "cell_type": "code",
   "execution_count": null,
   "metadata": {},
   "outputs": [],
   "source": [
    "for n,d in m_small.q_diagram.nodes(data=True):\n",
    "    if d.get(\"function\", None) is not None:\n",
    "        print(n)"
   ]
  },
  {
   "cell_type": "raw",
   "metadata": {},
   "source": [
    "g = compose_all([g1,g2])\n",
    "g.nodes"
   ]
  },
  {
   "cell_type": "code",
   "execution_count": null,
   "metadata": {},
   "outputs": [],
   "source": [
    "sorted_nodes = list(nx.topological_sort(g))\n",
    "sorted_nodes"
   ]
  },
  {
   "cell_type": "code",
   "execution_count": null,
   "metadata": {},
   "outputs": [],
   "source": [
    "filtered_nodes = []\n",
    "for n in reversed(sorted_nodes):\n",
    "    if g.nodes[n][\"kind\"] == 'model': break\n",
    "    filtered_nodes.append(n)\n",
    "filtered_nodes = list(reversed(filtered_nodes))\n",
    "filtered_nodes"
   ]
  },
  {
   "cell_type": "code",
   "execution_count": null,
   "metadata": {},
   "outputs": [],
   "source": [
    "functions = dask_inference_algorithm(g, sorted_nodes=filtered_nodes)"
   ]
  },
  {
   "cell_type": "code",
   "execution_count": null,
   "metadata": {},
   "outputs": [],
   "source": []
  },
  {
   "cell_type": "code",
   "execution_count": null,
   "metadata": {},
   "outputs": [],
   "source": []
  }
 ],
 "metadata": {
  "kernelspec": {
   "display_name": "mercs",
   "language": "python",
   "name": "mercs"
  },
  "language_info": {
   "codemirror_mode": {
    "name": "ipython",
    "version": 3
   },
   "file_extension": ".py",
   "mimetype": "text/x-python",
   "name": "python",
   "nbconvert_exporter": "python",
   "pygments_lexer": "ipython3",
   "version": "3.7.4"
  },
  "toc-autonumbering": true,
  "toc-showcode": false,
  "toc-showtags": false
 },
 "nbformat": 4,
 "nbformat_minor": 4
}
