{
 "cells": [
  {
   "cell_type": "markdown",
   "metadata": {},
   "source": [
    "# Test on Large StarAI DS\n",
    "\n",
    "Sanity check to assess performance and to make sure I do not make mortal mistakes."
   ]
  },
  {
   "cell_type": "code",
   "execution_count": 1,
   "metadata": {},
   "outputs": [],
   "source": [
    "import mercs\n",
    "import numpy as np\n",
    "\n",
    "import os\n",
    "import pandas as pd\n",
    "\n",
    "from mercs.core import Mercs\n",
    "from os.path import dirname"
   ]
  },
  {
   "cell_type": "markdown",
   "metadata": {},
   "source": [
    "# Setup"
   ]
  },
  {
   "cell_type": "code",
   "execution_count": 2,
   "metadata": {},
   "outputs": [],
   "source": [
    "root = dirname(dirname(os.getcwd()))\n",
    "data = os.path.join(root, 'data', 'step-01')\n",
    "\n",
    "ds = 'ad'\n",
    "fns = ['{}-train.csv'.format(ds), '{}-test.csv'.format(ds)]\n",
    "\n",
    "train = pd.read_csv(os.path.join(data, fns[0]), header=None).values\n",
    "test = pd.read_csv(os.path.join(data,fns[1]), header=None).values"
   ]
  },
  {
   "cell_type": "code",
   "execution_count": 3,
   "metadata": {},
   "outputs": [],
   "source": [
    "\n",
    "clf = Mercs(\n",
    "    max_depth=16,\n",
    "    selection_algorithm=\"random\",\n",
    "    fraction_missing=0.3,\n",
    "    nb_targets=4,\n",
    "    nb_iterations=4,\n",
    "    n_jobs=8,\n",
    "    verbose=1,\n",
    "    inference_algorithm=\"dask\",\n",
    "    max_steps=8,\n",
    "    prediction_algorithm=\"it\",\n",
    "    random_state=800\n",
    ")"
   ]
  },
  {
   "cell_type": "code",
   "execution_count": 4,
   "metadata": {},
   "outputs": [],
   "source": [
    "nominal_attributes = set(range(train.shape[1]))"
   ]
  },
  {
   "cell_type": "code",
   "execution_count": 5,
   "metadata": {},
   "outputs": [
    {
     "name": "stderr",
     "output_type": "stream",
     "text": [
      "/cw/dtailocal/repos/mercs/src/mercs/algo/induction.py:100: UserWarning: \n",
      "        Training is being parallellized using Joblib. Number of jobs = 8\n",
      "        \n",
      "  warnings.warn(msg)\n",
      "[Parallel(n_jobs=8)]: Using backend LokyBackend with 8 concurrent workers.\n",
      "[Parallel(n_jobs=8)]: Done  34 tasks      | elapsed:    4.1s\n",
      "[Parallel(n_jobs=8)]: Done 184 tasks      | elapsed:    7.7s\n",
      "[Parallel(n_jobs=8)]: Done 434 tasks      | elapsed:   13.3s\n",
      "[Parallel(n_jobs=8)]: Done 784 tasks      | elapsed:   21.6s\n",
      "[Parallel(n_jobs=8)]: Done 1234 tasks      | elapsed:   32.1s\n",
      "[Parallel(n_jobs=8)]: Done 1556 out of 1556 | elapsed:   39.3s finished\n"
     ]
    }
   ],
   "source": [
    "clf.fit(train, nominal_attributes=nominal_attributes)"
   ]
  },
  {
   "cell_type": "raw",
   "metadata": {},
   "source": [
    "import dill as pkl\n",
    "\n",
    "with open('file-all.pkl', 'wb') as f:\n",
    "    pkl.dump(clf, f)\n",
    "    \n",
    "del clf.m_list\n",
    "\n",
    "with open('file-nomodels.pkl', 'wb') as f:\n",
    "    pkl.dump(clf, f)\n",
    "    \n",
    "del clf.m_codes\n",
    "\n",
    "with open('file-nocodes.pkl', 'wb') as f:\n",
    "    pkl.dump(clf, f)\n",
    "    \n",
    "del clf.m_fimps\n",
    "del clf.m_score\n",
    "\n",
    "with open('file-nonothing.pkl', 'wb') as f:\n",
    "    pkl.dump(clf, f)"
   ]
  },
  {
   "cell_type": "code",
   "execution_count": 6,
   "metadata": {},
   "outputs": [],
   "source": [
    "from joblib import dump, load\n",
    "import blosc\n",
    "import dill as pkl"
   ]
  },
  {
   "cell_type": "code",
   "execution_count": 7,
   "metadata": {},
   "outputs": [],
   "source": [
    "with open('dill.pkl', 'wb') as f:\n",
    "    pkl.dump(clf, f, protocol=4) "
   ]
  },
  {
   "cell_type": "code",
   "execution_count": 12,
   "metadata": {},
   "outputs": [
    {
     "name": "stdout",
     "output_type": "stream",
     "text": [
      "30 s ± 540 ms per loop (mean ± std. dev. of 7 runs, 1 loop each)\n"
     ]
    }
   ],
   "source": [
    "dump(clf, 'model.lz4', compress='lz4') "
   ]
  },
  {
   "cell_type": "code",
   "execution_count": 9,
   "metadata": {},
   "outputs": [],
   "source": [
    "clf.m_codes = blosc.pack_array(clf.m_codes)\n",
    "clf.m_score = blosc.pack_array(clf.m_score)\n",
    "clf.m_fimps = blosc.pack_array(clf.m_fimps)"
   ]
  },
  {
   "cell_type": "code",
   "execution_count": null,
   "metadata": {},
   "outputs": [],
   "source": [
    "\n",
    "%timeit clf = load('model.lz4') "
   ]
  },
  {
   "cell_type": "code",
   "execution_count": null,
   "metadata": {},
   "outputs": [],
   "source": []
  },
  {
   "cell_type": "code",
   "execution_count": null,
   "metadata": {},
   "outputs": [],
   "source": []
  },
  {
   "cell_type": "code",
   "execution_count": 11,
   "metadata": {},
   "outputs": [],
   "source": [
    "with open('dill.pkl', 'wb') as f:\n",
    "    pkl.dump(clf, f, protocol=4) "
   ]
  },
  {
   "cell_type": "code",
   "execution_count": null,
   "metadata": {},
   "outputs": [],
   "source": []
  },
  {
   "cell_type": "code",
   "execution_count": null,
   "metadata": {},
   "outputs": [],
   "source": []
  },
  {
   "cell_type": "code",
   "execution_count": null,
   "metadata": {},
   "outputs": [],
   "source": []
  },
  {
   "cell_type": "code",
   "execution_count": null,
   "metadata": {},
   "outputs": [],
   "source": []
  },
  {
   "cell_type": "code",
   "execution_count": null,
   "metadata": {},
   "outputs": [],
   "source": []
  },
  {
   "cell_type": "code",
   "execution_count": null,
   "metadata": {},
   "outputs": [],
   "source": []
  },
  {
   "cell_type": "code",
   "execution_count": null,
   "metadata": {},
   "outputs": [],
   "source": []
  },
  {
   "cell_type": "code",
   "execution_count": null,
   "metadata": {},
   "outputs": [],
   "source": [
    "\n"
   ]
  },
  {
   "cell_type": "code",
   "execution_count": null,
   "metadata": {},
   "outputs": [],
   "source": []
  },
  {
   "cell_type": "code",
   "execution_count": null,
   "metadata": {},
   "outputs": [],
   "source": []
  }
 ],
 "metadata": {
  "kernelspec": {
   "display_name": "mercs",
   "language": "python",
   "name": "mercs"
  },
  "language_info": {
   "codemirror_mode": {
    "name": "ipython",
    "version": 3
   },
   "file_extension": ".py",
   "mimetype": "text/x-python",
   "name": "python",
   "nbconvert_exporter": "python",
   "pygments_lexer": "ipython3",
   "version": "3.7.4"
  }
 },
 "nbformat": 4,
 "nbformat_minor": 4
}
