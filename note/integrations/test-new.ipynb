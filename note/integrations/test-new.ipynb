{
 "cells": [
  {
   "cell_type": "markdown",
   "metadata": {},
   "source": [
    "# Towards Scalability\n",
    "\n",
    "Integration test of some more recent innovations in MERCS in order to make it scale to datasets in the region of 10**3 attributes."
   ]
  },
  {
   "cell_type": "markdown",
   "metadata": {},
   "source": [
    "# Prelims"
   ]
  },
  {
   "cell_type": "code",
   "execution_count": 82,
   "metadata": {},
   "outputs": [],
   "source": [
    "import mercs\n",
    "import numpy as np\n",
    "from mercs.tests import load_iris, default_dataset\n",
    "from mercs.core import Mercs"
   ]
  },
  {
   "cell_type": "markdown",
   "metadata": {},
   "source": [
    "## Helpers"
   ]
  },
  {
   "cell_type": "code",
   "execution_count": null,
   "metadata": {},
   "outputs": [],
   "source": []
  },
  {
   "cell_type": "code",
   "execution_count": null,
   "metadata": {},
   "outputs": [],
   "source": []
  },
  {
   "cell_type": "markdown",
   "metadata": {},
   "source": [
    "# Setup"
   ]
  },
  {
   "cell_type": "code",
   "execution_count": 83,
   "metadata": {},
   "outputs": [],
   "source": [
    "train, test, nominal_ids = load_iris() "
   ]
  },
  {
   "cell_type": "code",
   "execution_count": 84,
   "metadata": {},
   "outputs": [
    {
     "data": {
      "text/plain": [
       "{4}"
      ]
     },
     "execution_count": 84,
     "metadata": {},
     "output_type": "execute_result"
    }
   ],
   "source": [
    "nominal_ids"
   ]
  },
  {
   "cell_type": "code",
   "execution_count": 86,
   "metadata": {},
   "outputs": [
    {
     "data": {
      "text/plain": [
       "(120, 5)"
      ]
     },
     "execution_count": 86,
     "metadata": {},
     "output_type": "execute_result"
    }
   ],
   "source": [
    "train.shape"
   ]
  },
  {
   "cell_type": "markdown",
   "metadata": {},
   "source": [
    "# Sandbox"
   ]
  },
  {
   "cell_type": "markdown",
   "metadata": {},
   "source": [
    "## Fit"
   ]
  },
  {
   "cell_type": "code",
   "execution_count": 87,
   "metadata": {},
   "outputs": [],
   "source": [
    "clf = Mercs(max_depth=2)\n",
    "clf.fit(train, nominal_attributes=nominal_ids)"
   ]
  },
  {
   "cell_type": "code",
   "execution_count": null,
   "metadata": {},
   "outputs": [],
   "source": []
  },
  {
   "cell_type": "code",
   "execution_count": null,
   "metadata": {},
   "outputs": [],
   "source": []
  },
  {
   "cell_type": "code",
   "execution_count": 97,
   "metadata": {},
   "outputs": [],
   "source": [
    "train, test = default_dataset(n_features=2*10**1)\n",
    "clf = Mercs(max_depth=4, selection_algorithm=\"random\", fraction_missing=0.6, nb_targets =3, nb_iterations=2, n_jobs=8, verbose=1, inference_algorithm=\"ndask\", max_steps=8, prediction_algorithm=\"vit\")"
   ]
  },
  {
   "cell_type": "code",
   "execution_count": 98,
   "metadata": {},
   "outputs": [
    {
     "name": "stderr",
     "output_type": "stream",
     "text": [
      "/cw/dtailocal/repos/mercs/src/mercs/algo/induction.py:100: UserWarning: \n",
      "        Training is being parallellized using Joblib. Number of jobs = 8\n",
      "        \n",
      "  warnings.warn(msg)\n",
      "[Parallel(n_jobs=8)]: Using backend LokyBackend with 8 concurrent workers.\n",
      "[Parallel(n_jobs=8)]: Done  14 out of  14 | elapsed:    0.0s remaining:    0.0s\n",
      "[Parallel(n_jobs=8)]: Done  14 out of  14 | elapsed:    0.0s finished\n"
     ]
    }
   ],
   "source": [
    "clf.fit(train, )"
   ]
  },
  {
   "cell_type": "code",
   "execution_count": 99,
   "metadata": {},
   "outputs": [
    {
     "data": {
      "text/plain": [
       "[DecisionTreeRegressor(criterion='mse', max_depth=4, max_features=None,\n",
       "                       max_leaf_nodes=None, min_impurity_decrease=0.0,\n",
       "                       min_impurity_split=None, min_samples_leaf=1,\n",
       "                       min_samples_split=2, min_weight_fraction_leaf=0.0,\n",
       "                       presort=False, random_state=2433, splitter='best'),\n",
       " DecisionTreeRegressor(criterion='mse', max_depth=4, max_features=None,\n",
       "                       max_leaf_nodes=None, min_impurity_decrease=0.0,\n",
       "                       min_impurity_split=None, min_samples_leaf=1,\n",
       "                       min_samples_split=2, min_weight_fraction_leaf=0.0,\n",
       "                       presort=False, random_state=2433, splitter='best'),\n",
       " DecisionTreeRegressor(criterion='mse', max_depth=4, max_features=None,\n",
       "                       max_leaf_nodes=None, min_impurity_decrease=0.0,\n",
       "                       min_impurity_split=None, min_samples_leaf=1,\n",
       "                       min_samples_split=2, min_weight_fraction_leaf=0.0,\n",
       "                       presort=False, random_state=2433, splitter='best'),\n",
       " DecisionTreeRegressor(criterion='mse', max_depth=4, max_features=None,\n",
       "                       max_leaf_nodes=None, min_impurity_decrease=0.0,\n",
       "                       min_impurity_split=None, min_samples_leaf=1,\n",
       "                       min_samples_split=2, min_weight_fraction_leaf=0.0,\n",
       "                       presort=False, random_state=2433, splitter='best'),\n",
       " DecisionTreeRegressor(criterion='mse', max_depth=4, max_features=None,\n",
       "                       max_leaf_nodes=None, min_impurity_decrease=0.0,\n",
       "                       min_impurity_split=None, min_samples_leaf=1,\n",
       "                       min_samples_split=2, min_weight_fraction_leaf=0.0,\n",
       "                       presort=False, random_state=2433, splitter='best')]"
      ]
     },
     "execution_count": 99,
     "metadata": {},
     "output_type": "execute_result"
    }
   ],
   "source": [
    "clf.m_list[:5]"
   ]
  },
  {
   "cell_type": "code",
   "execution_count": 101,
   "metadata": {},
   "outputs": [
    {
     "data": {
      "text/plain": [
       "[2, 18, 20]"
      ]
     },
     "execution_count": 101,
     "metadata": {},
     "output_type": "execute_result"
    }
   ],
   "source": [
    "clf.m_list[10].targ_ids"
   ]
  },
  {
   "cell_type": "markdown",
   "metadata": {},
   "source": [
    "### Introspection\n",
    "\n",
    "Let's examine if everything is as it should be."
   ]
  },
  {
   "cell_type": "markdown",
   "metadata": {},
   "source": [
    "lgtm"
   ]
  },
  {
   "cell_type": "markdown",
   "metadata": {},
   "source": [
    "## Predict\n",
    "\n",
    "Now the more challeging part."
   ]
  },
  {
   "cell_type": "code",
   "execution_count": 8,
   "metadata": {},
   "outputs": [
    {
     "data": {
      "text/plain": [
       "array([-1, -1, -1, -1, -1,  0,  0,  0,  0,  0,  0,  0,  0,  0,  0,  0,  0,\n",
       "        0,  0,  0,  0,  0,  0,  0,  0,  0,  0,  0,  0,  0,  0,  0,  0,  0,\n",
       "        0,  0,  0,  0,  0,  0,  0,  0,  0,  0,  0,  0,  0,  0,  0,  0,  0,\n",
       "        0,  0,  0,  0,  0,  0,  0,  0,  0,  0,  0,  0,  0,  0,  0,  0,  0,\n",
       "        0,  0,  0,  0,  0,  0,  0,  0,  0,  0,  0,  0,  0,  0,  0,  0,  0,\n",
       "        0,  0,  0,  0,  0,  0,  0,  0,  0,  0,  0,  0,  0,  0,  0,  1],\n",
       "      dtype=int8)"
      ]
     },
     "execution_count": 8,
     "metadata": {},
     "output_type": "execute_result"
    }
   ],
   "source": [
    "q_code = np.zeros(test.shape[1], dtype=np.int8)\n",
    "q_code[-1] = 1\n",
    "q_code[0:5] = -1\n",
    "q_code"
   ]
  },
  {
   "cell_type": "code",
   "execution_count": 9,
   "metadata": {},
   "outputs": [],
   "source": [
    "y_pred = clf.predict(test, q_code=q_code, beta=True)"
   ]
  },
  {
   "cell_type": "markdown",
   "metadata": {},
   "source": [
    "# Graph-Tool\n",
    "\n",
    "Towards scalable graph representation."
   ]
  },
  {
   "cell_type": "code",
   "execution_count": 10,
   "metadata": {},
   "outputs": [
    {
     "name": "stderr",
     "output_type": "stream",
     "text": [
      "/home/elia/miniconda3/envs/mercs/lib/python3.7/site-packages/graph_tool/all.py:40: RuntimeWarning: Error importing draw module, proceeding nevertheless: /home/elia/miniconda3/envs/mercs/lib/python3.7/site-packages/graph_tool/draw/libgraph_tool_draw.so: undefined symbol: _ZN5Cairo7Context9show_textERKNSt7__cxx1112basic_stringIcSt11char_traitsIcESaIcEEE\n",
      "  warnings.warn(msg, RuntimeWarning)\n"
     ]
    }
   ],
   "source": [
    "from graph_tool.all import *\n",
    "from mercs.graph.q_diagram import v_name\n",
    "from mercs.utils import code_to_query"
   ]
  },
  {
   "cell_type": "code",
   "execution_count": 63,
   "metadata": {},
   "outputs": [],
   "source": [
    "def build_graph(m_codes, m_list):\n",
    "    n_models, n_attributes = m_codes.shape\n",
    "\n",
    "    g = Graph()\n",
    "    \n",
    "    v_map = {}\n",
    "    names = g.new_vertex_property(\"object\")\n",
    "    \n",
    "    v_atts = g.add_vertex(n_attributes)\n",
    "    v_mods = g.add_vertex(n_models)\n",
    "    v_imps = g.add_vertex(n_attributes)\n",
    "\n",
    "    for v_idx, v in enumerate(v_atts):\n",
    "        v_n = v_name(v_idx, kind=\"data\")\n",
    "        v_map[v_n] = int(v)\n",
    "        names[v] = v_n\n",
    "\n",
    "    for v_idx, v in enumerate(v_mods):\n",
    "        v_n = v_name(v_idx, kind=\"model\")\n",
    "        v_map[v_n] = int(v)\n",
    "        names[v] = v_n\n",
    "\n",
    "        in_edges = ((d, v) for d in m_list[v_idx].desc_ids)\n",
    "        out_edges = ((v, t) for t in m_list[v_idx].targ_ids)\n",
    "\n",
    "        g.add_edge_list(in_edges)\n",
    "        g.add_edge_list(out_edges)\n",
    "        \n",
    "    for v_idx, v in enumerate(v_imps):\n",
    "        v_n = v_name(v_idx, kind=\"imputation\")\n",
    "        v_map[v_n] = int(v)\n",
    "        names[v] = v_n\n",
    "    \n",
    "    g.vp.names = names\n",
    "    g.v_map = v_map\n",
    "    return g"
   ]
  },
  {
   "cell_type": "code",
   "execution_count": 61,
   "metadata": {},
   "outputs": [],
   "source": [
    "m_list = clf.m_list\n",
    "m_codes = clf.m_codes\n",
    "q_code = clf.q_code\n",
    "m_layer = clf.m_sel[0]"
   ]
  },
  {
   "cell_type": "code",
   "execution_count": 75,
   "metadata": {},
   "outputs": [
    {
     "data": {
      "text/plain": [
       "<Graph object, directed, with 404 vertices and 8123 edges at 0x7faab16f9f50>"
      ]
     },
     "execution_count": 75,
     "metadata": {},
     "output_type": "execute_result"
    }
   ],
   "source": [
    "g = build_graph(clf.m_codes, clf.m_list)\n",
    "g"
   ]
  },
  {
   "cell_type": "code",
   "execution_count": null,
   "metadata": {},
   "outputs": [],
   "source": []
  },
  {
   "cell_type": "code",
   "execution_count": null,
   "metadata": {},
   "outputs": [],
   "source": [
    "def build_diagram(g, m_list, m_sel, q_code, g, prune=False):\n",
    "    if not isinstance(m_sel[0], (list, np.ndarray)):\n",
    "        m_sel = [m_sel]\n",
    "        \n",
    "    # Init (graph properties)\n",
    "    g_a_src = g.new_vertex_property(\"bool\", False)\n",
    "    g_f_tgt = g.new_vertex_property(\"bool\", False)\n",
    "\n",
    "    v_filter = g.new_vertex_property(\"bool\", False)\n",
    "    e_filter = g.new_edge_property(\"bool\", False)\n",
    "    \n",
    "    # Availability of attributes (= available sources and forbidden targets)\n",
    "    f_tgt = set([])\n",
    "    a_src, a_tgt, _ = code_to_query(q_code, return_sets=True)\n",
    "    \n",
    "    a_src = [v_map[v_name(a, kind=\"data\")] for a in a_src]\n",
    "    f_tgt = [v_map[v_name(a, kind=\"data\")] for a in f_tgt]\n",
    "\n",
    "    models = [(m_idx, m_list[m_idx]) for m_idx in m_layer]\n",
    "\n",
    "    for a in a_src:\n",
    "        g_a_src[a] = True\n",
    "\n",
    "    for a in f_tgt:\n",
    "        g_f_tgt[a] = True\n",
    "\n",
    "    # Attributes based on query\n",
    "    # g.desc_ids = a_src\n",
    "    # g.targ_ids = a_tgt\n",
    "\n",
    "    for m_layer in m_sel:\n",
    "        models = [(m_idx, m_list[m_idx]) for m_idx in m_layer]\n",
    "\n",
    "        a_src, f_tgt, g = build_diagram_SL(models, g_a_src, g_f_tgt, v_filter, e_filter, g)\n",
    "\n",
    "    if prune:\n",
    "        _prune(g)\n",
    "\n",
    "    return g"
   ]
  },
  {
   "cell_type": "code",
   "execution_count": null,
   "metadata": {},
   "outputs": [],
   "source": [
    "def build_diagram_single_layer(models, g_a_src, g_f_tgt, v_filter, e_filter, g):\n",
    "    \n",
    "    if imputation_edges=None:\n",
    "        imputation_edges = []\n",
    "\n",
    "    for m_idx, m in models:\n",
    "        v_idx = g.v_map[v_name(m_idx, kind=\"model\")]\n",
    "        vertex = g.vertex(v_idx)\n",
    "\n",
    "        for e in vertex.in_edges():\n",
    "            a = e.source()\n",
    "            if g_a_src[a]:\n",
    "                e_filter[e] = True\n",
    "                g_f_tgt[a] = True            \n",
    "            else:\n",
    "                i_idx = g.v_map[v_name(int(a), kind=\"imputation\")]\n",
    "                print(i_idx)\n",
    "                imputation_edges.append([i_idx, v_idx, True])\n",
    "\n",
    "    for m_idx, m in models:\n",
    "        v_idx = g.v_map[v_name(m_idx, kind=\"model\")]\n",
    "        vertex = g.vertex(v_idx)\n",
    "\n",
    "        for e in vertex.out_edges():\n",
    "            a = e.target()\n",
    "\n",
    "            if not g_f_tgt[a]:\n",
    "                e_filter[e] = True\n",
    "                g_a_src[a] = True     \n",
    "\n",
    "    # g.add_edge_list(imputation_edges, eprops=[e_filter]) \n",
    " \n",
    "    return g_a_src, g_f_tgt, v_filter, e_filter, imputation_edges"
   ]
  },
  {
   "cell_type": "code",
   "execution_count": 77,
   "metadata": {},
   "outputs": [],
   "source": [
    "g_a_src = g.new_vertex_property(\"bool\", False)\n",
    "g_f_tgt = g.new_vertex_property(\"bool\", False)\n",
    "\n",
    "v_filter = g.new_vertex_property(\"bool\", False)\n",
    "e_filter = g.new_edge_property(\"bool\", False)"
   ]
  },
  {
   "cell_type": "code",
   "execution_count": 78,
   "metadata": {},
   "outputs": [],
   "source": [
    "f_tgt = set([])\n",
    "a_src, a_tgt, _ = code_to_query(q_code, return_sets=True)\n",
    "\n",
    "a_src = [v_map[v_name(a, kind=\"data\")] for a in a_src]\n",
    "f_tgt = [v_map[v_name(a, kind=\"data\")] for a in f_tgt]\n",
    "\n",
    "models = [(m_idx, m_list[m_idx]) for m_idx in m_layer]\n",
    "\n",
    "for a in a_src:\n",
    "    g_a_src[a] = True\n",
    "    \n",
    "for a in f_tgt:\n",
    "    g_a_tgt[a] = True"
   ]
  },
  {
   "cell_type": "code",
   "execution_count": null,
   "metadata": {},
   "outputs": [],
   "source": []
  },
  {
   "cell_type": "code",
   "execution_count": 68,
   "metadata": {},
   "outputs": [],
   "source": [
    "valid_src = lambda a: a in a_src\n",
    "valid_tgt = lambda a: a not in f_tgt"
   ]
  },
  {
   "cell_type": "code",
   "execution_count": 69,
   "metadata": {},
   "outputs": [
    {
     "data": {
      "text/plain": [
       "[1, 12, 18, 27, 33, 65, 111, 112, 128, 166]"
      ]
     },
     "execution_count": 69,
     "metadata": {},
     "output_type": "execute_result"
    }
   ],
   "source": [
    "[m_idx for m_idx, m in models]\n"
   ]
  },
  {
   "cell_type": "code",
   "execution_count": 79,
   "metadata": {},
   "outputs": [
    {
     "name": "stdout",
     "output_type": "stream",
     "text": [
      "403\n",
      "303\n",
      "304\n",
      "306\n",
      "307\n",
      "303\n",
      "403\n",
      "306\n",
      "307\n",
      "303\n",
      "306\n",
      "403\n",
      "305\n",
      "305\n",
      "304\n",
      "305\n"
     ]
    }
   ],
   "source": [
    "imputation_edges = []\n",
    "\n",
    "for m_idx, m in models:\n",
    "    v_idx = v_map[v_name(m_idx, kind=\"model\")]\n",
    "    vertex = g.vertex(v_idx)\n",
    "\n",
    "    for e in vertex.in_edges():\n",
    "        a = e.source()\n",
    "        if g_a_src[a]:\n",
    "            e_filter[e] = True\n",
    "            g_f_tgt[a] = True            \n",
    "        else:\n",
    "            i_idx = v_map[v_name(int(a), kind=\"imputation\")]\n",
    "            print(i_idx)\n",
    "            imputation_edges.append([i_idx, v_idx, True])\n",
    "\n",
    "for m_idx, m in models:\n",
    "    v_idx = v_map[v_name(m_idx, kind=\"model\")]\n",
    "    vertex = g.vertex(v_idx)\n",
    "\n",
    "    for e in vertex.out_edges():\n",
    "        a = e.target()\n",
    "\n",
    "        if not g_f_tgt[a]:\n",
    "            e_filter[e] = True\n",
    "            g_a_src[a] = True     \n",
    "\n",
    "g.add_edge_list(imputation_edges, eprops=[e_filter]) "
   ]
  },
  {
   "cell_type": "code",
   "execution_count": null,
   "metadata": {},
   "outputs": [],
   "source": []
  },
  {
   "cell_type": "code",
   "execution_count": 80,
   "metadata": {},
   "outputs": [],
   "source": [
    "l = []\n",
    "for e in find_edge(g, e_filter, True):\n",
    "    n_src = names[e.source()]\n",
    "    n_tgt = names[e.target()]\n",
    "    l.append((n_src, n_tgt))"
   ]
  },
  {
   "cell_type": "code",
   "execution_count": 81,
   "metadata": {},
   "outputs": [
    {
     "data": {
      "text/plain": [
       "[(('D', 5), ('M', 1)),\n",
       " (('D', 5), ('M', 112)),\n",
       " (('D', 5), ('M', 128)),\n",
       " (('D', 6), ('M', 18)),\n",
       " (('D', 6), ('M', 65)),\n",
       " (('D', 6), ('M', 111)),\n",
       " (('D', 7), ('M', 12)),\n",
       " (('D', 7), ('M', 27)),\n",
       " (('D', 7), ('M', 33)),\n",
       " (('D', 8), ('M', 1)),\n",
       " (('D', 8), ('M', 33)),\n",
       " (('D', 8), ('M', 112)),\n",
       " (('D', 8), ('M', 166)),\n",
       " (('D', 9), ('M', 1)),\n",
       " (('D', 9), ('M', 12)),\n",
       " (('D', 9), ('M', 18)),\n",
       " (('D', 9), ('M', 33)),\n",
       " (('D', 9), ('M', 111)),\n",
       " (('D', 9), ('M', 112)),\n",
       " (('D', 10), ('M', 18)),\n",
       " (('D', 10), ('M', 27)),\n",
       " (('D', 10), ('M', 33)),\n",
       " (('D', 10), ('M', 112)),\n",
       " (('D', 11), ('M', 27)),\n",
       " (('D', 11), ('M', 111)),\n",
       " (('D', 11), ('M', 112)),\n",
       " (('D', 11), ('M', 166)),\n",
       " (('D', 12), ('M', 1)),\n",
       " (('D', 12), ('M', 12)),\n",
       " (('D', 12), ('M', 18)),\n",
       " (('D', 12), ('M', 33)),\n",
       " (('D', 12), ('M', 65)),\n",
       " (('D', 12), ('M', 128)),\n",
       " (('D', 13), ('M', 1)),\n",
       " (('D', 13), ('M', 27)),\n",
       " (('D', 13), ('M', 33)),\n",
       " (('D', 13), ('M', 65)),\n",
       " (('D', 13), ('M', 128)),\n",
       " (('D', 14), ('M', 1)),\n",
       " (('D', 14), ('M', 27)),\n",
       " (('D', 14), ('M', 112)),\n",
       " (('D', 15), ('M', 1)),\n",
       " (('D', 15), ('M', 27)),\n",
       " (('D', 15), ('M', 33)),\n",
       " (('D', 15), ('M', 128)),\n",
       " (('D', 16), ('M', 65)),\n",
       " (('D', 16), ('M', 111)),\n",
       " (('D', 17), ('M', 18)),\n",
       " (('D', 17), ('M', 27)),\n",
       " (('D', 17), ('M', 33)),\n",
       " (('D', 17), ('M', 111)),\n",
       " (('D', 17), ('M', 112)),\n",
       " (('D', 17), ('M', 166)),\n",
       " (('D', 18), ('M', 1)),\n",
       " (('D', 18), ('M', 33)),\n",
       " (('D', 18), ('M', 111)),\n",
       " (('D', 18), ('M', 128)),\n",
       " (('D', 18), ('M', 166)),\n",
       " (('D', 19), ('M', 1)),\n",
       " (('D', 19), ('M', 12)),\n",
       " (('D', 19), ('M', 112)),\n",
       " (('D', 19), ('M', 166)),\n",
       " (('D', 20), ('M', 1)),\n",
       " (('D', 20), ('M', 18)),\n",
       " (('D', 20), ('M', 33)),\n",
       " (('D', 20), ('M', 65)),\n",
       " (('D', 20), ('M', 111)),\n",
       " (('D', 21), ('M', 1)),\n",
       " (('D', 21), ('M', 12)),\n",
       " (('D', 21), ('M', 18)),\n",
       " (('D', 21), ('M', 33)),\n",
       " (('D', 21), ('M', 112)),\n",
       " (('D', 21), ('M', 128)),\n",
       " (('D', 21), ('M', 166)),\n",
       " (('D', 22), ('M', 33)),\n",
       " (('D', 22), ('M', 111)),\n",
       " (('D', 22), ('M', 112)),\n",
       " (('D', 22), ('M', 128)),\n",
       " (('D', 23), ('M', 12)),\n",
       " (('D', 23), ('M', 18)),\n",
       " (('D', 23), ('M', 27)),\n",
       " (('D', 23), ('M', 65)),\n",
       " (('D', 23), ('M', 111)),\n",
       " (('D', 24), ('M', 1)),\n",
       " (('D', 24), ('M', 33)),\n",
       " (('D', 25), ('M', 1)),\n",
       " (('D', 25), ('M', 12)),\n",
       " (('D', 25), ('M', 18)),\n",
       " (('D', 26), ('M', 1)),\n",
       " (('D', 26), ('M', 18)),\n",
       " (('D', 26), ('M', 166)),\n",
       " (('D', 27), ('M', 1)),\n",
       " (('D', 27), ('M', 18)),\n",
       " (('D', 27), ('M', 65)),\n",
       " (('D', 27), ('M', 166)),\n",
       " (('D', 28), ('M', 1)),\n",
       " (('D', 28), ('M', 27)),\n",
       " (('D', 28), ('M', 33)),\n",
       " (('D', 28), ('M', 111)),\n",
       " (('D', 28), ('M', 166)),\n",
       " (('D', 29), ('M', 33)),\n",
       " (('D', 29), ('M', 65)),\n",
       " (('D', 29), ('M', 128)),\n",
       " (('D', 29), ('M', 166)),\n",
       " (('D', 30), ('M', 33)),\n",
       " (('D', 30), ('M', 65)),\n",
       " (('D', 30), ('M', 166)),\n",
       " (('D', 31), ('M', 33)),\n",
       " (('D', 32), ('M', 12)),\n",
       " (('D', 32), ('M', 65)),\n",
       " (('D', 32), ('M', 111)),\n",
       " (('D', 32), ('M', 112)),\n",
       " (('D', 33), ('M', 18)),\n",
       " (('D', 33), ('M', 166)),\n",
       " (('D', 34), ('M', 27)),\n",
       " (('D', 34), ('M', 112)),\n",
       " (('D', 34), ('M', 128)),\n",
       " (('D', 35), ('M', 12)),\n",
       " (('D', 35), ('M', 27)),\n",
       " (('D', 35), ('M', 112)),\n",
       " (('D', 35), ('M', 166)),\n",
       " (('D', 36), ('M', 12)),\n",
       " (('D', 36), ('M', 18)),\n",
       " (('D', 36), ('M', 111)),\n",
       " (('D', 36), ('M', 112)),\n",
       " (('D', 36), ('M', 128)),\n",
       " (('D', 37), ('M', 27)),\n",
       " (('D', 37), ('M', 112)),\n",
       " (('D', 37), ('M', 128)),\n",
       " (('D', 38), ('M', 18)),\n",
       " (('D', 38), ('M', 27)),\n",
       " (('D', 38), ('M', 111)),\n",
       " (('D', 38), ('M', 128)),\n",
       " (('D', 39), ('M', 27)),\n",
       " (('D', 39), ('M', 112)),\n",
       " (('D', 39), ('M', 166)),\n",
       " (('D', 40), ('M', 1)),\n",
       " (('D', 40), ('M', 12)),\n",
       " (('D', 40), ('M', 65)),\n",
       " (('D', 40), ('M', 128)),\n",
       " (('D', 41), ('M', 12)),\n",
       " (('D', 41), ('M', 112)),\n",
       " (('D', 41), ('M', 166)),\n",
       " (('D', 42), ('M', 33)),\n",
       " (('D', 42), ('M', 65)),\n",
       " (('D', 42), ('M', 112)),\n",
       " (('D', 43), ('M', 12)),\n",
       " (('D', 43), ('M', 18)),\n",
       " (('D', 43), ('M', 27)),\n",
       " (('D', 43), ('M', 33)),\n",
       " (('D', 43), ('M', 166)),\n",
       " (('D', 44), ('M', 1)),\n",
       " (('D', 44), ('M', 12)),\n",
       " (('D', 44), ('M', 27)),\n",
       " (('D', 44), ('M', 33)),\n",
       " (('D', 45), ('M', 111)),\n",
       " (('D', 46), ('M', 1)),\n",
       " (('D', 46), ('M', 12)),\n",
       " (('D', 46), ('M', 112)),\n",
       " (('D', 47), ('M', 27)),\n",
       " (('D', 47), ('M', 33)),\n",
       " (('D', 48), ('M', 18)),\n",
       " (('D', 48), ('M', 27)),\n",
       " (('D', 48), ('M', 65)),\n",
       " (('D', 48), ('M', 111)),\n",
       " (('D', 48), ('M', 128)),\n",
       " (('D', 49), ('M', 27)),\n",
       " (('D', 49), ('M', 65)),\n",
       " (('D', 49), ('M', 166)),\n",
       " (('D', 50), ('M', 18)),\n",
       " (('D', 50), ('M', 27)),\n",
       " (('D', 50), ('M', 65)),\n",
       " (('D', 50), ('M', 111)),\n",
       " (('D', 51), ('M', 1)),\n",
       " (('D', 51), ('M', 18)),\n",
       " (('D', 51), ('M', 111)),\n",
       " (('D', 51), ('M', 112)),\n",
       " (('D', 51), ('M', 128)),\n",
       " (('D', 52), ('M', 1)),\n",
       " (('D', 52), ('M', 12)),\n",
       " (('D', 52), ('M', 65)),\n",
       " (('D', 52), ('M', 112)),\n",
       " (('D', 53), ('M', 1)),\n",
       " (('D', 53), ('M', 18)),\n",
       " (('D', 53), ('M', 27)),\n",
       " (('D', 53), ('M', 111)),\n",
       " (('D', 53), ('M', 128)),\n",
       " (('D', 54), ('M', 33)),\n",
       " (('D', 54), ('M', 128)),\n",
       " (('D', 55), ('M', 65)),\n",
       " (('D', 56), ('M', 1)),\n",
       " (('D', 56), ('M', 12)),\n",
       " (('D', 56), ('M', 27)),\n",
       " (('D', 56), ('M', 65)),\n",
       " (('D', 57), ('M', 18)),\n",
       " (('D', 57), ('M', 33)),\n",
       " (('D', 57), ('M', 112)),\n",
       " (('D', 57), ('M', 128)),\n",
       " (('D', 58), ('M', 18)),\n",
       " (('D', 58), ('M', 27)),\n",
       " (('D', 58), ('M', 128)),\n",
       " (('D', 59), ('M', 128)),\n",
       " (('D', 59), ('M', 166)),\n",
       " (('D', 60), ('M', 18)),\n",
       " (('D', 60), ('M', 27)),\n",
       " (('D', 60), ('M', 33)),\n",
       " (('D', 60), ('M', 65)),\n",
       " (('D', 60), ('M', 112)),\n",
       " (('D', 61), ('M', 1)),\n",
       " (('D', 61), ('M', 12)),\n",
       " (('D', 61), ('M', 112)),\n",
       " (('D', 61), ('M', 128)),\n",
       " (('D', 62), ('M', 1)),\n",
       " (('D', 62), ('M', 12)),\n",
       " (('D', 62), ('M', 65)),\n",
       " (('D', 63), ('M', 1)),\n",
       " (('D', 63), ('M', 27)),\n",
       " (('D', 64), ('M', 12)),\n",
       " (('D', 64), ('M', 18)),\n",
       " (('D', 65), ('M', 12)),\n",
       " (('D', 65), ('M', 18)),\n",
       " (('D', 65), ('M', 27)),\n",
       " (('D', 65), ('M', 112)),\n",
       " (('D', 65), ('M', 166)),\n",
       " (('D', 66), ('M', 12)),\n",
       " (('D', 66), ('M', 27)),\n",
       " (('D', 66), ('M', 33)),\n",
       " (('D', 66), ('M', 112)),\n",
       " (('D', 66), ('M', 128)),\n",
       " (('D', 67), ('M', 128)),\n",
       " (('D', 67), ('M', 166)),\n",
       " (('D', 68), ('M', 65)),\n",
       " (('D', 68), ('M', 111)),\n",
       " (('D', 68), ('M', 128)),\n",
       " (('D', 69), ('M', 1)),\n",
       " (('D', 69), ('M', 65)),\n",
       " (('D', 69), ('M', 111)),\n",
       " (('D', 69), ('M', 112)),\n",
       " (('D', 69), ('M', 166)),\n",
       " (('D', 70), ('M', 1)),\n",
       " (('D', 70), ('M', 12)),\n",
       " (('D', 70), ('M', 65)),\n",
       " (('D', 70), ('M', 112)),\n",
       " (('D', 70), ('M', 166)),\n",
       " (('D', 71), ('M', 18)),\n",
       " (('D', 71), ('M', 27)),\n",
       " (('D', 71), ('M', 33)),\n",
       " (('D', 71), ('M', 65)),\n",
       " (('D', 71), ('M', 111)),\n",
       " (('D', 71), ('M', 112)),\n",
       " (('D', 71), ('M', 128)),\n",
       " (('D', 72), ('M', 1)),\n",
       " (('D', 72), ('M', 27)),\n",
       " (('D', 72), ('M', 65)),\n",
       " (('D', 73), ('M', 1)),\n",
       " (('D', 73), ('M', 27)),\n",
       " (('D', 73), ('M', 128)),\n",
       " (('D', 74), ('M', 12)),\n",
       " (('D', 74), ('M', 27)),\n",
       " (('D', 74), ('M', 65)),\n",
       " (('D', 74), ('M', 111)),\n",
       " (('D', 74), ('M', 128)),\n",
       " (('D', 74), ('M', 166)),\n",
       " (('D', 75), ('M', 1)),\n",
       " (('D', 75), ('M', 18)),\n",
       " (('D', 75), ('M', 128)),\n",
       " (('D', 76), ('M', 12)),\n",
       " (('D', 76), ('M', 18)),\n",
       " (('D', 76), ('M', 27)),\n",
       " (('D', 76), ('M', 111)),\n",
       " (('D', 77), ('M', 12)),\n",
       " (('D', 77), ('M', 27)),\n",
       " (('D', 77), ('M', 33)),\n",
       " (('D', 77), ('M', 128)),\n",
       " (('D', 78), ('M', 18)),\n",
       " (('D', 78), ('M', 27)),\n",
       " (('D', 78), ('M', 128)),\n",
       " (('D', 79), ('M', 1)),\n",
       " (('D', 79), ('M', 12)),\n",
       " (('D', 79), ('M', 27)),\n",
       " (('D', 79), ('M', 112)),\n",
       " (('D', 79), ('M', 166)),\n",
       " (('D', 80), ('M', 65)),\n",
       " (('D', 80), ('M', 128)),\n",
       " (('D', 80), ('M', 166)),\n",
       " (('D', 81), ('M', 12)),\n",
       " (('D', 81), ('M', 27)),\n",
       " (('D', 81), ('M', 33)),\n",
       " (('D', 81), ('M', 112)),\n",
       " (('D', 83), ('M', 12)),\n",
       " (('D', 83), ('M', 33)),\n",
       " (('D', 83), ('M', 111)),\n",
       " (('D', 83), ('M', 112)),\n",
       " (('D', 83), ('M', 128)),\n",
       " (('D', 84), ('M', 1)),\n",
       " (('D', 84), ('M', 12)),\n",
       " (('D', 84), ('M', 18)),\n",
       " (('D', 84), ('M', 33)),\n",
       " (('D', 84), ('M', 128)),\n",
       " (('D', 84), ('M', 166)),\n",
       " (('D', 85), ('M', 1)),\n",
       " (('D', 85), ('M', 12)),\n",
       " (('D', 85), ('M', 18)),\n",
       " (('D', 85), ('M', 27)),\n",
       " (('D', 85), ('M', 33)),\n",
       " (('D', 85), ('M', 112)),\n",
       " (('D', 85), ('M', 128)),\n",
       " (('D', 85), ('M', 166)),\n",
       " (('D', 86), ('M', 12)),\n",
       " (('D', 86), ('M', 18)),\n",
       " (('D', 86), ('M', 27)),\n",
       " (('D', 87), ('M', 27)),\n",
       " (('D', 87), ('M', 111)),\n",
       " (('D', 88), ('M', 12)),\n",
       " (('D', 88), ('M', 27)),\n",
       " (('D', 88), ('M', 33)),\n",
       " (('D', 88), ('M', 112)),\n",
       " (('D', 88), ('M', 128)),\n",
       " (('D', 88), ('M', 166)),\n",
       " (('D', 89), ('M', 12)),\n",
       " (('D', 89), ('M', 18)),\n",
       " (('D', 89), ('M', 33)),\n",
       " (('D', 89), ('M', 65)),\n",
       " (('D', 90), ('M', 27)),\n",
       " (('D', 90), ('M', 33)),\n",
       " (('D', 90), ('M', 65)),\n",
       " (('D', 90), ('M', 111)),\n",
       " (('D', 91), ('M', 112)),\n",
       " (('D', 92), ('M', 12)),\n",
       " (('D', 92), ('M', 112)),\n",
       " (('D', 93), ('M', 1)),\n",
       " (('D', 93), ('M', 12)),\n",
       " (('D', 93), ('M', 18)),\n",
       " (('D', 93), ('M', 111)),\n",
       " (('D', 93), ('M', 128)),\n",
       " (('D', 94), ('M', 1)),\n",
       " (('D', 94), ('M', 12)),\n",
       " (('D', 94), ('M', 27)),\n",
       " (('D', 94), ('M', 33)),\n",
       " (('D', 94), ('M', 65)),\n",
       " (('D', 94), ('M', 111)),\n",
       " (('D', 94), ('M', 128)),\n",
       " (('D', 94), ('M', 166)),\n",
       " (('D', 95), ('M', 27)),\n",
       " (('D', 96), ('M', 12)),\n",
       " (('D', 96), ('M', 18)),\n",
       " (('D', 97), ('M', 1)),\n",
       " (('D', 97), ('M', 33)),\n",
       " (('D', 97), ('M', 65)),\n",
       " (('D', 97), ('M', 111)),\n",
       " (('D', 97), ('M', 112)),\n",
       " (('D', 98), ('M', 12)),\n",
       " (('D', 98), ('M', 27)),\n",
       " (('D', 98), ('M', 166)),\n",
       " (('D', 99), ('M', 1)),\n",
       " (('D', 99), ('M', 33)),\n",
       " (('D', 99), ('M', 111)),\n",
       " (('M', 1), ('D', 4)),\n",
       " (('M', 12), ('D', 100)),\n",
       " (('M', 18), ('D', 2)),\n",
       " (('M', 27), ('D', 0)),\n",
       " (('M', 33), ('D', 3)),\n",
       " (('M', 65), ('D', 1)),\n",
       " (('M', 111), ('D', 3)),\n",
       " (('M', 112), ('D', 4)),\n",
       " (('M', 128), ('D', 0)),\n",
       " (('M', 166), ('D', 100)),\n",
       " (('I', 0), ('M', 1)),\n",
       " (('I', 0), ('M', 12)),\n",
       " (('I', 0), ('M', 111)),\n",
       " (('I', 1), ('M', 12)),\n",
       " (('I', 1), ('M', 128)),\n",
       " (('I', 2), ('M', 112)),\n",
       " (('I', 2), ('M', 128)),\n",
       " (('I', 2), ('M', 166)),\n",
       " (('I', 3), ('M', 12)),\n",
       " (('I', 3), ('M', 27)),\n",
       " (('I', 3), ('M', 112)),\n",
       " (('I', 4), ('M', 12)),\n",
       " (('I', 4), ('M', 65)),\n",
       " (('I', 100), ('M', 1)),\n",
       " (('I', 100), ('M', 27)),\n",
       " (('I', 100), ('M', 112))]"
      ]
     },
     "execution_count": 81,
     "metadata": {},
     "output_type": "execute_result"
    }
   ],
   "source": [
    "l"
   ]
  },
  {
   "cell_type": "code",
   "execution_count": 37,
   "metadata": {},
   "outputs": [
    {
     "data": {
      "text/plain": [
       "''"
      ]
     },
     "execution_count": 37,
     "metadata": {},
     "output_type": "execute_result"
    }
   ],
   "source": [
    "vn"
   ]
  },
  {
   "cell_type": "code",
   "execution_count": 20,
   "metadata": {},
   "outputs": [
    {
     "data": {
      "text/plain": [
       "[]"
      ]
     },
     "execution_count": 20,
     "metadata": {},
     "output_type": "execute_result"
    }
   ],
   "source": [
    "sorted(t)"
   ]
  },
  {
   "cell_type": "code",
   "execution_count": null,
   "metadata": {},
   "outputs": [],
   "source": []
  },
  {
   "cell_type": "code",
   "execution_count": null,
   "metadata": {},
   "outputs": [],
   "source": []
  },
  {
   "cell_type": "code",
   "execution_count": null,
   "metadata": {},
   "outputs": [],
   "source": []
  },
  {
   "cell_type": "code",
   "execution_count": null,
   "metadata": {},
   "outputs": [],
   "source": []
  },
  {
   "cell_type": "code",
   "execution_count": null,
   "metadata": {},
   "outputs": [],
   "source": []
  },
  {
   "cell_type": "code",
   "execution_count": null,
   "metadata": {},
   "outputs": [],
   "source": []
  },
  {
   "cell_type": "code",
   "execution_count": null,
   "metadata": {},
   "outputs": [],
   "source": []
  }
 ],
 "metadata": {
  "kernelspec": {
   "display_name": "mercs",
   "language": "python",
   "name": "mercs"
  },
  "language_info": {
   "codemirror_mode": {
    "name": "ipython",
    "version": 3
   },
   "file_extension": ".py",
   "mimetype": "text/x-python",
   "name": "python",
   "nbconvert_exporter": "python",
   "pygments_lexer": "ipython3",
   "version": "3.7.4"
  }
 },
 "nbformat": 4,
 "nbformat_minor": 4
}
