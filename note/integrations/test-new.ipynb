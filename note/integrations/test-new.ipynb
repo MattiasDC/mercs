{
 "cells": [
  {
   "cell_type": "markdown",
   "metadata": {
    "Collapsed": "false"
   },
   "source": [
    "# Towards Scalability\n",
    "\n",
    "Integration test of some more recent innovations in MERCS in order to make it scale to datasets in the region of 10**3 attributes."
   ]
  },
  {
   "cell_type": "markdown",
   "metadata": {
    "Collapsed": "false"
   },
   "source": [
    "# Prelims"
   ]
  },
  {
   "cell_type": "code",
   "execution_count": 1,
   "metadata": {
    "Collapsed": "false"
   },
   "outputs": [],
   "source": [
    "import mercs\n",
    "import numpy as np\n",
    "from mercs.tests import load_iris, default_dataset\n",
    "from mercs.core import Mercs"
   ]
  },
  {
   "cell_type": "markdown",
   "metadata": {
    "Collapsed": "false"
   },
   "source": [
    "# Setup"
   ]
  },
  {
   "cell_type": "markdown",
   "metadata": {
    "Collapsed": "false"
   },
   "source": [
    "# Sandbox"
   ]
  },
  {
   "cell_type": "markdown",
   "metadata": {
    "Collapsed": "false"
   },
   "source": [
    "## Fit"
   ]
  },
  {
   "cell_type": "code",
   "execution_count": 2,
   "metadata": {
    "Collapsed": "false"
   },
   "outputs": [],
   "source": [
    "train, test = default_dataset(n_features=100)\n",
    "\n",
    "clf = Mercs(\n",
    "    max_depth=8,\n",
    "    selection_algorithm=\"random\",\n",
    "    fraction_missing=0.3,\n",
    "    nb_targets=5,\n",
    "    nb_iterations=40,\n",
    "    n_jobs=8,\n",
    "    verbose=1,\n",
    "    inference_algorithm=\"ndask\",\n",
    "    max_steps=8,\n",
    "    prediction_algorithm=\"vit\",\n",
    "    random_state=800\n",
    ")"
   ]
  },
  {
   "cell_type": "code",
   "execution_count": 3,
   "metadata": {
    "Collapsed": "false"
   },
   "outputs": [
    {
     "name": "stderr",
     "output_type": "stream",
     "text": [
      "/cw/dtailocal/repos/mercs/src/mercs/algo/induction.py:100: UserWarning: \n",
      "        Training is being parallellized using Joblib. Number of jobs = 8\n",
      "        \n",
      "  warnings.warn(msg)\n",
      "[Parallel(n_jobs=8)]: Using backend LokyBackend with 8 concurrent workers.\n",
      "[Parallel(n_jobs=8)]: Done  34 tasks      | elapsed:    2.1s\n",
      "[Parallel(n_jobs=8)]: Done 569 tasks      | elapsed:    5.1s\n",
      "[Parallel(n_jobs=8)]: Done 825 out of 840 | elapsed:    6.5s remaining:    0.1s\n",
      "[Parallel(n_jobs=8)]: Done 840 out of 840 | elapsed:    6.6s finished\n"
     ]
    }
   ],
   "source": [
    "clf.fit(train, nominal_attributes={train.shape[1]-1})"
   ]
  },
  {
   "cell_type": "markdown",
   "metadata": {
    "Collapsed": "false"
   },
   "source": [
    "## Predict\n",
    "\n",
    "Now the more challeging part."
   ]
  },
  {
   "cell_type": "code",
   "execution_count": 16,
   "metadata": {
    "Collapsed": "false"
   },
   "outputs": [
    {
     "data": {
      "text/plain": [
       "array([-1, -1, -1, -1, -1, -1, -1, -1, -1, -1, -1, -1, -1, -1, -1, -1, -1,\n",
       "       -1, -1, -1,  0,  0,  0,  0,  0,  0,  0,  0,  0,  0,  0,  0,  0,  0,\n",
       "        0,  0,  0,  0,  0,  0,  0,  0,  0,  0,  0,  0,  0,  0,  0,  0,  0,\n",
       "        0,  0,  0,  0,  0,  0,  0,  0,  0,  0,  0,  0,  0,  0,  0,  0,  0,\n",
       "        0,  0,  0,  0,  0,  0,  0,  0,  0,  0,  0,  0,  0,  0,  0,  0,  0,\n",
       "        0,  0,  0,  0,  0,  0,  0,  0,  0,  0,  0,  0,  0,  0,  1,  1],\n",
       "      dtype=int8)"
      ]
     },
     "execution_count": 16,
     "metadata": {},
     "output_type": "execute_result"
    }
   ],
   "source": [
    "q_code = np.zeros(test.shape[1], dtype=np.int8)\n",
    "q_code[-2:] = 1\n",
    "\n",
    "percentage_missing = 0.2\n",
    "\n",
    "q_code[0:int(q_code.shape[0]*percentage_missing)] = -1\n",
    "q_code"
   ]
  },
  {
   "cell_type": "code",
   "execution_count": 17,
   "metadata": {
    "Collapsed": "false"
   },
   "outputs": [],
   "source": [
    "y_pred = clf.predict(test, q_code=q_code, beta=True, prediction_algorithm=\"vmi\",  max_steps=1,) "
   ]
  },
  {
   "cell_type": "code",
   "execution_count": 18,
   "metadata": {
    "Collapsed": "false"
   },
   "outputs": [
    {
     "data": {
      "text/plain": [
       "array([[ 0.78222369,  1.        ],\n",
       "       [-0.89673495,  0.        ],\n",
       "       [-0.06850258,  0.        ],\n",
       "       [-0.05679976,  1.        ],\n",
       "       [-0.22353182,  0.        ],\n",
       "       [-0.76430179,  1.        ],\n",
       "       [-1.10348502,  0.        ],\n",
       "       [-0.28936421,  1.        ],\n",
       "       [-1.15360028,  1.        ],\n",
       "       [ 0.03813297,  1.        ],\n",
       "       [ 0.59157194,  1.        ],\n",
       "       [ 0.29846669,  1.        ],\n",
       "       [ 0.59923386,  0.        ],\n",
       "       [ 0.09757691,  1.        ],\n",
       "       [-0.59856471,  1.        ],\n",
       "       [-0.79036176,  1.        ],\n",
       "       [-1.00834355,  1.        ],\n",
       "       [-1.04441468,  1.        ],\n",
       "       [-0.61165098,  1.        ],\n",
       "       [-0.24555098,  1.        ],\n",
       "       [-0.06088563,  0.        ],\n",
       "       [-1.40852268,  1.        ],\n",
       "       [-1.0692894 ,  1.        ],\n",
       "       [ 0.37180343,  0.        ],\n",
       "       [ 1.08615256,  0.        ],\n",
       "       [-0.03411427,  1.        ],\n",
       "       [-1.75818665,  0.        ],\n",
       "       [-0.42872755,  1.        ],\n",
       "       [ 0.36558583,  1.        ],\n",
       "       [ 0.21909573,  0.        ],\n",
       "       [-1.26062667,  0.        ],\n",
       "       [-0.41296943,  0.        ],\n",
       "       [-1.38000115,  1.        ],\n",
       "       [-0.06750432,  1.        ],\n",
       "       [-0.32418396,  1.        ],\n",
       "       [-0.84691259,  1.        ],\n",
       "       [ 0.23633529,  1.        ],\n",
       "       [-0.51343523,  1.        ],\n",
       "       [ 0.01720975,  1.        ],\n",
       "       [-0.36993461,  1.        ],\n",
       "       [ 0.13509558,  1.        ],\n",
       "       [-1.15505503,  1.        ],\n",
       "       [-1.45321989,  1.        ],\n",
       "       [-1.02017282,  0.        ],\n",
       "       [-0.78510503,  0.        ],\n",
       "       [-1.18381206,  1.        ],\n",
       "       [ 0.43571509,  0.        ],\n",
       "       [-0.85542363,  1.        ],\n",
       "       [ 0.32223517,  1.        ],\n",
       "       [-1.0199901 ,  0.        ],\n",
       "       [-1.66021904,  1.        ],\n",
       "       [-0.09065894,  1.        ],\n",
       "       [-1.37781072,  1.        ],\n",
       "       [ 0.03810618,  0.        ],\n",
       "       [ 0.15830078,  0.        ],\n",
       "       [-0.656651  ,  1.        ],\n",
       "       [-0.62087789,  1.        ],\n",
       "       [-0.45145377,  1.        ],\n",
       "       [-0.40964684,  1.        ],\n",
       "       [ 0.16735808,  1.        ],\n",
       "       [-1.07164533,  0.        ],\n",
       "       [-0.06218102,  0.        ],\n",
       "       [-1.55719567,  0.        ],\n",
       "       [ 0.3372086 ,  1.        ],\n",
       "       [-0.83372312,  1.        ],\n",
       "       [-0.82442625,  1.        ],\n",
       "       [-0.44360045,  1.        ],\n",
       "       [-0.46113149,  1.        ],\n",
       "       [ 0.58297965,  1.        ],\n",
       "       [ 0.04000177,  0.        ],\n",
       "       [-0.99345831,  1.        ],\n",
       "       [ 0.01651564,  1.        ],\n",
       "       [ 0.76618876,  1.        ],\n",
       "       [-0.06496794,  0.        ],\n",
       "       [-1.25620281,  1.        ],\n",
       "       [ 1.08992882,  1.        ],\n",
       "       [ 0.05082718,  1.        ],\n",
       "       [-0.70420845,  1.        ],\n",
       "       [-1.52868669,  1.        ],\n",
       "       [ 0.62088711,  1.        ],\n",
       "       [-0.80347568,  1.        ],\n",
       "       [-0.07364662,  1.        ],\n",
       "       [-0.03901716,  1.        ],\n",
       "       [ 0.16442425,  0.        ],\n",
       "       [-0.98736971,  1.        ],\n",
       "       [ 0.17350695,  1.        ],\n",
       "       [-0.14001513,  1.        ],\n",
       "       [-0.59811736,  1.        ],\n",
       "       [-0.61795932,  1.        ],\n",
       "       [-0.067497  ,  1.        ],\n",
       "       [-1.23238026,  1.        ],\n",
       "       [-0.73409582,  1.        ],\n",
       "       [-0.98203947,  1.        ],\n",
       "       [-0.81089918,  1.        ],\n",
       "       [ 0.11376562,  0.        ],\n",
       "       [ 0.36072286,  1.        ],\n",
       "       [ 0.9607412 ,  1.        ],\n",
       "       [-0.56097665,  1.        ],\n",
       "       [ 0.8879336 ,  1.        ],\n",
       "       [-0.85020893,  1.        ],\n",
       "       [ 0.73209591,  1.        ],\n",
       "       [-0.32624944,  0.        ],\n",
       "       [-1.30259268,  0.        ],\n",
       "       [-1.02317241,  0.        ],\n",
       "       [-0.67499782,  1.        ],\n",
       "       [-0.75751466,  1.        ],\n",
       "       [ 0.90513073,  1.        ],\n",
       "       [-0.52735608,  1.        ],\n",
       "       [-0.54169916,  1.        ],\n",
       "       [-1.65142336,  1.        ],\n",
       "       [-0.93349407,  1.        ],\n",
       "       [-2.0316855 ,  1.        ],\n",
       "       [-1.92459021,  1.        ],\n",
       "       [ 0.93205277,  0.        ],\n",
       "       [-1.23128023,  0.        ],\n",
       "       [-0.52736975,  1.        ],\n",
       "       [-0.88944396,  1.        ],\n",
       "       [-0.94558913,  1.        ],\n",
       "       [-1.16965929,  1.        ],\n",
       "       [-1.07832203,  0.        ],\n",
       "       [-0.82005146,  1.        ],\n",
       "       [-0.49049199,  0.        ],\n",
       "       [-0.17153448,  0.        ],\n",
       "       [ 0.21423027,  1.        ],\n",
       "       [-0.69868058,  0.        ],\n",
       "       [-0.29140465,  1.        ],\n",
       "       [-0.03472607,  1.        ],\n",
       "       [-0.99600737,  1.        ],\n",
       "       [-1.65613853,  0.        ],\n",
       "       [ 0.09270531,  1.        ],\n",
       "       [-0.68452901,  0.        ],\n",
       "       [-0.16316563,  1.        ],\n",
       "       [-1.18748988,  1.        ],\n",
       "       [ 0.21362135,  1.        ],\n",
       "       [-0.24717124,  1.        ],\n",
       "       [-0.632377  ,  1.        ],\n",
       "       [-0.879852  ,  0.        ],\n",
       "       [-0.14656575,  1.        ],\n",
       "       [-0.09767858,  0.        ],\n",
       "       [ 0.36558618,  1.        ],\n",
       "       [-0.08375614,  0.        ],\n",
       "       [-1.32037254,  1.        ],\n",
       "       [-1.22574522,  1.        ],\n",
       "       [-0.48991448,  0.        ],\n",
       "       [-2.73684732,  1.        ],\n",
       "       [ 0.01985179,  0.        ],\n",
       "       [-0.33262198,  0.        ],\n",
       "       [-0.46504179,  1.        ],\n",
       "       [-0.27590124,  1.        ],\n",
       "       [-0.54826423,  0.        ],\n",
       "       [ 0.02761413,  0.        ],\n",
       "       [-0.77421254,  1.        ],\n",
       "       [-0.21998746,  1.        ],\n",
       "       [-0.22918546,  1.        ],\n",
       "       [-0.53721223,  1.        ],\n",
       "       [-0.75381215,  0.        ],\n",
       "       [-0.85706808,  0.        ],\n",
       "       [-0.88592476,  1.        ],\n",
       "       [-1.73919695,  1.        ],\n",
       "       [-0.14375774,  0.        ],\n",
       "       [ 0.64187012,  1.        ],\n",
       "       [-0.68633368,  1.        ],\n",
       "       [ 0.51465454,  1.        ],\n",
       "       [-0.09431125,  0.        ],\n",
       "       [-0.2388311 ,  0.        ],\n",
       "       [ 0.60194721,  0.        ],\n",
       "       [-0.57424475,  1.        ],\n",
       "       [-0.94566151,  1.        ],\n",
       "       [ 0.3273643 ,  1.        ],\n",
       "       [-1.07504528,  1.        ],\n",
       "       [-0.92897274,  1.        ],\n",
       "       [-0.64351959,  1.        ],\n",
       "       [-0.79355682,  0.        ],\n",
       "       [ 0.84560998,  0.        ],\n",
       "       [-0.58465472,  0.        ],\n",
       "       [-0.35827277,  1.        ],\n",
       "       [-0.70708553,  0.        ],\n",
       "       [-1.19345954,  1.        ],\n",
       "       [-0.83742782,  1.        ],\n",
       "       [-0.69150403,  1.        ],\n",
       "       [-0.05957894,  0.        ],\n",
       "       [ 0.21415265,  1.        ],\n",
       "       [-1.11886039,  1.        ],\n",
       "       [-1.98958909,  0.        ],\n",
       "       [-1.01892537,  0.        ],\n",
       "       [-0.40495935,  1.        ],\n",
       "       [-0.28335642,  1.        ],\n",
       "       [-0.9391406 ,  0.        ],\n",
       "       [-1.21697055,  1.        ],\n",
       "       [ 0.4963024 ,  1.        ],\n",
       "       [-0.55565745,  1.        ],\n",
       "       [-0.56864623,  1.        ],\n",
       "       [-0.27016526,  1.        ],\n",
       "       [-0.21916498,  0.        ],\n",
       "       [-0.79170822,  1.        ],\n",
       "       [-0.05464455,  1.        ],\n",
       "       [-1.33064308,  1.        ],\n",
       "       [ 0.42660666,  0.        ],\n",
       "       [ 0.72274139,  1.        ],\n",
       "       [-0.55135625,  1.        ]])"
      ]
     },
     "execution_count": 18,
     "metadata": {},
     "output_type": "execute_result"
    }
   ],
   "source": [
    "y_pred"
   ]
  },
  {
   "cell_type": "code",
   "execution_count": 8,
   "metadata": {
    "Collapsed": "false"
   },
   "outputs": [
    {
     "data": {
      "text/plain": [
       "array([ 0,  0,  0,  0, -1,  0,  0,  0,  0, -1,  0,  0,  0, -1,  0,  0,  0,\n",
       "        0,  0,  0,  0,  0,  0,  0,  0,  0,  0,  0, -1,  0,  0,  0,  0, -1,\n",
       "        0,  0, -1,  0,  0, -1], dtype=int8)"
      ]
     },
     "execution_count": 8,
     "metadata": {},
     "output_type": "execute_result"
    }
   ],
   "source": [
    "clf.m_codes[clf.m_sel, -1]"
   ]
  },
  {
   "cell_type": "code",
   "execution_count": 19,
   "metadata": {
    "Collapsed": "false"
   },
   "outputs": [],
   "source": [
    "y_pred = clf.predict(test, q_code=q_code, beta=True, prediction_algorithm=\"vit\",  max_steps=3,) \n",
    "\n",
    "#y_true = test[:, -1]\n",
    "#from sklearn.metrics import f1_score\n",
    "#f1_score(y_true, y_pred)"
   ]
  },
  {
   "cell_type": "code",
   "execution_count": null,
   "metadata": {
    "Collapsed": "false"
   },
   "outputs": [],
   "source": [
    "clf.m_sel"
   ]
  },
  {
   "cell_type": "code",
   "execution_count": null,
   "metadata": {
    "Collapsed": "false"
   },
   "outputs": [],
   "source": [
    "clf.m_sel"
   ]
  },
  {
   "cell_type": "code",
   "execution_count": null,
   "metadata": {
    "Collapsed": "false"
   },
   "outputs": [],
   "source": []
  },
  {
   "cell_type": "code",
   "execution_count": null,
   "metadata": {
    "Collapsed": "false"
   },
   "outputs": [],
   "source": []
  },
  {
   "cell_type": "code",
   "execution_count": null,
   "metadata": {
    "Collapsed": "false"
   },
   "outputs": [],
   "source": []
  },
  {
   "cell_type": "code",
   "execution_count": null,
   "metadata": {
    "Collapsed": "false"
   },
   "outputs": [],
   "source": [
    "clf.q_diagram.node[('D', 100)][\"dask_proba\"].compute()"
   ]
  },
  {
   "cell_type": "code",
   "execution_count": null,
   "metadata": {
    "Collapsed": "false"
   },
   "outputs": [],
   "source": [
    "clf.q_diagram.node[('D', 97)]"
   ]
  },
  {
   "cell_type": "code",
   "execution_count": null,
   "metadata": {
    "Collapsed": "false"
   },
   "outputs": [],
   "source": [
    "clf.q_diagram.node[('D', 97)][\"dask\"].compute()"
   ]
  },
  {
   "cell_type": "code",
   "execution_count": null,
   "metadata": {
    "Collapsed": "false"
   },
   "outputs": [],
   "source": [
    "from sklearn.metrics import f1_score"
   ]
  },
  {
   "cell_type": "code",
   "execution_count": null,
   "metadata": {
    "Collapsed": "false"
   },
   "outputs": [],
   "source": [
    "%debug"
   ]
  },
  {
   "cell_type": "code",
   "execution_count": null,
   "metadata": {
    "Collapsed": "false"
   },
   "outputs": [],
   "source": [
    "clf.m_sel"
   ]
  },
  {
   "cell_type": "code",
   "execution_count": null,
   "metadata": {
    "Collapsed": "false"
   },
   "outputs": [],
   "source": []
  },
  {
   "cell_type": "code",
   "execution_count": null,
   "metadata": {
    "Collapsed": "false"
   },
   "outputs": [],
   "source": []
  },
  {
   "cell_type": "markdown",
   "metadata": {
    "Collapsed": "false"
   },
   "source": [
    "# Graph-Tool\n",
    "\n",
    "Towards scalable graph representation. **ONE MORE TIME WITH FEELING**"
   ]
  },
  {
   "cell_type": "code",
   "execution_count": null,
   "metadata": {
    "Collapsed": "false"
   },
   "outputs": [],
   "source": [
    "from mercs.graph.gt import build_graph, build_diagram\n",
    "from mercs.algo.turbo_inference import inference_algorithm\n",
    "\n",
    "from mercs.utils.encoding import code_to_query"
   ]
  },
  {
   "cell_type": "code",
   "execution_count": null,
   "metadata": {
    "Collapsed": "false"
   },
   "outputs": [],
   "source": [
    "m_list = clf.m_list\n",
    "m_codes = clf.m_codes\n",
    "q_code = clf.q_code\n",
    "m_sel = clf.m_sel\n",
    "\n",
    "_, q_targ, _ = code_to_query(clf.q_code)"
   ]
  },
  {
   "cell_type": "raw",
   "metadata": {
    "Collapsed": "false"
   },
   "source": [
    "%%timeit\n",
    "g = build_graph(clf.m_codes, clf.m_list)\n",
    "g"
   ]
  },
  {
   "cell_type": "code",
   "execution_count": null,
   "metadata": {
    "Collapsed": "false"
   },
   "outputs": [],
   "source": [
    "g = build_graph(clf.m_codes, clf.m_list)\n",
    "clf.g = g"
   ]
  },
  {
   "cell_type": "code",
   "execution_count": null,
   "metadata": {
    "Collapsed": "false"
   },
   "outputs": [],
   "source": [
    "data_nodes = [(k, idx) for k, idx in clf.g.v_map if k=='D' if idx > 2000]"
   ]
  },
  {
   "cell_type": "code",
   "execution_count": null,
   "metadata": {
    "Collapsed": "false"
   },
   "outputs": [],
   "source": [
    "data_nodes"
   ]
  },
  {
   "cell_type": "code",
   "execution_count": null,
   "metadata": {
    "Collapsed": "false"
   },
   "outputs": [],
   "source": [
    "%%prun\n",
    "clf.q_diagram = build_diagram(clf.g, clf.m_list, clf.m_sel, clf.q_code, prune=True)"
   ]
  },
  {
   "cell_type": "code",
   "execution_count": null,
   "metadata": {
    "Collapsed": "false"
   },
   "outputs": [],
   "source": [
    "%%prun\n",
    "clf.dask = inference_algorithm(clf.q_diagram, clf.m_list, clf.i_list, test, clf.metadata.get('nominal_attributes'))\n",
    "\n",
    "v_idx = clf.g.v_map[('D', q_targ[0])]\n",
    "clf.dask[v_idx].compute()"
   ]
  }
 ],
 "metadata": {
  "kernelspec": {
   "display_name": "mercs",
   "language": "python",
   "name": "mercs"
  },
  "language_info": {
   "codemirror_mode": {
    "name": "ipython",
    "version": 3
   },
   "file_extension": ".py",
   "mimetype": "text/x-python",
   "name": "python",
   "nbconvert_exporter": "python",
   "pygments_lexer": "ipython3",
   "version": "3.6.9"
  }
 },
 "nbformat": 4,
 "nbformat_minor": 4
}
