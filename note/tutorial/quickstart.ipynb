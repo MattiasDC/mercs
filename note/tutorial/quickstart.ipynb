{
 "cells": [
  {
   "cell_type": "markdown",
   "metadata": {},
   "source": [
    "# Quickstart"
   ]
  },
  {
   "cell_type": "markdown",
   "metadata": {},
   "source": [
    "## Preliminaries"
   ]
  },
  {
   "cell_type": "markdown",
   "metadata": {},
   "source": [
    "### Imports"
   ]
  },
  {
   "cell_type": "code",
   "execution_count": 1,
   "metadata": {},
   "outputs": [],
   "source": [
    "import mercs\n",
    "import numpy as np\n",
    "from mercs.tests import load_iris, default_dataset\n",
    "from mercs.core import Mercs\n",
    "\n",
    "import pandas as pd"
   ]
  },
  {
   "cell_type": "markdown",
   "metadata": {},
   "source": [
    "# Fit\n",
    "\n",
    "Here a small MERCS testdrive for what I suppose you'll need. First, let us generate a basic dataset. Some utility-functions are integrated in MERCS so that goes like this"
   ]
  },
  {
   "cell_type": "code",
   "execution_count": 2,
   "metadata": {},
   "outputs": [
    {
     "data": {
      "text/html": [
       "<div>\n",
       "<style scoped>\n",
       "    .dataframe tbody tr th:only-of-type {\n",
       "        vertical-align: middle;\n",
       "    }\n",
       "\n",
       "    .dataframe tbody tr th {\n",
       "        vertical-align: top;\n",
       "    }\n",
       "\n",
       "    .dataframe thead th {\n",
       "        text-align: right;\n",
       "    }\n",
       "</style>\n",
       "<table border=\"1\" class=\"dataframe\">\n",
       "  <thead>\n",
       "    <tr style=\"text-align: right;\">\n",
       "      <th></th>\n",
       "      <th>0</th>\n",
       "      <th>1</th>\n",
       "      <th>2</th>\n",
       "      <th>3</th>\n",
       "    </tr>\n",
       "  </thead>\n",
       "  <tbody>\n",
       "    <tr>\n",
       "      <th>0</th>\n",
       "      <td>-0.878999</td>\n",
       "      <td>0.372105</td>\n",
       "      <td>-0.177663</td>\n",
       "      <td>0.0</td>\n",
       "    </tr>\n",
       "    <tr>\n",
       "      <th>1</th>\n",
       "      <td>-1.007950</td>\n",
       "      <td>-0.196467</td>\n",
       "      <td>-1.271123</td>\n",
       "      <td>1.0</td>\n",
       "    </tr>\n",
       "    <tr>\n",
       "      <th>2</th>\n",
       "      <td>0.343341</td>\n",
       "      <td>0.209659</td>\n",
       "      <td>-0.446280</td>\n",
       "      <td>0.0</td>\n",
       "    </tr>\n",
       "    <tr>\n",
       "      <th>3</th>\n",
       "      <td>-2.361662</td>\n",
       "      <td>-0.600424</td>\n",
       "      <td>-1.301522</td>\n",
       "      <td>0.0</td>\n",
       "    </tr>\n",
       "    <tr>\n",
       "      <th>4</th>\n",
       "      <td>-2.123507</td>\n",
       "      <td>0.246505</td>\n",
       "      <td>-1.323388</td>\n",
       "      <td>0.0</td>\n",
       "    </tr>\n",
       "  </tbody>\n",
       "</table>\n",
       "</div>"
      ],
      "text/plain": [
       "          0         1         2    3\n",
       "0 -0.878999  0.372105 -0.177663  0.0\n",
       "1 -1.007950 -0.196467 -1.271123  1.0\n",
       "2  0.343341  0.209659 -0.446280  0.0\n",
       "3 -2.361662 -0.600424 -1.301522  0.0\n",
       "4 -2.123507  0.246505 -1.323388  0.0"
      ]
     },
     "execution_count": 2,
     "metadata": {},
     "output_type": "execute_result"
    }
   ],
   "source": [
    "train, test = default_dataset(n_features=3)\n",
    "\n",
    "df = pd.DataFrame(train)\n",
    "df.head()"
   ]
  },
  {
   "cell_type": "code",
   "execution_count": 3,
   "metadata": {},
   "outputs": [
    {
     "data": {
      "text/html": [
       "<div>\n",
       "<style scoped>\n",
       "    .dataframe tbody tr th:only-of-type {\n",
       "        vertical-align: middle;\n",
       "    }\n",
       "\n",
       "    .dataframe tbody tr th {\n",
       "        vertical-align: top;\n",
       "    }\n",
       "\n",
       "    .dataframe thead th {\n",
       "        text-align: right;\n",
       "    }\n",
       "</style>\n",
       "<table border=\"1\" class=\"dataframe\">\n",
       "  <thead>\n",
       "    <tr style=\"text-align: right;\">\n",
       "      <th></th>\n",
       "      <th>0</th>\n",
       "      <th>1</th>\n",
       "      <th>2</th>\n",
       "      <th>3</th>\n",
       "    </tr>\n",
       "  </thead>\n",
       "  <tbody>\n",
       "    <tr>\n",
       "      <th>count</th>\n",
       "      <td>800.000000</td>\n",
       "      <td>800.000000</td>\n",
       "      <td>800.000000</td>\n",
       "      <td>800.000000</td>\n",
       "    </tr>\n",
       "    <tr>\n",
       "      <th>mean</th>\n",
       "      <td>-0.026556</td>\n",
       "      <td>0.023105</td>\n",
       "      <td>-0.032320</td>\n",
       "      <td>0.495000</td>\n",
       "    </tr>\n",
       "    <tr>\n",
       "      <th>std</th>\n",
       "      <td>1.414683</td>\n",
       "      <td>0.982609</td>\n",
       "      <td>1.351052</td>\n",
       "      <td>0.500288</td>\n",
       "    </tr>\n",
       "    <tr>\n",
       "      <th>min</th>\n",
       "      <td>-4.543441</td>\n",
       "      <td>-3.019512</td>\n",
       "      <td>-3.836929</td>\n",
       "      <td>0.000000</td>\n",
       "    </tr>\n",
       "    <tr>\n",
       "      <th>25%</th>\n",
       "      <td>-1.074982</td>\n",
       "      <td>-0.629842</td>\n",
       "      <td>-1.040769</td>\n",
       "      <td>0.000000</td>\n",
       "    </tr>\n",
       "    <tr>\n",
       "      <th>50%</th>\n",
       "      <td>-0.237825</td>\n",
       "      <td>0.000368</td>\n",
       "      <td>-0.180885</td>\n",
       "      <td>0.000000</td>\n",
       "    </tr>\n",
       "    <tr>\n",
       "      <th>75%</th>\n",
       "      <td>0.972748</td>\n",
       "      <td>0.668419</td>\n",
       "      <td>1.005200</td>\n",
       "      <td>1.000000</td>\n",
       "    </tr>\n",
       "    <tr>\n",
       "      <th>max</th>\n",
       "      <td>4.020262</td>\n",
       "      <td>3.926238</td>\n",
       "      <td>3.994644</td>\n",
       "      <td>1.000000</td>\n",
       "    </tr>\n",
       "  </tbody>\n",
       "</table>\n",
       "</div>"
      ],
      "text/plain": [
       "                0           1           2           3\n",
       "count  800.000000  800.000000  800.000000  800.000000\n",
       "mean    -0.026556    0.023105   -0.032320    0.495000\n",
       "std      1.414683    0.982609    1.351052    0.500288\n",
       "min     -4.543441   -3.019512   -3.836929    0.000000\n",
       "25%     -1.074982   -0.629842   -1.040769    0.000000\n",
       "50%     -0.237825    0.000368   -0.180885    0.000000\n",
       "75%      0.972748    0.668419    1.005200    1.000000\n",
       "max      4.020262    3.926238    3.994644    1.000000"
      ]
     },
     "execution_count": 3,
     "metadata": {},
     "output_type": "execute_result"
    }
   ],
   "source": [
    "df.describe()"
   ]
  },
  {
   "cell_type": "markdown",
   "metadata": {},
   "source": [
    "Now let's train a MERCS model. To know what options you have, come talk to me or dig in the code. For induction, `nb_targets` and `nb_iterations` matter most. Number of targets speaks for itself, number of iterations manages the amount of trees _for each target_. With `n_jobs` you can do multi-core learning (with joblib, really basic, but works fine on single machine), that makes stuff faster. `fraction_missing` sets the amount of attributes that is missing for a tree. However, this parameter only has an effect if you use the `random` selection algorithm. The alternative is the `base` algorithm, which selects targets, and uses all the rest as input."
   ]
  },
  {
   "cell_type": "code",
   "execution_count": 4,
   "metadata": {},
   "outputs": [],
   "source": [
    "clf = Mercs(\n",
    "    max_depth=4,\n",
    "    selection_algorithm=\"random\",\n",
    "    fraction_missing=0.6,\n",
    "    nb_targets=2,\n",
    "    nb_iterations=2,\n",
    "    n_jobs=1,\n",
    "    verbose=1,\n",
    "    inference_algorithm=\"own\",\n",
    "    max_steps=8,\n",
    "    prediction_algorithm=\"it\",\n",
    ")"
   ]
  },
  {
   "cell_type": "markdown",
   "metadata": {},
   "source": [
    "You have to specify the nominal attributes yourself. This determines whether a regressor or a classifier is learned for that target. MERCS takes care of grouping targets such that no mixed sets are created."
   ]
  },
  {
   "cell_type": "code",
   "execution_count": 5,
   "metadata": {},
   "outputs": [
    {
     "data": {
      "text/plain": [
       "{3}"
      ]
     },
     "execution_count": 5,
     "metadata": {},
     "output_type": "execute_result"
    }
   ],
   "source": [
    "nominal_ids = {train.shape[1]-1}\n",
    "nominal_ids"
   ]
  },
  {
   "cell_type": "code",
   "execution_count": 6,
   "metadata": {},
   "outputs": [],
   "source": [
    "clf.fit(train, nominal_attributes=nominal_ids)"
   ]
  },
  {
   "cell_type": "markdown",
   "metadata": {},
   "source": [
    "So, now we have learned trees with two targets, but only a single target was nominal. If MERCS worked well, it should have learned single-target classifiers (for attribute 4) and multi-target regressors for all other target sets."
   ]
  },
  {
   "cell_type": "code",
   "execution_count": 7,
   "metadata": {},
   "outputs": [
    {
     "name": "stdout",
     "output_type": "stream",
     "text": [
      "\n",
      "    Model with index: 0\n",
      "    DecisionTreeRegressor(max_depth=4, random_state=102)\n",
      "    \n",
      "\n",
      "    Model with index: 1\n",
      "    DecisionTreeRegressor(max_depth=4, random_state=435)\n",
      "    \n",
      "\n",
      "    Model with index: 2\n",
      "    DecisionTreeRegressor(max_depth=4, random_state=860)\n",
      "    \n",
      "\n",
      "    Model with index: 3\n",
      "    DecisionTreeRegressor(max_depth=4, random_state=270)\n",
      "    \n",
      "\n",
      "    Model with index: 4\n",
      "    DecisionTreeClassifier(max_depth=4, random_state=106)\n",
      "    \n",
      "\n",
      "    Model with index: 5\n",
      "    DecisionTreeClassifier(max_depth=4, random_state=71)\n",
      "    \n"
     ]
    }
   ],
   "source": [
    "for idx, m in enumerate(clf.m_list):\n",
    "    msg = \"\"\"\n",
    "    Model with index: {}\n",
    "    {}\n",
    "    \"\"\".format(idx, m.model)\n",
    "    print(msg)"
   ]
  },
  {
   "cell_type": "markdown",
   "metadata": {},
   "source": [
    "So, that looks good already. Let's examine up close."
   ]
  },
  {
   "cell_type": "code",
   "execution_count": 8,
   "metadata": {},
   "outputs": [
    {
     "data": {
      "text/plain": [
       "array([[ 0,  1,  1, -1],\n",
       "       [ 1,  1,  0,  0],\n",
       "       [ 1,  1, -1,  0],\n",
       "       [ 1,  0,  1, -1],\n",
       "       [ 0, -1, -1,  1],\n",
       "       [-1,  0, -1,  1]])"
      ]
     },
     "execution_count": 8,
     "metadata": {},
     "output_type": "execute_result"
    }
   ],
   "source": [
    "clf.m_codes"
   ]
  },
  {
   "cell_type": "markdown",
   "metadata": {},
   "source": [
    "That's the matrix that summarizes everything. This can be dense to parse, and there's alternatives to gain insights, for instance;"
   ]
  },
  {
   "cell_type": "code",
   "execution_count": 9,
   "metadata": {},
   "outputs": [
    {
     "name": "stdout",
     "output_type": "stream",
     "text": [
      "\n",
      "    Tree with id:          0\n",
      "    has source attributes: [0]\n",
      "    has target attributes: [1, 2],\n",
      "    and predicts numeric attributes\n",
      "    \n",
      "\n",
      "    Tree with id:          1\n",
      "    has source attributes: [2, 3]\n",
      "    has target attributes: [0, 1],\n",
      "    and predicts numeric attributes\n",
      "    \n",
      "\n",
      "    Tree with id:          2\n",
      "    has source attributes: [3]\n",
      "    has target attributes: [0, 1],\n",
      "    and predicts numeric attributes\n",
      "    \n",
      "\n",
      "    Tree with id:          3\n",
      "    has source attributes: [1]\n",
      "    has target attributes: [0, 2],\n",
      "    and predicts numeric attributes\n",
      "    \n",
      "\n",
      "    Tree with id:          4\n",
      "    has source attributes: [0]\n",
      "    has target attributes: [3],\n",
      "    and predicts nominal attributes\n",
      "    \n",
      "\n",
      "    Tree with id:          5\n",
      "    has source attributes: [1]\n",
      "    has target attributes: [3],\n",
      "    and predicts nominal attributes\n",
      "    \n"
     ]
    }
   ],
   "source": [
    "for m_idx, m in enumerate(clf.m_list):\n",
    "    msg = \"\"\"\n",
    "    Tree with id:          {}\n",
    "    has source attributes: {}\n",
    "    has target attributes: {},\n",
    "    and predicts {} attributes\n",
    "    \"\"\".format(m_idx, m.desc_ids, m.targ_ids, m.out_kind)\n",
    "    print(msg)"
   ]
  },
  {
   "cell_type": "markdown",
   "metadata": {},
   "source": [
    "And that concludes my quick tour of how to fit with MERCS."
   ]
  },
  {
   "cell_type": "markdown",
   "metadata": {},
   "source": [
    "# Prediction\n",
    "\n",
    "First, we generate a query."
   ]
  },
  {
   "cell_type": "code",
   "execution_count": 10,
   "metadata": {},
   "outputs": [
    {
     "data": {
      "text/plain": [
       "<mercs.composition.CanonicalModel.CanonicalModel at 0x7fc41adc80d0>"
      ]
     },
     "execution_count": 10,
     "metadata": {},
     "output_type": "execute_result"
    }
   ],
   "source": [
    "m = clf.m_list[0]\n",
    "m"
   ]
  },
  {
   "cell_type": "code",
   "execution_count": 11,
   "metadata": {},
   "outputs": [
    {
     "data": {
      "text/plain": [
       "'numeric'"
      ]
     },
     "execution_count": 11,
     "metadata": {},
     "output_type": "execute_result"
    }
   ],
   "source": [
    "m.out_kind"
   ]
  },
  {
   "cell_type": "code",
   "execution_count": 12,
   "metadata": {},
   "outputs": [
    {
     "data": {
      "text/plain": [
       "array([[1.        , 0.        , 0.        , 0.        ],\n",
       "       [0.        , 0.        , 0.29767015, 0.70232985],\n",
       "       [0.        , 0.        , 0.        , 1.        ],\n",
       "       [0.        , 1.        , 0.        , 0.        ],\n",
       "       [1.        , 0.        , 0.        , 0.        ],\n",
       "       [0.        , 1.        , 0.        , 0.        ]])"
      ]
     },
     "execution_count": 12,
     "metadata": {},
     "output_type": "execute_result"
    }
   ],
   "source": [
    "clf.m_fimps"
   ]
  },
  {
   "cell_type": "code",
   "execution_count": 13,
   "metadata": {},
   "outputs": [
    {
     "name": "stdout",
     "output_type": "stream",
     "text": [
      "Query code is: [0 0 0 1]\n",
      "('D', 3)\n",
      "('M', 4)\n"
     ]
    },
    {
     "data": {
      "text/plain": [
       "array([0., 0., 0., 1., 0., 0., 1., 1., 1., 1.])"
      ]
     },
     "execution_count": 13,
     "metadata": {},
     "output_type": "execute_result"
    }
   ],
   "source": [
    "# Single target\n",
    "q_code=np.zeros(clf.m_codes[0].shape[0], dtype=int)\n",
    "q_code[-1:] = 1\n",
    "print(\"Query code is: {}\".format(q_code))\n",
    "\n",
    "y_pred = clf.predict(test, q_code=q_code)\n",
    "y_pred[:10]"
   ]
  },
  {
   "cell_type": "code",
   "execution_count": 14,
   "metadata": {},
   "outputs": [
    {
     "data": {
      "image/svg+xml": [
       "<svg xmlns=\"http://www.w3.org/2000/svg\" xmlns:xlink=\"http://www.w3.org/1999/xlink\" width=\"95pt\" height=\"188pt\" viewBox=\"0.00 0.00 95.09 188.00\">\n",
       "<g id=\"graph0\" class=\"graph\" transform=\"scale(1 1) rotate(0) translate(4 184)\">\n",
       "<title>G</title>\n",
       "<polygon fill=\"white\" stroke=\"transparent\" points=\"-4,4 -4,-184 91.09,-184 91.09,4 -4,4\"/>\n",
       "<!-- (&#39;D&#39;, 0) -->\n",
       "<g id=\"node1\" class=\"node\">\n",
       "<title>('D', 0)</title>\n",
       "<ellipse fill=\"none\" stroke=\"black\" cx=\"43.55\" cy=\"-18\" rx=\"41.69\" ry=\"18\"/>\n",
       "<text text-anchor=\"middle\" x=\"43.55\" y=\"-14.3\" font-family=\"Times,serif\" font-size=\"14.00\">('D', 0)</text>\n",
       "</g>\n",
       "<!-- (&#39;M&#39;, 4) -->\n",
       "<g id=\"node2\" class=\"node\">\n",
       "<title>('M', 4)</title>\n",
       "<ellipse fill=\"none\" stroke=\"black\" cx=\"43.55\" cy=\"-90\" rx=\"43.59\" ry=\"18\"/>\n",
       "<text text-anchor=\"middle\" x=\"43.55\" y=\"-86.3\" font-family=\"Times,serif\" font-size=\"14.00\">('M', 4)</text>\n",
       "</g>\n",
       "<!-- (&#39;D&#39;, 0)&#45;&gt;(&#39;M&#39;, 4) -->\n",
       "<g id=\"edge1\" class=\"edge\">\n",
       "<title>('D', 0)-&gt;('M', 4)</title>\n",
       "<path fill=\"none\" stroke=\"black\" d=\"M43.55,-36.3C43.55,-44.02 43.55,-53.29 43.55,-61.89\"/>\n",
       "<polygon fill=\"black\" stroke=\"black\" points=\"40.05,-61.9 43.55,-71.9 47.05,-61.9 40.05,-61.9\"/>\n",
       "</g>\n",
       "<!-- (&#39;D&#39;, 3) -->\n",
       "<g id=\"node3\" class=\"node\">\n",
       "<title>('D', 3)</title>\n",
       "<ellipse fill=\"none\" stroke=\"black\" cx=\"43.55\" cy=\"-162\" rx=\"41.69\" ry=\"18\"/>\n",
       "<text text-anchor=\"middle\" x=\"43.55\" y=\"-158.3\" font-family=\"Times,serif\" font-size=\"14.00\">('D', 3)</text>\n",
       "</g>\n",
       "<!-- (&#39;M&#39;, 4)&#45;&gt;(&#39;D&#39;, 3) -->\n",
       "<g id=\"edge2\" class=\"edge\">\n",
       "<title>('M', 4)-&gt;('D', 3)</title>\n",
       "<path fill=\"none\" stroke=\"black\" d=\"M43.55,-108.3C43.55,-116.02 43.55,-125.29 43.55,-133.89\"/>\n",
       "<polygon fill=\"black\" stroke=\"black\" points=\"40.05,-133.9 43.55,-143.9 47.05,-133.9 40.05,-133.9\"/>\n",
       "</g>\n",
       "</g>\n",
       "</svg>"
      ],
      "text/plain": [
       "<IPython.core.display.SVG object>"
      ]
     },
     "metadata": {},
     "output_type": "display_data"
    }
   ],
   "source": [
    "clf.show_q_diagram()"
   ]
  },
  {
   "cell_type": "code",
   "execution_count": 15,
   "metadata": {},
   "outputs": [
    {
     "data": {
      "text/plain": [
       "{0: 1.0}"
      ]
     },
     "execution_count": 15,
     "metadata": {},
     "output_type": "execute_result"
    }
   ],
   "source": [
    "clf.q_model.feature_importances_"
   ]
  },
  {
   "cell_type": "code",
   "execution_count": 16,
   "metadata": {},
   "outputs": [
    {
     "name": "stdout",
     "output_type": "stream",
     "text": [
      "Query code is: [0 0 1 1]\n",
      "('D', 2)\n",
      "('M', 0)\n",
      "('M', 3)\n",
      "('D', 3)\n",
      "('M', 4)\n"
     ]
    },
    {
     "data": {
      "text/plain": [
       "array([[ 0.15161875,  0.        ],\n",
       "       [-0.07064853,  0.        ],\n",
       "       [ 0.15161875,  0.        ],\n",
       "       [ 0.21392281,  1.        ],\n",
       "       [ 0.03979332,  0.        ],\n",
       "       [-0.20459606,  0.        ],\n",
       "       [ 0.21392281,  1.        ],\n",
       "       [-0.20459606,  1.        ],\n",
       "       [-0.31503791,  1.        ],\n",
       "       [-0.17568144,  1.        ]])"
      ]
     },
     "execution_count": 16,
     "metadata": {},
     "output_type": "execute_result"
    }
   ],
   "source": [
    "# Multi-target\n",
    "q_code=np.zeros(clf.m_codes[0].shape[0], dtype=int)\n",
    "q_code[-2:] = 1\n",
    "print(\"Query code is: {}\".format(q_code))\n",
    "\n",
    "y_pred = clf.predict(test, q_code=q_code)\n",
    "y_pred[:10]"
   ]
  },
  {
   "cell_type": "code",
   "execution_count": 17,
   "metadata": {},
   "outputs": [
    {
     "data": {
      "image/svg+xml": [
       "<svg xmlns=\"http://www.w3.org/2000/svg\" xmlns:xlink=\"http://www.w3.org/1999/xlink\" width=\"305pt\" height=\"188pt\" viewBox=\"0.00 0.00 305.09 188.00\">\n",
       "<g id=\"graph0\" class=\"graph\" transform=\"scale(1 1) rotate(0) translate(4 184)\">\n",
       "<title>G</title>\n",
       "<polygon fill=\"white\" stroke=\"transparent\" points=\"-4,4 -4,-184 301.09,-184 301.09,4 -4,4\"/>\n",
       "<!-- (&#39;D&#39;, 0) -->\n",
       "<g id=\"node1\" class=\"node\">\n",
       "<title>('D', 0)</title>\n",
       "<ellipse fill=\"none\" stroke=\"black\" cx=\"95.55\" cy=\"-18\" rx=\"41.69\" ry=\"18\"/>\n",
       "<text text-anchor=\"middle\" x=\"95.55\" y=\"-14.3\" font-family=\"Times,serif\" font-size=\"14.00\">('D', 0)</text>\n",
       "</g>\n",
       "<!-- (&#39;M&#39;, 4) -->\n",
       "<g id=\"node2\" class=\"node\">\n",
       "<title>('M', 4)</title>\n",
       "<ellipse fill=\"none\" stroke=\"black\" cx=\"43.55\" cy=\"-90\" rx=\"43.59\" ry=\"18\"/>\n",
       "<text text-anchor=\"middle\" x=\"43.55\" y=\"-86.3\" font-family=\"Times,serif\" font-size=\"14.00\">('M', 4)</text>\n",
       "</g>\n",
       "<!-- (&#39;D&#39;, 0)&#45;&gt;(&#39;M&#39;, 4) -->\n",
       "<g id=\"edge1\" class=\"edge\">\n",
       "<title>('D', 0)-&gt;('M', 4)</title>\n",
       "<path fill=\"none\" stroke=\"black\" d=\"M83.49,-35.24C77.08,-43.86 69.07,-54.64 61.91,-64.27\"/>\n",
       "<polygon fill=\"black\" stroke=\"black\" points=\"59.06,-62.25 55.9,-72.37 64.68,-66.43 59.06,-62.25\"/>\n",
       "</g>\n",
       "<!-- (&#39;M&#39;, 0) -->\n",
       "<g id=\"node4\" class=\"node\">\n",
       "<title>('M', 0)</title>\n",
       "<ellipse fill=\"none\" stroke=\"black\" cx=\"148.55\" cy=\"-90\" rx=\"43.59\" ry=\"18\"/>\n",
       "<text text-anchor=\"middle\" x=\"148.55\" y=\"-86.3\" font-family=\"Times,serif\" font-size=\"14.00\">('M', 0)</text>\n",
       "</g>\n",
       "<!-- (&#39;D&#39;, 0)&#45;&gt;(&#39;M&#39;, 0) -->\n",
       "<g id=\"edge2\" class=\"edge\">\n",
       "<title>('D', 0)-&gt;('M', 0)</title>\n",
       "<path fill=\"none\" stroke=\"black\" d=\"M107.84,-35.24C114.37,-43.86 122.53,-54.64 129.82,-64.27\"/>\n",
       "<polygon fill=\"black\" stroke=\"black\" points=\"127.13,-66.51 135.95,-72.37 132.71,-62.28 127.13,-66.51\"/>\n",
       "</g>\n",
       "<!-- (&#39;D&#39;, 3) -->\n",
       "<g id=\"node3\" class=\"node\">\n",
       "<title>('D', 3)</title>\n",
       "<ellipse fill=\"none\" stroke=\"black\" cx=\"43.55\" cy=\"-162\" rx=\"41.69\" ry=\"18\"/>\n",
       "<text text-anchor=\"middle\" x=\"43.55\" y=\"-158.3\" font-family=\"Times,serif\" font-size=\"14.00\">('D', 3)</text>\n",
       "</g>\n",
       "<!-- (&#39;M&#39;, 4)&#45;&gt;(&#39;D&#39;, 3) -->\n",
       "<g id=\"edge3\" class=\"edge\">\n",
       "<title>('M', 4)-&gt;('D', 3)</title>\n",
       "<path fill=\"none\" stroke=\"black\" d=\"M43.55,-108.3C43.55,-116.02 43.55,-125.29 43.55,-133.89\"/>\n",
       "<polygon fill=\"black\" stroke=\"black\" points=\"40.05,-133.9 43.55,-143.9 47.05,-133.9 40.05,-133.9\"/>\n",
       "</g>\n",
       "<!-- (&#39;D&#39;, 2) -->\n",
       "<g id=\"node7\" class=\"node\">\n",
       "<title>('D', 2)</title>\n",
       "<ellipse fill=\"none\" stroke=\"black\" cx=\"200.55\" cy=\"-162\" rx=\"41.69\" ry=\"18\"/>\n",
       "<text text-anchor=\"middle\" x=\"200.55\" y=\"-158.3\" font-family=\"Times,serif\" font-size=\"14.00\">('D', 2)</text>\n",
       "</g>\n",
       "<!-- (&#39;M&#39;, 0)&#45;&gt;(&#39;D&#39;, 2) -->\n",
       "<g id=\"edge4\" class=\"edge\">\n",
       "<title>('M', 0)-&gt;('D', 2)</title>\n",
       "<path fill=\"none\" stroke=\"black\" d=\"M160.87,-107.59C167.22,-116.13 175.08,-126.72 182.13,-136.21\"/>\n",
       "<polygon fill=\"black\" stroke=\"black\" points=\"179.54,-138.59 188.31,-144.53 185.16,-134.42 179.54,-138.59\"/>\n",
       "</g>\n",
       "<!-- (&#39;D&#39;, 1) -->\n",
       "<g id=\"node5\" class=\"node\">\n",
       "<title>('D', 1)</title>\n",
       "<ellipse fill=\"none\" stroke=\"black\" cx=\"253.55\" cy=\"-18\" rx=\"41.69\" ry=\"18\"/>\n",
       "<text text-anchor=\"middle\" x=\"253.55\" y=\"-14.3\" font-family=\"Times,serif\" font-size=\"14.00\">('D', 1)</text>\n",
       "</g>\n",
       "<!-- (&#39;M&#39;, 3) -->\n",
       "<g id=\"node6\" class=\"node\">\n",
       "<title>('M', 3)</title>\n",
       "<ellipse fill=\"none\" stroke=\"black\" cx=\"253.55\" cy=\"-90\" rx=\"43.59\" ry=\"18\"/>\n",
       "<text text-anchor=\"middle\" x=\"253.55\" y=\"-86.3\" font-family=\"Times,serif\" font-size=\"14.00\">('M', 3)</text>\n",
       "</g>\n",
       "<!-- (&#39;D&#39;, 1)&#45;&gt;(&#39;M&#39;, 3) -->\n",
       "<g id=\"edge5\" class=\"edge\">\n",
       "<title>('D', 1)-&gt;('M', 3)</title>\n",
       "<path fill=\"none\" stroke=\"black\" d=\"M253.55,-36.3C253.55,-44.02 253.55,-53.29 253.55,-61.89\"/>\n",
       "<polygon fill=\"black\" stroke=\"black\" points=\"250.05,-61.9 253.55,-71.9 257.05,-61.9 250.05,-61.9\"/>\n",
       "</g>\n",
       "<!-- (&#39;M&#39;, 3)&#45;&gt;(&#39;D&#39;, 2) -->\n",
       "<g id=\"edge6\" class=\"edge\">\n",
       "<title>('M', 3)-&gt;('D', 2)</title>\n",
       "<path fill=\"none\" stroke=\"black\" d=\"M240.99,-107.59C234.45,-116.22 226.34,-126.94 219.09,-136.5\"/>\n",
       "<polygon fill=\"black\" stroke=\"black\" points=\"216.26,-134.44 213.02,-144.53 221.84,-138.67 216.26,-134.44\"/>\n",
       "</g>\n",
       "</g>\n",
       "</svg>"
      ],
      "text/plain": [
       "<IPython.core.display.SVG object>"
      ]
     },
     "metadata": {},
     "output_type": "display_data"
    }
   ],
   "source": [
    "clf.show_q_diagram()"
   ]
  },
  {
   "cell_type": "code",
   "execution_count": 18,
   "metadata": {},
   "outputs": [
    {
     "data": {
      "text/plain": [
       "{0: 0.75, 1: 0.25}"
      ]
     },
     "execution_count": 18,
     "metadata": {},
     "output_type": "execute_result"
    }
   ],
   "source": [
    "clf.q_model.feature_importances_"
   ]
  },
  {
   "cell_type": "code",
   "execution_count": 19,
   "metadata": {},
   "outputs": [
    {
     "name": "stdout",
     "output_type": "stream",
     "text": [
      "Query code is: [-1 -1  0  1]\n",
      "('D', 3)\n",
      "('M', 4)\n",
      "('D', 0)\n",
      "('M', 1)\n"
     ]
    },
    {
     "data": {
      "text/plain": [
       "array([0., 0., 0., 0., 0., 0., 0., 1., 1., 0.])"
      ]
     },
     "execution_count": 19,
     "metadata": {},
     "output_type": "execute_result"
    }
   ],
   "source": [
    "# Missing attributes\n",
    "q_code=np.zeros(clf.m_codes[0].shape[0], dtype=int)\n",
    "q_code[-1:] = 1\n",
    "q_code[:2] = -1\n",
    "print(\"Query code is: {}\".format(q_code))\n",
    "\n",
    "y_pred = clf.predict(test, q_code=q_code)\n",
    "y_pred[:10]"
   ]
  },
  {
   "cell_type": "code",
   "execution_count": 21,
   "metadata": {},
   "outputs": [
    {
     "data": {
      "image/svg+xml": [
       "<svg xmlns=\"http://www.w3.org/2000/svg\" xmlns:xlink=\"http://www.w3.org/1999/xlink\" width=\"184pt\" height=\"332pt\" viewBox=\"0.00 0.00 184.29 332.00\">\n",
       "<g id=\"graph0\" class=\"graph\" transform=\"scale(1 1) rotate(0) translate(4 328)\">\n",
       "<title>G</title>\n",
       "<polygon fill=\"white\" stroke=\"transparent\" points=\"-4,4 -4,-328 180.29,-328 180.29,4 -4,4\"/>\n",
       "<!-- (&#39;D&#39;, 2) -->\n",
       "<g id=\"node1\" class=\"node\">\n",
       "<title>('D', 2)</title>\n",
       "<ellipse fill=\"none\" stroke=\"black\" cx=\"41.6\" cy=\"-18\" rx=\"41.69\" ry=\"18\"/>\n",
       "<text text-anchor=\"middle\" x=\"41.6\" y=\"-14.3\" font-family=\"Times,serif\" font-size=\"14.00\">('D', 2)</text>\n",
       "</g>\n",
       "<!-- (&#39;M&#39;, 1) -->\n",
       "<g id=\"node2\" class=\"node\">\n",
       "<title>('M', 1)</title>\n",
       "<ellipse fill=\"none\" stroke=\"black\" cx=\"89.6\" cy=\"-90\" rx=\"43.59\" ry=\"18\"/>\n",
       "<text text-anchor=\"middle\" x=\"89.6\" y=\"-86.3\" font-family=\"Times,serif\" font-size=\"14.00\">('M', 1)</text>\n",
       "</g>\n",
       "<!-- (&#39;D&#39;, 2)&#45;&gt;(&#39;M&#39;, 1) -->\n",
       "<g id=\"edge1\" class=\"edge\">\n",
       "<title>('D', 2)-&gt;('M', 1)</title>\n",
       "<path fill=\"none\" stroke=\"black\" d=\"M52.97,-35.59C58.83,-44.13 66.09,-54.72 72.6,-64.21\"/>\n",
       "<polygon fill=\"black\" stroke=\"black\" points=\"69.76,-66.26 78.3,-72.53 75.53,-62.3 69.76,-66.26\"/>\n",
       "</g>\n",
       "<!-- (&#39;D&#39;, 0) -->\n",
       "<g id=\"node4\" class=\"node\">\n",
       "<title>('D', 0)</title>\n",
       "<ellipse fill=\"none\" stroke=\"black\" cx=\"89.6\" cy=\"-162\" rx=\"41.69\" ry=\"18\"/>\n",
       "<text text-anchor=\"middle\" x=\"89.6\" y=\"-158.3\" font-family=\"Times,serif\" font-size=\"14.00\">('D', 0)</text>\n",
       "</g>\n",
       "<!-- (&#39;M&#39;, 1)&#45;&gt;(&#39;D&#39;, 0) -->\n",
       "<g id=\"edge2\" class=\"edge\">\n",
       "<title>('M', 1)-&gt;('D', 0)</title>\n",
       "<path fill=\"none\" stroke=\"black\" d=\"M89.6,-108.3C89.6,-116.02 89.6,-125.29 89.6,-133.89\"/>\n",
       "<polygon fill=\"black\" stroke=\"black\" points=\"86.1,-133.9 89.6,-143.9 93.1,-133.9 86.1,-133.9\"/>\n",
       "</g>\n",
       "<!-- (&#39;I&#39;, 3) -->\n",
       "<g id=\"node3\" class=\"node\">\n",
       "<title>('I', 3)</title>\n",
       "<ellipse fill=\"none\" stroke=\"black\" cx=\"138.6\" cy=\"-18\" rx=\"37.89\" ry=\"18\"/>\n",
       "<text text-anchor=\"middle\" x=\"138.6\" y=\"-14.3\" font-family=\"Times,serif\" font-size=\"14.00\">('I', 3)</text>\n",
       "</g>\n",
       "<!-- (&#39;I&#39;, 3)&#45;&gt;(&#39;M&#39;, 1) -->\n",
       "<g id=\"edge3\" class=\"edge\">\n",
       "<title>('I', 3)-&gt;('M', 1)</title>\n",
       "<path fill=\"none\" stroke=\"black\" d=\"M127.23,-35.24C121.26,-43.77 113.8,-54.42 107.11,-63.98\"/>\n",
       "<polygon fill=\"black\" stroke=\"black\" points=\"104.11,-62.17 101.24,-72.37 109.84,-66.18 104.11,-62.17\"/>\n",
       "</g>\n",
       "<!-- (&#39;M&#39;, 4) -->\n",
       "<g id=\"node5\" class=\"node\">\n",
       "<title>('M', 4)</title>\n",
       "<ellipse fill=\"none\" stroke=\"black\" cx=\"89.6\" cy=\"-234\" rx=\"43.59\" ry=\"18\"/>\n",
       "<text text-anchor=\"middle\" x=\"89.6\" y=\"-230.3\" font-family=\"Times,serif\" font-size=\"14.00\">('M', 4)</text>\n",
       "</g>\n",
       "<!-- (&#39;D&#39;, 0)&#45;&gt;(&#39;M&#39;, 4) -->\n",
       "<g id=\"edge4\" class=\"edge\">\n",
       "<title>('D', 0)-&gt;('M', 4)</title>\n",
       "<path fill=\"none\" stroke=\"black\" d=\"M89.6,-180.3C89.6,-188.02 89.6,-197.29 89.6,-205.89\"/>\n",
       "<polygon fill=\"black\" stroke=\"black\" points=\"86.1,-205.9 89.6,-215.9 93.1,-205.9 86.1,-205.9\"/>\n",
       "</g>\n",
       "<!-- (&#39;D&#39;, 3) -->\n",
       "<g id=\"node6\" class=\"node\">\n",
       "<title>('D', 3)</title>\n",
       "<ellipse fill=\"none\" stroke=\"black\" cx=\"89.6\" cy=\"-306\" rx=\"41.69\" ry=\"18\"/>\n",
       "<text text-anchor=\"middle\" x=\"89.6\" y=\"-302.3\" font-family=\"Times,serif\" font-size=\"14.00\">('D', 3)</text>\n",
       "</g>\n",
       "<!-- (&#39;M&#39;, 4)&#45;&gt;(&#39;D&#39;, 3) -->\n",
       "<g id=\"edge5\" class=\"edge\">\n",
       "<title>('M', 4)-&gt;('D', 3)</title>\n",
       "<path fill=\"none\" stroke=\"black\" d=\"M89.6,-252.3C89.6,-260.02 89.6,-269.29 89.6,-277.89\"/>\n",
       "<polygon fill=\"black\" stroke=\"black\" points=\"86.1,-277.9 89.6,-287.9 93.1,-277.9 86.1,-277.9\"/>\n",
       "</g>\n",
       "</g>\n",
       "</svg>"
      ],
      "text/plain": [
       "<IPython.core.display.SVG object>"
      ]
     },
     "metadata": {},
     "output_type": "display_data"
    }
   ],
   "source": [
    "clf.show_q_diagram()"
   ]
  },
  {
   "cell_type": "code",
   "execution_count": 22,
   "metadata": {},
   "outputs": [
    {
     "data": {
      "text/plain": [
       "{2: 0.297670148394614, 3: 0.0}"
      ]
     },
     "execution_count": 22,
     "metadata": {},
     "output_type": "execute_result"
    }
   ],
   "source": [
    "clf.q_model.feature_importances_"
   ]
  }
 ],
 "metadata": {
  "kernelspec": {
   "display_name": "mercs",
   "language": "python",
   "name": "mercs"
  },
  "language_info": {
   "codemirror_mode": {
    "name": "ipython",
    "version": 3
   },
   "file_extension": ".py",
   "mimetype": "text/x-python",
   "name": "python",
   "nbconvert_exporter": "python",
   "pygments_lexer": "ipython3",
   "version": "3.8.1"
  }
 },
 "nbformat": 4,
 "nbformat_minor": 4
}
