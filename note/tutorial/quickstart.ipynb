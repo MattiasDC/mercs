{
 "cells": [
  {
   "cell_type": "markdown",
   "metadata": {
    "Collapsed": "false"
   },
   "source": [
    "# Quickstart"
   ]
  },
  {
   "cell_type": "markdown",
   "metadata": {
    "Collapsed": "false"
   },
   "source": [
    "## Preliminaries"
   ]
  },
  {
   "cell_type": "markdown",
   "metadata": {
    "Collapsed": "false"
   },
   "source": [
    "### Imports"
   ]
  },
  {
   "cell_type": "code",
   "execution_count": 1,
   "metadata": {
    "Collapsed": "false"
   },
   "outputs": [],
   "source": [
    "import mercs\n",
    "import numpy as np\n",
    "from mercs.tests import load_iris, default_dataset\n",
    "from mercs.core import Mercs\n",
    "\n",
    "import pandas as pd"
   ]
  },
  {
   "cell_type": "markdown",
   "metadata": {
    "Collapsed": "false"
   },
   "source": [
    "## Fit\n",
    "\n",
    "Here a small MERCS testdrive for what I suppose you'll need. First, let us generate a basic dataset. Some utility-functions are integrated in MERCS so that goes like this"
   ]
  },
  {
   "cell_type": "code",
   "execution_count": 2,
   "metadata": {
    "Collapsed": "false"
   },
   "outputs": [
    {
     "data": {
      "text/html": [
       "<div>\n",
       "<style scoped>\n",
       "    .dataframe tbody tr th:only-of-type {\n",
       "        vertical-align: middle;\n",
       "    }\n",
       "\n",
       "    .dataframe tbody tr th {\n",
       "        vertical-align: top;\n",
       "    }\n",
       "\n",
       "    .dataframe thead th {\n",
       "        text-align: right;\n",
       "    }\n",
       "</style>\n",
       "<table border=\"1\" class=\"dataframe\">\n",
       "  <thead>\n",
       "    <tr style=\"text-align: right;\">\n",
       "      <th></th>\n",
       "      <th>0</th>\n",
       "      <th>1</th>\n",
       "      <th>2</th>\n",
       "      <th>3</th>\n",
       "      <th>4</th>\n",
       "      <th>5</th>\n",
       "      <th>6</th>\n",
       "      <th>7</th>\n",
       "      <th>8</th>\n",
       "      <th>9</th>\n",
       "      <th>10</th>\n",
       "    </tr>\n",
       "  </thead>\n",
       "  <tbody>\n",
       "    <tr>\n",
       "      <th>0</th>\n",
       "      <td>0.675737</td>\n",
       "      <td>-0.476428</td>\n",
       "      <td>3.581450</td>\n",
       "      <td>0.183020</td>\n",
       "      <td>-1.777475</td>\n",
       "      <td>0.136767</td>\n",
       "      <td>1.160297</td>\n",
       "      <td>0.129889</td>\n",
       "      <td>1.260818</td>\n",
       "      <td>-1.564195</td>\n",
       "      <td>0.0</td>\n",
       "    </tr>\n",
       "    <tr>\n",
       "      <th>1</th>\n",
       "      <td>1.173828</td>\n",
       "      <td>0.633868</td>\n",
       "      <td>1.371909</td>\n",
       "      <td>-1.326919</td>\n",
       "      <td>1.293080</td>\n",
       "      <td>1.524197</td>\n",
       "      <td>1.310965</td>\n",
       "      <td>-3.103991</td>\n",
       "      <td>-0.214067</td>\n",
       "      <td>1.064141</td>\n",
       "      <td>1.0</td>\n",
       "    </tr>\n",
       "    <tr>\n",
       "      <th>2</th>\n",
       "      <td>-5.643059</td>\n",
       "      <td>1.305686</td>\n",
       "      <td>4.253110</td>\n",
       "      <td>-2.597300</td>\n",
       "      <td>3.752776</td>\n",
       "      <td>-0.800193</td>\n",
       "      <td>1.173064</td>\n",
       "      <td>0.926055</td>\n",
       "      <td>-3.926815</td>\n",
       "      <td>-4.166201</td>\n",
       "      <td>0.0</td>\n",
       "    </tr>\n",
       "    <tr>\n",
       "      <th>3</th>\n",
       "      <td>0.649619</td>\n",
       "      <td>1.774041</td>\n",
       "      <td>1.844340</td>\n",
       "      <td>1.939269</td>\n",
       "      <td>2.874112</td>\n",
       "      <td>1.844517</td>\n",
       "      <td>-1.189195</td>\n",
       "      <td>-1.955451</td>\n",
       "      <td>-3.466255</td>\n",
       "      <td>3.035215</td>\n",
       "      <td>1.0</td>\n",
       "    </tr>\n",
       "    <tr>\n",
       "      <th>4</th>\n",
       "      <td>-0.839893</td>\n",
       "      <td>-1.723207</td>\n",
       "      <td>-0.679333</td>\n",
       "      <td>2.020422</td>\n",
       "      <td>-1.034357</td>\n",
       "      <td>0.416687</td>\n",
       "      <td>1.367039</td>\n",
       "      <td>0.497800</td>\n",
       "      <td>-1.313362</td>\n",
       "      <td>-0.440382</td>\n",
       "      <td>1.0</td>\n",
       "    </tr>\n",
       "  </tbody>\n",
       "</table>\n",
       "</div>"
      ],
      "text/plain": [
       "          0         1         2         3         4         5         6  \\\n",
       "0  0.675737 -0.476428  3.581450  0.183020 -1.777475  0.136767  1.160297   \n",
       "1  1.173828  0.633868  1.371909 -1.326919  1.293080  1.524197  1.310965   \n",
       "2 -5.643059  1.305686  4.253110 -2.597300  3.752776 -0.800193  1.173064   \n",
       "3  0.649619  1.774041  1.844340  1.939269  2.874112  1.844517 -1.189195   \n",
       "4 -0.839893 -1.723207 -0.679333  2.020422 -1.034357  0.416687  1.367039   \n",
       "\n",
       "          7         8         9   10  \n",
       "0  0.129889  1.260818 -1.564195  0.0  \n",
       "1 -3.103991 -0.214067  1.064141  1.0  \n",
       "2  0.926055 -3.926815 -4.166201  0.0  \n",
       "3 -1.955451 -3.466255  3.035215  1.0  \n",
       "4  0.497800 -1.313362 -0.440382  1.0  "
      ]
     },
     "execution_count": 2,
     "metadata": {},
     "output_type": "execute_result"
    }
   ],
   "source": [
    "train, test = default_dataset(n_features=10)\n",
    "\n",
    "df = pd.DataFrame(train)\n",
    "df.head()"
   ]
  },
  {
   "cell_type": "code",
   "execution_count": 3,
   "metadata": {
    "Collapsed": "false"
   },
   "outputs": [
    {
     "data": {
      "text/html": [
       "<div>\n",
       "<style scoped>\n",
       "    .dataframe tbody tr th:only-of-type {\n",
       "        vertical-align: middle;\n",
       "    }\n",
       "\n",
       "    .dataframe tbody tr th {\n",
       "        vertical-align: top;\n",
       "    }\n",
       "\n",
       "    .dataframe thead th {\n",
       "        text-align: right;\n",
       "    }\n",
       "</style>\n",
       "<table border=\"1\" class=\"dataframe\">\n",
       "  <thead>\n",
       "    <tr style=\"text-align: right;\">\n",
       "      <th></th>\n",
       "      <th>0</th>\n",
       "      <th>1</th>\n",
       "      <th>2</th>\n",
       "      <th>3</th>\n",
       "      <th>4</th>\n",
       "      <th>5</th>\n",
       "      <th>6</th>\n",
       "      <th>7</th>\n",
       "      <th>8</th>\n",
       "      <th>9</th>\n",
       "      <th>10</th>\n",
       "    </tr>\n",
       "  </thead>\n",
       "  <tbody>\n",
       "    <tr>\n",
       "      <th>count</th>\n",
       "      <td>800.000000</td>\n",
       "      <td>800.000000</td>\n",
       "      <td>800.000000</td>\n",
       "      <td>800.000000</td>\n",
       "      <td>800.000000</td>\n",
       "      <td>800.000000</td>\n",
       "      <td>800.000000</td>\n",
       "      <td>800.000000</td>\n",
       "      <td>800.000000</td>\n",
       "      <td>800.000000</td>\n",
       "      <td>800.000000</td>\n",
       "    </tr>\n",
       "    <tr>\n",
       "      <th>mean</th>\n",
       "      <td>0.466173</td>\n",
       "      <td>0.001240</td>\n",
       "      <td>0.624970</td>\n",
       "      <td>-0.005191</td>\n",
       "      <td>0.450649</td>\n",
       "      <td>0.038921</td>\n",
       "      <td>-0.455200</td>\n",
       "      <td>0.072851</td>\n",
       "      <td>-0.472249</td>\n",
       "      <td>-0.418480</td>\n",
       "      <td>0.491250</td>\n",
       "    </tr>\n",
       "    <tr>\n",
       "      <th>std</th>\n",
       "      <td>2.036365</td>\n",
       "      <td>2.150285</td>\n",
       "      <td>2.168501</td>\n",
       "      <td>2.086619</td>\n",
       "      <td>1.953769</td>\n",
       "      <td>2.099301</td>\n",
       "      <td>2.078551</td>\n",
       "      <td>2.014238</td>\n",
       "      <td>1.898000</td>\n",
       "      <td>2.052702</td>\n",
       "      <td>0.500236</td>\n",
       "    </tr>\n",
       "    <tr>\n",
       "      <th>min</th>\n",
       "      <td>-7.455322</td>\n",
       "      <td>-6.817417</td>\n",
       "      <td>-6.925613</td>\n",
       "      <td>-7.030162</td>\n",
       "      <td>-5.708949</td>\n",
       "      <td>-6.865339</td>\n",
       "      <td>-7.238353</td>\n",
       "      <td>-6.184692</td>\n",
       "      <td>-6.159434</td>\n",
       "      <td>-8.705917</td>\n",
       "      <td>0.000000</td>\n",
       "    </tr>\n",
       "    <tr>\n",
       "      <th>25%</th>\n",
       "      <td>-0.954399</td>\n",
       "      <td>-1.509110</td>\n",
       "      <td>-0.816581</td>\n",
       "      <td>-1.380624</td>\n",
       "      <td>-0.691509</td>\n",
       "      <td>-1.329481</td>\n",
       "      <td>-1.756418</td>\n",
       "      <td>-1.224983</td>\n",
       "      <td>-1.703273</td>\n",
       "      <td>-1.797529</td>\n",
       "      <td>0.000000</td>\n",
       "    </tr>\n",
       "    <tr>\n",
       "      <th>50%</th>\n",
       "      <td>0.451760</td>\n",
       "      <td>0.075555</td>\n",
       "      <td>0.674027</td>\n",
       "      <td>0.118554</td>\n",
       "      <td>0.547505</td>\n",
       "      <td>0.108292</td>\n",
       "      <td>-0.493528</td>\n",
       "      <td>0.174550</td>\n",
       "      <td>-0.568166</td>\n",
       "      <td>-0.292757</td>\n",
       "      <td>0.000000</td>\n",
       "    </tr>\n",
       "    <tr>\n",
       "      <th>75%</th>\n",
       "      <td>1.847537</td>\n",
       "      <td>1.384226</td>\n",
       "      <td>2.148864</td>\n",
       "      <td>1.398455</td>\n",
       "      <td>1.820179</td>\n",
       "      <td>1.454181</td>\n",
       "      <td>0.836809</td>\n",
       "      <td>1.497582</td>\n",
       "      <td>0.712452</td>\n",
       "      <td>1.053721</td>\n",
       "      <td>1.000000</td>\n",
       "    </tr>\n",
       "    <tr>\n",
       "      <th>max</th>\n",
       "      <td>6.365330</td>\n",
       "      <td>7.601766</td>\n",
       "      <td>6.390253</td>\n",
       "      <td>8.237993</td>\n",
       "      <td>7.501492</td>\n",
       "      <td>7.021821</td>\n",
       "      <td>6.489389</td>\n",
       "      <td>6.832418</td>\n",
       "      <td>6.903293</td>\n",
       "      <td>5.101133</td>\n",
       "      <td>1.000000</td>\n",
       "    </tr>\n",
       "  </tbody>\n",
       "</table>\n",
       "</div>"
      ],
      "text/plain": [
       "               0           1           2           3           4           5   \\\n",
       "count  800.000000  800.000000  800.000000  800.000000  800.000000  800.000000   \n",
       "mean     0.466173    0.001240    0.624970   -0.005191    0.450649    0.038921   \n",
       "std      2.036365    2.150285    2.168501    2.086619    1.953769    2.099301   \n",
       "min     -7.455322   -6.817417   -6.925613   -7.030162   -5.708949   -6.865339   \n",
       "25%     -0.954399   -1.509110   -0.816581   -1.380624   -0.691509   -1.329481   \n",
       "50%      0.451760    0.075555    0.674027    0.118554    0.547505    0.108292   \n",
       "75%      1.847537    1.384226    2.148864    1.398455    1.820179    1.454181   \n",
       "max      6.365330    7.601766    6.390253    8.237993    7.501492    7.021821   \n",
       "\n",
       "               6           7           8           9           10  \n",
       "count  800.000000  800.000000  800.000000  800.000000  800.000000  \n",
       "mean    -0.455200    0.072851   -0.472249   -0.418480    0.491250  \n",
       "std      2.078551    2.014238    1.898000    2.052702    0.500236  \n",
       "min     -7.238353   -6.184692   -6.159434   -8.705917    0.000000  \n",
       "25%     -1.756418   -1.224983   -1.703273   -1.797529    0.000000  \n",
       "50%     -0.493528    0.174550   -0.568166   -0.292757    0.000000  \n",
       "75%      0.836809    1.497582    0.712452    1.053721    1.000000  \n",
       "max      6.489389    6.832418    6.903293    5.101133    1.000000  "
      ]
     },
     "execution_count": 3,
     "metadata": {},
     "output_type": "execute_result"
    }
   ],
   "source": [
    "df.describe()"
   ]
  },
  {
   "cell_type": "markdown",
   "metadata": {
    "Collapsed": "false"
   },
   "source": [
    "Now let's train a MERCS model. To know what options you have, come talk to me or dig in the code. For induction, `nb_targets` and `nb_iterations` matter most. Number of targets speaks for itself, number of iterations manages the amount of trees _for each target_. With `n_jobs` you can do multi-core learning (with joblib, really basic, but works fine on single machine), that makes stuff faster. `fraction_missing` sets the amount of attributes that is missing for a tree. However, this parameter only has an effect if you use the `random` selection algorithm. The alternative is the `base` algorithm, which selects targets, and uses all the rest as input."
   ]
  },
  {
   "cell_type": "code",
   "execution_count": 4,
   "metadata": {
    "Collapsed": "false"
   },
   "outputs": [],
   "source": [
    "clf = Mercs(\n",
    "    max_depth=4,\n",
    "    selection_algorithm=\"random\",\n",
    "    fraction_missing=0.6,\n",
    "    nb_targets=2,\n",
    "    nb_iterations=2,\n",
    "    n_jobs=8,\n",
    "    verbose=1,\n",
    "    inference_algorithm=\"own\",\n",
    "    max_steps=8,\n",
    "    prediction_algorithm=\"it\",\n",
    ")"
   ]
  },
  {
   "cell_type": "markdown",
   "metadata": {
    "Collapsed": "false"
   },
   "source": [
    "You have to specify the nominal attributes yourself. This determines whether a regressor or a classifier is learned for that target. MERCS takes care of grouping targets such that no mixed sets are created."
   ]
  },
  {
   "cell_type": "code",
   "execution_count": 5,
   "metadata": {
    "Collapsed": "false"
   },
   "outputs": [
    {
     "data": {
      "text/plain": [
       "{10}"
      ]
     },
     "execution_count": 5,
     "metadata": {},
     "output_type": "execute_result"
    }
   ],
   "source": [
    "nominal_ids = {train.shape[1]-1}\n",
    "nominal_ids"
   ]
  },
  {
   "cell_type": "code",
   "execution_count": 6,
   "metadata": {
    "Collapsed": "false"
   },
   "outputs": [
    {
     "name": "stderr",
     "output_type": "stream",
     "text": [
      "/cw/dtaijupiter/NoCsBack/dtai/elia/mercs/src/mercs/algo/induction.py:191: UserWarning: Training is being parallellized using Joblib. Number of jobs = 8\n",
      "  warnings.warn(msg)\n",
      "[Parallel(n_jobs=8)]: Using backend LokyBackend with 8 concurrent workers.\n",
      "[Parallel(n_jobs=8)]: Done  10 out of  12 | elapsed:    2.4s remaining:    0.5s\n",
      "[Parallel(n_jobs=8)]: Done  12 out of  12 | elapsed:    2.4s finished\n",
      "/cw/dtaijupiter/NoCsBack/dtai/elia/miniconda/envs/rwrf/lib/python3.7/site-packages/sklearn/metrics/classification.py:1437: UndefinedMetricWarning: F-score is ill-defined and being set to 0.0 in labels with no predicted samples.\n",
      "  'precision', 'predicted', average, warn_for)\n"
     ]
    }
   ],
   "source": [
    "clf.fit(train, nominal_attributes=nominal_ids)"
   ]
  },
  {
   "cell_type": "markdown",
   "metadata": {
    "Collapsed": "false"
   },
   "source": [
    "So, now we have learned trees with two targets, but only a single target was nominal. If MERCS worked well, it should have learned single-target classifiers (for attribute 4) and multi-target regressors for all other target sets."
   ]
  },
  {
   "cell_type": "code",
   "execution_count": 7,
   "metadata": {
    "Collapsed": "false"
   },
   "outputs": [
    {
     "name": "stdout",
     "output_type": "stream",
     "text": [
      "\n",
      "    Model with index: 0\n",
      "    DecisionTreeClassifier(class_weight=None, criterion='gini', max_depth=4,\n",
      "                       max_features=None, max_leaf_nodes=None,\n",
      "                       min_impurity_decrease=0.0, min_impurity_split=None,\n",
      "                       min_samples_leaf=1, min_samples_split=2,\n",
      "                       min_weight_fraction_leaf=0.0, presort=False,\n",
      "                       random_state=121958, splitter='best')\n",
      "    \n",
      "\n",
      "    Model with index: 1\n",
      "    DecisionTreeClassifier(class_weight=None, criterion='gini', max_depth=4,\n",
      "                       max_features=None, max_leaf_nodes=None,\n",
      "                       min_impurity_decrease=0.0, min_impurity_split=None,\n",
      "                       min_samples_leaf=1, min_samples_split=2,\n",
      "                       min_weight_fraction_leaf=0.0, presort=False,\n",
      "                       random_state=671155, splitter='best')\n",
      "    \n",
      "\n",
      "    Model with index: 2\n",
      "    DecisionTreeRegressor(criterion='mse', max_depth=4, max_features=None,\n",
      "                      max_leaf_nodes=None, min_impurity_decrease=0.0,\n",
      "                      min_impurity_split=None, min_samples_leaf=1,\n",
      "                      min_samples_split=2, min_weight_fraction_leaf=0.0,\n",
      "                      presort=False, random_state=131932, splitter='best')\n",
      "    \n",
      "\n",
      "    Model with index: 3\n",
      "    DecisionTreeRegressor(criterion='mse', max_depth=4, max_features=None,\n",
      "                      max_leaf_nodes=None, min_impurity_decrease=0.0,\n",
      "                      min_impurity_split=None, min_samples_leaf=1,\n",
      "                      min_samples_split=2, min_weight_fraction_leaf=0.0,\n",
      "                      presort=False, random_state=365838, splitter='best')\n",
      "    \n",
      "\n",
      "    Model with index: 4\n",
      "    DecisionTreeRegressor(criterion='mse', max_depth=4, max_features=None,\n",
      "                      max_leaf_nodes=None, min_impurity_decrease=0.0,\n",
      "                      min_impurity_split=None, min_samples_leaf=1,\n",
      "                      min_samples_split=2, min_weight_fraction_leaf=0.0,\n",
      "                      presort=False, random_state=259178, splitter='best')\n",
      "    \n",
      "\n",
      "    Model with index: 5\n",
      "    DecisionTreeRegressor(criterion='mse', max_depth=4, max_features=None,\n",
      "                      max_leaf_nodes=None, min_impurity_decrease=0.0,\n",
      "                      min_impurity_split=None, min_samples_leaf=1,\n",
      "                      min_samples_split=2, min_weight_fraction_leaf=0.0,\n",
      "                      presort=False, random_state=644167, splitter='best')\n",
      "    \n",
      "\n",
      "    Model with index: 6\n",
      "    DecisionTreeRegressor(criterion='mse', max_depth=4, max_features=None,\n",
      "                      max_leaf_nodes=None, min_impurity_decrease=0.0,\n",
      "                      min_impurity_split=None, min_samples_leaf=1,\n",
      "                      min_samples_split=2, min_weight_fraction_leaf=0.0,\n",
      "                      presort=False, random_state=110268, splitter='best')\n",
      "    \n",
      "\n",
      "    Model with index: 7\n",
      "    DecisionTreeRegressor(criterion='mse', max_depth=4, max_features=None,\n",
      "                      max_leaf_nodes=None, min_impurity_decrease=0.0,\n",
      "                      min_impurity_split=None, min_samples_leaf=1,\n",
      "                      min_samples_split=2, min_weight_fraction_leaf=0.0,\n",
      "                      presort=False, random_state=732180, splitter='best')\n",
      "    \n",
      "\n",
      "    Model with index: 8\n",
      "    DecisionTreeRegressor(criterion='mse', max_depth=4, max_features=None,\n",
      "                      max_leaf_nodes=None, min_impurity_decrease=0.0,\n",
      "                      min_impurity_split=None, min_samples_leaf=1,\n",
      "                      min_samples_split=2, min_weight_fraction_leaf=0.0,\n",
      "                      presort=False, random_state=54886, splitter='best')\n",
      "    \n",
      "\n",
      "    Model with index: 9\n",
      "    DecisionTreeRegressor(criterion='mse', max_depth=4, max_features=None,\n",
      "                      max_leaf_nodes=None, min_impurity_decrease=0.0,\n",
      "                      min_impurity_split=None, min_samples_leaf=1,\n",
      "                      min_samples_split=2, min_weight_fraction_leaf=0.0,\n",
      "                      presort=False, random_state=137337, splitter='best')\n",
      "    \n",
      "\n",
      "    Model with index: 10\n",
      "    DecisionTreeRegressor(criterion='mse', max_depth=4, max_features=None,\n",
      "                      max_leaf_nodes=None, min_impurity_decrease=0.0,\n",
      "                      min_impurity_split=None, min_samples_leaf=1,\n",
      "                      min_samples_split=2, min_weight_fraction_leaf=0.0,\n",
      "                      presort=False, random_state=999890, splitter='best')\n",
      "    \n",
      "\n",
      "    Model with index: 11\n",
      "    DecisionTreeRegressor(criterion='mse', max_depth=4, max_features=None,\n",
      "                      max_leaf_nodes=None, min_impurity_decrease=0.0,\n",
      "                      min_impurity_split=None, min_samples_leaf=1,\n",
      "                      min_samples_split=2, min_weight_fraction_leaf=0.0,\n",
      "                      presort=False, random_state=521430, splitter='best')\n",
      "    \n"
     ]
    }
   ],
   "source": [
    "for idx, m in enumerate(clf.m_list):\n",
    "    msg = \"\"\"\n",
    "    Model with index: {}\n",
    "    {}\n",
    "    \"\"\".format(idx, m.model)\n",
    "    print(msg)"
   ]
  },
  {
   "cell_type": "markdown",
   "metadata": {
    "Collapsed": "false"
   },
   "source": [
    "So, that looks good already. Let's examine up close."
   ]
  },
  {
   "cell_type": "code",
   "execution_count": 8,
   "metadata": {
    "Collapsed": "false"
   },
   "outputs": [
    {
     "data": {
      "text/plain": [
       "array([[-1,  0,  0, -1, -1, -1, -1,  0,  0,  0,  1],\n",
       "       [ 0,  0, -1, -1, -1, -1, -1, -1, -1,  0,  1],\n",
       "       [-1, -1,  0, -1, -1, -1, -1,  1, -1,  1, -1],\n",
       "       [-1, -1, -1,  1,  1,  0,  0, -1,  0, -1, -1],\n",
       "       [-1,  1,  1, -1,  0, -1, -1, -1, -1,  0, -1],\n",
       "       [ 0,  0, -1, -1,  0,  1,  0,  0,  1, -1, -1],\n",
       "       [ 1,  0, -1, -1, -1, -1,  1,  0,  0, -1, -1],\n",
       "       [-1,  1,  1, -1, -1, -1, -1,  0,  0,  0,  0],\n",
       "       [ 0, -1,  0, -1,  0,  1, -1, -1, -1,  1,  0],\n",
       "       [ 1, -1, -1, -1, -1, -1,  1,  0, -1, -1,  0],\n",
       "       [-1,  0,  0, -1,  1, -1, -1, -1,  1, -1, -1],\n",
       "       [-1,  0, -1,  1, -1,  0, -1,  1,  0, -1,  0]])"
      ]
     },
     "execution_count": 8,
     "metadata": {},
     "output_type": "execute_result"
    }
   ],
   "source": [
    "clf.m_codes"
   ]
  },
  {
   "cell_type": "markdown",
   "metadata": {
    "Collapsed": "false"
   },
   "source": [
    "That's the matrix that summarizes everything. This can be dense to parse, and there's alternatives to gain insights, for instance;"
   ]
  },
  {
   "cell_type": "code",
   "execution_count": 9,
   "metadata": {
    "Collapsed": "false"
   },
   "outputs": [
    {
     "name": "stdout",
     "output_type": "stream",
     "text": [
      "\n",
      "    Tree with id:          0\n",
      "    has source attributes: [1, 2, 7, 8, 9]\n",
      "    has target attributes: [10],\n",
      "    and predicts nominal attributes\n",
      "    \n",
      "\n",
      "    Tree with id:          1\n",
      "    has source attributes: [0, 1, 9]\n",
      "    has target attributes: [10],\n",
      "    and predicts nominal attributes\n",
      "    \n",
      "\n",
      "    Tree with id:          2\n",
      "    has source attributes: [2]\n",
      "    has target attributes: [7, 9],\n",
      "    and predicts numeric attributes\n",
      "    \n",
      "\n",
      "    Tree with id:          3\n",
      "    has source attributes: [5, 6, 8]\n",
      "    has target attributes: [3, 4],\n",
      "    and predicts numeric attributes\n",
      "    \n",
      "\n",
      "    Tree with id:          4\n",
      "    has source attributes: [4, 9]\n",
      "    has target attributes: [1, 2],\n",
      "    and predicts numeric attributes\n",
      "    \n",
      "\n",
      "    Tree with id:          5\n",
      "    has source attributes: [0, 1, 4, 6, 7]\n",
      "    has target attributes: [5, 8],\n",
      "    and predicts numeric attributes\n",
      "    \n",
      "\n",
      "    Tree with id:          6\n",
      "    has source attributes: [1, 7, 8]\n",
      "    has target attributes: [0, 6],\n",
      "    and predicts numeric attributes\n",
      "    \n",
      "\n",
      "    Tree with id:          7\n",
      "    has source attributes: [7, 8, 9, 10]\n",
      "    has target attributes: [1, 2],\n",
      "    and predicts numeric attributes\n",
      "    \n",
      "\n",
      "    Tree with id:          8\n",
      "    has source attributes: [0, 2, 4, 10]\n",
      "    has target attributes: [5, 9],\n",
      "    and predicts numeric attributes\n",
      "    \n",
      "\n",
      "    Tree with id:          9\n",
      "    has source attributes: [7, 10]\n",
      "    has target attributes: [0, 6],\n",
      "    and predicts numeric attributes\n",
      "    \n",
      "\n",
      "    Tree with id:          10\n",
      "    has source attributes: [1, 2]\n",
      "    has target attributes: [4, 8],\n",
      "    and predicts numeric attributes\n",
      "    \n",
      "\n",
      "    Tree with id:          11\n",
      "    has source attributes: [1, 5, 8, 10]\n",
      "    has target attributes: [3, 7],\n",
      "    and predicts numeric attributes\n",
      "    \n"
     ]
    }
   ],
   "source": [
    "for m_idx, m in enumerate(clf.m_list):\n",
    "    msg = \"\"\"\n",
    "    Tree with id:          {}\n",
    "    has source attributes: {}\n",
    "    has target attributes: {},\n",
    "    and predicts {} attributes\n",
    "    \"\"\".format(m_idx, m.desc_ids, m.targ_ids, m.out_kind)\n",
    "    print(msg)"
   ]
  },
  {
   "cell_type": "markdown",
   "metadata": {
    "Collapsed": "false"
   },
   "source": [
    "And that concludes my quick tour of how to fit with MERCS."
   ]
  },
  {
   "cell_type": "markdown",
   "metadata": {
    "Collapsed": "false"
   },
   "source": [
    "## Prediction\n",
    "\n",
    "First, we generate a query."
   ]
  },
  {
   "cell_type": "code",
   "execution_count": 10,
   "metadata": {
    "Collapsed": "false"
   },
   "outputs": [
    {
     "name": "stdout",
     "output_type": "stream",
     "text": [
      "Query code is: [0 0 0 0 0 0 0 0 0 0 1]\n"
     ]
    },
    {
     "data": {
      "text/plain": [
       "array([1., 0., 0., 0., 1., 0., 0., 1., 0., 0.])"
      ]
     },
     "execution_count": 10,
     "metadata": {},
     "output_type": "execute_result"
    }
   ],
   "source": [
    "# Single target\n",
    "q_code=np.zeros(clf.m_codes[0].shape[0], dtype=int)\n",
    "q_code[-1:] = 1\n",
    "print(\"Query code is: {}\".format(q_code))\n",
    "\n",
    "y_pred = clf.predict(test, q_code=q_code)\n",
    "y_pred[:10]"
   ]
  },
  {
   "cell_type": "code",
   "execution_count": 11,
   "metadata": {
    "Collapsed": "false"
   },
   "outputs": [
    {
     "data": {
      "image/svg+xml": [
       "<svg height=\"188pt\" viewBox=\"0.00 0.00 518.19 188.00\" width=\"518pt\" xmlns=\"http://www.w3.org/2000/svg\" xmlns:xlink=\"http://www.w3.org/1999/xlink\">\n",
       "<g class=\"graph\" id=\"graph0\" transform=\"scale(1 1) rotate(0) translate(4 184)\">\n",
       "<title>G</title>\n",
       "<polygon fill=\"white\" points=\"-4,4 -4,-184 514.194,-184 514.194,4 -4,4\" stroke=\"none\"/>\n",
       "<!-- (&#39;D&#39;, 1) -->\n",
       "<g class=\"node\" id=\"node1\"><title>('D', 1)</title>\n",
       "<ellipse cx=\"299.097\" cy=\"-18\" fill=\"none\" rx=\"35.194\" ry=\"18\" stroke=\"black\"/>\n",
       "<text font-family=\"Times,serif\" font-size=\"14.00\" text-anchor=\"middle\" x=\"299.097\" y=\"-14.3\">('D', 1)</text>\n",
       "</g>\n",
       "<!-- (&#39;M&#39;, 0) -->\n",
       "<g class=\"node\" id=\"node2\"><title>('M', 0)</title>\n",
       "<ellipse cx=\"253.097\" cy=\"-90\" fill=\"none\" rx=\"37.0935\" ry=\"18\" stroke=\"black\"/>\n",
       "<text font-family=\"Times,serif\" font-size=\"14.00\" text-anchor=\"middle\" x=\"253.097\" y=\"-86.3\">('M', 0)</text>\n",
       "</g>\n",
       "<!-- (&#39;D&#39;, 1)&#45;&gt;(&#39;M&#39;, 0) -->\n",
       "<g class=\"edge\" id=\"edge1\"><title>('D', 1)-&gt;('M', 0)</title>\n",
       "<path d=\"M288.428,-35.2354C282.82,-43.7699 275.822,-54.4178 269.538,-63.9809\" fill=\"none\" stroke=\"black\"/>\n",
       "<polygon fill=\"black\" points=\"266.594,-62.0874 264.027,-72.3666 272.444,-65.9317 266.594,-62.0874\" stroke=\"black\"/>\n",
       "</g>\n",
       "<!-- (&#39;M&#39;, 1) -->\n",
       "<g class=\"node\" id=\"node8\"><title>('M', 1)</title>\n",
       "<ellipse cx=\"366.097\" cy=\"-90\" fill=\"none\" rx=\"37.0935\" ry=\"18\" stroke=\"black\"/>\n",
       "<text font-family=\"Times,serif\" font-size=\"14.00\" text-anchor=\"middle\" x=\"366.097\" y=\"-86.3\">('M', 1)</text>\n",
       "</g>\n",
       "<!-- (&#39;D&#39;, 1)&#45;&gt;(&#39;M&#39;, 1) -->\n",
       "<g class=\"edge\" id=\"edge2\"><title>('D', 1)-&gt;('M', 1)</title>\n",
       "<path d=\"M313.966,-34.5353C322.691,-43.6508 333.888,-55.3491 343.667,-65.566\" fill=\"none\" stroke=\"black\"/>\n",
       "<polygon fill=\"black\" points=\"341.361,-68.2188 350.804,-73.0228 346.418,-63.3785 341.361,-68.2188\" stroke=\"black\"/>\n",
       "</g>\n",
       "<!-- (&#39;D&#39;, 10) -->\n",
       "<g class=\"node\" id=\"node9\"><title>('D', 10)</title>\n",
       "<ellipse cx=\"309.097\" cy=\"-162\" fill=\"none\" rx=\"39.7935\" ry=\"18\" stroke=\"black\"/>\n",
       "<text font-family=\"Times,serif\" font-size=\"14.00\" text-anchor=\"middle\" x=\"309.097\" y=\"-158.3\">('D', 10)</text>\n",
       "</g>\n",
       "<!-- (&#39;M&#39;, 0)&#45;&gt;(&#39;D&#39;, 10) -->\n",
       "<g class=\"edge\" id=\"edge3\"><title>('M', 0)-&gt;('D', 10)</title>\n",
       "<path d=\"M266.085,-107.235C273.153,-116.07 282.033,-127.17 289.886,-136.986\" fill=\"none\" stroke=\"black\"/>\n",
       "<polygon fill=\"black\" points=\"287.199,-139.23 296.179,-144.853 292.665,-134.858 287.199,-139.23\" stroke=\"black\"/>\n",
       "</g>\n",
       "<!-- (&#39;D&#39;, 2) -->\n",
       "<g class=\"node\" id=\"node3\"><title>('D', 2)</title>\n",
       "<ellipse cx=\"35.0969\" cy=\"-18\" fill=\"none\" rx=\"35.194\" ry=\"18\" stroke=\"black\"/>\n",
       "<text font-family=\"Times,serif\" font-size=\"14.00\" text-anchor=\"middle\" x=\"35.0969\" y=\"-14.3\">('D', 2)</text>\n",
       "</g>\n",
       "<!-- (&#39;D&#39;, 2)&#45;&gt;(&#39;M&#39;, 0) -->\n",
       "<g class=\"edge\" id=\"edge4\"><title>('D', 2)-&gt;('M', 0)</title>\n",
       "<path d=\"M61.9748,-29.7423C67.6039,-31.8912 73.523,-34.0772 79.0969,-36 124.064,-51.512 176.355,-67.1189 211.783,-77.3385\" fill=\"none\" stroke=\"black\"/>\n",
       "<polygon fill=\"black\" points=\"211.181,-80.8069 221.759,-80.2022 213.113,-74.0787 211.181,-80.8069\" stroke=\"black\"/>\n",
       "</g>\n",
       "<!-- (&#39;D&#39;, 7) -->\n",
       "<g class=\"node\" id=\"node4\"><title>('D', 7)</title>\n",
       "<ellipse cx=\"123.097\" cy=\"-18\" fill=\"none\" rx=\"35.194\" ry=\"18\" stroke=\"black\"/>\n",
       "<text font-family=\"Times,serif\" font-size=\"14.00\" text-anchor=\"middle\" x=\"123.097\" y=\"-14.3\">('D', 7)</text>\n",
       "</g>\n",
       "<!-- (&#39;D&#39;, 7)&#45;&gt;(&#39;M&#39;, 0) -->\n",
       "<g class=\"edge\" id=\"edge5\"><title>('D', 7)-&gt;('M', 0)</title>\n",
       "<path d=\"M146.338,-31.5146C166.879,-42.5748 197.067,-58.83 220.106,-71.2355\" fill=\"none\" stroke=\"black\"/>\n",
       "<polygon fill=\"black\" points=\"218.713,-74.4608 229.177,-76.1202 222.032,-68.2975 218.713,-74.4608\" stroke=\"black\"/>\n",
       "</g>\n",
       "<!-- (&#39;D&#39;, 8) -->\n",
       "<g class=\"node\" id=\"node5\"><title>('D', 8)</title>\n",
       "<ellipse cx=\"211.097\" cy=\"-18\" fill=\"none\" rx=\"35.194\" ry=\"18\" stroke=\"black\"/>\n",
       "<text font-family=\"Times,serif\" font-size=\"14.00\" text-anchor=\"middle\" x=\"211.097\" y=\"-14.3\">('D', 8)</text>\n",
       "</g>\n",
       "<!-- (&#39;D&#39;, 8)&#45;&gt;(&#39;M&#39;, 0) -->\n",
       "<g class=\"edge\" id=\"edge6\"><title>('D', 8)-&gt;('M', 0)</title>\n",
       "<path d=\"M221.05,-35.589C226.124,-44.0451 232.4,-54.5056 238.05,-63.9217\" fill=\"none\" stroke=\"black\"/>\n",
       "<polygon fill=\"black\" points=\"235.069,-65.7559 243.215,-72.5301 241.071,-62.1544 235.069,-65.7559\" stroke=\"black\"/>\n",
       "</g>\n",
       "<!-- (&#39;D&#39;, 9) -->\n",
       "<g class=\"node\" id=\"node6\"><title>('D', 9)</title>\n",
       "<ellipse cx=\"387.097\" cy=\"-18\" fill=\"none\" rx=\"35.194\" ry=\"18\" stroke=\"black\"/>\n",
       "<text font-family=\"Times,serif\" font-size=\"14.00\" text-anchor=\"middle\" x=\"387.097\" y=\"-14.3\">('D', 9)</text>\n",
       "</g>\n",
       "<!-- (&#39;D&#39;, 9)&#45;&gt;(&#39;M&#39;, 0) -->\n",
       "<g class=\"edge\" id=\"edge7\"><title>('D', 9)-&gt;('M', 0)</title>\n",
       "<path d=\"M363.449,-31.3535C342.091,-42.5107 310.433,-59.0486 286.495,-71.5531\" fill=\"none\" stroke=\"black\"/>\n",
       "<polygon fill=\"black\" points=\"284.656,-68.5651 277.413,-76.2975 287.897,-74.7695 284.656,-68.5651\" stroke=\"black\"/>\n",
       "</g>\n",
       "<!-- (&#39;D&#39;, 9)&#45;&gt;(&#39;M&#39;, 1) -->\n",
       "<g class=\"edge\" id=\"edge8\"><title>('D', 9)-&gt;('M', 1)</title>\n",
       "<path d=\"M382.013,-35.945C379.675,-43.7391 376.843,-53.1781 374.221,-61.9211\" fill=\"none\" stroke=\"black\"/>\n",
       "<polygon fill=\"black\" points=\"370.801,-61.1407 371.279,-71.7247 377.505,-63.1522 370.801,-61.1407\" stroke=\"black\"/>\n",
       "</g>\n",
       "<!-- (&#39;D&#39;, 0) -->\n",
       "<g class=\"node\" id=\"node7\"><title>('D', 0)</title>\n",
       "<ellipse cx=\"475.097\" cy=\"-18\" fill=\"none\" rx=\"35.194\" ry=\"18\" stroke=\"black\"/>\n",
       "<text font-family=\"Times,serif\" font-size=\"14.00\" text-anchor=\"middle\" x=\"475.097\" y=\"-14.3\">('D', 0)</text>\n",
       "</g>\n",
       "<!-- (&#39;D&#39;, 0)&#45;&gt;(&#39;M&#39;, 1) -->\n",
       "<g class=\"edge\" id=\"edge9\"><title>('D', 0)-&gt;('M', 1)</title>\n",
       "<path d=\"M454.081,-32.4967C437.706,-43.0124 414.748,-57.7564 396.389,-69.5465\" fill=\"none\" stroke=\"black\"/>\n",
       "<polygon fill=\"black\" points=\"394.318,-66.7169 387.795,-75.0656 398.1,-72.6069 394.318,-66.7169\" stroke=\"black\"/>\n",
       "</g>\n",
       "<!-- (&#39;M&#39;, 1)&#45;&gt;(&#39;D&#39;, 10) -->\n",
       "<g class=\"edge\" id=\"edge10\"><title>('M', 1)-&gt;('D', 10)</title>\n",
       "<path d=\"M353.163,-106.884C345.978,-115.708 336.888,-126.87 328.834,-136.762\" fill=\"none\" stroke=\"black\"/>\n",
       "<polygon fill=\"black\" points=\"325.976,-134.729 322.375,-144.693 331.404,-139.149 325.976,-134.729\" stroke=\"black\"/>\n",
       "</g>\n",
       "</g>\n",
       "</svg>"
      ],
      "text/plain": [
       "<IPython.core.display.SVG object>"
      ]
     },
     "metadata": {},
     "output_type": "display_data"
    }
   ],
   "source": [
    "clf.show_q_diagram()"
   ]
  },
  {
   "cell_type": "code",
   "execution_count": 12,
   "metadata": {
    "Collapsed": "false"
   },
   "outputs": [
    {
     "name": "stdout",
     "output_type": "stream",
     "text": [
      "Query code is: [0 0 0 0 0 0 0 0 0 1 1]\n"
     ]
    },
    {
     "data": {
      "text/plain": [
       "array([[ 0.8987434 ,  1.        ],\n",
       "       [-0.35476461,  0.        ],\n",
       "       [-0.35476461,  1.        ],\n",
       "       [-0.35476461,  0.        ],\n",
       "       [-0.6409689 ,  1.        ],\n",
       "       [-0.6409689 ,  1.        ],\n",
       "       [-1.70072951,  0.        ],\n",
       "       [-0.35476461,  1.        ],\n",
       "       [-0.6409689 ,  1.        ],\n",
       "       [-0.35476461,  0.        ]])"
      ]
     },
     "execution_count": 12,
     "metadata": {},
     "output_type": "execute_result"
    }
   ],
   "source": [
    "# Multi-target\n",
    "q_code=np.zeros(clf.m_codes[0].shape[0], dtype=int)\n",
    "q_code[-2:] = 1\n",
    "print(\"Query code is: {}\".format(q_code))\n",
    "\n",
    "y_pred = clf.predict(test, q_code=q_code)\n",
    "y_pred[:10]"
   ]
  },
  {
   "cell_type": "code",
   "execution_count": 13,
   "metadata": {
    "Collapsed": "false"
   },
   "outputs": [
    {
     "data": {
      "image/svg+xml": [
       "<svg height=\"332pt\" viewBox=\"0.00 0.00 461.19 332.00\" width=\"461pt\" xmlns=\"http://www.w3.org/2000/svg\" xmlns:xlink=\"http://www.w3.org/1999/xlink\">\n",
       "<g class=\"graph\" id=\"graph0\" transform=\"scale(1 1) rotate(0) translate(4 328)\">\n",
       "<title>G</title>\n",
       "<polygon fill=\"white\" points=\"-4,4 -4,-328 457.194,-328 457.194,4 -4,4\" stroke=\"none\"/>\n",
       "<!-- (&#39;D&#39;, 2) -->\n",
       "<g class=\"node\" id=\"node1\"><title>('D', 2)</title>\n",
       "<ellipse cx=\"35.0969\" cy=\"-18\" fill=\"none\" rx=\"35.194\" ry=\"18\" stroke=\"black\"/>\n",
       "<text font-family=\"Times,serif\" font-size=\"14.00\" text-anchor=\"middle\" x=\"35.0969\" y=\"-14.3\">('D', 2)</text>\n",
       "</g>\n",
       "<!-- (&#39;M&#39;, 2) -->\n",
       "<g class=\"node\" id=\"node2\"><title>('M', 2)</title>\n",
       "<ellipse cx=\"68.0969\" cy=\"-90\" fill=\"none\" rx=\"37.0935\" ry=\"18\" stroke=\"black\"/>\n",
       "<text font-family=\"Times,serif\" font-size=\"14.00\" text-anchor=\"middle\" x=\"68.0969\" y=\"-86.3\">('M', 2)</text>\n",
       "</g>\n",
       "<!-- (&#39;D&#39;, 2)&#45;&gt;(&#39;M&#39;, 2) -->\n",
       "<g class=\"edge\" id=\"edge1\"><title>('D', 2)-&gt;('M', 2)</title>\n",
       "<path d=\"M42.9174,-35.589C46.7651,-43.7507 51.493,-53.7797 55.8089,-62.9347\" fill=\"none\" stroke=\"black\"/>\n",
       "<polygon fill=\"black\" points=\"52.6732,-64.491 60.1032,-72.0438 59.0048,-61.506 52.6732,-64.491\" stroke=\"black\"/>\n",
       "</g>\n",
       "<!-- (&#39;M&#39;, 0) -->\n",
       "<g class=\"node\" id=\"node6\"><title>('M', 0)</title>\n",
       "<ellipse cx=\"196.097\" cy=\"-234\" fill=\"none\" rx=\"37.0935\" ry=\"18\" stroke=\"black\"/>\n",
       "<text font-family=\"Times,serif\" font-size=\"14.00\" text-anchor=\"middle\" x=\"196.097\" y=\"-230.3\">('M', 0)</text>\n",
       "</g>\n",
       "<!-- (&#39;D&#39;, 2)&#45;&gt;(&#39;M&#39;, 0) -->\n",
       "<g class=\"edge\" id=\"edge2\"><title>('D', 2)-&gt;('M', 0)</title>\n",
       "<path d=\"M27.2694,-35.551C13.6297,-67.0867 -10.1185,-136.511 22.0969,-180 51.0352,-219.066 108.096,-230.312 148.989,-233.072\" fill=\"none\" stroke=\"black\"/>\n",
       "<polygon fill=\"black\" points=\"148.839,-236.568 159.01,-233.602 149.209,-229.578 148.839,-236.568\" stroke=\"black\"/>\n",
       "</g>\n",
       "<!-- (&#39;D&#39;, 7) -->\n",
       "<g class=\"node\" id=\"node3\"><title>('D', 7)</title>\n",
       "<ellipse cx=\"66.0969\" cy=\"-162\" fill=\"none\" rx=\"35.194\" ry=\"18\" stroke=\"black\"/>\n",
       "<text font-family=\"Times,serif\" font-size=\"14.00\" text-anchor=\"middle\" x=\"66.0969\" y=\"-158.3\">('D', 7)</text>\n",
       "</g>\n",
       "<!-- (&#39;M&#39;, 2)&#45;&gt;(&#39;D&#39;, 7) -->\n",
       "<g class=\"edge\" id=\"edge3\"><title>('M', 2)-&gt;('D', 7)</title>\n",
       "<path d=\"M67.6025,-108.303C67.3821,-116.017 67.1172,-125.288 66.8715,-133.888\" fill=\"none\" stroke=\"black\"/>\n",
       "<polygon fill=\"black\" points=\"63.3727,-133.8 66.5856,-143.896 70.3698,-134 63.3727,-133.8\" stroke=\"black\"/>\n",
       "</g>\n",
       "<!-- (&#39;D&#39;, 9) -->\n",
       "<g class=\"node\" id=\"node4\"><title>('D', 9)</title>\n",
       "<ellipse cx=\"242.097\" cy=\"-162\" fill=\"none\" rx=\"35.194\" ry=\"18\" stroke=\"black\"/>\n",
       "<text font-family=\"Times,serif\" font-size=\"14.00\" text-anchor=\"middle\" x=\"242.097\" y=\"-158.3\">('D', 9)</text>\n",
       "</g>\n",
       "<!-- (&#39;M&#39;, 2)&#45;&gt;(&#39;D&#39;, 9) -->\n",
       "<g class=\"edge\" id=\"edge4\"><title>('M', 2)-&gt;('D', 9)</title>\n",
       "<path d=\"M95.6677,-102.092C125.368,-114.04 172.769,-133.109 205.556,-146.3\" fill=\"none\" stroke=\"black\"/>\n",
       "<polygon fill=\"black\" points=\"204.643,-149.705 215.227,-150.19 207.256,-143.211 204.643,-149.705\" stroke=\"black\"/>\n",
       "</g>\n",
       "<!-- (&#39;D&#39;, 7)&#45;&gt;(&#39;M&#39;, 0) -->\n",
       "<g class=\"edge\" id=\"edge5\"><title>('D', 7)-&gt;('M', 0)</title>\n",
       "<path d=\"M89.3383,-175.515C109.879,-186.575 140.067,-202.83 163.106,-215.235\" fill=\"none\" stroke=\"black\"/>\n",
       "<polygon fill=\"black\" points=\"161.713,-218.461 172.177,-220.12 165.032,-212.297 161.713,-218.461\" stroke=\"black\"/>\n",
       "</g>\n",
       "<!-- (&#39;D&#39;, 9)&#45;&gt;(&#39;M&#39;, 0) -->\n",
       "<g class=\"edge\" id=\"edge6\"><title>('D', 9)-&gt;('M', 0)</title>\n",
       "<path d=\"M231.428,-179.235C225.82,-187.77 218.822,-198.418 212.538,-207.981\" fill=\"none\" stroke=\"black\"/>\n",
       "<polygon fill=\"black\" points=\"209.594,-206.087 207.027,-216.367 215.444,-209.932 209.594,-206.087\" stroke=\"black\"/>\n",
       "</g>\n",
       "<!-- (&#39;M&#39;, 1) -->\n",
       "<g class=\"node\" id=\"node9\"><title>('M', 1)</title>\n",
       "<ellipse cx=\"309.097\" cy=\"-234\" fill=\"none\" rx=\"37.0935\" ry=\"18\" stroke=\"black\"/>\n",
       "<text font-family=\"Times,serif\" font-size=\"14.00\" text-anchor=\"middle\" x=\"309.097\" y=\"-230.3\">('M', 1)</text>\n",
       "</g>\n",
       "<!-- (&#39;D&#39;, 9)&#45;&gt;(&#39;M&#39;, 1) -->\n",
       "<g class=\"edge\" id=\"edge7\"><title>('D', 9)-&gt;('M', 1)</title>\n",
       "<path d=\"M256.966,-178.535C265.691,-187.651 276.888,-199.349 286.667,-209.566\" fill=\"none\" stroke=\"black\"/>\n",
       "<polygon fill=\"black\" points=\"284.361,-212.219 293.804,-217.023 289.418,-207.379 284.361,-212.219\" stroke=\"black\"/>\n",
       "</g>\n",
       "<!-- (&#39;D&#39;, 1) -->\n",
       "<g class=\"node\" id=\"node5\"><title>('D', 1)</title>\n",
       "<ellipse cx=\"330.097\" cy=\"-162\" fill=\"none\" rx=\"35.194\" ry=\"18\" stroke=\"black\"/>\n",
       "<text font-family=\"Times,serif\" font-size=\"14.00\" text-anchor=\"middle\" x=\"330.097\" y=\"-158.3\">('D', 1)</text>\n",
       "</g>\n",
       "<!-- (&#39;D&#39;, 1)&#45;&gt;(&#39;M&#39;, 0) -->\n",
       "<g class=\"edge\" id=\"edge8\"><title>('D', 1)-&gt;('M', 0)</title>\n",
       "<path d=\"M306.449,-175.353C285.091,-186.511 253.433,-203.049 229.495,-215.553\" fill=\"none\" stroke=\"black\"/>\n",
       "<polygon fill=\"black\" points=\"227.656,-212.565 220.413,-220.298 230.897,-218.77 227.656,-212.565\" stroke=\"black\"/>\n",
       "</g>\n",
       "<!-- (&#39;D&#39;, 1)&#45;&gt;(&#39;M&#39;, 1) -->\n",
       "<g class=\"edge\" id=\"edge9\"><title>('D', 1)-&gt;('M', 1)</title>\n",
       "<path d=\"M325.013,-179.945C322.675,-187.739 319.843,-197.178 317.221,-205.921\" fill=\"none\" stroke=\"black\"/>\n",
       "<polygon fill=\"black\" points=\"313.801,-205.141 314.279,-215.725 320.505,-207.152 313.801,-205.141\" stroke=\"black\"/>\n",
       "</g>\n",
       "<!-- (&#39;D&#39;, 10) -->\n",
       "<g class=\"node\" id=\"node10\"><title>('D', 10)</title>\n",
       "<ellipse cx=\"252.097\" cy=\"-306\" fill=\"none\" rx=\"39.7935\" ry=\"18\" stroke=\"black\"/>\n",
       "<text font-family=\"Times,serif\" font-size=\"14.00\" text-anchor=\"middle\" x=\"252.097\" y=\"-302.3\">('D', 10)</text>\n",
       "</g>\n",
       "<!-- (&#39;M&#39;, 0)&#45;&gt;(&#39;D&#39;, 10) -->\n",
       "<g class=\"edge\" id=\"edge10\"><title>('M', 0)-&gt;('D', 10)</title>\n",
       "<path d=\"M209.085,-251.235C216.153,-260.07 225.033,-271.17 232.886,-280.986\" fill=\"none\" stroke=\"black\"/>\n",
       "<polygon fill=\"black\" points=\"230.199,-283.23 239.179,-288.853 235.665,-278.858 230.199,-283.23\" stroke=\"black\"/>\n",
       "</g>\n",
       "<!-- (&#39;D&#39;, 8) -->\n",
       "<g class=\"node\" id=\"node7\"><title>('D', 8)</title>\n",
       "<ellipse cx=\"154.097\" cy=\"-162\" fill=\"none\" rx=\"35.194\" ry=\"18\" stroke=\"black\"/>\n",
       "<text font-family=\"Times,serif\" font-size=\"14.00\" text-anchor=\"middle\" x=\"154.097\" y=\"-158.3\">('D', 8)</text>\n",
       "</g>\n",
       "<!-- (&#39;D&#39;, 8)&#45;&gt;(&#39;M&#39;, 0) -->\n",
       "<g class=\"edge\" id=\"edge11\"><title>('D', 8)-&gt;('M', 0)</title>\n",
       "<path d=\"M164.05,-179.589C169.124,-188.045 175.4,-198.506 181.05,-207.922\" fill=\"none\" stroke=\"black\"/>\n",
       "<polygon fill=\"black\" points=\"178.069,-209.756 186.215,-216.53 184.071,-206.154 178.069,-209.756\" stroke=\"black\"/>\n",
       "</g>\n",
       "<!-- (&#39;D&#39;, 0) -->\n",
       "<g class=\"node\" id=\"node8\"><title>('D', 0)</title>\n",
       "<ellipse cx=\"418.097\" cy=\"-162\" fill=\"none\" rx=\"35.194\" ry=\"18\" stroke=\"black\"/>\n",
       "<text font-family=\"Times,serif\" font-size=\"14.00\" text-anchor=\"middle\" x=\"418.097\" y=\"-158.3\">('D', 0)</text>\n",
       "</g>\n",
       "<!-- (&#39;D&#39;, 0)&#45;&gt;(&#39;M&#39;, 1) -->\n",
       "<g class=\"edge\" id=\"edge12\"><title>('D', 0)-&gt;('M', 1)</title>\n",
       "<path d=\"M397.081,-176.497C380.706,-187.012 357.748,-201.756 339.389,-213.547\" fill=\"none\" stroke=\"black\"/>\n",
       "<polygon fill=\"black\" points=\"337.318,-210.717 330.795,-219.066 341.1,-216.607 337.318,-210.717\" stroke=\"black\"/>\n",
       "</g>\n",
       "<!-- (&#39;M&#39;, 1)&#45;&gt;(&#39;D&#39;, 10) -->\n",
       "<g class=\"edge\" id=\"edge13\"><title>('M', 1)-&gt;('D', 10)</title>\n",
       "<path d=\"M296.163,-250.884C288.978,-259.708 279.888,-270.87 271.834,-280.762\" fill=\"none\" stroke=\"black\"/>\n",
       "<polygon fill=\"black\" points=\"268.976,-278.729 265.375,-288.693 274.404,-283.149 268.976,-278.729\" stroke=\"black\"/>\n",
       "</g>\n",
       "</g>\n",
       "</svg>"
      ],
      "text/plain": [
       "<IPython.core.display.SVG object>"
      ]
     },
     "metadata": {},
     "output_type": "display_data"
    }
   ],
   "source": [
    "clf.show_q_diagram()"
   ]
  },
  {
   "cell_type": "code",
   "execution_count": 14,
   "metadata": {
    "Collapsed": "false"
   },
   "outputs": [
    {
     "name": "stdout",
     "output_type": "stream",
     "text": [
      "Query code is: [-1 -1 -1 -1 -1  0  0  0  0  0  1]\n"
     ]
    },
    {
     "data": {
      "text/plain": [
       "array([1., 0., 0., 0., 1., 0., 0., 1., 0., 0.])"
      ]
     },
     "execution_count": 14,
     "metadata": {},
     "output_type": "execute_result"
    }
   ],
   "source": [
    "# Missing attributes\n",
    "q_code=np.zeros(clf.m_codes[0].shape[0], dtype=int)\n",
    "q_code[-1:] = 1\n",
    "q_code[:5] = -1\n",
    "print(\"Query code is: {}\".format(q_code))\n",
    "\n",
    "y_pred = clf.predict(test, q_code=q_code)\n",
    "y_pred[:10]"
   ]
  },
  {
   "cell_type": "code",
   "execution_count": 15,
   "metadata": {
    "Collapsed": "false"
   },
   "outputs": [
    {
     "data": {
      "image/svg+xml": [
       "<svg height=\"620pt\" viewBox=\"0.00 0.00 536.10 620.00\" width=\"536pt\" xmlns=\"http://www.w3.org/2000/svg\" xmlns:xlink=\"http://www.w3.org/1999/xlink\">\n",
       "<g class=\"graph\" id=\"graph0\" transform=\"scale(1 1) rotate(0) translate(4 616)\">\n",
       "<title>G</title>\n",
       "<polygon fill=\"white\" points=\"-4,4 -4,-616 532.097,-616 532.097,4 -4,4\" stroke=\"none\"/>\n",
       "<!-- (&#39;D&#39;, 5) -->\n",
       "<g class=\"node\" id=\"node1\"><title>('D', 5)</title>\n",
       "<ellipse cx=\"405\" cy=\"-18\" fill=\"none\" rx=\"35.194\" ry=\"18\" stroke=\"black\"/>\n",
       "<text font-family=\"Times,serif\" font-size=\"14.00\" text-anchor=\"middle\" x=\"405\" y=\"-14.3\">('D', 5)</text>\n",
       "</g>\n",
       "<!-- (&#39;M&#39;, 3) -->\n",
       "<g class=\"node\" id=\"node2\"><title>('M', 3)</title>\n",
       "<ellipse cx=\"405\" cy=\"-90\" fill=\"none\" rx=\"37.0935\" ry=\"18\" stroke=\"black\"/>\n",
       "<text font-family=\"Times,serif\" font-size=\"14.00\" text-anchor=\"middle\" x=\"405\" y=\"-86.3\">('M', 3)</text>\n",
       "</g>\n",
       "<!-- (&#39;D&#39;, 5)&#45;&gt;(&#39;M&#39;, 3) -->\n",
       "<g class=\"edge\" id=\"edge1\"><title>('D', 5)-&gt;('M', 3)</title>\n",
       "<path d=\"M405,-36.3034C405,-44.0173 405,-53.2875 405,-61.8876\" fill=\"none\" stroke=\"black\"/>\n",
       "<polygon fill=\"black\" points=\"401.5,-61.8956 405,-71.8957 408.5,-61.8957 401.5,-61.8956\" stroke=\"black\"/>\n",
       "</g>\n",
       "<!-- (&#39;D&#39;, 4) -->\n",
       "<g class=\"node\" id=\"node5\"><title>('D', 4)</title>\n",
       "<ellipse cx=\"404\" cy=\"-162\" fill=\"none\" rx=\"35.194\" ry=\"18\" stroke=\"black\"/>\n",
       "<text font-family=\"Times,serif\" font-size=\"14.00\" text-anchor=\"middle\" x=\"404\" y=\"-158.3\">('D', 4)</text>\n",
       "</g>\n",
       "<!-- (&#39;M&#39;, 3)&#45;&gt;(&#39;D&#39;, 4) -->\n",
       "<g class=\"edge\" id=\"edge2\"><title>('M', 3)-&gt;('D', 4)</title>\n",
       "<path d=\"M404.753,-108.303C404.643,-116.017 404.51,-125.288 404.387,-133.888\" fill=\"none\" stroke=\"black\"/>\n",
       "<polygon fill=\"black\" points=\"400.888,-133.847 404.244,-143.896 407.887,-133.947 400.888,-133.847\" stroke=\"black\"/>\n",
       "</g>\n",
       "<!-- (&#39;D&#39;, 6) -->\n",
       "<g class=\"node\" id=\"node3\"><title>('D', 6)</title>\n",
       "<ellipse cx=\"493\" cy=\"-18\" fill=\"none\" rx=\"35.194\" ry=\"18\" stroke=\"black\"/>\n",
       "<text font-family=\"Times,serif\" font-size=\"14.00\" text-anchor=\"middle\" x=\"493\" y=\"-14.3\">('D', 6)</text>\n",
       "</g>\n",
       "<!-- (&#39;D&#39;, 6)&#45;&gt;(&#39;M&#39;, 3) -->\n",
       "<g class=\"edge\" id=\"edge3\"><title>('D', 6)-&gt;('M', 3)</title>\n",
       "<path d=\"M474.766,-33.504C462.225,-43.4798 445.373,-56.8855 431.372,-68.022\" fill=\"none\" stroke=\"black\"/>\n",
       "<polygon fill=\"black\" points=\"429.16,-65.3093 423.513,-74.2737 433.518,-70.7875 429.16,-65.3093\" stroke=\"black\"/>\n",
       "</g>\n",
       "<!-- (&#39;D&#39;, 8) -->\n",
       "<g class=\"node\" id=\"node4\"><title>('D', 8)</title>\n",
       "<ellipse cx=\"317\" cy=\"-18\" fill=\"none\" rx=\"35.194\" ry=\"18\" stroke=\"black\"/>\n",
       "<text font-family=\"Times,serif\" font-size=\"14.00\" text-anchor=\"middle\" x=\"317\" y=\"-14.3\">('D', 8)</text>\n",
       "</g>\n",
       "<!-- (&#39;D&#39;, 8)&#45;&gt;(&#39;M&#39;, 3) -->\n",
       "<g class=\"edge\" id=\"edge4\"><title>('D', 8)-&gt;('M', 3)</title>\n",
       "<path d=\"M335.234,-33.504C347.775,-43.4798 364.627,-56.8855 378.628,-68.022\" fill=\"none\" stroke=\"black\"/>\n",
       "<polygon fill=\"black\" points=\"376.482,-70.7875 386.487,-74.2737 380.84,-65.3093 376.482,-70.7875\" stroke=\"black\"/>\n",
       "</g>\n",
       "<!-- (&#39;M&#39;, 6) -->\n",
       "<g class=\"node\" id=\"node10\"><title>('M', 6)</title>\n",
       "<ellipse cx=\"271\" cy=\"-378\" fill=\"none\" rx=\"37.0935\" ry=\"18\" stroke=\"black\"/>\n",
       "<text font-family=\"Times,serif\" font-size=\"14.00\" text-anchor=\"middle\" x=\"271\" y=\"-374.3\">('M', 6)</text>\n",
       "</g>\n",
       "<!-- (&#39;D&#39;, 8)&#45;&gt;(&#39;M&#39;, 6) -->\n",
       "<g class=\"edge\" id=\"edge5\"><title>('D', 8)-&gt;('M', 6)</title>\n",
       "<path d=\"M321.544,-35.9058C328.247,-62.373 340,-115.297 340,-161 340,-161 340,-161 340,-235 340,-275.447 339.796,-288.186 321,-324 314.938,-335.551 305.646,-346.396 296.71,-355.23\" fill=\"none\" stroke=\"black\"/>\n",
       "<polygon fill=\"black\" points=\"294.245,-352.744 289.367,-362.149 299.046,-357.839 294.245,-352.744\" stroke=\"black\"/>\n",
       "</g>\n",
       "<!-- (&#39;M&#39;, 0) -->\n",
       "<g class=\"node\" id=\"node13\"><title>('M', 0)</title>\n",
       "<ellipse cx=\"115\" cy=\"-378\" fill=\"none\" rx=\"37.0935\" ry=\"18\" stroke=\"black\"/>\n",
       "<text font-family=\"Times,serif\" font-size=\"14.00\" text-anchor=\"middle\" x=\"115\" y=\"-374.3\">('M', 0)</text>\n",
       "</g>\n",
       "<!-- (&#39;D&#39;, 8)&#45;&gt;(&#39;M&#39;, 0) -->\n",
       "<g class=\"edge\" id=\"edge6\"><title>('D', 8)-&gt;('M', 0)</title>\n",
       "<path d=\"M281.864,-18.9979C199.329,-21.0221 0,-38.5828 0,-161 0,-161 0,-161 0,-235 0,-288.811 50.4891,-333.655 84.5594,-357.79\" fill=\"none\" stroke=\"black\"/>\n",
       "<polygon fill=\"black\" points=\"82.6033,-360.692 92.8268,-363.473 86.5685,-354.924 82.6033,-360.692\" stroke=\"black\"/>\n",
       "</g>\n",
       "<!-- (&#39;M&#39;, 4) -->\n",
       "<g class=\"node\" id=\"node6\"><title>('M', 4)</title>\n",
       "<ellipse cx=\"189\" cy=\"-234\" fill=\"none\" rx=\"37.0935\" ry=\"18\" stroke=\"black\"/>\n",
       "<text font-family=\"Times,serif\" font-size=\"14.00\" text-anchor=\"middle\" x=\"189\" y=\"-230.3\">('M', 4)</text>\n",
       "</g>\n",
       "<!-- (&#39;D&#39;, 4)&#45;&gt;(&#39;M&#39;, 4) -->\n",
       "<g class=\"edge\" id=\"edge7\"><title>('D', 4)-&gt;('M', 4)</title>\n",
       "<path d=\"M375.004,-172.441C337.228,-184.74 271.013,-206.298 228.624,-220.099\" fill=\"none\" stroke=\"black\"/>\n",
       "<polygon fill=\"black\" points=\"227.341,-216.836 218.916,-223.26 229.508,-223.492 227.341,-216.836\" stroke=\"black\"/>\n",
       "</g>\n",
       "<!-- (&#39;D&#39;, 1) -->\n",
       "<g class=\"node\" id=\"node8\"><title>('D', 1)</title>\n",
       "<ellipse cx=\"189\" cy=\"-306\" fill=\"none\" rx=\"35.194\" ry=\"18\" stroke=\"black\"/>\n",
       "<text font-family=\"Times,serif\" font-size=\"14.00\" text-anchor=\"middle\" x=\"189\" y=\"-302.3\">('D', 1)</text>\n",
       "</g>\n",
       "<!-- (&#39;M&#39;, 4)&#45;&gt;(&#39;D&#39;, 1) -->\n",
       "<g class=\"edge\" id=\"edge8\"><title>('M', 4)-&gt;('D', 1)</title>\n",
       "<path d=\"M189,-252.303C189,-260.017 189,-269.288 189,-277.888\" fill=\"none\" stroke=\"black\"/>\n",
       "<polygon fill=\"black\" points=\"185.5,-277.896 189,-287.896 192.5,-277.896 185.5,-277.896\" stroke=\"black\"/>\n",
       "</g>\n",
       "<!-- (&#39;D&#39;, 2) -->\n",
       "<g class=\"node\" id=\"node9\"><title>('D', 2)</title>\n",
       "<ellipse cx=\"101\" cy=\"-306\" fill=\"none\" rx=\"35.194\" ry=\"18\" stroke=\"black\"/>\n",
       "<text font-family=\"Times,serif\" font-size=\"14.00\" text-anchor=\"middle\" x=\"101\" y=\"-302.3\">('D', 2)</text>\n",
       "</g>\n",
       "<!-- (&#39;M&#39;, 4)&#45;&gt;(&#39;D&#39;, 2) -->\n",
       "<g class=\"edge\" id=\"edge9\"><title>('M', 4)-&gt;('D', 2)</title>\n",
       "<path d=\"M170.337,-249.845C157.887,-259.749 141.33,-272.919 127.518,-283.906\" fill=\"none\" stroke=\"black\"/>\n",
       "<polygon fill=\"black\" points=\"124.981,-281.452 119.334,-290.416 129.339,-286.93 124.981,-281.452\" stroke=\"black\"/>\n",
       "</g>\n",
       "<!-- (&#39;D&#39;, 9) -->\n",
       "<g class=\"node\" id=\"node7\"><title>('D', 9)</title>\n",
       "<ellipse cx=\"189\" cy=\"-162\" fill=\"none\" rx=\"35.194\" ry=\"18\" stroke=\"black\"/>\n",
       "<text font-family=\"Times,serif\" font-size=\"14.00\" text-anchor=\"middle\" x=\"189\" y=\"-158.3\">('D', 9)</text>\n",
       "</g>\n",
       "<!-- (&#39;D&#39;, 9)&#45;&gt;(&#39;M&#39;, 4) -->\n",
       "<g class=\"edge\" id=\"edge10\"><title>('D', 9)-&gt;('M', 4)</title>\n",
       "<path d=\"M189,-180.303C189,-188.017 189,-197.288 189,-205.888\" fill=\"none\" stroke=\"black\"/>\n",
       "<polygon fill=\"black\" points=\"185.5,-205.896 189,-215.896 192.5,-205.896 185.5,-205.896\" stroke=\"black\"/>\n",
       "</g>\n",
       "<!-- (&#39;D&#39;, 9)&#45;&gt;(&#39;M&#39;, 0) -->\n",
       "<g class=\"edge\" id=\"edge11\"><title>('D', 9)-&gt;('M', 0)</title>\n",
       "<path d=\"M166.418,-176.038C134.968,-195.668 79.3283,-236.105 57,-288 50.6764,-302.697 50.5459,-309.359 57,-324 62.8315,-337.228 73.7755,-348.588 84.5994,-357.358\" fill=\"none\" stroke=\"black\"/>\n",
       "<polygon fill=\"black\" points=\"82.6828,-360.297 92.7664,-363.548 86.9112,-354.719 82.6828,-360.297\" stroke=\"black\"/>\n",
       "</g>\n",
       "<!-- (&#39;M&#39;, 1) -->\n",
       "<g class=\"node\" id=\"node14\"><title>('M', 1)</title>\n",
       "<ellipse cx=\"237\" cy=\"-522\" fill=\"none\" rx=\"37.0935\" ry=\"18\" stroke=\"black\"/>\n",
       "<text font-family=\"Times,serif\" font-size=\"14.00\" text-anchor=\"middle\" x=\"237\" y=\"-518.3\">('M', 1)</text>\n",
       "</g>\n",
       "<!-- (&#39;D&#39;, 9)&#45;&gt;(&#39;M&#39;, 1) -->\n",
       "<g class=\"edge\" id=\"edge12\"><title>('D', 9)-&gt;('M', 1)</title>\n",
       "<path d=\"M219.787,-170.776C273.342,-186.36 378,-226.816 378,-305 378,-305 378,-305 378,-379 378,-438.753 314.356,-482.312 272.586,-504.465\" fill=\"none\" stroke=\"black\"/>\n",
       "<polygon fill=\"black\" points=\"270.817,-501.439 263.521,-509.122 274.015,-507.666 270.817,-501.439\" stroke=\"black\"/>\n",
       "</g>\n",
       "<!-- (&#39;D&#39;, 1)&#45;&gt;(&#39;M&#39;, 6) -->\n",
       "<g class=\"edge\" id=\"edge13\"><title>('D', 1)-&gt;('M', 6)</title>\n",
       "<path d=\"M206.39,-321.845C217.728,-331.524 232.72,-344.322 245.409,-355.154\" fill=\"none\" stroke=\"black\"/>\n",
       "<polygon fill=\"black\" points=\"243.474,-358.104 253.352,-361.935 248.019,-352.78 243.474,-358.104\" stroke=\"black\"/>\n",
       "</g>\n",
       "<!-- (&#39;D&#39;, 1)&#45;&gt;(&#39;M&#39;, 0) -->\n",
       "<g class=\"edge\" id=\"edge14\"><title>('D', 1)-&gt;('M', 0)</title>\n",
       "<path d=\"M172.943,-322.189C162.927,-331.663 149.858,-344.026 138.668,-354.612\" fill=\"none\" stroke=\"black\"/>\n",
       "<polygon fill=\"black\" points=\"136.141,-352.184 131.281,-361.599 140.951,-357.27 136.141,-352.184\" stroke=\"black\"/>\n",
       "</g>\n",
       "<!-- (&#39;D&#39;, 1)&#45;&gt;(&#39;M&#39;, 1) -->\n",
       "<g class=\"edge\" id=\"edge15\"><title>('D', 1)-&gt;('M', 1)</title>\n",
       "<path d=\"M191.827,-324.041C196.847,-353.557 208.021,-416.019 221,-468 223.152,-476.619 225.836,-485.922 228.386,-494.292\" fill=\"none\" stroke=\"black\"/>\n",
       "<polygon fill=\"black\" points=\"225.073,-495.424 231.387,-503.931 231.756,-493.343 225.073,-495.424\" stroke=\"black\"/>\n",
       "</g>\n",
       "<!-- (&#39;D&#39;, 2)&#45;&gt;(&#39;M&#39;, 0) -->\n",
       "<g class=\"edge\" id=\"edge16\"><title>('D', 2)-&gt;('M', 0)</title>\n",
       "<path d=\"M104.389,-323.945C105.931,-331.654 107.795,-340.973 109.527,-349.636\" fill=\"none\" stroke=\"black\"/>\n",
       "<polygon fill=\"black\" points=\"106.152,-350.605 111.545,-359.725 113.016,-349.232 106.152,-350.605\" stroke=\"black\"/>\n",
       "</g>\n",
       "<!-- (&#39;D&#39;, 0) -->\n",
       "<g class=\"node\" id=\"node12\"><title>('D', 0)</title>\n",
       "<ellipse cx=\"265\" cy=\"-450\" fill=\"none\" rx=\"35.194\" ry=\"18\" stroke=\"black\"/>\n",
       "<text font-family=\"Times,serif\" font-size=\"14.00\" text-anchor=\"middle\" x=\"265\" y=\"-446.3\">('D', 0)</text>\n",
       "</g>\n",
       "<!-- (&#39;M&#39;, 6)&#45;&gt;(&#39;D&#39;, 0) -->\n",
       "<g class=\"edge\" id=\"edge17\"><title>('M', 6)-&gt;('D', 0)</title>\n",
       "<path d=\"M269.517,-396.303C268.856,-404.017 268.061,-413.288 267.324,-421.888\" fill=\"none\" stroke=\"black\"/>\n",
       "<polygon fill=\"black\" points=\"263.833,-421.633 266.466,-431.896 270.807,-422.231 263.833,-421.633\" stroke=\"black\"/>\n",
       "</g>\n",
       "<!-- (&#39;D&#39;, 7) -->\n",
       "<g class=\"node\" id=\"node11\"><title>('D', 7)</title>\n",
       "<ellipse cx=\"277\" cy=\"-306\" fill=\"none\" rx=\"35.194\" ry=\"18\" stroke=\"black\"/>\n",
       "<text font-family=\"Times,serif\" font-size=\"14.00\" text-anchor=\"middle\" x=\"277\" y=\"-302.3\">('D', 7)</text>\n",
       "</g>\n",
       "<!-- (&#39;D&#39;, 7)&#45;&gt;(&#39;M&#39;, 6) -->\n",
       "<g class=\"edge\" id=\"edge18\"><title>('D', 7)-&gt;('M', 6)</title>\n",
       "<path d=\"M275.517,-324.303C274.856,-332.017 274.061,-341.288 273.324,-349.888\" fill=\"none\" stroke=\"black\"/>\n",
       "<polygon fill=\"black\" points=\"269.833,-349.633 272.466,-359.896 276.807,-350.231 269.833,-349.633\" stroke=\"black\"/>\n",
       "</g>\n",
       "<!-- (&#39;D&#39;, 7)&#45;&gt;(&#39;M&#39;, 0) -->\n",
       "<g class=\"edge\" id=\"edge19\"><title>('D', 7)-&gt;('M', 0)</title>\n",
       "<path d=\"M250.972,-318.247C223.935,-329.929 181.427,-348.297 151.141,-361.384\" fill=\"none\" stroke=\"black\"/>\n",
       "<polygon fill=\"black\" points=\"149.564,-358.252 141.772,-365.432 152.34,-364.678 149.564,-358.252\" stroke=\"black\"/>\n",
       "</g>\n",
       "<!-- (&#39;D&#39;, 0)&#45;&gt;(&#39;M&#39;, 1) -->\n",
       "<g class=\"edge\" id=\"edge20\"><title>('D', 0)-&gt;('M', 1)</title>\n",
       "<path d=\"M258.222,-467.945C254.989,-476.027 251.049,-485.879 247.445,-494.888\" fill=\"none\" stroke=\"black\"/>\n",
       "<polygon fill=\"black\" points=\"244.18,-493.626 243.716,-504.211 250.679,-496.226 244.18,-493.626\" stroke=\"black\"/>\n",
       "</g>\n",
       "<!-- (&#39;D&#39;, 10) -->\n",
       "<g class=\"node\" id=\"node15\"><title>('D', 10)</title>\n",
       "<ellipse cx=\"190\" cy=\"-594\" fill=\"none\" rx=\"39.7935\" ry=\"18\" stroke=\"black\"/>\n",
       "<text font-family=\"Times,serif\" font-size=\"14.00\" text-anchor=\"middle\" x=\"190\" y=\"-590.3\">('D', 10)</text>\n",
       "</g>\n",
       "<!-- (&#39;M&#39;, 0)&#45;&gt;(&#39;D&#39;, 10) -->\n",
       "<g class=\"edge\" id=\"edge21\"><title>('M', 0)-&gt;('D', 10)</title>\n",
       "<path d=\"M120.885,-395.792C133.86,-432.814 165.013,-521.703 180.676,-566.396\" fill=\"none\" stroke=\"black\"/>\n",
       "<polygon fill=\"black\" points=\"177.428,-567.71 184.038,-575.99 184.034,-565.395 177.428,-567.71\" stroke=\"black\"/>\n",
       "</g>\n",
       "<!-- (&#39;M&#39;, 1)&#45;&gt;(&#39;D&#39;, 10) -->\n",
       "<g class=\"edge\" id=\"edge22\"><title>('M', 1)-&gt;('D', 10)</title>\n",
       "<path d=\"M226.099,-539.235C220.369,-547.77 213.219,-558.418 206.799,-567.981\" fill=\"none\" stroke=\"black\"/>\n",
       "<polygon fill=\"black\" points=\"203.837,-566.113 201.168,-576.367 209.648,-570.015 203.837,-566.113\" stroke=\"black\"/>\n",
       "</g>\n",
       "</g>\n",
       "</svg>"
      ],
      "text/plain": [
       "<IPython.core.display.SVG object>"
      ]
     },
     "metadata": {},
     "output_type": "display_data"
    }
   ],
   "source": [
    "clf.show_q_diagram()"
   ]
  }
 ],
 "metadata": {
  "kernelspec": {
   "display_name": "j-rwrf",
   "language": "python",
   "name": "j-rwrf"
  },
  "language_info": {
   "codemirror_mode": {
    "name": "ipython",
    "version": 3
   },
   "file_extension": ".py",
   "mimetype": "text/x-python",
   "name": "python",
   "nbconvert_exporter": "python",
   "pygments_lexer": "ipython3",
   "version": "3.7.5"
  }
 },
 "nbformat": 4,
 "nbformat_minor": 4
}
